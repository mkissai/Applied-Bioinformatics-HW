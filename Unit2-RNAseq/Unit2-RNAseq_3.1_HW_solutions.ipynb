{
 "cells": [
  {
   "cell_type": "markdown",
   "metadata": {},
   "source": [
    "__HW0__ Now print the first 100 ‘spots’ of the first 5 runs (alphabetically) of the study each into a separate file and quantify how many times the nucleotide adenine occurs in each one. How does this compare to the other nucleotides? What are the possible reasons?"
   ]
  },
  {
   "cell_type": "code",
   "execution_count": 3,
   "metadata": {},
   "outputs": [
    {
     "name": "stdout",
     "output_type": "stream",
     "text": [
      "Read 100 spots for SRR5830640\n",
      "Written 100 spots for SRR5830640\n",
      "Read 100 spots for SRR5830639\n",
      "Written 100 spots for SRR5830639\n",
      "Read 100 spots for SRR5830638\n",
      "Written 100 spots for SRR5830638\n",
      "Read 100 spots for SRR5830637\n",
      "Written 100 spots for SRR5830637\n",
      "Read 100 spots for SRR5830636\n",
      "Written 100 spots for SRR5830636\n"
     ]
    }
   ],
   "source": [
    "%%bash\n",
    "cd /home/mkissai\n",
    "sratoolkit.2.9.2-ubuntu64/bin/fastq-dump --split-files -X 100 SRR5830640\n",
    "sratoolkit.2.9.2-ubuntu64/bin/fastq-dump --split-files -X 100 SRR5830639\n",
    "sratoolkit.2.9.2-ubuntu64/bin/fastq-dump --split-files -X 100 SRR5830638\n",
    "sratoolkit.2.9.2-ubuntu64/bin/fastq-dump --split-files -X 100 SRR5830637\n",
    "sratoolkit.2.9.2-ubuntu64/bin/fastq-dump --split-files -X 100 SRR5830636"
   ]
  },
  {
   "cell_type": "code",
   "execution_count": 4,
   "metadata": {},
   "outputs": [
    {
     "name": "stdout",
     "output_type": "stream",
     "text": [
      "-rw-rw-r-- 1 mkissai mkissai 3341124508 Oct 10 16:31 SRR5454079_1.fastq\n",
      "-rw-rw-r-- 1 mkissai mkissai        770 Oct 11 09:11 SRR5454080_1.fastq\n",
      "-rw-rw-r-- 1 mkissai mkissai      20968 Oct 20 09:39 SRR5830636_1.fastq\n",
      "-rw-rw-r-- 1 mkissai mkissai      20968 Oct 20 09:39 SRR5830636_2.fastq\n",
      "-rw-rw-r-- 1 mkissai mkissai      20968 Oct 20 09:39 SRR5830637_1.fastq\n",
      "-rw-rw-r-- 1 mkissai mkissai      20968 Oct 20 09:39 SRR5830637_2.fastq\n",
      "-rw-rw-r-- 1 mkissai mkissai      20968 Oct 20 09:39 SRR5830638_1.fastq\n",
      "-rw-rw-r-- 1 mkissai mkissai      20968 Oct 20 09:39 SRR5830638_2.fastq\n",
      "-rw-rw-r-- 1 mkissai mkissai      20968 Oct 20 09:39 SRR5830639_1.fastq\n",
      "-rw-rw-r-- 1 mkissai mkissai      20968 Oct 20 09:39 SRR5830639_2.fastq\n",
      "-rw-rw-r-- 1 mkissai mkissai      20968 Oct 20 09:39 SRR5830640_1.fastq\n",
      "-rw-rw-r-- 1 mkissai mkissai      20968 Oct 20 09:39 SRR5830640_2.fastq\n"
     ]
    }
   ],
   "source": [
    "%%bash\n",
    "cd /home/mkissai\n",
    "ls -l SRR*"
   ]
  },
  {
   "cell_type": "code",
   "execution_count": 5,
   "metadata": {},
   "outputs": [
    {
     "name": "stdout",
     "output_type": "stream",
     "text": [
      "@SRR5830636.1 1 length=76\n",
      "ATTCCTATGGATCCGAGCATCTTATCCACGCTTCCGTTACGATCAACTTATACATCTTCTATGAAAAAACTTTCTA\n",
      "+SRR5830636.1 1 length=76\n",
      "AAAAAEEEEEEEEEEEEEEEEEEEEEEEEEEEEEEEEAEEEEEEAEEEEEEAEEEEEEEEEEEAEEEEEEEEEEEE\n",
      "@SRR5830636.2 2 length=76\n",
      "CACCCACGGAATCGAGAAAGAGATAAAAATCTGTCAATACTCTCCCTCTCCGGCACTCGTCAGGTTAACAGTCTAG\n",
      "+SRR5830636.2 2 length=76\n",
      "AAAAAE/E/EA/EEE6A/E//A/E6///E//A//AEE/////E/A/</6/A/E//E///E/</EEEE/A/E//E//\n",
      "@SRR5830636.3 3 length=76\n",
      "@SRR5830636.1 1 length=76\n",
      "GTATGGTGGTACTCCCGCTGTAAAAATTGGTAAAGAAATATGTCACATACATAATGCTAGTGTTAGGGGTAGAAAG\n",
      "+SRR5830636.1 1 length=76\n",
      "AAAAAEEEEEEEEEEEEEEEE/EEEEEEEEEEEEEEEEEEEEAEEEEEEEEEEEEEEEEEEEEEEEEEEEEEEEEE\n",
      "@SRR5830636.2 2 length=76\n",
      "ACCATAAACGAAGCCGACAGCCTATGCCGCGCCGATATTCCCATGACCCGCCAGGCAGCTTCCGCGAAACCAAAGT\n",
      "+SRR5830636.2 2 length=76\n",
      "6/AAAE///<E//EE//E///E////<//<//E///EEE/E/<///AEE//A/E///EE///EE//<EE6/E/AEA\n",
      "@SRR5830636.3 3 length=76\n"
     ]
    }
   ],
   "source": [
    "%%bash\n",
    "cd /home/mkissai\n",
    "head -9 SRR5830636_1.fastq\n",
    "head -9 SRR5830636_2.fastq"
   ]
  },
  {
   "cell_type": "code",
   "execution_count": 5,
   "metadata": {},
   "outputs": [
    {
     "name": "stdout",
     "output_type": "stream",
     "text": [
      "6250\n",
      "15400\n",
      "15400\n",
      "15400\n",
      "15400\n",
      "15400\n",
      "15400\n",
      "15400\n",
      "15400\n",
      "15400\n"
     ]
    }
   ],
   "source": [
    "%%bash\n",
    "cd /home/mkissai\n",
    "awk 'NR%4==2' SRR5830640_1.fastq | grep -o \"A\" SRR5830640_1.fastq   | wc -m\n",
    "awk 'NR%4==2' SRR5830640_2.fastq | grep \"A\" SRR5830640_2.fastq   | wc -m\n",
    "awk 'NR%4==2' SRR5830639_1.fastq | grep \"A\" SRR5830639_1.fastq   | wc -m\n",
    "awk 'NR%4==2' SRR5830639_2.fastq | grep \"A\" SRR5830639_2.fastq   | wc -m\n",
    "awk 'NR%4==2' SRR5830638_1.fastq | grep \"A\" SRR5830638_1.fastq   | wc -m\n",
    "awk 'NR%4==2' SRR5830638_2.fastq | grep \"A\" SRR5830638_2.fastq   | wc -m\n",
    "awk 'NR%4==2' SRR5830637_1.fastq | grep \"A\" SRR5830637_1.fastq   | wc -m\n",
    "awk 'NR%4==2' SRR5830637_2.fastq | grep \"A\" SRR5830637_2.fastq   | wc -m\n",
    "awk 'NR%4==2' SRR5830636_1.fastq | grep \"A\" SRR5830636_1.fastq   | wc -m\n",
    "awk 'NR%4==2' SRR5830636_2.fastq | grep \"A\" SRR5830636_2.fastq   | wc -m"
   ]
  },
  {
   "cell_type": "code",
   "execution_count": 2,
   "metadata": {},
   "outputs": [
    {
     "name": "stdout",
     "output_type": "stream",
     "text": [
      "400 lines\n"
     ]
    }
   ],
   "source": [
    "%%bash\n",
    "cd /home/mkissai\n",
    "awk 'END {print NR,\"lines\"}' SRR5830640_1.fastq"
   ]
  },
  {
   "cell_type": "code",
   "execution_count": 4,
   "metadata": {},
   "outputs": [
    {
     "name": "stdout",
     "output_type": "stream",
     "text": [
      "3900\n",
      "7700\n",
      "7700\n",
      "7700\n",
      "7700\n",
      "7700\n",
      "7700\n",
      "7700\n",
      "7700\n",
      "7700\n"
     ]
    }
   ],
   "source": [
    "%%bash\n",
    "cd /home/mkissai\n",
    "awk 'NR%4==2' SRR5830640_1.fastq | grep -o \"T\" SRR5830640_1.fastq   | wc -m\n",
    "awk 'NR%4==2' SRR5830640_2.fastq | grep \"T\" SRR5830640_2.fastq   | wc -m\n",
    "awk 'NR%4==2' SRR5830639_1.fastq | grep \"T\" SRR5830639_1.fastq   | wc -m\n",
    "awk 'NR%4==2' SRR5830639_2.fastq | grep \"T\" SRR5830639_2.fastq   | wc -m\n",
    "awk 'NR%4==2' SRR5830638_1.fastq | grep \"T\" SRR5830638_1.fastq   | wc -m\n",
    "awk 'NR%4==2' SRR5830638_2.fastq | grep \"T\" SRR5830638_2.fastq   | wc -m\n",
    "awk 'NR%4==2' SRR5830637_1.fastq | grep \"T\" SRR5830637_1.fastq   | wc -m\n",
    "awk 'NR%4==2' SRR5830637_2.fastq | grep \"T\" SRR5830637_2.fastq   | wc -m\n",
    "awk 'NR%4==2' SRR5830636_1.fastq | grep \"T\" SRR5830636_1.fastq   | wc -m\n",
    "awk 'NR%4==2' SRR5830636_2.fastq | grep \"T\" SRR5830636_2.fastq   | wc -m"
   ]
  },
  {
   "cell_type": "code",
   "execution_count": 8,
   "metadata": {},
   "outputs": [
    {
     "name": "stdout",
     "output_type": "stream",
     "text": [
      "7700\n",
      "7700\n",
      "7700\n",
      "7700\n",
      "7700\n",
      "7700\n",
      "7700\n",
      "7700\n",
      "7700\n",
      "7700\n"
     ]
    }
   ],
   "source": [
    "%%bash\n",
    "cd /home/mkissai\n",
    "awk 'NR%4==2' SRR5830640_1.fastq | grep \"G\" SRR5830640_1.fastq   | wc -m\n",
    "awk 'NR%4==2' SRR5830640_2.fastq | grep \"G\" SRR5830640_2.fastq   | wc -m\n",
    "awk 'NR%4==2' SRR5830639_1.fastq | grep \"G\" SRR5830639_1.fastq   | wc -m\n",
    "awk 'NR%4==2' SRR5830639_2.fastq | grep \"G\" SRR5830639_2.fastq   | wc -m\n",
    "awk 'NR%4==2' SRR5830638_1.fastq | grep \"G\" SRR5830638_1.fastq   | wc -m\n",
    "awk 'NR%4==2' SRR5830638_2.fastq | grep \"G\" SRR5830638_2.fastq   | wc -m\n",
    "awk 'NR%4==2' SRR5830637_1.fastq | grep \"G\" SRR5830637_1.fastq   | wc -m\n",
    "awk 'NR%4==2' SRR5830637_2.fastq | grep \"G\" SRR5830637_2.fastq   | wc -m\n",
    "awk 'NR%4==2' SRR5830636_1.fastq | grep \"G\" SRR5830636_1.fastq   | wc -m\n",
    "awk 'NR%4==2' SRR5830636_2.fastq | grep \"G\" SRR5830636_2.fastq   | wc -m"
   ]
  },
  {
   "cell_type": "code",
   "execution_count": 9,
   "metadata": {},
   "outputs": [
    {
     "name": "stdout",
     "output_type": "stream",
     "text": [
      "7700\n",
      "7700\n",
      "7700\n",
      "7700\n",
      "7700\n",
      "7700\n",
      "7700\n",
      "7700\n",
      "7700\n",
      "7700\n"
     ]
    }
   ],
   "source": [
    "%%bash\n",
    "cd /home/mkissai\n",
    "awk 'NR%4==2' SRR5830640_1.fastq | grep \"C\" SRR5830640_1.fastq   | wc -m\n",
    "awk 'NR%4==2' SRR5830640_2.fastq | grep \"C\" SRR5830640_2.fastq   | wc -m\n",
    "awk 'NR%4==2' SRR5830639_1.fastq | grep \"C\" SRR5830639_1.fastq   | wc -m\n",
    "awk 'NR%4==2' SRR5830639_2.fastq | grep \"C\" SRR5830639_2.fastq   | wc -m\n",
    "awk 'NR%4==2' SRR5830638_1.fastq | grep \"C\" SRR5830638_1.fastq   | wc -m\n",
    "awk 'NR%4==2' SRR5830638_2.fastq | grep \"C\" SRR5830638_2.fastq   | wc -m\n",
    "awk 'NR%4==2' SRR5830637_1.fastq | grep \"C\" SRR5830637_1.fastq   | wc -m\n",
    "awk 'NR%4==2' SRR5830637_2.fastq | grep \"C\" SRR5830637_2.fastq   | wc -m\n",
    "awk 'NR%4==2' SRR5830636_1.fastq | grep \"C\" SRR5830636_1.fastq   | wc -m\n",
    "awk 'NR%4==2' SRR5830636_2.fastq | grep \"C\" SRR5830636_2.fastq   | wc -m"
   ]
  },
  {
   "cell_type": "markdown",
   "metadata": {},
   "source": [
    "__The number of \"A\" nucleotide reads are double the number of either of the other nucleotide reads. I don't know why.....__"
   ]
  },
  {
   "cell_type": "markdown",
   "metadata": {},
   "source": [
    "__HW1__: Map SRR5454079 to the human genome using HISAT2 (or chromosome 20 if you have <8GB RAM).  "
   ]
  },
  {
   "cell_type": "code",
   "execution_count": 12,
   "metadata": {},
   "outputs": [
    {
     "name": "stdout",
     "output_type": "stream",
     "text": [
      "@SRR5454079.1 1 length=49\n",
      "NTCTTTCAGGTTTAGTTAGACGTCCTCCAAAAAGAGGCCANAANTCACC\n",
      "+SRR5454079.1 1 length=49\n",
      "#AAAFFJJJJJFAF-FAFAJJJ7JJFJJJJJJJJJJ<FJJ#JJ#JJJJJ\n",
      "@SRR5454079.2 2 length=50\n",
      "NTGCGCGTGCAGCCCCGGACATCTAAGGGCATCACAGACCNGTNATTGNT\n",
      "+SRR5454079.2 2 length=50\n",
      "#AAAFJJJJJJJJJJJJJJJJJFJJJJJFJJFJJJJJJJJ#JJ#JJJJ#J\n",
      "@SRR5454079.3 3 length=50\n",
      "NAAGATAATTGCTTTGGTCATCTGTAAGTCACTTTAGCCANTGNGTCTNC\n",
      "+SRR5454079.3 3 length=50\n",
      "#AAFFJJJJJJJJJJJJJJFJJJJJJJJJJJJJJJJJJJJ#JJ#JJJJ#J\n",
      "@SRR5454079.4 4 length=49\n",
      "NTGGATTGCCTGAGGTCAGGAATTCGAGGCCAGTCTGGCCNACNTGATN\n",
      "+SRR5454079.4 4 length=49\n",
      "#AAFFJJJJJJJJJJJJJJJJJJJJJJJJJJJJJJJJJJJ#JJ#JJJJ#\n",
      "@SRR5454079.5 5 length=50\n",
      "NGGCAATGCAAACAGCAATCCTACATAATGTAGAATAATTNTTNTTCTNT\n",
      "+SRR5454079.5 5 length=50\n",
      "#AAFFJJJJJJJJJJJJJJJJJJJJJJJJJJJJJJJJJJJ#JJ#JJJJ#J\n"
     ]
    },
    {
     "name": "stderr",
     "output_type": "stream",
     "text": [
      "Rejected 5 READS because READLEN < 1\n",
      "Read 5 spots for SRR5454079\n",
      "Written 5 spots for SRR5454079\n"
     ]
    }
   ],
   "source": [
    "%%bash\n",
    "cd /home/mkissai\n",
    "sratoolkit.2.9.2-ubuntu64/bin/fastq-dump --split-files -X 5 -Z SRR5454079"
   ]
  },
  {
   "cell_type": "markdown",
   "metadata": {},
   "source": [
    "*I aligned it using the terminal, I will show the first couple of output SAM file below. I think the alignment was successful*"
   ]
  },
  {
   "cell_type": "markdown",
   "metadata": {},
   "source": [
    "__HW2__: Check the first 5 reads contained in the FASTQ files. Which chromosome did they align to?  "
   ]
  },
  {
   "cell_type": "markdown",
   "metadata": {},
   "source": [
    "*here's a snippet of the SAM file output after the headers/other stuff.*\n",
    "\n",
    "``SRR5454079.1    4       *       0       0       *       *       0       0       NTCTTTCAGGTTTAGTTAGACGTCCTCCAAAAAGAGGCCANAANTCACC       #AAAFFJJJJJFAF-FAFAJJJ7JJFJJJJJJJJJJ<FJJ#JJ#JJJJJ       YT:Z:UU\n",
    "SRR5454079.2    4       *       0       0       *       *       0       0       NTGCGCGTGCAGCCCCGGACATCTAAGGGCATCACAGACCNGTNATTGNT      #AAAFJJJJJJJJJJJJJJJJJFJJJJJFJJFJJJJJJJJ#JJ#JJJJ#J      YT:Z:UU\n",
    "SRR5454079.3    4       *       0       0       *       *       0       0       NAAGATAATTGCTTTGGTCATCTGTAAGTCACTTTAGCCANTGNGTCTNC      #AAFFJJJJJJJJJJJJJJFJJJJJJJJJJJJJJJJJJJJ#JJ#JJJJ#J      YT:Z:UU\n",
    "SRR5454079.4    4       *       0       0       *       *       0       0       NTGGATTGCCTGAGGTCAGGAATTCGAGGCCAGTCTGGCCNACNTGATN       #AAFFJJJJJJJJJJJJJJJJJJJJJJJJJJJJJJJJJJJ#JJ#JJJJ#       YT:Z:UU\n",
    "SRR5454079.5    4       *       0       0       *       *       0       0       NGGCAATGCAAACAGCAATCCTACATAATGTAGAATAATTNTTNTTCTNT      #AAFFJJJJJJJJJJJJJJJJJJJJJJJJJJJJJJJJJJJ#JJ#JJJJ#J      YT:Z:UU``\n",
    "\n",
    "\n",
    "*I think they align to chromosome 4, the second number on the SAM header*"
   ]
  },
  {
   "cell_type": "markdown",
   "metadata": {},
   "source": [
    "__HW3__: Consult the samtools documentation then convert the output sam file into a sorted bam file."
   ]
  },
  {
   "cell_type": "markdown",
   "metadata": {},
   "source": [
    "*I used the following code to convert the SAM file to a BAM file (in cmder)*\n",
    "\n",
    "``samtools view -b -S -o SRR5454079.bam SRR5454079.sam``\n",
    "\n",
    "*I used the following code to sort the BAM file (in cmder)*\n",
    "\n",
    "``samtools sort -o SRR5454079_sorted.bam SRR5454079.bam``"
   ]
  },
  {
   "cell_type": "code",
   "execution_count": null,
   "metadata": {},
   "outputs": [],
   "source": []
  }
 ],
 "metadata": {
  "kernelspec": {
   "display_name": "Python 3",
   "language": "python",
   "name": "python3"
  },
  "language_info": {
   "codemirror_mode": {
    "name": "ipython",
    "version": 3
   },
   "file_extension": ".py",
   "mimetype": "text/x-python",
   "name": "python",
   "nbconvert_exporter": "python",
   "pygments_lexer": "ipython3",
   "version": "3.6.5"
  }
 },
 "nbformat": 4,
 "nbformat_minor": 2
}
