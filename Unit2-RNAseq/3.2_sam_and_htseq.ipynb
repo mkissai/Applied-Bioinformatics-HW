{
 "cells": [
  {
   "cell_type": "markdown",
   "metadata": {},
   "source": [
    "## RNAseq notebook 3.2: SAM files and read counting\n",
    "This notebook features examples on how to work with the sequence alignment map file, and how to derive gene counts from mapped reads.  \n",
    "**Notes**\n",
    "- full SAM files tend to be large so bash manipulation can take some time (typically minutes)\n",
    "- not all SAM attributes will be found in all SAM files"
   ]
  },
  {
   "cell_type": "markdown",
   "metadata": {},
   "source": [
    "**Find where a specific read aligned**  \n",
    "Example: 1000th read"
   ]
  },
  {
   "cell_type": "markdown",
   "metadata": {},
   "source": [
    "```bash\n",
    "%%bash  \n",
    "cd ../Downloads/hisat_out  \n",
    "grep SRR5454079.1000 ./SRR5454079.sam | head -n 1\n",
    "```"
   ]
  },
  {
   "cell_type": "code",
   "execution_count": 4,
   "metadata": {},
   "outputs": [
    {
     "name": "stdout",
     "output_type": "stream",
     "text": [
      "SRR5454079.1000\t16\t9\t69871854\t60\t50M\t*\t0\t0\tCCTGCAGCTTGAATAATTTATTTAAAACACAAAGATAACCAACCCCTCCC\tJJJJJJJJJJJJJJJJJJJJJJJJJJJJJJJJJJJJJJJJJFJJJFFFAA\tAS:i:0\tXN:i:0\tXM:i:0\tXO:i:0\tXG:i:0\tNM:i:0\tMD:Z:50\tYT:Z:UU\tNH:i:1\n"
     ]
    }
   ],
   "source": [
    "%%bash\n",
    "cd /home/mkissai/hisat_out\n",
    "grep SRR5454079.1000 ./SRR54540790.sam | head -n 1"
   ]
  },
  {
   "cell_type": "markdown",
   "metadata": {},
   "source": [
    "**Print the first few aligned reads**\n",
    "```bash\n",
    "%%bash\n",
    "cd ../Downloads/hisat_out\n",
    "awk '/^SRR/' SRR5454079.sam | head\n",
    "```"
   ]
  },
  {
   "cell_type": "code",
   "execution_count": 6,
   "metadata": {},
   "outputs": [
    {
     "name": "stdout",
     "output_type": "stream",
     "text": [
      "SRR5454079.1\t4\t*\t0\t0\t*\t*\t0\t0\tNTCTTTCAGGTTTAGTTAGACGTCCTCCAAAAAGAGGCCANAANTCACC\t#AAAFFJJJJJFAF-FAFAJJJ7JJFJJJJJJJJJJ<FJJ#JJ#JJJJJ\tYT:Z:UU\n",
      "SRR5454079.2\t4\t*\t0\t0\t*\t*\t0\t0\tNTGCGCGTGCAGCCCCGGACATCTAAGGGCATCACAGACCNGTNATTGNT\t#AAAFJJJJJJJJJJJJJJJJJFJJJJJFJJFJJJJJJJJ#JJ#JJJJ#J\tYT:Z:UU\n",
      "SRR5454079.3\t4\t*\t0\t0\t*\t*\t0\t0\tNAAGATAATTGCTTTGGTCATCTGTAAGTCACTTTAGCCANTGNGTCTNC\t#AAFFJJJJJJJJJJJJJJFJJJJJJJJJJJJJJJJJJJJ#JJ#JJJJ#J\tYT:Z:UU\n",
      "SRR5454079.4\t4\t*\t0\t0\t*\t*\t0\t0\tNTGGATTGCCTGAGGTCAGGAATTCGAGGCCAGTCTGGCCNACNTGATN\t#AAFFJJJJJJJJJJJJJJJJJJJJJJJJJJJJJJJJJJJ#JJ#JJJJ#\tYT:Z:UU\n",
      "SRR5454079.5\t4\t*\t0\t0\t*\t*\t0\t0\tNGGCAATGCAAACAGCAATCCTACATAATGTAGAATAATTNTTNTTCTNT\t#AAFFJJJJJJJJJJJJJJJJJJJJJJJJJJJJJJJJJJJ#JJ#JJJJ#J\tYT:Z:UU\n",
      "SRR5454079.6\t4\t*\t0\t0\t*\t*\t0\t0\tNTCCGGATGCGTTGCTCATTTGTCATTTTCATAGGCAGCTNGANTCTTNC\t#AAFFJJJJJJJJJJJJJJJJJJJJJJJJJJJJJJJJJJJ#JJ#JJJJ#J\tYT:Z:UU\n",
      "SRR5454079.7\t4\t*\t0\t0\t*\t*\t0\t0\tNAATAATATAAAACAGAAAGCTGAACACAACATGTGTGTGNGTNTGTG\t#AAFFJJJJJJJJJJJJJJJJJJJJJJJJJJJJJJJJJJJ#JJ#JJJJ\tYT:Z:UU\n",
      "SRR5454079.8\t4\t*\t0\t0\t*\t*\t0\t0\tNCTATATACACACGTCCAGAACTGAGGGTCAACCTGGACTNACNGGAGNC\t#AAFFJJJJJJJJJJJJJJJJJJJJJJJAFJJJJJJJJJJ#JJ#JJJJ#J\tYT:Z:UU\n",
      "SRR5454079.9\t4\t*\t0\t0\t*\t*\t0\t0\tNAGCTGTTGAGTTTGACGATTCTTCTGCATGACTAGGTCANCTNTTTANT\t#AAFFJJJJJJJJJJJJJJJJJJJJJJJJJJJJJJJJJJJ#JJ#JJJJ#J\tYT:Z:UU\n",
      "SRR5454079.10\t4\t*\t0\t0\t*\t*\t0\t0\tNAGGCAAGTAGGTCAGGGAAAAGACAAGGAGATCTCGCTANGTNGAGAN\t#<AFFAFJJJJJJJJJJJJFFFFJJFJJJFJJJJJJJJFF#JJ#JJJA#\tYT:Z:UU\n"
     ]
    }
   ],
   "source": [
    "%%bash\n",
    "cd /home/mkissai/hisat_out\n",
    "awk '/^SRR/' SRR54540790.sam | head"
   ]
  },
  {
   "cell_type": "markdown",
   "metadata": {},
   "source": [
    "**Print the first few reads that aligned to the mitochondrial genome**  \n",
    "```bash\n",
    "%%bash  \n",
    "cd ../Downloads/hisat_out  \n",
    "awk '{if ($3 == \"MT\") {print}}' SRR5454079.sam | head\n",
    "```"
   ]
  },
  {
   "cell_type": "code",
   "execution_count": 8,
   "metadata": {
    "scrolled": true
   },
   "outputs": [
    {
     "name": "stdout",
     "output_type": "stream",
     "text": [
      "SRR5454079.34\t16\tMT\t1502\t60\t50M\t*\t0\t0\tAGTATACTTCAAAGGACATTTAACTAAAACCCCTACGCATTTATATAGAN\tJJJJJJJJJJJJJJJJJJJJJJJJJJJJJJJJJJJJJJJJJJJJJFFAA#\tAS:i:-2\tZS:i:-2\tXN:i:0\tXM:i:1\tXO:i:0\tXG:i:0\tNM:i:1\tMD:Z:49G0\tYT:Z:UU\tNH:i:1\n",
      "SRR5454079.122\t16\tMT\t13112\t60\t49M\t*\t0\t0\tTACTCATCCGCTTCCACCCCCTAGCAGAAAATAGCCCACTAATCCAAAN\tJJJJJJJJJJJJJJJJJJJJJFJJJJJJJJJJJJJJJJJJJJFJFFAA#\tAS:i:-2\tZS:i:-2\tXN:i:0\tXM:i:1\tXO:i:0\tXG:i:0\tNM:i:1\tMD:Z:48C0\tYT:Z:UU\tNH:i:1\n",
      "SRR5454079.126\t16\tMT\t13031\t60\t50M\t*\t0\t0\tGACTCCCCTCAGCCATAGAAGGCCCCACCCCAGTCTCAGCCCTACTCCAN\tJJJJJJJJFJJJJJJJJJJJJJJJJJJJJJJJJFJJJJJJJJJJJFFAA#\tAS:i:-2\tZS:i:-2\tXN:i:0\tXM:i:1\tXO:i:0\tXG:i:0\tNM:i:1\tMD:Z:49C0\tYT:Z:UU\tNH:i:1\n",
      "SRR5454079.137\t16\tMT\t7212\t60\t50M\t*\t0\t0\tCCCCGACGTTACTCGGACTACCCCGATGCATACACCACATGAAACATCCN\tJJFF<AA7JJJ<JA<FAJF<7FJFJFJFJFJJFA7JJFJAJFJFAA<AA#\tAS:i:-2\tZS:i:-2\tXN:i:0\tXM:i:1\tXO:i:0\tXG:i:0\tNM:i:1\tMD:Z:49T0\tYT:Z:UU\tNH:i:1\n",
      "SRR5454079.178\t16\tMT\t8920\t60\t50M\t*\t0\t0\tGGCACACCTACACCCCTTATCCCCATACTAGTTATTATCGAAACCATCAN\tJJJJJJJJJJJFJJJJJJJJJJJJJJJJJJJJJJJJJJJJJJJJJFAAA#\tAS:i:-2\tZS:i:-2\tXN:i:0\tXM:i:1\tXO:i:0\tXG:i:0\tNM:i:1\tMD:Z:49G0\tYT:Z:UU\tNH:i:1\n",
      "SRR5454079.196\t16\tMT\t13406\t60\t2S47M1S\t*\t0\t0\tAAGAAAAATAGGAGGACTACTCAAAACCATACCTCTCACTTCAACCTCCN\t---JJJJJJJJJJJJJJJJJJJJJJJJJJJJJJJJJJJJJJJJJJFFAA#\tAS:i:-3\tZS:i:-4\tXN:i:0\tXM:i:0\tXO:i:0\tXG:i:0\tNM:i:0\tMD:Z:47\tYT:Z:UU\tNH:i:1\n",
      "SRR5454079.249\t16\tMT\t2039\t60\t50M\t*\t0\t0\tAGTTCAACTTTAAATTTGCCCACAGAACCCTCTAAATCCCCTTGTAAATT\tJJJJJJJJJJJJJJJJJJJJJJJJJJJJJJJJJJJJJJJJJJJJJFFFAA\tAS:i:0\tXN:i:0\tXM:i:0\tXO:i:0\tXG:i:0\tNM:i:0\tMD:Z:50\tYT:Z:UU\tNH:i:1\n",
      "SRR5454079.282\t272\tMT\t6587\t1\t50M\t*\t0\t0\tCATTCTATACCAACACCTATTCTGATTTTTCGGTCACCCTGAAGTTTATA\tJJJJJJJJJJJJJJFJJJJJJJJJJJJJJJJJJJJJJJJJJJJJJFFAAA\tAS:i:0\tZS:i:0\tXN:i:0\tXM:i:0\tXO:i:0\tXG:i:0\tNM:i:0\tMD:Z:50\tYT:Z:UU\tNH:i:2\n",
      "SRR5454079.297\t16\tMT\t7246\t60\t50M\t*\t0\t0\tCCACATGAAACATCCTATCATCTGTAGGCTCATTCATTTCTCTAACAGCA\tJJJJJJJJJJJJJJJJJJJJJJJJJJJJJJJJFJJJJJJJJJJJJFFFAA\tAS:i:0\tXN:i:0\tXM:i:0\tXO:i:0\tXG:i:0\tNM:i:0\tMD:Z:50\tYT:Z:UU\tNH:i:1\n",
      "SRR5454079.320\t16\tMT\t6195\t60\t50M\t*\t0\t0\tAACAACATAAGCTTCTGACTCTTACCTCCCTCTCTCCTACTCCTGCCCGC\tJFJJJJJFAJJFJJJJJJJJJJJJJJFJJJJJJJJJJFAFJJJFJFFFAA\tAS:i:-5\tZS:i:-7\tXN:i:0\tXM:i:1\tXO:i:0\tXG:i:0\tNM:i:1\tMD:Z:46T3\tYT:Z:UU\tNH:i:1\n"
     ]
    }
   ],
   "source": [
    "%%bash  \n",
    "cd /home/mkissai/hisat_out\n",
    "awk '{if ($3 == \"MT\") {print}}' SRR54540790.sam | head"
   ]
  },
  {
   "cell_type": "markdown",
   "metadata": {},
   "source": [
    "**Exercises**   \n",
    "1) How many reads mapped to chromosome 20?  \n",
    "2) Find the 76th read in the SAM file. Where did it map in the human genome? Now use blastn to map the read. Do the results agree with each other?  \n",
    "3) Inspect the reference genome details in the SAM header. Beyond chromosomes, what else is included in the reference?"
   ]
  },
  {
   "cell_type": "markdown",
   "metadata": {},
   "source": []
  },
  {
   "cell_type": "markdown",
   "metadata": {},
   "source": [
    "**Check how many reads were uncounted due to multimapping (alignment not unique)**\n",
    "```bash\n",
    "%%bash\n",
    "cd Unit2-RNAseq/data\n",
    "tail SRR5454102_genecounts.txt\n",
    "```"
   ]
  },
  {
   "cell_type": "markdown",
   "metadata": {},
   "source": [
    "**Check how many Ensembl genes have zero expression**  \n",
    "Spot and correct the mistake\n",
    "```bash\n",
    "%%bash\n",
    "cd Unit2-RNAseq/data\n",
    "awk '{if ($2 == 0) print }' SRR5454102_genecounts.txt  | wc -l\n",
    "```"
   ]
  },
  {
   "cell_type": "markdown",
   "metadata": {},
   "source": [
    "**HOMEWORK**  \n",
    "1) Use awk to check the number of columns in the SAM file for all rows and print only the unique column counts. *HINT*: revisit Unit 1   \n",
    "2) Count how many reads from SRR5454079 mapped to chromosome 20 with 2 soft-clipped bases at the start of the read. *HINT*: Consult the SAM documentation on CIGAR strings.  \n",
    "3) Using the human transcriptome annotations by Ensembl, calculate counts per gene in the bam file for SRR5454079 and print the first 10 lines (use -s reverse)"
   ]
  }
 ],
 "metadata": {
  "kernelspec": {
   "display_name": "Python 3",
   "language": "python",
   "name": "python3"
  },
  "language_info": {
   "codemirror_mode": {
    "name": "ipython",
    "version": 3
   },
   "file_extension": ".py",
   "mimetype": "text/x-python",
   "name": "python",
   "nbconvert_exporter": "python",
   "pygments_lexer": "ipython3",
   "version": "3.6.5"
  }
 },
 "nbformat": 4,
 "nbformat_minor": 2
}
