{
 "cells": [
  {
   "cell_type": "markdown",
   "metadata": {},
   "source": [
    "## 3.1 Gene counts based expression analysis\n"
   ]
  },
  {
   "cell_type": "markdown",
   "metadata": {},
   "source": [
    "#### Questions - write the answer below each question."
   ]
  },
  {
   "cell_type": "markdown",
   "metadata": {},
   "source": [
    "I) What are the components of a FASTQ file?"
   ]
  },
  {
   "cell_type": "markdown",
   "metadata": {},
   "source": [
    "*a FASTQ file has the sequence of the RNA read (nucleeotide) and an assignment of the quality of that sequence information in ASCII format. Every read has four lines of information.*"
   ]
  },
  {
   "cell_type": "markdown",
   "metadata": {},
   "source": [
    "II) What is a SAM file?"
   ]
  },
  {
   "cell_type": "markdown",
   "metadata": {},
   "source": [
    "*a SAM file is the output you get after running the HISAT program to align your reads (fastq files) into a reference genome (grch38/genome). It has the information as to what chromosomes your reads align to and other useful information.*"
   ]
  },
  {
   "cell_type": "markdown",
   "metadata": {},
   "source": [
    "III) Why is it not possible to run htseq-count directly on FASTQ files? What is the missing step?"
   ]
  },
  {
   "cell_type": "markdown",
   "metadata": {},
   "source": [
    "*Its not possible to run htseq-count directly on FASTQ files because FASTQ files contain only the nucleotide sequence not alignment to a reference genome. You need the alignment information to run the htseq count information.*"
   ]
  },
  {
   "cell_type": "markdown",
   "metadata": {},
   "source": [
    "IV) Find one example of an optional SAM tag and explain why it might be useful."
   ]
  },
  {
   "cell_type": "markdown",
   "metadata": {},
   "source": [
    "V) You practiced the steps from FASTQ to BAM but is it possible to go from BAM to FASTQ? If so, how?"
   ]
  },
  {
   "cell_type": "markdown",
   "metadata": {},
   "source": [
    "VI) Describe the process of a spliced alignment and explain why it is more difficult than mapping genomic DNA reads."
   ]
  },
  {
   "cell_type": "markdown",
   "metadata": {},
   "source": [
    "VII) Using the default settings of htseq-count, would a read which mapped fully to a genomic region on which 2 genes overlap be counted towards any of the 2 genes? Explain why."
   ]
  },
  {
   "cell_type": "markdown",
   "metadata": {},
   "source": [
    "VIII) You are interested in RNA-sequencing an organism for which no transcriptome annotations are available. Can you still use htseq-count to examine gene expression? If so, what upstream analyses would you perform first?"
   ]
  },
  {
   "cell_type": "markdown",
   "metadata": {},
   "source": [
    "IX) Intron retention can result in mRNA isoforms that contain unspliced introns. If **sample 1** contains a high frequency of intron-retained isoforms of gene A whereas **sample 2** contains fully spliced isoforms of gene A, but each sample has the identical number of reads mapping to gene A, which sample will have a higher gene A count using default htseq-count settings?"
   ]
  },
  {
   "cell_type": "markdown",
   "metadata": {},
   "source": []
  }
 ],
 "metadata": {
  "kernelspec": {
   "display_name": "Python 3",
   "language": "python",
   "name": "python3"
  },
  "language_info": {
   "codemirror_mode": {
    "name": "ipython",
    "version": 3
   },
   "file_extension": ".py",
   "mimetype": "text/x-python",
   "name": "python",
   "nbconvert_exporter": "python",
   "pygments_lexer": "ipython3",
   "version": "3.6.5"
  }
 },
 "nbformat": 4,
 "nbformat_minor": 2
}
