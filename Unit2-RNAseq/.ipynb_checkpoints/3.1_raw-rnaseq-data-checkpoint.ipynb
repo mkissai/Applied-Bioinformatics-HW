{
 "cells": [
  {
   "cell_type": "markdown",
   "metadata": {},
   "source": [
    "## Applied Bioinformatics Unit 2 Module 1: RNA-seq\n",
    "### Notebook 3.1: Raw data"
   ]
  },
  {
   "cell_type": "markdown",
   "metadata": {},
   "source": [
    "### Using the SRA toolkit to sample a raw file\n",
    "Use `fastq-dump` to print the first 5 'spots' of a run archive SRR5830139\n",
    "```\n",
    "# cd into directory containing the sratoolkit folder\n",
    "cd /mnt/c/Users/Jerry/Downloads\n",
    "\n",
    "sratoolkit.2.9.2-ubuntu64/bin/fastq-dump --split-files -X 5 -Z SRR5830139\n",
    "```"
   ]
  },
  {
   "cell_type": "code",
   "execution_count": 4,
   "metadata": {},
   "outputs": [
    {
     "name": "stdout",
     "output_type": "stream",
     "text": [
      "@SRR5830139.1 1 length=76\n",
      "AGACAGCGGGGTCCACATCCTCCCAGGAGCGAACACCTCGTTCCTACTCCTCCATGACGTAGGCCAGCAGCCCGGG\n",
      "+SRR5830139.1 1 length=76\n",
      "AAAAAEEE/A//EAA//EEEEE/EE//EEEA//AEEEE/EEE/E///E////AEEEEE/EEEE/E//EAEEEA/EE\n",
      "@SRR5830139.1 1 length=76\n",
      "GGTGGTGGGTGGCGAGNGTGGCTGCCCCGGGCTGCTGGNCTACGTCATGGAGGAGTTGGAACGAGGTGTTCGCTCC\n",
      "+SRR5830139.1 1 length=76\n",
      "//A/AE6EAEE6/EE6#EEEAEEE//E/AE/EEEEEE/#/EE<AEAEE/EEE/E/E<EAE/6E///<EE/E/AEA<\n",
      "@SRR5830139.2 2 length=76\n",
      "ACACTGGAAACATTTTGAAAAAGACATTTTCAGTTATTCTCACTTTGAGACACTTTTTCAGAATTGTTAAAATGTC\n",
      "+SRR5830139.2 2 length=76\n",
      "AAAAAEEEEEEEEEEEEEEEEEEEEEEEEEEEEEE/EEEEEEEEEEEEAEEEEEEEEEEEEEAEEEEEAEEEEEEE\n",
      "@SRR5830139.2 2 length=76\n",
      "TAATAGCAGTATGTAATAGCAGTATGTAATAGCAGTTTCTAACTGCTGAAACATCTTTCCATCTCCCAAAGTGACA\n",
      "+SRR5830139.2 2 length=76\n",
      "AAAAAEEEEEEEEAEEEEEEAEEEEEEEEEEEEEEEEEEEEEEEEEEEEE6EEEEEEEEEEEEEEEEAEEEEEEEE\n",
      "@SRR5830139.3 3 length=76\n",
      "CAGGTTCAGCAGCTCGGCCTCGGGCAGGAAGCCAGCTTCAGCCCAGACTGCATATAAAATGGGAGCTGCATGGCCC\n",
      "+SRR5830139.3 3 length=76\n",
      "AAAAAEEEEEEEEEEEEEEEEEEEA/EEE/EE//EEEAA/EAEAAEE6EEA/A/EEE/EEAEEAEEEAEEEEEEE/\n",
      "@SRR5830139.3 3 length=76\n",
      "GATCATGGCTGTCCTGTTTTTCCATACCATGCGCTACAAGGCCCTGGATCCCCGAAACCCTCACAATGATCGCTTT\n",
      "+SRR5830139.3 3 length=76\n",
      "AAAA6EEEEEE/E/EEEAEAE<E/EEEEE/EEEAE/EEEEEE/AEEE6/<E//E///EEE/EEEE/AEAEEEEEAA\n",
      "@SRR5830139.4 4 length=76\n",
      "CTATAAGTAAGGCTGTAGAAAACCCTACAGCTACTGAGATTCAAGATGCTGTCTCTTATACACATCTCCGAGCCCA\n",
      "+SRR5830139.4 4 length=76\n",
      "AAAAAEEEEEEEEEEEAE6EE6EEEE6E6EEEEEEEEEEEEEEEEEEEEEEEEEEEEEE/EEEEEEEEEEEEEEEE\n",
      "@SRR5830139.4 4 length=76\n",
      "CATCTTGAATCTCAGTAGCTGTAGGGTTTTCTACAGCCTTACTTATAGCTGTCTCTTATACACATCTGACGCTGCC\n",
      "+SRR5830139.4 4 length=76\n",
      "AAAAAEEE6EEEEEEEEEEEEEEEEEEEAEEE/E/EEA/EE/EEEEEEAEEEEEEE//E/EEEEEEEEEEEEEEA6\n",
      "@SRR5830139.5 5 length=76\n",
      "TAACAATACAGGACTCTTTCGAGGCCCTGTAATTGGAATGAGTCCACTTTAAATCCTTTAACGAGGATCCATTGGA\n",
      "+SRR5830139.5 5 length=76\n",
      "AAAAAEEEE/EEEEEEE/EEEEEEEEEAEE/EEEEEEEEE/EEEEAEEEE/E/EE<EEEEAAEEEEEAEAEEEEE/\n",
      "@SRR5830139.5 5 length=76\n",
      "GCTTTGAACACTCTAATTTTTTCAAAGTAAACGCTTCGGGCCCCGCGGGACACTCAGCTAAGAGCATCGAGGGGGC\n",
      "+SRR5830139.5 5 length=76\n",
      "AAAAAE//EE/<EA/AAEEEAEEAEEEEE/EEEEEEAEAEEEEEEAEEE/E/E<E/E/6</E////A/E/AAAEEE\n"
     ]
    },
    {
     "name": "stderr",
     "output_type": "stream",
     "text": [
      "Read 5 spots for SRR5830139\n",
      "Written 5 spots for SRR5830139\n"
     ]
    }
   ],
   "source": [
    "%%bash\n",
    "cd /home/mkissai/\n",
    "./sratoolkit.2.9.2-ubuntu64/bin/fastq-dump --split-files -X 5 -Z SRR5830139"
   ]
  },
  {
   "cell_type": "markdown",
   "metadata": {},
   "source": [
    "### Writing to FASTQ from the SRA archive\n",
    "`fastq-dump` automatically downloads the .sra file and then writes out the reads in FASTQ format. \n",
    "NB: Watch out for the build up of .sra files on your HD!  \n",
    "\n",
    "Write the first 5 spots of SRR5454080 to FASTQ instead of standard out."
   ]
  },
  {
   "cell_type": "markdown",
   "metadata": {},
   "source": [
    "```\n",
    "%%bash\n",
    "cd /mnt/c/Users/Jerry/Downloads/\n",
    "sratoolkit.2.9.2-ubuntu64/bin/fastq-dump --split-files -X 5 SRR5454080\n",
    "ls -l SRR*\n",
    "```"
   ]
  },
  {
   "cell_type": "code",
   "execution_count": 7,
   "metadata": {},
   "outputs": [
    {
     "name": "stdout",
     "output_type": "stream",
     "text": [
      "Rejected 5 READS because READLEN < 1\n",
      "Read 5 spots for SRR5454080\n",
      "Written 5 spots for SRR5454080\n",
      "-rw-rw-r-- 1 mkissai mkissai 3341124508 Oct 10 16:31 SRR5454079_1.fastq\n",
      "-rw-rw-r-- 1 mkissai mkissai        770 Oct 11 09:11 SRR5454080_1.fastq\n"
     ]
    }
   ],
   "source": [
    "%%bash\n",
    "cd /home/mkissai/\n",
    "sratoolkit.2.9.2-ubuntu64/bin/fastq-dump --split-files -X 5 SRR5454080\n",
    "ls -l SRR*"
   ]
  },
  {
   "cell_type": "code",
   "execution_count": 10,
   "metadata": {},
   "outputs": [
    {
     "name": "stdout",
     "output_type": "stream",
     "text": [
      "@SRR5454080.1 1 length=50\n",
      "NATGAATGTAAAATGAGGAATGTACAGTGAAAAACAAACTAATATAAAGC\n",
      "+SRR5454080.1 1 length=50\n",
      "#AAFFJFJFFJJJFJAJJJJ<FJJFJJFFJJAJJJJJJJJJJJJJJJJJF\n",
      "@SRR5454080.2 2 length=50\n",
      "NCCGATCATCCTCCACTGTGAAATCAGCCCTGCAACGTATCTTGTGTAGG\n",
      "+SRR5454080.2 2 length=50\n",
      "#AA<FFJJJJJJJFFAFJFJFJJJJJJFJJJJAJJJJ7AAJJ<JF-<AJ-\n",
      "@SRR5454080.3 3 length=50\n",
      "NTGGAGGGGGCAGCTCTCTACTGCCCAGCACTTTCTGCTGTGGTAGCTGT\n",
      "+SRR5454080.3 3 length=50\n",
      "#A<AFJJJJJJJJJJJJJJJFFJJ<JJJJJJFJJJJJJFJJJJJJJJJAJ\n",
      "@SRR5454080.4 4 length=50\n",
      "NCTGCTGGCTACTCCTCATCCTCCTCACTATCGAGATACTTGTGGGTGGC\n",
      "+SRR5454080.4 4 length=50\n",
      "#AAFFJJJJJJJJJJJJJJJJJFJJJJFAFJJJFJJJJJJJJJJJFJJJJ\n",
      "@SRR5454080.5 5 length=50\n",
      "NAAAGACACTGCCCTGGATATACATCTTTTCCTCCATGTTCAGTTGCTGC\n",
      "+SRR5454080.5 5 length=50\n",
      "#AAFFJJJJJJJJJJJJJJJJJJJFJJJJJJJJJJJJJJFJJJJJFJJJJ\n"
     ]
    }
   ],
   "source": [
    "%%bash\n",
    "cd /home/mkissai/\n",
    "less SRR5454080_1.fastq"
   ]
  },
  {
   "cell_type": "markdown",
   "metadata": {},
   "source": [
    "### Why are we using `--split-files`?\n",
    "Try printing the first 5 spots of this run (to std out): SRR7167720  \n",
    "What do you notice about the reads?  "
   ]
  },
  {
   "cell_type": "markdown",
   "metadata": {},
   "source": [
    "```\n",
    "%%bash  \n",
    "cd /mnt/c/Users/Jerry/Downloads  \n",
    "sratoolkit.2.9.2-ubuntu64/bin/fastq-dump --split-files -X 5 -Z SRR7167720\n",
    "```"
   ]
  },
  {
   "cell_type": "code",
   "execution_count": 11,
   "metadata": {},
   "outputs": [
    {
     "name": "stdout",
     "output_type": "stream",
     "text": [
      "@SRR7167720.1 1 length=50\n",
      "GTTAGGGTTAGGGTTAGGGTTAGGGTTAGGGGTTAGGGTTAGGGTTAGGG\n",
      "+SRR7167720.1 1 length=50\n",
      "A<A0AE@?1@F101=0@E=F1FFB>:=FF>:E=9ECFE=:CEFGG>0>CD\n",
      "@SRR7167720.1 1 length=50\n",
      "CTCGCTCCCTACCCAACCCTAACCCTAACCCTAACCCTAACCCTAACCCT\n",
      "+SRR7167720.1 1 length=50\n",
      ":<3<0EC/=C1B101;/</::::0::1>:00EG11:EFBBBDDG111EGG\n",
      "@SRR7167720.2 2 length=50\n",
      "CTAACCCTAACCCTAACCCTACCCCTAACCCTAACCCTAACCCTAACCCT\n",
      "+SRR7167720.2 2 length=50\n",
      "CCCCCGGGGGGGGGGGGGGGGGGGGGGGFGGGGGGGGEGGGGGGFGDGGB\n",
      "@SRR7167720.2 2 length=50\n",
      "GGTTAGGGTTAGGGTTAGGGTTAGGGTTAGGGTTAGGGTTAGGTTAGGGT\n",
      "+SRR7167720.2 2 length=50\n",
      "BCCCBGEGGGGGGEGGGGGGEGGGGGGGGGGFGE0FGGGGEDF:F11=F1\n",
      "@SRR7167720.3 3 length=50\n",
      "GGTTAGGGTTAGGGTTAGGGTTAGGGTTAGGGTTAGGGTTAGGGTTAGGG\n",
      "+SRR7167720.3 3 length=50\n",
      "BCBBCFGGGGGGGGGGGGGGGGGGGGGGGGGGFFGGGGCDGGGG1BFGGG\n",
      "@SRR7167720.3 3 length=50\n",
      "CCCTAACCCTAACCCTAACCCCTAACCCTAACCCTAACCCTAACCCTAAC\n",
      "+SRR7167720.3 3 length=50\n",
      "CCCBCGGGGFGGGGGGGGGGGBFGGGFBDGEGGGGGDGGGGGGGGGGGGG\n",
      "@SRR7167720.4 4 length=50\n",
      "GTTAGGGTTAGGGTTAGGGTTTTAGGGTTAGGGTTAGGGTTTTAGGGTTA\n",
      "+SRR7167720.4 4 length=50\n",
      "BBBBBFGGGBFGGGGGGGG@FGGGGGGFGGGGGDBGGGG=@/01EFG=1<\n",
      "@SRR7167720.4 4 length=50\n",
      "CCTAACCCTAACCCTAACCTAACCCTAACCCTAAGCCTAACCCTAACCCT\n",
      "+SRR7167720.4 4 length=50\n",
      "CCCCCGGGGGGGGGGGGGGGGGGGGGGGGGGGGGGGGGGGGGGGGGGGGG\n",
      "@SRR7167720.5 5 length=50\n",
      "GTTAGGGTTAGGGTTAGGGTTAGGGTTTAGGGTTTAGGGTTTAGGGTTTA\n",
      "+SRR7167720.5 5 length=50\n",
      "BBBCCEFFGGEGGGGGGGGDGGGGG<FDGGGGEFGGGGGEFGGGGGF@/@\n",
      "@SRR7167720.5 5 length=50\n",
      "CTAACCCTAACCCTAACCCTAACCCTAACCCTAACCCTAACCCCTAACCC\n",
      "+SRR7167720.5 5 length=50\n",
      "CCCCCGGGGGGGGGGG1FGG1F10E1111=:1=1100::1100EB01<<E\n"
     ]
    },
    {
     "name": "stderr",
     "output_type": "stream",
     "text": [
      "Read 5 spots for SRR7167720\n",
      "Written 5 spots for SRR7167720\n"
     ]
    }
   ],
   "source": [
    "%%bash\n",
    "cd /home/mkissai/\n",
    "sratoolkit.2.9.2-ubuntu64/bin/fastq-dump --split-files -X 5 -Z SRR7167720"
   ]
  },
  {
   "cell_type": "markdown",
   "metadata": {},
   "source": [
    "Now repeat without using --split-files. What is the difference?"
   ]
  },
  {
   "cell_type": "code",
   "execution_count": 12,
   "metadata": {},
   "outputs": [
    {
     "name": "stdout",
     "output_type": "stream",
     "text": [
      "@SRR7167720.1 1 length=100\n",
      "GTTAGGGTTAGGGTTAGGGTTAGGGTTAGGGGTTAGGGTTAGGGTTAGGGCTCGCTCCCTACCCAACCCTAACCCTAACCCTAACCCTAACCCTAACCCT\n",
      "+SRR7167720.1 1 length=100\n",
      "A<A0AE@?1@F101=0@E=F1FFB>:=FF>:E=9ECFE=:CEFGG>0>CD:<3<0EC/=C1B101;/</::::0::1>:00EG11:EFBBBDDG111EGG\n",
      "@SRR7167720.2 2 length=100\n",
      "CTAACCCTAACCCTAACCCTACCCCTAACCCTAACCCTAACCCTAACCCTGGTTAGGGTTAGGGTTAGGGTTAGGGTTAGGGTTAGGGTTAGGTTAGGGT\n",
      "+SRR7167720.2 2 length=100\n",
      "CCCCCGGGGGGGGGGGGGGGGGGGGGGGFGGGGGGGGEGGGGGGFGDGGBBCCCBGEGGGGGGEGGGGGGEGGGGGGGGGGFGE0FGGGGEDF:F11=F1\n",
      "@SRR7167720.3 3 length=100\n",
      "GGTTAGGGTTAGGGTTAGGGTTAGGGTTAGGGTTAGGGTTAGGGTTAGGGCCCTAACCCTAACCCTAACCCCTAACCCTAACCCTAACCCTAACCCTAAC\n",
      "+SRR7167720.3 3 length=100\n",
      "BCBBCFGGGGGGGGGGGGGGGGGGGGGGGGGGFFGGGGCDGGGG1BFGGGCCCBCGGGGFGGGGGGGGGGGBFGGGFBDGEGGGGGDGGGGGGGGGGGGG\n",
      "@SRR7167720.4 4 length=100\n",
      "GTTAGGGTTAGGGTTAGGGTTTTAGGGTTAGGGTTAGGGTTTTAGGGTTACCTAACCCTAACCCTAACCTAACCCTAACCCTAAGCCTAACCCTAACCCT\n",
      "+SRR7167720.4 4 length=100\n",
      "BBBBBFGGGBFGGGGGGGG@FGGGGGGFGGGGGDBGGGG=@/01EFG=1<CCCCCGGGGGGGGGGGGGGGGGGGGGGGGGGGGGGGGGGGGGGGGGGGGG\n",
      "@SRR7167720.5 5 length=100\n",
      "GTTAGGGTTAGGGTTAGGGTTAGGGTTTAGGGTTTAGGGTTTAGGGTTTACTAACCCTAACCCTAACCCTAACCCTAACCCTAACCCTAACCCCTAACCC\n",
      "+SRR7167720.5 5 length=100\n",
      "BBBCCEFFGGEGGGGGGGGDGGGGG<FDGGGGEFGGGGGEFGGGGGF@/@CCCCCGGGGGGGGGGG1FGG1F10E1111=:1=1100::1100EB01<<E\n"
     ]
    },
    {
     "name": "stderr",
     "output_type": "stream",
     "text": [
      "Read 5 spots for SRR7167720\n",
      "Written 5 spots for SRR7167720\n"
     ]
    }
   ],
   "source": [
    "%%bash\n",
    "cd /home/mkissai/\n",
    "sratoolkit.2.9.2-ubuntu64/bin/fastq-dump -X 5 -Z SRR7167720"
   ]
  },
  {
   "cell_type": "markdown",
   "metadata": {},
   "source": [
    "```\n",
    "%%bash  \n",
    "cd /mnt/c/Users/Jerry/Downloads  \n",
    "sratoolkit.2.9.2-ubuntu64/bin/fastq-dump -X 5 -Z SRR7167720\n",
    "```"
   ]
  },
  {
   "cell_type": "markdown",
   "metadata": {},
   "source": [
    "### Exercises I:\n",
    "1) What read length was used in the sequencing study _A Distinct Population of Thirst-Associated Preoptic Neurons Encodes an Aversive Motivational Drive_?"
   ]
  },
  {
   "cell_type": "markdown",
   "metadata": {},
   "source": [
    "The read length is 152. Source: https://trace.ncbi.nlm.nih.gov/Traces/sra/sra.cgi?run=SRR5830640"
   ]
  },
  {
   "cell_type": "markdown",
   "metadata": {},
   "source": [
    "2) Using bash, print the first 5 ‘spots’ of the first RNA-seq run from the study above"
   ]
  },
  {
   "cell_type": "code",
   "execution_count": 13,
   "metadata": {},
   "outputs": [
    {
     "name": "stdout",
     "output_type": "stream",
     "text": [
      "@SRR5830640.1 1 length=76\n",
      "GTAGCCCAGTAATCATCTTACCTCAGGCTCCCCTATCTGGCTTCATGGTACTTCCCTGATGTATTTCAGAGAAATG\n",
      "+SRR5830640.1 1 length=76\n",
      "AAAAAEEAEEEEEEEAEEEE6EE6EEEEEEEAEEEEEEEEEE/EEEEEAEEE6EA6EEAEEE/EAAA/AAE//AE/\n",
      "@SRR5830640.1 1 length=76\n",
      "ACACTGAAGATGTAAGAATTTCACCGGATATTAACAGTGCCTGAAGTTAAAACACTACCACACTTTAGCTAGATGT\n",
      "+SRR5830640.1 1 length=76\n",
      "/AAAAE/AE/AEE6<AE6EAEAAEEEE/E/A//AEAEAEE666/AA6A///E666A6A//EE//A//66//A/<A/\n",
      "@SRR5830640.2 2 length=76\n",
      "ATACTATGTAGCCCACAGATTGACTCCTTCACCATCGTGTACTTGGATTGCTTCCTTGCTTCCTTCTCCTGGCAGT\n",
      "+SRR5830640.2 2 length=76\n",
      "AAAAAEEEEEEEEEEEEEEEEEEEEEEEEEAEEEEEEEEEEEEEEEEEEEEEEEEEEEEEEEEEEEEEEEEEE/EA\n",
      "@SRR5830640.2 2 length=76\n",
      "CCTCTGGGCCACGGTGGACTCGCCCTCTATAACCCTAAGCCCAAATAAACTCTCTGGCCTGTAAATTACTGGTCAT\n",
      "+SRR5830640.2 2 length=76\n",
      "AAAAAEEEEEEEEEEEEEEEEEEEEEEEEEEEEEEEEEEEEEEAAEAEEEEEEEEEEEEEEE//AEEEAAEEEEAE\n",
      "@SRR5830640.3 3 length=76\n",
      "ATGCACGCATATGCTCACACACAAACTCAGACTCTGAAGTCTGGTAGCCTGTGAATGTTCCTTTTGTAAAATGCTT\n",
      "+SRR5830640.3 3 length=76\n",
      "AAAAAEEEEEEEEEEEAEEEEEEEEEEEEEAEEEEEEEEEEEEEEEEEEEEEEEEEEEEEEEEEEEA6EEEEEEEE\n",
      "@SRR5830640.3 3 length=76\n",
      "CCTTAACCGTTTCTTTGGGGTTTCTGATGGTTAGGACAGGGTTGGAGCAAAGAGGCTTTTGGAAGCATTTTACAAA\n",
      "+SRR5830640.3 3 length=76\n",
      "AAAAAAEEEAE6AEAAAEEEEE6EEE/AEEAA6AE/A6E/EA<EA/E/666A/AEA6AA/E<//A//AA<//A///\n",
      "@SRR5830640.4 4 length=76\n",
      "GTGCAGAGTAATGCCATCACTGCCCACTGGGAATGCAGCCCGAATAATTAATAGCCACCCCTCAGACGGAGGACCA\n",
      "+SRR5830640.4 4 length=76\n",
      "A/AAAEEEEEEEEEEEEEEEEEEEAAE<EEEEEEAEEE/EEEAEAEEEEEEEEEAAEEEEEEE/AEEEE/EEAEEE\n",
      "@SRR5830640.4 4 length=76\n",
      "CCTTGGAGGTGGAGCCCAGTGACACCATCGAGAATGTGAAGGCCAAGATCCAGGATAAAGAGGGCATCCCCCCTGA\n",
      "+SRR5830640.4 4 length=76\n",
      "AAAAAEEEEEEE6EEEEAEEEEEEEEAEEE6EEEEEEEEEEEEEAEE6EEEEEA//AEE6AEEEAEEAEEAA/<A/\n",
      "@SRR5830640.5 5 length=76\n",
      "CTTTAATATACGCTATTGGAGCTGGAATTACCGCGGCTGCTGGCACCAGACTTTCCCTCCAATCGATCCTCGATAA\n",
      "+SRR5830640.5 5 length=76\n",
      "AAAAA/E</EEEE<E/EEEEEEEEEEEEE//A<///EA/EEE///EEE/E<EE/A///6AEEE///EEAEEE/6</\n",
      "@SRR5830640.5 5 length=76\n",
      "CATCCAAGGAAGGCAGCAGGCGCGCAAATTACCCACTCCCGACCCGGGGAGGTAGTGACGAAAAATAACAAAACAG\n",
      "+SRR5830640.5 5 length=76\n",
      "/A/A//E///EEA6EE//<<<E/EE666E66///<66/E/EAAAA/E/A/</E/E//<///<A//////////E/6\n"
     ]
    },
    {
     "name": "stderr",
     "output_type": "stream",
     "text": [
      "Read 5 spots for SRR5830640\n",
      "Written 5 spots for SRR5830640\n"
     ]
    }
   ],
   "source": [
    "%%bash\n",
    "cd /home/mkissai/\n",
    "sratoolkit.2.9.2-ubuntu64/bin/fastq-dump --split-files -X 5 -Z SRR5830640"
   ]
  },
  {
   "cell_type": "markdown",
   "metadata": {},
   "source": [
    "__HW0__ Now print the first 100 ‘spots’ of the first 5 runs (alphabetically) of the study each into a separate file and quantify how many times the nucleotide adenine occurs in each one. How does this compare to the other nucleotides? What are the possible reasons?"
   ]
  },
  {
   "cell_type": "code",
   "execution_count": 6,
   "metadata": {},
   "outputs": [
    {
     "name": "stdout",
     "output_type": "stream",
     "text": [
      "Read 100 spots for SRR5830640\n",
      "Written 100 spots for SRR5830640\n",
      "Read 100 spots for SRR5830639\n",
      "Written 100 spots for SRR5830639\n",
      "Read 100 spots for SRR5830638\n",
      "Written 100 spots for SRR5830638\n",
      "Read 100 spots for SRR5830637\n",
      "Written 100 spots for SRR5830637\n",
      "Read 100 spots for SRR5830636\n",
      "Written 100 spots for SRR5830636\n"
     ]
    }
   ],
   "source": [
    "%%bash\n",
    "cd /home/mkissai\n",
    "sratoolkit.2.9.2-ubuntu64/bin/fastq-dump --split-files -X 100 SRR5830640\n",
    "sratoolkit.2.9.2-ubuntu64/bin/fastq-dump --split-files -X 100 SRR5830639\n",
    "sratoolkit.2.9.2-ubuntu64/bin/fastq-dump --split-files -X 100 SRR5830638\n",
    "sratoolkit.2.9.2-ubuntu64/bin/fastq-dump --split-files -X 100 SRR5830637\n",
    "sratoolkit.2.9.2-ubuntu64/bin/fastq-dump --split-files -X 100 SRR5830636"
   ]
  },
  {
   "cell_type": "code",
   "execution_count": 7,
   "metadata": {},
   "outputs": [
    {
     "name": "stdout",
     "output_type": "stream",
     "text": [
      "-rw-rw-r-- 1 mkissai mkissai 3341124508 Oct 10 16:31 SRR5454079_1.fastq\n",
      "-rw-rw-r-- 1 mkissai mkissai        770 Oct 11 09:11 SRR5454080_1.fastq\n",
      "-rw-rw-r-- 1 mkissai mkissai      20968 Oct 18 10:13 SRR5830636_1.fastq\n",
      "-rw-rw-r-- 1 mkissai mkissai      20968 Oct 18 10:13 SRR5830636_2.fastq\n",
      "-rw-rw-r-- 1 mkissai mkissai      20968 Oct 18 10:13 SRR5830637_1.fastq\n",
      "-rw-rw-r-- 1 mkissai mkissai      20968 Oct 18 10:13 SRR5830637_2.fastq\n",
      "-rw-rw-r-- 1 mkissai mkissai      20968 Oct 18 10:13 SRR5830638_1.fastq\n",
      "-rw-rw-r-- 1 mkissai mkissai      20968 Oct 18 10:13 SRR5830638_2.fastq\n",
      "-rw-rw-r-- 1 mkissai mkissai      20968 Oct 18 10:12 SRR5830639_1.fastq\n",
      "-rw-rw-r-- 1 mkissai mkissai      20968 Oct 18 10:12 SRR5830639_2.fastq\n",
      "-rw-rw-r-- 1 mkissai mkissai      20968 Oct 18 10:12 SRR5830640_1.fastq\n",
      "-rw-rw-r-- 1 mkissai mkissai      20968 Oct 18 10:12 SRR5830640_2.fastq\n"
     ]
    }
   ],
   "source": [
    "%%bash\n",
    "cd /home/mkissai\n",
    "ls -l SRR*"
   ]
  },
  {
   "cell_type": "code",
   "execution_count": 10,
   "metadata": {
    "scrolled": true
   },
   "outputs": [
    {
     "name": "stdout",
     "output_type": "stream",
     "text": [
      "@SRR5830636.1 1 length=76\n",
      "ATTCCTATGGATCCGAGCATCTTATCCACGCTTCCGTTACGATCAACTTATACATCTTCTATGAAAAAACTTTCTA\n",
      "+SRR5830636.1 1 length=76\n",
      "AAAAAEEEEEEEEEEEEEEEEEEEEEEEEEEEEEEEEAEEEEEEAEEEEEEAEEEEEEEEEEEAEEEEEEEEEEEE\n",
      "@SRR5830636.2 2 length=76\n",
      "CACCCACGGAATCGAGAAAGAGATAAAAATCTGTCAATACTCTCCCTCTCCGGCACTCGTCAGGTTAACAGTCTAG\n",
      "+SRR5830636.2 2 length=76\n",
      "AAAAAE/E/EA/EEE6A/E//A/E6///E//A//AEE/////E/A/</6/A/E//E///E/</EEEE/A/E//E//\n",
      "@SRR5830636.3 3 length=76\n",
      "@SRR5830636.1 1 length=76\n",
      "GTATGGTGGTACTCCCGCTGTAAAAATTGGTAAAGAAATATGTCACATACATAATGCTAGTGTTAGGGGTAGAAAG\n",
      "+SRR5830636.1 1 length=76\n",
      "AAAAAEEEEEEEEEEEEEEEE/EEEEEEEEEEEEEEEEEEEEAEEEEEEEEEEEEEEEEEEEEEEEEEEEEEEEEE\n",
      "@SRR5830636.2 2 length=76\n",
      "ACCATAAACGAAGCCGACAGCCTATGCCGCGCCGATATTCCCATGACCCGCCAGGCAGCTTCCGCGAAACCAAAGT\n",
      "+SRR5830636.2 2 length=76\n",
      "6/AAAE///<E//EE//E///E////<//<//E///EEE/E/<///AEE//A/E///EE///EE//<EE6/E/AEA\n",
      "@SRR5830636.3 3 length=76\n"
     ]
    }
   ],
   "source": [
    "%%bash\n",
    "cd /home/mkissai\n",
    "head -9 SRR5830636_1.fastq\n",
    "head -9 SRR5830636_2.fastq"
   ]
  },
  {
   "cell_type": "code",
   "execution_count": 14,
   "metadata": {},
   "outputs": [
    {
     "name": "stdout",
     "output_type": "stream",
     "text": [
      "15400\n",
      "15400\n"
     ]
    }
   ],
   "source": [
    "%%bash\n",
    "cd /home/mkissai\n",
    "awk 'NR%4==2' SRR5830636_1.fastq | grep \"A\" SRR5830636_1.fastq   | wc -m\n",
    "awk 'NR%4==2' SRR5830636_2.fastq | grep \"A\" SRR5830636_2.fastq   | wc -m"
   ]
  },
  {
   "cell_type": "code",
   "execution_count": 15,
   "metadata": {},
   "outputs": [
    {
     "name": "stdout",
     "output_type": "stream",
     "text": [
      "15400\n",
      "15400\n"
     ]
    }
   ],
   "source": [
    "%%bash\n",
    "cd /home/mkissai\n",
    "awk 'NR%4==2' SRR5830637_1.fastq | grep \"A\" SRR5830637_1.fastq   | wc -m\n",
    "awk 'NR%4==2' SRR5830637_2.fastq | grep \"A\" SRR5830637_2.fastq   | wc -m"
   ]
  },
  {
   "cell_type": "code",
   "execution_count": 16,
   "metadata": {},
   "outputs": [
    {
     "name": "stdout",
     "output_type": "stream",
     "text": [
      "15400\n",
      "15400\n"
     ]
    }
   ],
   "source": [
    "%%bash\n",
    "cd /home/mkissai\n",
    "awk 'NR%4==2' SRR5830638_1.fastq | grep \"A\" SRR5830638_1.fastq   | wc -m\n",
    "awk 'NR%4==2' SRR5830638_2.fastq | grep \"A\" SRR5830638_2.fastq   | wc -m"
   ]
  },
  {
   "cell_type": "code",
   "execution_count": 17,
   "metadata": {},
   "outputs": [
    {
     "name": "stdout",
     "output_type": "stream",
     "text": [
      "15400\n",
      "15400\n"
     ]
    }
   ],
   "source": [
    "%%bash\n",
    "cd /home/mkissai\n",
    "awk 'NR%4==2' SRR5830639_1.fastq | grep \"A\" SRR5830639_1.fastq   | wc -m\n",
    "awk 'NR%4==2' SRR5830639_2.fastq | grep \"A\" SRR5830639_2.fastq   | wc -m"
   ]
  },
  {
   "cell_type": "code",
   "execution_count": 18,
   "metadata": {},
   "outputs": [
    {
     "name": "stdout",
     "output_type": "stream",
     "text": [
      "15400\n",
      "15400\n"
     ]
    }
   ],
   "source": [
    "%%bash\n",
    "cd /home/mkissai\n",
    "awk 'NR%4==2' SRR5830640_1.fastq | grep \"A\" SRR5830640_1.fastq   | wc -m\n",
    "awk 'NR%4==2' SRR5830640_2.fastq | grep \"A\" SRR5830640_2.fastq   | wc -m"
   ]
  },
  {
   "cell_type": "code",
   "execution_count": 20,
   "metadata": {},
   "outputs": [
    {
     "name": "stdout",
     "output_type": "stream",
     "text": [
      "7700\n",
      "7700\n",
      "7700\n",
      "7700\n",
      "7700\n",
      "7700\n",
      "7700\n",
      "7700\n",
      "7700\n",
      "7700\n"
     ]
    }
   ],
   "source": [
    "%%bash\n",
    "cd /home/mkissai\n",
    "awk 'NR%4==2' SRR5830640_1.fastq | grep \"T\" SRR5830640_1.fastq   | wc -m\n",
    "awk 'NR%4==2' SRR5830640_2.fastq | grep \"T\" SRR5830640_2.fastq   | wc -m\n",
    "awk 'NR%4==2' SRR5830639_1.fastq | grep \"T\" SRR5830639_1.fastq   | wc -m\n",
    "awk 'NR%4==2' SRR5830639_2.fastq | grep \"T\" SRR5830639_2.fastq   | wc -m\n",
    "awk 'NR%4==2' SRR5830638_1.fastq | grep \"T\" SRR5830638_1.fastq   | wc -m\n",
    "awk 'NR%4==2' SRR5830638_2.fastq | grep \"T\" SRR5830638_2.fastq   | wc -m\n",
    "awk 'NR%4==2' SRR5830637_1.fastq | grep \"T\" SRR5830637_1.fastq   | wc -m\n",
    "awk 'NR%4==2' SRR5830637_2.fastq | grep \"T\" SRR5830637_2.fastq   | wc -m\n",
    "awk 'NR%4==2' SRR5830636_1.fastq | grep \"T\" SRR5830636_1.fastq   | wc -m\n",
    "awk 'NR%4==2' SRR5830636_2.fastq | grep \"T\" SRR5830636_2.fastq   | wc -m"
   ]
  },
  {
   "cell_type": "code",
   "execution_count": 21,
   "metadata": {},
   "outputs": [
    {
     "name": "stdout",
     "output_type": "stream",
     "text": [
      "7700\n",
      "7700\n",
      "7700\n",
      "7700\n",
      "7700\n",
      "7700\n",
      "7700\n",
      "7700\n",
      "7700\n",
      "7700\n"
     ]
    }
   ],
   "source": [
    "%%bash\n",
    "cd /home/mkissai\n",
    "awk 'NR%4==2' SRR5830640_1.fastq | grep \"G\" SRR5830640_1.fastq   | wc -m\n",
    "awk 'NR%4==2' SRR5830640_2.fastq | grep \"G\" SRR5830640_2.fastq   | wc -m\n",
    "awk 'NR%4==2' SRR5830639_1.fastq | grep \"G\" SRR5830639_1.fastq   | wc -m\n",
    "awk 'NR%4==2' SRR5830639_2.fastq | grep \"G\" SRR5830639_2.fastq   | wc -m\n",
    "awk 'NR%4==2' SRR5830638_1.fastq | grep \"G\" SRR5830638_1.fastq   | wc -m\n",
    "awk 'NR%4==2' SRR5830638_2.fastq | grep \"G\" SRR5830638_2.fastq   | wc -m\n",
    "awk 'NR%4==2' SRR5830637_1.fastq | grep \"G\" SRR5830637_1.fastq   | wc -m\n",
    "awk 'NR%4==2' SRR5830637_2.fastq | grep \"G\" SRR5830637_2.fastq   | wc -m\n",
    "awk 'NR%4==2' SRR5830636_1.fastq | grep \"G\" SRR5830636_1.fastq   | wc -m\n",
    "awk 'NR%4==2' SRR5830636_2.fastq | grep \"G\" SRR5830636_2.fastq   | wc -m"
   ]
  },
  {
   "cell_type": "code",
   "execution_count": 22,
   "metadata": {},
   "outputs": [
    {
     "name": "stdout",
     "output_type": "stream",
     "text": [
      "7700\n",
      "7700\n",
      "7700\n",
      "7700\n",
      "7700\n",
      "7700\n",
      "7700\n",
      "7700\n",
      "7700\n",
      "7700\n"
     ]
    }
   ],
   "source": [
    "%%bash\n",
    "cd /home/mkissai\n",
    "awk 'NR%4==2' SRR5830640_1.fastq | grep \"C\" SRR5830640_1.fastq   | wc -m\n",
    "awk 'NR%4==2' SRR5830640_2.fastq | grep \"C\" SRR5830640_2.fastq   | wc -m\n",
    "awk 'NR%4==2' SRR5830639_1.fastq | grep \"C\" SRR5830639_1.fastq   | wc -m\n",
    "awk 'NR%4==2' SRR5830639_2.fastq | grep \"C\" SRR5830639_2.fastq   | wc -m\n",
    "awk 'NR%4==2' SRR5830638_1.fastq | grep \"C\" SRR5830638_1.fastq   | wc -m\n",
    "awk 'NR%4==2' SRR5830638_2.fastq | grep \"C\" SRR5830638_2.fastq   | wc -m\n",
    "awk 'NR%4==2' SRR5830637_1.fastq | grep \"C\" SRR5830637_1.fastq   | wc -m\n",
    "awk 'NR%4==2' SRR5830637_2.fastq | grep \"C\" SRR5830637_2.fastq   | wc -m\n",
    "awk 'NR%4==2' SRR5830636_1.fastq | grep \"C\" SRR5830636_1.fastq   | wc -m\n",
    "awk 'NR%4==2' SRR5830636_2.fastq | grep \"C\" SRR5830636_2.fastq   | wc -m"
   ]
  },
  {
   "cell_type": "markdown",
   "metadata": {},
   "source": [
    "The number of \"A\" nucleotide reads are double the number of either of the other nucleotide reads. I don't know why..."
   ]
  },
  {
   "cell_type": "markdown",
   "metadata": {},
   "source": [
    "### Exercises II:\n",
    "1) It is common for RNA-seq reads to be contaminated with leftover adapter sequences. Test if the file SRR5454079_1.fastq contains any i7 adapter sequences ATCACGAC or ACAGTGGT.  "
   ]
  },
  {
   "cell_type": "markdown",
   "metadata": {},
   "source": [
    "1-2) What would be a proper way to determine if there is significant barcode contamination?"
   ]
  },
  {
   "cell_type": "markdown",
   "metadata": {},
   "source": [
    "Try to find elements of the reads that contain the carcode sequence. And if it occurs in the majority of your spots then find a way to exclude them from your analysis."
   ]
  },
  {
   "cell_type": "markdown",
   "metadata": {},
   "source": [
    "__HW1__: Map SRR5454079 to the human genome using HISAT2 (or chromosome 20 if you have <8GB RAM).  "
   ]
  },
  {
   "cell_type": "markdown",
   "metadata": {},
   "source": [
    "__HW2__: Check the first 5 reads contained in the FASTQ files. Which chromosome did they align to?  "
   ]
  },
  {
   "cell_type": "markdown",
   "metadata": {},
   "source": [
    "__HW3__: Consult the samtools documentation then convert the output sam file into a sorted bam file."
   ]
  },
  {
   "cell_type": "code",
   "execution_count": null,
   "metadata": {},
   "outputs": [],
   "source": []
  }
 ],
 "metadata": {
  "kernelspec": {
   "display_name": "Python 3",
   "language": "python",
   "name": "python3"
  },
  "language_info": {
   "codemirror_mode": {
    "name": "ipython",
    "version": 3
   },
   "file_extension": ".py",
   "mimetype": "text/x-python",
   "name": "python",
   "nbconvert_exporter": "python",
   "pygments_lexer": "ipython3",
   "version": "3.6.5"
  }
 },
 "nbformat": 4,
 "nbformat_minor": 2
}
