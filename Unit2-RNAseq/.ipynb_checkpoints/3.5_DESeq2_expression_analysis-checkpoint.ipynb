{
 "cells": [
  {
   "cell_type": "markdown",
   "metadata": {},
   "source": [
    "## 3.5 Gene expression analysis using DESeq2\n",
    "\n",
    "#### First use `git` to retrieve the gene counts files (total n=6). The path to files on the Github repo is:\n",
    "`Applied-Bioinformatics/Unit2-RNAseq/data/htseq_out/day5/`  \n",
    "  \n",
    "Then copy to a directory where you can find it (e.g. your homework folder).\n",
    "#### Locate counts files \n",
    "```R\n",
    "dir_counts <- \"/mnt/c/Users/Jerry/Applied-Bioinformatics-HW/data/htseq_out/day5\"\n",
    "counts_files <- list.files(dir_counts)\n",
    "counts_files\n",
    "```"
   ]
  },
  {
   "cell_type": "code",
   "execution_count": 3,
   "metadata": {},
   "outputs": [
    {
     "data": {
      "text/html": [
       "<ol class=list-inline>\n",
       "\t<li>'GSM2580321_counts.txt'</li>\n",
       "\t<li>'GSM2580322_counts.txt'</li>\n",
       "\t<li>'GSM2580325_counts.txt'</li>\n",
       "\t<li>'GSM2580326_counts.txt'</li>\n",
       "\t<li>'GSM2580329_counts.txt'</li>\n",
       "\t<li>'GSM2580330_counts.txt'</li>\n",
       "</ol>\n"
      ],
      "text/latex": [
       "\\begin{enumerate*}\n",
       "\\item 'GSM2580321\\_counts.txt'\n",
       "\\item 'GSM2580322\\_counts.txt'\n",
       "\\item 'GSM2580325\\_counts.txt'\n",
       "\\item 'GSM2580326\\_counts.txt'\n",
       "\\item 'GSM2580329\\_counts.txt'\n",
       "\\item 'GSM2580330\\_counts.txt'\n",
       "\\end{enumerate*}\n"
      ],
      "text/markdown": [
       "1. 'GSM2580321_counts.txt'\n",
       "2. 'GSM2580322_counts.txt'\n",
       "3. 'GSM2580325_counts.txt'\n",
       "4. 'GSM2580326_counts.txt'\n",
       "5. 'GSM2580329_counts.txt'\n",
       "6. 'GSM2580330_counts.txt'\n",
       "\n",
       "\n"
      ],
      "text/plain": [
       "[1] \"GSM2580321_counts.txt\" \"GSM2580322_counts.txt\" \"GSM2580325_counts.txt\"\n",
       "[4] \"GSM2580326_counts.txt\" \"GSM2580329_counts.txt\" \"GSM2580330_counts.txt\""
      ]
     },
     "metadata": {},
     "output_type": "display_data"
    }
   ],
   "source": [
    "dir_counts <- \"/home/mkissai/Applied-Bioinformatics-HW-local/Unit2-RNAseq/data/htseq_out/day5\"\n",
    "counts_files <- list.files(dir_counts)\n",
    "counts_files"
   ]
  },
  {
   "cell_type": "markdown",
   "metadata": {},
   "source": [
    "#### Prepare a sample table in the format required by DESeq2\n",
    "Here we specify the group assignment manually. It is also possible to parse the sample data matrix from GEO, which can be found by following a link on the data series page: https://www.ncbi.nlm.nih.gov/geo/query/acc.cgi?acc=GSE97919\n",
    "```\n",
    "samplesInfo <- as.data.frame(matrix(ncol=2, nrow=length(counts_files)))  \n",
    "samplesInfo$samplename <- counts_files  \n",
    "samplesInfo$filename <- counts_files  \n",
    "samplesInfo$group <- c(\"mock\", \"ZIKV\", \"mock\", \"ZIKV\", \"mock\", \"ZIKV\") \n",
    "#Remove the blank columns\n",
    "samplesInfo <- samplesInfo[,-c(1:2)]\n",
    "```"
   ]
  },
  {
   "cell_type": "code",
   "execution_count": 4,
   "metadata": {},
   "outputs": [
    {
     "data": {
      "text/html": [
       "<table>\n",
       "<thead><tr><th scope=col>samplename</th><th scope=col>filename</th><th scope=col>group</th></tr></thead>\n",
       "<tbody>\n",
       "\t<tr><td>GSM2580321_counts.txt</td><td>GSM2580321_counts.txt</td><td>mock                 </td></tr>\n",
       "\t<tr><td>GSM2580322_counts.txt</td><td>GSM2580322_counts.txt</td><td>ZIKV                 </td></tr>\n",
       "\t<tr><td>GSM2580325_counts.txt</td><td>GSM2580325_counts.txt</td><td>mock                 </td></tr>\n",
       "\t<tr><td>GSM2580326_counts.txt</td><td>GSM2580326_counts.txt</td><td>ZIKV                 </td></tr>\n",
       "\t<tr><td>GSM2580329_counts.txt</td><td>GSM2580329_counts.txt</td><td>mock                 </td></tr>\n",
       "\t<tr><td>GSM2580330_counts.txt</td><td>GSM2580330_counts.txt</td><td>ZIKV                 </td></tr>\n",
       "</tbody>\n",
       "</table>\n"
      ],
      "text/latex": [
       "\\begin{tabular}{r|lll}\n",
       " samplename & filename & group\\\\\n",
       "\\hline\n",
       "\t GSM2580321\\_counts.txt & GSM2580321\\_counts.txt & mock                   \\\\\n",
       "\t GSM2580322\\_counts.txt & GSM2580322\\_counts.txt & ZIKV                   \\\\\n",
       "\t GSM2580325\\_counts.txt & GSM2580325\\_counts.txt & mock                   \\\\\n",
       "\t GSM2580326\\_counts.txt & GSM2580326\\_counts.txt & ZIKV                   \\\\\n",
       "\t GSM2580329\\_counts.txt & GSM2580329\\_counts.txt & mock                   \\\\\n",
       "\t GSM2580330\\_counts.txt & GSM2580330\\_counts.txt & ZIKV                   \\\\\n",
       "\\end{tabular}\n"
      ],
      "text/markdown": [
       "\n",
       "samplename | filename | group | \n",
       "|---|---|---|---|---|---|\n",
       "| GSM2580321_counts.txt | GSM2580321_counts.txt | mock                  | \n",
       "| GSM2580322_counts.txt | GSM2580322_counts.txt | ZIKV                  | \n",
       "| GSM2580325_counts.txt | GSM2580325_counts.txt | mock                  | \n",
       "| GSM2580326_counts.txt | GSM2580326_counts.txt | ZIKV                  | \n",
       "| GSM2580329_counts.txt | GSM2580329_counts.txt | mock                  | \n",
       "| GSM2580330_counts.txt | GSM2580330_counts.txt | ZIKV                  | \n",
       "\n",
       "\n"
      ],
      "text/plain": [
       "  samplename            filename              group\n",
       "1 GSM2580321_counts.txt GSM2580321_counts.txt mock \n",
       "2 GSM2580322_counts.txt GSM2580322_counts.txt ZIKV \n",
       "3 GSM2580325_counts.txt GSM2580325_counts.txt mock \n",
       "4 GSM2580326_counts.txt GSM2580326_counts.txt ZIKV \n",
       "5 GSM2580329_counts.txt GSM2580329_counts.txt mock \n",
       "6 GSM2580330_counts.txt GSM2580330_counts.txt ZIKV "
      ]
     },
     "metadata": {},
     "output_type": "display_data"
    }
   ],
   "source": [
    "samplesInfo <- as.data.frame(matrix(ncol=2, nrow=length(counts_files)))\n",
    "samplesInfo$samplename <- counts_files\n",
    "samplesInfo$filename <- counts_files\n",
    "samplesInfo$group <- c(\"mock\", \"ZIKV\", \"mock\", \"ZIKV\", \"mock\", \"ZIKV\")\n",
    "samplesInfo <- samplesInfo[,-c(1:2)] # remove blank columns\n",
    "samplesInfo"
   ]
  },
  {
   "cell_type": "markdown",
   "metadata": {},
   "source": [
    "#### Check the sample table and make any corrections above if necessary"
   ]
  },
  {
   "cell_type": "code",
   "execution_count": 5,
   "metadata": {
    "scrolled": true
   },
   "outputs": [
    {
     "data": {
      "text/html": [
       "<table>\n",
       "<thead><tr><th scope=col>samplename</th><th scope=col>filename</th><th scope=col>group</th></tr></thead>\n",
       "<tbody>\n",
       "\t<tr><td>GSM2580321_counts.txt</td><td>GSM2580321_counts.txt</td><td>mock                 </td></tr>\n",
       "\t<tr><td>GSM2580322_counts.txt</td><td>GSM2580322_counts.txt</td><td>ZIKV                 </td></tr>\n",
       "\t<tr><td>GSM2580325_counts.txt</td><td>GSM2580325_counts.txt</td><td>mock                 </td></tr>\n",
       "\t<tr><td>GSM2580326_counts.txt</td><td>GSM2580326_counts.txt</td><td>ZIKV                 </td></tr>\n",
       "\t<tr><td>GSM2580329_counts.txt</td><td>GSM2580329_counts.txt</td><td>mock                 </td></tr>\n",
       "\t<tr><td>GSM2580330_counts.txt</td><td>GSM2580330_counts.txt</td><td>ZIKV                 </td></tr>\n",
       "</tbody>\n",
       "</table>\n"
      ],
      "text/latex": [
       "\\begin{tabular}{r|lll}\n",
       " samplename & filename & group\\\\\n",
       "\\hline\n",
       "\t GSM2580321\\_counts.txt & GSM2580321\\_counts.txt & mock                   \\\\\n",
       "\t GSM2580322\\_counts.txt & GSM2580322\\_counts.txt & ZIKV                   \\\\\n",
       "\t GSM2580325\\_counts.txt & GSM2580325\\_counts.txt & mock                   \\\\\n",
       "\t GSM2580326\\_counts.txt & GSM2580326\\_counts.txt & ZIKV                   \\\\\n",
       "\t GSM2580329\\_counts.txt & GSM2580329\\_counts.txt & mock                   \\\\\n",
       "\t GSM2580330\\_counts.txt & GSM2580330\\_counts.txt & ZIKV                   \\\\\n",
       "\\end{tabular}\n"
      ],
      "text/markdown": [
       "\n",
       "samplename | filename | group | \n",
       "|---|---|---|---|---|---|\n",
       "| GSM2580321_counts.txt | GSM2580321_counts.txt | mock                  | \n",
       "| GSM2580322_counts.txt | GSM2580322_counts.txt | ZIKV                  | \n",
       "| GSM2580325_counts.txt | GSM2580325_counts.txt | mock                  | \n",
       "| GSM2580326_counts.txt | GSM2580326_counts.txt | ZIKV                  | \n",
       "| GSM2580329_counts.txt | GSM2580329_counts.txt | mock                  | \n",
       "| GSM2580330_counts.txt | GSM2580330_counts.txt | ZIKV                  | \n",
       "\n",
       "\n"
      ],
      "text/plain": [
       "  samplename            filename              group\n",
       "1 GSM2580321_counts.txt GSM2580321_counts.txt mock \n",
       "2 GSM2580322_counts.txt GSM2580322_counts.txt ZIKV \n",
       "3 GSM2580325_counts.txt GSM2580325_counts.txt mock \n",
       "4 GSM2580326_counts.txt GSM2580326_counts.txt ZIKV \n",
       "5 GSM2580329_counts.txt GSM2580329_counts.txt mock \n",
       "6 GSM2580330_counts.txt GSM2580330_counts.txt ZIKV "
      ]
     },
     "metadata": {},
     "output_type": "display_data"
    }
   ],
   "source": [
    "samplesInfo"
   ]
  },
  {
   "cell_type": "markdown",
   "metadata": {},
   "source": [
    "#### Load DESeq2 package\n",
    "```\n",
    "library(\"DESeq2\")\n",
    "```"
   ]
  },
  {
   "cell_type": "code",
   "execution_count": 6,
   "metadata": {},
   "outputs": [
    {
     "name": "stderr",
     "output_type": "stream",
     "text": [
      "Loading required package: S4Vectors\n",
      "Loading required package: stats4\n",
      "Loading required package: BiocGenerics\n",
      "Loading required package: parallel\n",
      "\n",
      "Attaching package: ‘BiocGenerics’\n",
      "\n",
      "The following objects are masked from ‘package:parallel’:\n",
      "\n",
      "    clusterApply, clusterApplyLB, clusterCall, clusterEvalQ,\n",
      "    clusterExport, clusterMap, parApply, parCapply, parLapply,\n",
      "    parLapplyLB, parRapply, parSapply, parSapplyLB\n",
      "\n",
      "The following objects are masked from ‘package:stats’:\n",
      "\n",
      "    IQR, mad, sd, var, xtabs\n",
      "\n",
      "The following objects are masked from ‘package:base’:\n",
      "\n",
      "    anyDuplicated, append, as.data.frame, basename, cbind, colMeans,\n",
      "    colnames, colSums, dirname, do.call, duplicated, eval, evalq,\n",
      "    Filter, Find, get, grep, grepl, intersect, is.unsorted, lapply,\n",
      "    lengths, Map, mapply, match, mget, order, paste, pmax, pmax.int,\n",
      "    pmin, pmin.int, Position, rank, rbind, Reduce, rowMeans, rownames,\n",
      "    rowSums, sapply, setdiff, sort, table, tapply, union, unique,\n",
      "    unsplit, which, which.max, which.min\n",
      "\n",
      "\n",
      "Attaching package: ‘S4Vectors’\n",
      "\n",
      "The following object is masked from ‘package:base’:\n",
      "\n",
      "    expand.grid\n",
      "\n",
      "Loading required package: IRanges\n",
      "Loading required package: GenomicRanges\n",
      "Loading required package: GenomeInfoDb\n",
      "Loading required package: SummarizedExperiment\n",
      "Loading required package: Biobase\n",
      "Welcome to Bioconductor\n",
      "\n",
      "    Vignettes contain introductory material; view with\n",
      "    'browseVignettes()'. To cite Bioconductor, see\n",
      "    'citation(\"Biobase\")', and for packages 'citation(\"pkgname\")'.\n",
      "\n",
      "Loading required package: DelayedArray\n",
      "Loading required package: matrixStats\n",
      "\n",
      "Attaching package: ‘matrixStats’\n",
      "\n",
      "The following objects are masked from ‘package:Biobase’:\n",
      "\n",
      "    anyMissing, rowMedians\n",
      "\n",
      "Loading required package: BiocParallel\n",
      "\n",
      "Attaching package: ‘DelayedArray’\n",
      "\n",
      "The following objects are masked from ‘package:matrixStats’:\n",
      "\n",
      "    colMaxs, colMins, colRanges, rowMaxs, rowMins, rowRanges\n",
      "\n",
      "The following objects are masked from ‘package:base’:\n",
      "\n",
      "    aperm, apply\n",
      "\n"
     ]
    }
   ],
   "source": [
    "library(\"DESeq2\")"
   ]
  },
  {
   "cell_type": "markdown",
   "metadata": {},
   "source": [
    "#### Import data into R\n",
    "```\n",
    "dds1 <- DESeqDataSetFromHTSeqCount(sampleTable = samplesInfo, \n",
    "                                           directory = dir_counts, \n",
    "                                           design = ~ group)\n",
    "```"
   ]
  },
  {
   "cell_type": "code",
   "execution_count": 7,
   "metadata": {},
   "outputs": [
    {
     "name": "stderr",
     "output_type": "stream",
     "text": [
      "Warning message in DESeqDataSet(se, design = design, ignoreRank):\n",
      "“some variables in design formula are characters, converting to factors”"
     ]
    }
   ],
   "source": [
    "dds1 <- DESeqDataSetFromHTSeqCount(sampleTable = samplesInfo, \n",
    "                                           directory = dir_counts, \n",
    "                                           design = ~ group)"
   ]
  },
  {
   "cell_type": "markdown",
   "metadata": {},
   "source": [
    "#### Check the data imported correctly\n",
    "```R\n",
    "colData(dds1)\n",
    "```"
   ]
  },
  {
   "cell_type": "code",
   "execution_count": 8,
   "metadata": {},
   "outputs": [
    {
     "data": {
      "text/plain": [
       "DataFrame with 6 rows and 1 column\n",
       "                         group\n",
       "                      <factor>\n",
       "GSM2580321_counts.txt     mock\n",
       "GSM2580322_counts.txt     ZIKV\n",
       "GSM2580325_counts.txt     mock\n",
       "GSM2580326_counts.txt     ZIKV\n",
       "GSM2580329_counts.txt     mock\n",
       "GSM2580330_counts.txt     ZIKV"
      ]
     },
     "metadata": {},
     "output_type": "display_data"
    }
   ],
   "source": [
    "colData(dds1)"
   ]
  },
  {
   "cell_type": "code",
   "execution_count": 9,
   "metadata": {},
   "outputs": [
    {
     "name": "stderr",
     "output_type": "stream",
     "text": [
      "estimating size factors\n",
      "estimating dispersions\n",
      "gene-wise dispersion estimates\n",
      "mean-dispersion relationship\n",
      "final dispersion estimates\n",
      "fitting model and testing\n"
     ]
    }
   ],
   "source": [
    "#### Run the main DESeq normalization and analysis function\n",
    "dds1_deseq <- DESeq(dds1)"
   ]
  },
  {
   "cell_type": "markdown",
   "metadata": {},
   "source": [
    "#### Run additional DESeq2 normalization functions\n",
    "```\n",
    "rld <- rlog(dds1_deseq)\n",
    "vsd <- varianceStabilizingTransformation(dds1_deseq)\n",
    "```"
   ]
  },
  {
   "cell_type": "code",
   "execution_count": 10,
   "metadata": {},
   "outputs": [],
   "source": [
    "rld <- rlog(dds1_deseq)"
   ]
  },
  {
   "cell_type": "code",
   "execution_count": 11,
   "metadata": {},
   "outputs": [],
   "source": [
    "vsd <- varianceStabilizingTransformation(dds1_deseq)"
   ]
  },
  {
   "cell_type": "markdown",
   "metadata": {},
   "source": [
    "#### Plot a dendrogram of sample transcriptomes\n",
    "```\n",
    "sampleDists <- dist(t(assay(vsd)))\n",
    "plot(hclust(sampleDists))\n",
    "```"
   ]
  },
  {
   "cell_type": "code",
   "execution_count": 13,
   "metadata": {},
   "outputs": [
    {
     "data": {
      "image/png": "[encoded data removed]",
      "text/plain": [
       "Plot with title “Cluster Dendrogram”"
      ]
     },
     "metadata": {},
     "output_type": "display_data"
    }
   ],
   "source": [
    "sampleDists <- dist(t(assay(vsd)))\n",
    "plot(hclust(sampleDists))"
   ]
  },
  {
   "cell_type": "markdown",
   "metadata": {},
   "source": [
    "#### Principal component plot\n",
    "```\n",
    "plotPCA(rld, intgroup=\"group\")\n",
    "```"
   ]
  },
  {
   "cell_type": "code",
   "execution_count": 14,
   "metadata": {},
   "outputs": [
    {
     "data": {},
     "metadata": {},
     "output_type": "display_data"
    },
    {
     "data": {
      "image/png": "[encoded data removed]",
      "text/plain": [
       "plot without title"
      ]
     },
     "metadata": {},
     "output_type": "display_data"
    }
   ],
   "source": [
    "plotPCA(rld, intgroup=\"group\")"
   ]
  },
  {
   "cell_type": "markdown",
   "metadata": {},
   "source": [
    "#### Exercises\n",
    "1) Repeat the hierarchical clustering using rlog-normalized counts instead of vsd.  "
   ]
  },
  {
   "cell_type": "code",
   "execution_count": 15,
   "metadata": {},
   "outputs": [
    {
     "data": {
      "image/png": "[encoded data removed]",
      "text/plain": [
       "Plot with title “Cluster Dendrogram”"
      ]
     },
     "metadata": {},
     "output_type": "display_data"
    }
   ],
   "source": [
    "sampleDists_rld <- dist(t(assay(rld)))\n",
    "plot(hclust(sampleDists_rld))"
   ]
  },
  {
   "cell_type": "markdown",
   "metadata": {},
   "source": [
    "2) Examine the normalized counts using `head(assay(vsd))` and `head(assay(rld))`. Now find the corresponding raw counts and plot raw vs normalized counts for the first 6 genes of the first sample. HINT: It is possible to extract elements from `dds1`, including raw counts. "
   ]
  },
  {
   "cell_type": "code",
   "execution_count": 16,
   "metadata": {},
   "outputs": [
    {
     "data": {
      "text/html": [
       "<table>\n",
       "<thead><tr><th></th><th scope=col>GSM2580321_counts.txt</th><th scope=col>GSM2580322_counts.txt</th><th scope=col>GSM2580325_counts.txt</th><th scope=col>GSM2580326_counts.txt</th><th scope=col>GSM2580329_counts.txt</th><th scope=col>GSM2580330_counts.txt</th></tr></thead>\n",
       "<tbody>\n",
       "\t<tr><th scope=row>ENSG00000000003</th><td>10.581931</td><td>10.351824</td><td>10.554267</td><td>10.311656</td><td>10.431449</td><td>10.199154</td></tr>\n",
       "\t<tr><th scope=row>ENSG00000000005</th><td> 7.543580</td><td> 7.462377</td><td> 7.542997</td><td> 7.528531</td><td> 7.569871</td><td> 7.569774</td></tr>\n",
       "\t<tr><th scope=row>ENSG00000000419</th><td>10.112490</td><td>10.064515</td><td>10.172312</td><td>10.165250</td><td>10.005931</td><td>10.059103</td></tr>\n",
       "\t<tr><th scope=row>ENSG00000000457</th><td> 9.573415</td><td> 9.568214</td><td> 9.604097</td><td> 9.542533</td><td> 9.608825</td><td> 9.666376</td></tr>\n",
       "\t<tr><th scope=row>ENSG00000000460</th><td> 9.527343</td><td> 9.437982</td><td> 9.518266</td><td> 9.355537</td><td> 9.416549</td><td> 9.445560</td></tr>\n",
       "\t<tr><th scope=row>ENSG00000000938</th><td> 7.517555</td><td> 7.600079</td><td> 7.511521</td><td> 7.766682</td><td> 7.432385</td><td> 7.817378</td></tr>\n",
       "</tbody>\n",
       "</table>\n"
      ],
      "text/latex": [
       "\\begin{tabular}{r|llllll}\n",
       "  & GSM2580321\\_counts.txt & GSM2580322\\_counts.txt & GSM2580325\\_counts.txt & GSM2580326\\_counts.txt & GSM2580329\\_counts.txt & GSM2580330\\_counts.txt\\\\\n",
       "\\hline\n",
       "\tENSG00000000003 & 10.581931 & 10.351824 & 10.554267 & 10.311656 & 10.431449 & 10.199154\\\\\n",
       "\tENSG00000000005 &  7.543580 &  7.462377 &  7.542997 &  7.528531 &  7.569871 &  7.569774\\\\\n",
       "\tENSG00000000419 & 10.112490 & 10.064515 & 10.172312 & 10.165250 & 10.005931 & 10.059103\\\\\n",
       "\tENSG00000000457 &  9.573415 &  9.568214 &  9.604097 &  9.542533 &  9.608825 &  9.666376\\\\\n",
       "\tENSG00000000460 &  9.527343 &  9.437982 &  9.518266 &  9.355537 &  9.416549 &  9.445560\\\\\n",
       "\tENSG00000000938 &  7.517555 &  7.600079 &  7.511521 &  7.766682 &  7.432385 &  7.817378\\\\\n",
       "\\end{tabular}\n"
      ],
      "text/markdown": [
       "\n",
       "| <!--/--> | GSM2580321_counts.txt | GSM2580322_counts.txt | GSM2580325_counts.txt | GSM2580326_counts.txt | GSM2580329_counts.txt | GSM2580330_counts.txt | \n",
       "|---|---|---|---|---|---|\n",
       "| ENSG00000000003 | 10.581931 | 10.351824 | 10.554267 | 10.311656 | 10.431449 | 10.199154 | \n",
       "| ENSG00000000005 |  7.543580 |  7.462377 |  7.542997 |  7.528531 |  7.569871 |  7.569774 | \n",
       "| ENSG00000000419 | 10.112490 | 10.064515 | 10.172312 | 10.165250 | 10.005931 | 10.059103 | \n",
       "| ENSG00000000457 |  9.573415 |  9.568214 |  9.604097 |  9.542533 |  9.608825 |  9.666376 | \n",
       "| ENSG00000000460 |  9.527343 |  9.437982 |  9.518266 |  9.355537 |  9.416549 |  9.445560 | \n",
       "| ENSG00000000938 |  7.517555 |  7.600079 |  7.511521 |  7.766682 |  7.432385 |  7.817378 | \n",
       "\n",
       "\n"
      ],
      "text/plain": [
       "                GSM2580321_counts.txt GSM2580322_counts.txt\n",
       "ENSG00000000003 10.581931             10.351824            \n",
       "ENSG00000000005  7.543580              7.462377            \n",
       "ENSG00000000419 10.112490             10.064515            \n",
       "ENSG00000000457  9.573415              9.568214            \n",
       "ENSG00000000460  9.527343              9.437982            \n",
       "ENSG00000000938  7.517555              7.600079            \n",
       "                GSM2580325_counts.txt GSM2580326_counts.txt\n",
       "ENSG00000000003 10.554267             10.311656            \n",
       "ENSG00000000005  7.542997              7.528531            \n",
       "ENSG00000000419 10.172312             10.165250            \n",
       "ENSG00000000457  9.604097              9.542533            \n",
       "ENSG00000000460  9.518266              9.355537            \n",
       "ENSG00000000938  7.511521              7.766682            \n",
       "                GSM2580329_counts.txt GSM2580330_counts.txt\n",
       "ENSG00000000003 10.431449             10.199154            \n",
       "ENSG00000000005  7.569871              7.569774            \n",
       "ENSG00000000419 10.005931             10.059103            \n",
       "ENSG00000000457  9.608825              9.666376            \n",
       "ENSG00000000460  9.416549              9.445560            \n",
       "ENSG00000000938  7.432385              7.817378            "
      ]
     },
     "metadata": {},
     "output_type": "display_data"
    }
   ],
   "source": [
    "head(assay(vsd))"
   ]
  },
  {
   "cell_type": "code",
   "execution_count": 17,
   "metadata": {},
   "outputs": [
    {
     "data": {
      "text/html": [
       "<table>\n",
       "<thead><tr><th></th><th scope=col>GSM2580321_counts.txt</th><th scope=col>GSM2580322_counts.txt</th><th scope=col>GSM2580325_counts.txt</th><th scope=col>GSM2580326_counts.txt</th><th scope=col>GSM2580329_counts.txt</th><th scope=col>GSM2580330_counts.txt</th></tr></thead>\n",
       "<tbody>\n",
       "\t<tr><th scope=row>ENSG00000000003</th><td>1138</td><td>880 </td><td>930 </td><td>833 </td><td>2113</td><td>919 </td></tr>\n",
       "\t<tr><th scope=row>ENSG00000000005</th><td>   6</td><td>  3 </td><td>  5 </td><td>  5 </td><td>  15</td><td>  8 </td></tr>\n",
       "\t<tr><th scope=row>ENSG00000000419</th><td> 754</td><td>680 </td><td>666 </td><td>731 </td><td>1443</td><td>809 </td></tr>\n",
       "\t<tr><th scope=row>ENSG00000000457</th><td> 447</td><td>419 </td><td>386 </td><td>400 </td><td> 979</td><td>554 </td></tr>\n",
       "\t<tr><th scope=row>ENSG00000000460</th><td> 426</td><td>365 </td><td>353 </td><td>327 </td><td> 799</td><td>440 </td></tr>\n",
       "\t<tr><th scope=row>ENSG00000000938</th><td>   5</td><td>  8 </td><td>  4 </td><td> 17 </td><td>   5</td><td> 25 </td></tr>\n",
       "</tbody>\n",
       "</table>\n"
      ],
      "text/latex": [
       "\\begin{tabular}{r|llllll}\n",
       "  & GSM2580321\\_counts.txt & GSM2580322\\_counts.txt & GSM2580325\\_counts.txt & GSM2580326\\_counts.txt & GSM2580329\\_counts.txt & GSM2580330\\_counts.txt\\\\\n",
       "\\hline\n",
       "\tENSG00000000003 & 1138 & 880  & 930  & 833  & 2113 & 919 \\\\\n",
       "\tENSG00000000005 &    6 &   3  &   5  &   5  &   15 &   8 \\\\\n",
       "\tENSG00000000419 &  754 & 680  & 666  & 731  & 1443 & 809 \\\\\n",
       "\tENSG00000000457 &  447 & 419  & 386  & 400  &  979 & 554 \\\\\n",
       "\tENSG00000000460 &  426 & 365  & 353  & 327  &  799 & 440 \\\\\n",
       "\tENSG00000000938 &    5 &   8  &   4  &  17  &    5 &  25 \\\\\n",
       "\\end{tabular}\n"
      ],
      "text/markdown": [
       "\n",
       "| <!--/--> | GSM2580321_counts.txt | GSM2580322_counts.txt | GSM2580325_counts.txt | GSM2580326_counts.txt | GSM2580329_counts.txt | GSM2580330_counts.txt | \n",
       "|---|---|---|---|---|---|\n",
       "| ENSG00000000003 | 1138 | 880  | 930  | 833  | 2113 | 919  | \n",
       "| ENSG00000000005 |    6 |   3  |   5  |   5  |   15 |   8  | \n",
       "| ENSG00000000419 |  754 | 680  | 666  | 731  | 1443 | 809  | \n",
       "| ENSG00000000457 |  447 | 419  | 386  | 400  |  979 | 554  | \n",
       "| ENSG00000000460 |  426 | 365  | 353  | 327  |  799 | 440  | \n",
       "| ENSG00000000938 |    5 |   8  |   4  |  17  |    5 |  25  | \n",
       "\n",
       "\n"
      ],
      "text/plain": [
       "                GSM2580321_counts.txt GSM2580322_counts.txt\n",
       "ENSG00000000003 1138                  880                  \n",
       "ENSG00000000005    6                    3                  \n",
       "ENSG00000000419  754                  680                  \n",
       "ENSG00000000457  447                  419                  \n",
       "ENSG00000000460  426                  365                  \n",
       "ENSG00000000938    5                    8                  \n",
       "                GSM2580325_counts.txt GSM2580326_counts.txt\n",
       "ENSG00000000003 930                   833                  \n",
       "ENSG00000000005   5                     5                  \n",
       "ENSG00000000419 666                   731                  \n",
       "ENSG00000000457 386                   400                  \n",
       "ENSG00000000460 353                   327                  \n",
       "ENSG00000000938   4                    17                  \n",
       "                GSM2580329_counts.txt GSM2580330_counts.txt\n",
       "ENSG00000000003 2113                  919                  \n",
       "ENSG00000000005   15                    8                  \n",
       "ENSG00000000419 1443                  809                  \n",
       "ENSG00000000457  979                  554                  \n",
       "ENSG00000000460  799                  440                  \n",
       "ENSG00000000938    5                   25                  "
      ]
     },
     "metadata": {},
     "output_type": "display_data"
    }
   ],
   "source": [
    "head(assay(dds1))"
   ]
  },
  {
   "cell_type": "code",
   "execution_count": 18,
   "metadata": {},
   "outputs": [],
   "source": [
    "raw_counts <- assay(dds1)\n",
    "vsd_counts <- assay(vsd)\n",
    "rld_counts <- assay(rld)"
   ]
  },
  {
   "cell_type": "code",
   "execution_count": 19,
   "metadata": {},
   "outputs": [
    {
     "data": {
      "text/html": [
       "<dl class=dl-horizontal>\n",
       "\t<dt>ENSG00000000003</dt>\n",
       "\t\t<dd>1138</dd>\n",
       "\t<dt>ENSG00000000005</dt>\n",
       "\t\t<dd>6</dd>\n",
       "\t<dt>ENSG00000000419</dt>\n",
       "\t\t<dd>754</dd>\n",
       "\t<dt>ENSG00000000457</dt>\n",
       "\t\t<dd>447</dd>\n",
       "\t<dt>ENSG00000000460</dt>\n",
       "\t\t<dd>426</dd>\n",
       "\t<dt>ENSG00000000938</dt>\n",
       "\t\t<dd>5</dd>\n",
       "</dl>\n"
      ],
      "text/latex": [
       "\\begin{description*}\n",
       "\\item[ENSG00000000003] 1138\n",
       "\\item[ENSG00000000005] 6\n",
       "\\item[ENSG00000000419] 754\n",
       "\\item[ENSG00000000457] 447\n",
       "\\item[ENSG00000000460] 426\n",
       "\\item[ENSG00000000938] 5\n",
       "\\end{description*}\n"
      ],
      "text/markdown": [
       "ENSG00000000003\n",
       ":   1138ENSG00000000005\n",
       ":   6ENSG00000000419\n",
       ":   754ENSG00000000457\n",
       ":   447ENSG00000000460\n",
       ":   426ENSG00000000938\n",
       ":   5\n",
       "\n"
      ],
      "text/plain": [
       "ENSG00000000003 ENSG00000000005 ENSG00000000419 ENSG00000000457 ENSG00000000460 \n",
       "           1138               6             754             447             426 \n",
       "ENSG00000000938 \n",
       "              5 "
      ]
     },
     "metadata": {},
     "output_type": "display_data"
    },
    {
     "data": {
      "text/html": [
       "<dl class=dl-horizontal>\n",
       "\t<dt>ENSG00000000003</dt>\n",
       "\t\t<dd>10.5819308184928</dd>\n",
       "\t<dt>ENSG00000000005</dt>\n",
       "\t\t<dd>7.54357979304255</dd>\n",
       "\t<dt>ENSG00000000419</dt>\n",
       "\t\t<dd>10.1124902887354</dd>\n",
       "\t<dt>ENSG00000000457</dt>\n",
       "\t\t<dd>9.57341487414933</dd>\n",
       "\t<dt>ENSG00000000460</dt>\n",
       "\t\t<dd>9.52734303041021</dd>\n",
       "\t<dt>ENSG00000000938</dt>\n",
       "\t\t<dd>7.5175545596652</dd>\n",
       "</dl>\n"
      ],
      "text/latex": [
       "\\begin{description*}\n",
       "\\item[ENSG00000000003] 10.5819308184928\n",
       "\\item[ENSG00000000005] 7.54357979304255\n",
       "\\item[ENSG00000000419] 10.1124902887354\n",
       "\\item[ENSG00000000457] 9.57341487414933\n",
       "\\item[ENSG00000000460] 9.52734303041021\n",
       "\\item[ENSG00000000938] 7.5175545596652\n",
       "\\end{description*}\n"
      ],
      "text/markdown": [
       "ENSG00000000003\n",
       ":   10.5819308184928ENSG00000000005\n",
       ":   7.54357979304255ENSG00000000419\n",
       ":   10.1124902887354ENSG00000000457\n",
       ":   9.57341487414933ENSG00000000460\n",
       ":   9.52734303041021ENSG00000000938\n",
       ":   7.5175545596652\n",
       "\n"
      ],
      "text/plain": [
       "ENSG00000000003 ENSG00000000005 ENSG00000000419 ENSG00000000457 ENSG00000000460 \n",
       "      10.581931        7.543580       10.112490        9.573415        9.527343 \n",
       "ENSG00000000938 \n",
       "       7.517555 "
      ]
     },
     "metadata": {},
     "output_type": "display_data"
    },
    {
     "data": {
      "text/html": [
       "<dl class=dl-horizontal>\n",
       "\t<dt>ENSG00000000003</dt>\n",
       "\t\t<dd>10.1963916600768</dd>\n",
       "\t<dt>ENSG00000000005</dt>\n",
       "\t\t<dd>2.67651148633466</dd>\n",
       "\t<dt>ENSG00000000419</dt>\n",
       "\t\t<dd>9.67835565074037</dd>\n",
       "\t<dt>ENSG00000000457</dt>\n",
       "\t\t<dd>8.94843115283256</dd>\n",
       "\t<dt>ENSG00000000460</dt>\n",
       "\t\t<dd>8.80445823237573</dd>\n",
       "\t<dt>ENSG00000000938</dt>\n",
       "\t\t<dd>3.40694131724462</dd>\n",
       "</dl>\n"
      ],
      "text/latex": [
       "\\begin{description*}\n",
       "\\item[ENSG00000000003] 10.1963916600768\n",
       "\\item[ENSG00000000005] 2.67651148633466\n",
       "\\item[ENSG00000000419] 9.67835565074037\n",
       "\\item[ENSG00000000457] 8.94843115283256\n",
       "\\item[ENSG00000000460] 8.80445823237573\n",
       "\\item[ENSG00000000938] 3.40694131724462\n",
       "\\end{description*}\n"
      ],
      "text/markdown": [
       "ENSG00000000003\n",
       ":   10.1963916600768ENSG00000000005\n",
       ":   2.67651148633466ENSG00000000419\n",
       ":   9.67835565074037ENSG00000000457\n",
       ":   8.94843115283256ENSG00000000460\n",
       ":   8.80445823237573ENSG00000000938\n",
       ":   3.40694131724462\n",
       "\n"
      ],
      "text/plain": [
       "ENSG00000000003 ENSG00000000005 ENSG00000000419 ENSG00000000457 ENSG00000000460 \n",
       "      10.196392        2.676511        9.678356        8.948431        8.804458 \n",
       "ENSG00000000938 \n",
       "       3.406941 "
      ]
     },
     "metadata": {},
     "output_type": "display_data"
    }
   ],
   "source": [
    "raw_counts.sub <-(raw_counts[1:6,\"GSM2580321_counts.txt\"])\n",
    "raw_counts.sub\n",
    "vsd_counts.sub <-(vsd_counts[1:6,\"GSM2580321_counts.txt\"])\n",
    "vsd_counts.sub\n",
    "rld_counts.sub <-(rld_counts[1:6,\"GSM2580321_counts.txt\"])\n",
    "rld_counts.sub"
   ]
  },
  {
   "cell_type": "code",
   "execution_count": 20,
   "metadata": {},
   "outputs": [
    {
     "data": {
      "image/png": "[encoded data removed]",
      "text/plain": [
       "plot without title"
      ]
     },
     "metadata": {},
     "output_type": "display_data"
    }
   ],
   "source": [
    "plot(raw_counts.sub, vsd_counts.sub, pch=16)"
   ]
  }
 ],
 "metadata": {
  "kernelspec": {
   "display_name": "R",
   "language": "R",
   "name": "ir"
  },
  "language_info": {
   "codemirror_mode": "r",
   "file_extension": ".r",
   "mimetype": "text/x-r-source",
   "name": "R",
   "pygments_lexer": "r",
   "version": "3.5.1"
  }
 },
 "nbformat": 4,
 "nbformat_minor": 2
}
