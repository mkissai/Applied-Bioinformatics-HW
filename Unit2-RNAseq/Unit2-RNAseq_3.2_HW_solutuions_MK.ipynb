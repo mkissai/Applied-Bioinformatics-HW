{
 "cells": [
  {
   "cell_type": "markdown",
   "metadata": {},
   "source": [
    "1) Use awk to check the number of columns in the SAM file for all rows and print only the unique column counts. HINT: revisit Unit 1"
   ]
  },
  {
   "cell_type": "code",
   "execution_count": 7,
   "metadata": {
    "scrolled": false
   },
   "outputs": [
    {
     "name": "stdout",
     "output_type": "stream",
     "text": [
      " 810879 12\n",
      "  22859 13\n",
      "13316252 20\n",
      "9549841 21\n",
      " 443098 22\n",
      "    195 3\n",
      "      1 5\n"
     ]
    }
   ],
   "source": [
    "%%bash\n",
    "cd /home/mkissai/hisat_out\n",
    "awk 'BEGIN{FS=\"\\t\"}{print NF}' SRR5454079.sam | sort | uniq -c"
   ]
  },
  {
   "cell_type": "markdown",
   "metadata": {},
   "source": [
    "2) Count how many reads from SRR5454079 mapped to chromosome 20 with 2 soft-clipped bases at the start of the read. HINT: Consult the SAM documentation on CIGAR strings."
   ]
  },
  {
   "cell_type": "code",
   "execution_count": 14,
   "metadata": {},
   "outputs": [
    {
     "name": "stdout",
     "output_type": "stream",
     "text": [
      "SRR5454079.1075\t0\t20\t35654650\t60\t2S48M\t*\t0\t0\tCAGGGGCACAGGAGGCACAGGAGGCAATGTAGGTACTGGAGGAGGAACTG\tAAFFFJJJJFJJJJJJJFJJJJJJJJJJJJJJJJJJJJJJJJFJJJJJJJ\tAS:i:-2\tXN:i:0\tXM:i:0\tXO:i:0\tXG:i:0\tNM:i:0\tMD:Z:48\tYT:Z:UU\tNH:i:1\n",
      "SRR5454079.3577\t0\t20\t47227202\t60\t2S48M\t*\t0\t0\tTGCCTAAGTTGTGTTTCATTTCGGAGAGCTCTTGCTGGTGCAGCCACTGG\tAAFFFJJJJJJJJJJJJJJJJJJJJJJJJJJJJJJJJJJJJJJJJJJJJJ\tAS:i:-2\tXN:i:0\tXM:i:0\tXO:i:0\tXG:i:0\tNM:i:0\tMD:Z:48\tYT:Z:UU\tNH:i:1\n",
      "SRR5454079.5275\t0\t20\t35739146\t60\t2S48M\t*\t0\t0\tCGCATGGAAGGCTATAAAAAAATTTAGATGGGTATGTGTTTAACCACTTT\tAAFFFJJJJJJJJJJJJJJJJJJJJJJJJJJJJJJJJJJJJJJJJJJJJJ\tAS:i:-2\tXN:i:0\tXM:i:0\tXO:i:0\tXG:i:0\tNM:i:0\tMD:Z:48\tYT:Z:UU\tNH:i:1\n",
      "SRR5454079.5910\t0\t20\t29299559\t60\t2S47M\t*\t0\t0\tCCCCAATGGATCCTCGTTAAAGGATTTAAAGTGGACTCATTCCAATTAC\tAAFFFJJJJJJJJJJJJJJJJJJJJJJJJJJJJJJJJJJJJJJJJJJJJ\tAS:i:-2\tZS:i:-4\tXN:i:0\tXM:i:0\tXO:i:0\tXG:i:0\tNM:i:0\tMD:Z:47\tYT:Z:UU\tNH:i:1\n",
      "SRR5454079.7624\t0\t20\t29299592\t1\t2S48M\t*\t0\t0\tGCCTCATTCCAATTACAGGGCCTCGAAAGAGTCCTGTATTGTTATTTTTC\tAAFFFJJJJJJJJJJJJJJJJJJJJJJJJJJJJJJJJJJJJJJJJJJJJJ\tAS:i:-2\tZS:i:-2\tXN:i:0\tXM:i:0\tXO:i:0\tXG:i:0\tNM:i:0\tMD:Z:48\tYT:Z:UU\tNH:i:2\n",
      "SRR5454079.7624\t256\t20\t30487409\t1\t2S48M\t*\t0\t0\tGCCTCATTCCAATTACAGGGCCTCGAAAGAGTCCTGTATTGTTATTTTTC\tAAFFFJJJJJJJJJJJJJJJJJJJJJJJJJJJJJJJJJJJJJJJJJJJJJ\tAS:i:-2\tZS:i:-2\tXN:i:0\tXM:i:0\tXO:i:0\tXG:i:0\tNM:i:0\tMD:Z:48\tYT:Z:UU\tNH:i:2\n",
      "SRR5454079.11047\t16\t20\t37944034\t60\t48M2S\t*\t0\t0\tGAAGCCCACGGACGAAGGCACCTACGAGTGCCGCGTCATCGACTTCAGAG\tJJJJJJJJJJJJJJJJJJJJJJJJJJJJJJJJJJJJJJJJJJJJJFFFAA\tAS:i:-4\tXN:i:0\tXM:i:0\tXO:i:0\tXG:i:0\tNM:i:0\tMD:Z:48\tYT:Z:UU\tNH:i:1\n",
      "SRR5454079.11659\t0\t20\t29299570\t60\t2S47M\t*\t0\t0\tCTTCGTTAAAGGATTTAAAGTGGACTCATTCCAATTACAGGGCCTCGAA\tAAFFFFJJJJJJJJJJJJJJJJJJJJJJJJJJJJJJJJJJJJJJJJJJJ\tAS:i:-2\tXN:i:0\tXM:i:0\tXO:i:0\tXG:i:0\tNM:i:0\tMD:Z:47\tYT:Z:UU\tNH:i:1\n",
      "SRR5454079.13281\t16\t20\t41028999\t60\t48M2S\t*\t0\t0\tGGCCGGTTCGCCGTCTGCGTCTCCCCCACGCCGCCTCGCCTGCCGCCGGC\tJJJJJJJJJJJJJJJJJJJJJJJJJJJAJJJJJJJJJJJJJJJJJFFFAA\tAS:i:-4\tXN:i:0\tXM:i:0\tXO:i:0\tXG:i:0\tNM:i:0\tMD:Z:48\tYT:Z:UU\tNH:i:1\n",
      "SRR5454079.14661\t0\t20\t29299546\t60\t2S48M\t*\t0\t0\tGCCCAGACTTGCCCTCCAATGGATCCTCGTTAAAGGATTTAAAGTGGACT\tAAFFFJJJJJJJJJJJJJJJJJJJJJJJJJJJJJJJJJJJJJJJJJJJJJ\tAS:i:-2\tZS:i:-4\tXN:i:0\tXM:i:0\tXO:i:0\tXG:i:0\tNM:i:0\tMD:Z:48\tYT:Z:UU\tNH:i:1\n"
     ]
    }
   ],
   "source": [
    "%%bash\n",
    "cd /home/mkissai/hisat_out\n",
    "grep '2S' SRR5454079.sam | awk '{if ($3 == 20) {print}}' | head"
   ]
  },
  {
   "cell_type": "code",
   "execution_count": 15,
   "metadata": {},
   "outputs": [
    {
     "name": "stdout",
     "output_type": "stream",
     "text": [
      "9814\n"
     ]
    }
   ],
   "source": [
    "%%bash\n",
    "cd /home/mkissai/hisat_out\n",
    "grep '2S' SRR5454079.sam | awk '{if ($3 == 20) {print}}' | wc -l"
   ]
  },
  {
   "cell_type": "markdown",
   "metadata": {},
   "source": [
    "3) Using the human transcriptome annotations by Ensembl, calculate counts per gene in the bam file for SRR5454079 and print the first 10 lines (use -s reverse when running htseq-count)"
   ]
  },
  {
   "cell_type": "markdown",
   "metadata": {},
   "source": [
    "I used the following code to calculate counts per gene in the bam file:\n",
    "\n",
    "1) downloaded the human transcriptome from Ensembl\n",
    "\n",
    "``curl -O ftp://ftp.ensembl.org/pub/release-94/gtf/homo_sapiens/Homo_sapiens.GRCh38.94.gtf.gz``\n",
    "\n",
    "2) used the following code to run htseq-count\n",
    "\n",
    "`` htseq-count -f bam -s reverse ./hisat_out/SRR54540790_sorted.bam Homo_sapiens.GRCh38.94.gtf.gz > SRR5454079_counts.txt``\n"
   ]
  },
  {
   "cell_type": "code",
   "execution_count": 13,
   "metadata": {},
   "outputs": [
    {
     "name": "stdout",
     "output_type": "stream",
     "text": [
      "ENSG00000000003\t433\n",
      "ENSG00000000005\t1\n",
      "ENSG00000000419\t247\n",
      "ENSG00000000457\t194\n",
      "ENSG00000000460\t168\n",
      "ENSG00000000938\t5\n",
      "ENSG00000000971\t1\n",
      "ENSG00000001036\t224\n",
      "ENSG00000001084\t427\n",
      "ENSG00000001167\t1040\n"
     ]
    }
   ],
   "source": [
    "%%bash\n",
    "cd /home/mkissai\n",
    "head -10 SRR5454079_counts.txt"
   ]
  }
 ],
 "metadata": {
  "kernelspec": {
   "display_name": "Python 3",
   "language": "python",
   "name": "python3"
  },
  "language_info": {
   "codemirror_mode": {
    "name": "ipython",
    "version": 3
   },
   "file_extension": ".py",
   "mimetype": "text/x-python",
   "name": "python",
   "nbconvert_exporter": "python",
   "pygments_lexer": "ipython3",
   "version": "3.6.5"
  }
 },
 "nbformat": 4,
 "nbformat_minor": 2
}
