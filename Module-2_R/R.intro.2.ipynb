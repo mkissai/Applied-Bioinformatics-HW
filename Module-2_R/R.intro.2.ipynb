{
 "cells": [
  {
   "cell_type": "markdown",
   "metadata": {},
   "source": [
    "# R intro\n",
    "Huitian Diao\n",
    "* Reference: \n",
    "* Quick-R by DataCamp\n",
    "* R for Beginners by emmanuel Paradis"
   ]
  },
  {
   "cell_type": "markdown",
   "metadata": {},
   "source": [
    "## Data operations"
   ]
  },
  {
   "cell_type": "markdown",
   "metadata": {},
   "source": [
    "### 1. Operators"
   ]
  },
  {
   "cell_type": "markdown",
   "metadata": {},
   "source": [
    "#### 1.1 Arithemetic operators\n",
    "```\n",
    "x+y\n",
    "x-y\n",
    "x*y\n",
    "x/y\n",
    "x**y # exponentiation\n",
    "x%%y # modulus\n",
    "x%/%y # integer division\n",
    "```"
   ]
  },
  {
   "cell_type": "code",
   "execution_count": 7,
   "metadata": {},
   "outputs": [
    {
     "data": {
      "text/html": [
       "8"
      ],
      "text/latex": [
       "8"
      ],
      "text/markdown": [
       "8"
      ],
      "text/plain": [
       "[1] 8"
      ]
     },
     "metadata": {},
     "output_type": "display_data"
    },
    {
     "data": {
      "text/html": [
       "2"
      ],
      "text/latex": [
       "2"
      ],
      "text/markdown": [
       "2"
      ],
      "text/plain": [
       "[1] 2"
      ]
     },
     "metadata": {},
     "output_type": "display_data"
    },
    {
     "data": {
      "text/html": [
       "243"
      ],
      "text/latex": [
       "243"
      ],
      "text/markdown": [
       "243"
      ],
      "text/plain": [
       "[1] 243"
      ]
     },
     "metadata": {},
     "output_type": "display_data"
    },
    {
     "data": {
      "text/html": [
       "0"
      ],
      "text/latex": [
       "0"
      ],
      "text/markdown": [
       "0"
      ],
      "text/plain": [
       "[1] 0"
      ]
     },
     "metadata": {},
     "output_type": "display_data"
    },
    {
     "data": {
      "text/html": [
       "FALSE"
      ],
      "text/latex": [
       "FALSE"
      ],
      "text/markdown": [
       "FALSE"
      ],
      "text/plain": [
       "[1] FALSE"
      ]
     },
     "metadata": {},
     "output_type": "display_data"
    },
    {
     "data": {
      "text/html": [
       "FALSE"
      ],
      "text/latex": [
       "FALSE"
      ],
      "text/markdown": [
       "FALSE"
      ],
      "text/plain": [
       "[1] FALSE"
      ]
     },
     "metadata": {},
     "output_type": "display_data"
    },
    {
     "data": {
      "text/html": [
       "-2"
      ],
      "text/latex": [
       "-2"
      ],
      "text/markdown": [
       "-2"
      ],
      "text/plain": [
       "[1] -2"
      ]
     },
     "metadata": {},
     "output_type": "display_data"
    },
    {
     "data": {
      "text/html": [
       "15"
      ],
      "text/latex": [
       "15"
      ],
      "text/markdown": [
       "15"
      ],
      "text/plain": [
       "[1] 15"
      ]
     },
     "metadata": {},
     "output_type": "display_data"
    },
    {
     "data": {
      "text/html": [
       "0.6"
      ],
      "text/latex": [
       "0.6"
      ],
      "text/markdown": [
       "0.6"
      ],
      "text/plain": [
       "[1] 0.6"
      ]
     },
     "metadata": {},
     "output_type": "display_data"
    }
   ],
   "source": [
    "# Try the calculations!\n",
    "x <- 3\n",
    "y <- 5\n",
    "z <- x + y\n",
    "z\n",
    "a <- y%%x\n",
    "a\n",
    "b <- x**y\n",
    "b\n",
    "c <- x%/%y \n",
    "c\n",
    "d <- x > y\n",
    "d\n",
    "e <- x == y\n",
    "e\n",
    "f <- x-y\n",
    "f\n",
    "g <- x*y\n",
    "g\n",
    "h <- x/y\n",
    "h"
   ]
  },
  {
   "cell_type": "markdown",
   "metadata": {},
   "source": [
    "#### 1.2 Logical operators\n",
    "##### Comparisons:\n",
    "```\n",
    "<\n",
    ">\n",
    "<=\n",
    ">=\n",
    "==\n",
    "!=\n",
    "```"
   ]
  },
  {
   "cell_type": "code",
   "execution_count": 6,
   "metadata": {},
   "outputs": [
    {
     "data": {
      "text/html": [
       "FALSE"
      ],
      "text/latex": [
       "FALSE"
      ],
      "text/markdown": [
       "FALSE"
      ],
      "text/plain": [
       "[1] FALSE"
      ]
     },
     "metadata": {},
     "output_type": "display_data"
    },
    {
     "data": {
      "text/html": [
       "TRUE"
      ],
      "text/latex": [
       "TRUE"
      ],
      "text/markdown": [
       "TRUE"
      ],
      "text/plain": [
       "[1] TRUE"
      ]
     },
     "metadata": {},
     "output_type": "display_data"
    },
    {
     "data": {
      "text/html": [
       "TRUE"
      ],
      "text/latex": [
       "TRUE"
      ],
      "text/markdown": [
       "TRUE"
      ],
      "text/plain": [
       "[1] TRUE"
      ]
     },
     "metadata": {},
     "output_type": "display_data"
    }
   ],
   "source": [
    "# Try comparisons!\n",
    "x <- 5\n",
    "y <- 11\n",
    "z <- x > y # x is greater than y\n",
    "z\n",
    "i <- x <= y #x is less than or equal to y\n",
    "i\n",
    "j <- x != y #x is not equal to y\n",
    "j"
   ]
  },
  {
   "cell_type": "markdown",
   "metadata": {},
   "source": [
    "##### Logical operations:\n",
    "```\n",
    "!\n",
    "|\n",
    "&\n",
    "isTRUE()\n",
    "```"
   ]
  },
  {
   "cell_type": "code",
   "execution_count": 18,
   "metadata": {},
   "outputs": [
    {
     "data": {
      "text/html": [
       "FALSE"
      ],
      "text/latex": [
       "FALSE"
      ],
      "text/markdown": [
       "FALSE"
      ],
      "text/plain": [
       "[1] FALSE"
      ]
     },
     "metadata": {},
     "output_type": "display_data"
    }
   ],
   "source": [
    "# Try logical operators!\n",
    "like.chocolate <- TRUE\n",
    "like.spam <- FALSE\n",
    "like.spam &like.chocolate"
   ]
  },
  {
   "cell_type": "markdown",
   "metadata": {},
   "source": [
    "#### 1.3 Built-in functions"
   ]
  },
  {
   "cell_type": "markdown",
   "metadata": {},
   "source": [
    "##### Math built-in functions"
   ]
  },
  {
   "cell_type": "code",
   "execution_count": 15,
   "metadata": {},
   "outputs": [
    {
     "data": {
      "text/html": [
       "16"
      ],
      "text/latex": [
       "16"
      ],
      "text/markdown": [
       "16"
      ],
      "text/plain": [
       "[1] 16"
      ]
     },
     "metadata": {},
     "output_type": "display_data"
    },
    {
     "data": {
      "text/html": [
       "4"
      ],
      "text/latex": [
       "4"
      ],
      "text/markdown": [
       "4"
      ],
      "text/plain": [
       "[1] 4"
      ]
     },
     "metadata": {},
     "output_type": "display_data"
    },
    {
     "data": {
      "text/html": [
       "2"
      ],
      "text/latex": [
       "2"
      ],
      "text/markdown": [
       "2"
      ],
      "text/plain": [
       "[1] 2"
      ]
     },
     "metadata": {},
     "output_type": "display_data"
    },
    {
     "data": {
      "text/html": [
       "-3"
      ],
      "text/latex": [
       "-3"
      ],
      "text/markdown": [
       "-3"
      ],
      "text/plain": [
       "[1] -3"
      ]
     },
     "metadata": {},
     "output_type": "display_data"
    },
    {
     "data": {
      "text/html": [
       "-2"
      ],
      "text/latex": [
       "-2"
      ],
      "text/markdown": [
       "-2"
      ],
      "text/plain": [
       "[1] -2"
      ]
     },
     "metadata": {},
     "output_type": "display_data"
    },
    {
     "data": {
      "text/html": [
       "1.24"
      ],
      "text/latex": [
       "1.24"
      ],
      "text/markdown": [
       "1.24"
      ],
      "text/plain": [
       "[1] 1.24"
      ]
     },
     "metadata": {},
     "output_type": "display_data"
    },
    {
     "data": {
      "text/html": [
       "1.2"
      ],
      "text/latex": [
       "1.2"
      ],
      "text/markdown": [
       "1.2"
      ],
      "text/plain": [
       "[1] 1.2"
      ]
     },
     "metadata": {},
     "output_type": "display_data"
    },
    {
     "data": {
      "text/html": [
       "-0.957659480323385"
      ],
      "text/latex": [
       "-0.957659480323385"
      ],
      "text/markdown": [
       "-0.957659480323385"
      ],
      "text/plain": [
       "[1] -0.9576595"
      ]
     },
     "metadata": {},
     "output_type": "display_data"
    },
    {
     "data": {
      "text/html": [
       "0.287903316665065"
      ],
      "text/latex": [
       "0.287903316665065"
      ],
      "text/markdown": [
       "0.287903316665065"
      ],
      "text/plain": [
       "[1] 0.2879033"
      ]
     },
     "metadata": {},
     "output_type": "display_data"
    },
    {
     "data": {
      "text/html": [
       "-0.300632242023903"
      ],
      "text/latex": [
       "-0.300632242023903"
      ],
      "text/markdown": [
       "-0.300632242023903"
      ],
      "text/plain": [
       "[1] -0.3006322"
      ]
     },
     "metadata": {},
     "output_type": "display_data"
    },
    {
     "data": {
      "text/html": [
       "0.214304602647005"
      ],
      "text/latex": [
       "0.214304602647005"
      ],
      "text/markdown": [
       "0.214304602647005"
      ],
      "text/plain": [
       "[1] 0.2143046"
      ]
     },
     "metadata": {},
     "output_type": "display_data"
    },
    {
     "data": {
      "text/html": [
       "0.0930713063760635"
      ],
      "text/latex": [
       "0.0930713063760635"
      ],
      "text/markdown": [
       "0.0930713063760635"
      ],
      "text/plain": [
       "[1] 0.09307131"
      ]
     },
     "metadata": {},
     "output_type": "display_data"
    },
    {
     "data": {
      "text/html": [
       "1.12535174719259e-07"
      ],
      "text/latex": [
       "1.12535174719259e-07"
      ],
      "text/markdown": [
       "1.12535174719259e-07"
      ],
      "text/plain": [
       "[1] 1.125352e-07"
      ]
     },
     "metadata": {},
     "output_type": "display_data"
    }
   ],
   "source": [
    "# Have fun with math!\n",
    "x <- -16\n",
    "y <- 1.239\n",
    "z <- -2.251\n",
    "abs(x)\n",
    "sqrt(-x)\n",
    "ceiling(y)\n",
    "floor(z)\n",
    "trunc(z)\n",
    "round(y, digits=2)\n",
    "signif(y, digits=2)\n",
    "cos(x)\n",
    "sin(x)\n",
    "tan(x)\n",
    "log(y)\n",
    "log10(y)\n",
    "exp(x)"
   ]
  },
  {
   "cell_type": "markdown",
   "metadata": {},
   "source": [
    "##### Other useful built-in operators\n",
    "```\n",
    "substr() # Extract part of the string\n",
    "grep() # Search for pattern (It is different from Bash grep!!!)\n",
    "sub() # Replace pattern\n",
    "strsplit() # Split elements fro a string\n",
    "paste() # Concatenate strings\n",
    "toupper() # Convert to upper case\n",
    "tolower() # Convert to lower case\n",
    "```"
   ]
  },
  {
   "cell_type": "code",
   "execution_count": 27,
   "metadata": {},
   "outputs": [
    {
     "data": {
      "text/html": [
       "'Nutel'"
      ],
      "text/latex": [
       "'Nutel'"
      ],
      "text/markdown": [
       "'Nutel'"
      ],
      "text/plain": [
       "[1] \"Nutel\""
      ]
     },
     "metadata": {},
     "output_type": "display_data"
    },
    {
     "data": {
      "text/html": [
       "3"
      ],
      "text/latex": [
       "3"
      ],
      "text/markdown": [
       "3"
      ],
      "text/plain": [
       "[1] 3"
      ]
     },
     "metadata": {},
     "output_type": "display_data"
    },
    {
     "data": {
      "text/html": [
       "'I love cheese. --Nutella'"
      ],
      "text/latex": [
       "'I love cheese. --Nutella'"
      ],
      "text/markdown": [
       "'I love cheese. --Nutella'"
      ],
      "text/plain": [
       "[1] \"I love cheese. --Nutella\""
      ]
     },
     "metadata": {},
     "output_type": "display_data"
    },
    {
     "data": {
      "text/html": [
       "'I love chocolate. --Nutella'"
      ],
      "text/latex": [
       "'I love chocolate. --Nutella'"
      ],
      "text/markdown": [
       "'I love chocolate. --Nutella'"
      ],
      "text/plain": [
       "[1] \"I love chocolate. --Nutella\""
      ]
     },
     "metadata": {},
     "output_type": "display_data"
    },
    {
     "data": {
      "text/html": [
       "<ol>\n",
       "\t<li><ol class=list-inline>\n",
       "\t<li>'I'</li>\n",
       "\t<li>'love'</li>\n",
       "\t<li>'chocolate.'</li>\n",
       "\t<li>'--Nutella'</li>\n",
       "</ol>\n",
       "</li>\n",
       "</ol>\n"
      ],
      "text/latex": [
       "\\begin{enumerate}\n",
       "\\item \\begin{enumerate*}\n",
       "\\item 'I'\n",
       "\\item 'love'\n",
       "\\item 'chocolate.'\n",
       "\\item '--Nutella'\n",
       "\\end{enumerate*}\n",
       "\n",
       "\\end{enumerate}\n"
      ],
      "text/markdown": [
       "1. 1. 'I'\n",
       "2. 'love'\n",
       "3. 'chocolate.'\n",
       "4. '--Nutella'\n",
       "\n",
       "\n",
       "\n",
       "\n",
       "\n"
      ],
      "text/plain": [
       "[[1]]\n",
       "[1] \"I\"          \"love\"       \"chocolate.\" \"--Nutella\" \n"
      ]
     },
     "metadata": {},
     "output_type": "display_data"
    },
    {
     "data": {
      "text/html": [
       "<ol class=list-inline>\n",
       "\t<li>'1: chocolate'</li>\n",
       "\t<li>'2: peanut'</li>\n",
       "\t<li>'3: cheese'</li>\n",
       "</ol>\n"
      ],
      "text/latex": [
       "\\begin{enumerate*}\n",
       "\\item '1: chocolate'\n",
       "\\item '2: peanut'\n",
       "\\item '3: cheese'\n",
       "\\end{enumerate*}\n"
      ],
      "text/markdown": [
       "1. '1: chocolate'\n",
       "2. '2: peanut'\n",
       "3. '3: cheese'\n",
       "\n",
       "\n"
      ],
      "text/plain": [
       "[1] \"1: chocolate\" \"2: peanut\"    \"3: cheese\"   "
      ]
     },
     "metadata": {},
     "output_type": "display_data"
    },
    {
     "data": {
      "text/html": [
       "'I LOVE CHOCOLATE. --NUTELLA'"
      ],
      "text/latex": [
       "'I LOVE CHOCOLATE. --NUTELLA'"
      ],
      "text/markdown": [
       "'I LOVE CHOCOLATE. --NUTELLA'"
      ],
      "text/plain": [
       "[1] \"I LOVE CHOCOLATE. --NUTELLA\""
      ]
     },
     "metadata": {},
     "output_type": "display_data"
    },
    {
     "data": {
      "text/html": [
       "'i love chocolate. --nutella'"
      ],
      "text/latex": [
       "'i love chocolate. --nutella'"
      ],
      "text/markdown": [
       "'i love chocolate. --nutella'"
      ],
      "text/plain": [
       "[1] \"i love chocolate. --nutella\""
      ]
     },
     "metadata": {},
     "output_type": "display_data"
    }
   ],
   "source": [
    "# Try it out!\n",
    "my.name <- \"Nutella\"\n",
    "my.fav <- c(\"chocolate\", \"peanut\", \"cheese\")\n",
    "my.motto <- \"I love chocolate. --Nutella\"\n",
    "substr(my.name, start=1, stop=5) # Extract from 1st character to 5th character\n",
    "grep(\"cheese\", my.fav) # Find the position of \"cheese\" in the vector\n",
    "sub(\"chocolate\", \"cheese\", my.motto) # Replace \"chocolate\" by \"cheese\" in my.motto\n",
    "my.motto\n",
    "strsplit(my.motto, \" \") # Split my.motto by space\n",
    "paste(1:3, my.fav, sep=\": \") # Concatenate elements in vector c(1, 2, 3) with elements in vector my.fav, seprate by \": \"\n",
    "toupper(my.motto)\n",
    "tolower(my.motto)"
   ]
  },
  {
   "cell_type": "markdown",
   "metadata": {},
   "source": [
    "### 2. Control structures"
   ]
  },
  {
   "cell_type": "markdown",
   "metadata": {},
   "source": [
    "#### 2.1 If-else\n",
    "```\n",
    "# if ... else ...\n",
    "like.peanut <- TRUE\n",
    "if (like.peanut){\n",
    "    print(\"I like peanuts!\")\n",
    "} else {\n",
    "    print(\"What do I like?\")\n",
    "}\n",
    "```"
   ]
  },
  {
   "cell_type": "code",
   "execution_count": 31,
   "metadata": {},
   "outputs": [
    {
     "name": "stdout",
     "output_type": "stream",
     "text": [
      "[1] \"I don't like peanuts. What else do I like?\"\n",
      "[1] \"I like peanuts!\"\n"
     ]
    }
   ],
   "source": [
    "# Try if... else ... !\n",
    "like.peanut <- TRUE\n",
    "if (!like.peanut){\n",
    "    print(\"I like peanuts!\")\n",
    "} else {\n",
    "    print(\"I don't like peanuts. What else do I like?\")\n",
    "}\n",
    "\n",
    "if (like.peanut){\n",
    "    print(\"I like peanuts!\")\n",
    "} else {\n",
    "    print(\"I don't like peanuts. What else do I like?\")\n",
    "}\n"
   ]
  },
  {
   "cell_type": "markdown",
   "metadata": {},
   "source": [
    "```\n",
    "# if .. else if ... else ...\n",
    "like.hay <- FALSE\n",
    "like.cotton <- TRUE\n",
    "if (like.hay){\n",
    "    print(\"I like to build my nest with hay!\")\n",
    "} else if (like.cotton){\n",
    "    print(\"I like to build my nest with cotton!\")\n",
    "} else {\n",
    "    print(\"Ummm.... what should I use...?\")\n",
    "}\n",
    "```"
   ]
  },
  {
   "cell_type": "code",
   "execution_count": 37,
   "metadata": {},
   "outputs": [
    {
     "name": "stdout",
     "output_type": "stream",
     "text": [
      "[1] \"I like to build my nest with cotton!\"\n",
      "[1] \"I like to build my nest with hay!\"\n",
      "[1] \"Ummm...what should I use to build my nest...?\"\n"
     ]
    }
   ],
   "source": [
    "like.hay <- FALSE\n",
    "like.cotton <- TRUE\n",
    "if (like.hay){\n",
    "    print(\"I like to build my nest with hay!\")\n",
    "} else if (like.cotton){\n",
    "    print(\"I like to build my nest with cotton!\")\n",
    "} else {\n",
    "    print(\"Ummm...what should I use to build my nest...?\")\n",
    "}\n",
    "if (!like.hay){\n",
    "    print(\"I like to build my nest with hay!\")\n",
    "} else if (like.cotton){\n",
    "    print(\"I like to build my nest with cotton!\")\n",
    "} else {\n",
    "    print(\"Ummm...what should I use to build my nest...?\")\n",
    "}\n",
    "if (like.hay){\n",
    "    print(\"I like to build my nest with hay!\")\n",
    "} else if (!like.cotton){\n",
    "    print(\"I like to build my nest with cotton!\")\n",
    "} else {\n",
    "    print(\"Ummm...what should I use to build my nest...?\")\n",
    "}"
   ]
  },
  {
   "cell_type": "markdown",
   "metadata": {},
   "source": [
    "#### 2.2 for\n",
    "```\n",
    "# Looping a numeric vector\n",
    "for (i in c(1:10)) {\n",
    "    print(\"More chocolate please!\")\n",
    "}\n",
    "```"
   ]
  },
  {
   "cell_type": "code",
   "execution_count": 53,
   "metadata": {},
   "outputs": [
    {
     "name": "stdout",
     "output_type": "stream",
     "text": [
      "[1] \"More chocolate please\"\n",
      "[1] \"More chocolate please\"\n",
      "[1] \"More chocolate please\"\n",
      "[1] \"More chocolate please\"\n",
      "[1] \"More chocolate please\"\n",
      "[1] \"More chocolate please\"\n",
      "[1] \"More chocolate please\"\n"
     ]
    }
   ],
   "source": [
    "# Try numeric vector for loop!\n",
    "for ( i in c(1:7)){\n",
    "    print(\"More chocolate please\")\n",
    "}"
   ]
  },
  {
   "cell_type": "markdown",
   "metadata": {},
   "source": [
    "```\n",
    "# Looping a character vector\n",
    "my.fav <- c(\"chocolate\", \"peanut\", \"cheese\")\n",
    "for (i in my.fav) {\n",
    "    out.put <- paste(\"More\", i, \"please!\") # Paste 3 elements into a single string\n",
    "    print(out.put)\n",
    "}\n",
    "```"
   ]
  },
  {
   "cell_type": "code",
   "execution_count": 46,
   "metadata": {},
   "outputs": [
    {
     "name": "stdout",
     "output_type": "stream",
     "text": [
      "[1] \"More chocolate please!\"\n",
      "[1] \"More peanut please!\"\n",
      "[1] \"More cheese please!\"\n"
     ]
    }
   ],
   "source": [
    "# Try character vector for loop!\n",
    "my.fav <- c(\"chocolate\", \"peanut\", \"cheese\")\n",
    "for (i in my.fav) {\n",
    "    out.put <- paste(\"More\", i, \"please!\") # Paste 3 elements into single string\n",
    "    print(out.put)\n",
    "}"
   ]
  },
  {
   "cell_type": "markdown",
   "metadata": {},
   "source": [
    "#### 2.3 while\n",
    "```\n",
    "i <- 0\n",
    "while (i < 10) {\n",
    "    print(\"More chocolate please!\")\n",
    "    i <- i+1 # Super important! Or your while loop will never end...\n",
    "}\n",
    "```"
   ]
  },
  {
   "cell_type": "code",
   "execution_count": 55,
   "metadata": {},
   "outputs": [
    {
     "name": "stdout",
     "output_type": "stream",
     "text": [
      "[1] \"More chocolate please\"\n",
      "[1] \"More chocolate please\"\n",
      "[1] \"More chocolate please\"\n",
      "[1] \"More chocolate please\"\n",
      "[1] \"More chocolate please\"\n",
      "[1] \"More chocolate please\"\n",
      "[1] \"More chocolate please\"\n"
     ]
    }
   ],
   "source": [
    "# Try while! the above example is a faster way of looping the same output multiple times\n",
    "i <- 0\n",
    "while (i < 7) {\n",
    "    print(\"More chocolate please\")\n",
    "    i <- i+1\n",
    "}"
   ]
  },
  {
   "cell_type": "code",
   "execution_count": 61,
   "metadata": {},
   "outputs": [
    {
     "name": "stdout",
     "output_type": "stream",
     "text": [
      "[1] \"More chocolate please!\"\n",
      "[1] \"More chocolate please!\"\n",
      "[1] \"More chocolate please!\"\n",
      "[1] \"More chocolate please!\"\n",
      "[1] \"More chocolate please!\"\n",
      "[1] \"More chocolate please!\"\n",
      "[1] \"More chocolate please!\"\n"
     ]
    }
   ],
   "source": [
    "#Try and combine the vecor loop and a numeric loop\n",
    "\n",
    "my.fav <- c(\"chocolate\", \"peanut\", \"cheese\")\n",
    "a <- 0\n",
    "for (i in my.fav) {\n",
    "    while (a < 7) {\n",
    "        out.put <- paste(\"More\", i, \"please!\")\n",
    "        print(out.put)\n",
    "        a <- a+1\n",
    "    }\n",
    "}"
   ]
  },
  {
   "cell_type": "markdown",
   "metadata": {},
   "source": [
    "### 3. Import data\n",
    "##### read.csv()\n",
    "```\n",
    "setwd(\"YOUR/DIRECTORY/TO/Unit1-module2-R\")\n",
    "nav.d14 <- read.csv(\"NAV-D14_DEseq2.csv\", header=TRUE)\n",
    "nav.d14\n",
    "class(nav.d14)\n",
    "```"
   ]
  },
  {
   "cell_type": "code",
   "execution_count": 10,
   "metadata": {},
   "outputs": [
    {
     "data": {
      "text/html": [
       "<table>\n",
       "<thead><tr><th scope=col>gene.name</th><th scope=col>baseMean</th><th scope=col>log2FoldChange</th><th scope=col>lfcSE</th><th scope=col>stat</th><th scope=col>pvalue</th><th scope=col>padj</th></tr></thead>\n",
       "<tbody>\n",
       "\t<tr><td>TSPAN6      </td><td>  25.2567446</td><td> 1.302468822</td><td>0.4166710   </td><td> 3.12589265 </td><td>1.772662e-03</td><td>8.209295e-03</td></tr>\n",
       "\t<tr><td>TNMD        </td><td>   0.2885080</td><td>-0.050778715</td><td>0.4875003   </td><td>-0.10416140 </td><td>9.170413e-01</td><td>          NA</td></tr>\n",
       "\t<tr><td>DPM1        </td><td> 163.5077733</td><td>-0.055028326</td><td>0.2492486   </td><td>-0.22077688 </td><td>8.252662e-01</td><td>9.144493e-01</td></tr>\n",
       "\t<tr><td>SCYL3       </td><td> 296.4617127</td><td> 0.273700992</td><td>0.1964251   </td><td> 1.39341172 </td><td>1.634953e-01</td><td>3.312390e-01</td></tr>\n",
       "\t<tr><td>C1orf112    </td><td> 199.0119864</td><td>-1.620120054</td><td>0.2833121   </td><td>-5.71849983 </td><td>1.070000e-08</td><td>1.590000e-07</td></tr>\n",
       "\t<tr><td>FGR         </td><td> 122.7925300</td><td>-5.609368054</td><td>0.6378324   </td><td>-8.79442261 </td><td>1.440000e-18</td><td>7.150000e-17</td></tr>\n",
       "\t<tr><td>CFH         </td><td>  27.4052165</td><td>-0.054920405</td><td>0.7307163   </td><td>-0.07515968 </td><td>9.400877e-01</td><td>9.742211e-01</td></tr>\n",
       "\t<tr><td>FUCA2       </td><td>  72.0384923</td><td>-0.764421958</td><td>0.2747625   </td><td>-2.78211902 </td><td>5.400523e-03</td><td>2.135803e-02</td></tr>\n",
       "\t<tr><td>GCLC        </td><td> 232.8235989</td><td>-0.669026757</td><td>0.2115464   </td><td>-3.16255365 </td><td>1.563919e-03</td><td>7.365785e-03</td></tr>\n",
       "\t<tr><td>NFYA        </td><td> 557.5801607</td><td>-0.007449532</td><td>0.1711775   </td><td>-0.04351935 </td><td>9.652875e-01</td><td>9.850497e-01</td></tr>\n",
       "\t<tr><td>STPG1       </td><td> 108.0712339</td><td> 0.772006269</td><td>0.3912334   </td><td> 1.97326292 </td><td>4.846561e-02</td><td>1.301502e-01</td></tr>\n",
       "\t<tr><td>NIPAL3      </td><td> 810.6565538</td><td> 0.890087366</td><td>0.1898787   </td><td> 4.68766347 </td><td>2.760000e-06</td><td>2.670000e-05</td></tr>\n",
       "\t<tr><td>LAS1L       </td><td> 541.2743227</td><td> 0.243789623</td><td>0.2180177   </td><td> 1.11821039 </td><td>2.634771e-01</td><td>4.646951e-01</td></tr>\n",
       "\t<tr><td>ENPP4       </td><td> 166.5152095</td><td>-1.079758358</td><td>0.2689947   </td><td>-4.01405008 </td><td>5.970000e-05</td><td>4.158050e-04</td></tr>\n",
       "\t<tr><td>SEMA3F      </td><td>   0.7756764</td><td> 0.018149013</td><td>0.6453546   </td><td> 0.02812254 </td><td>9.775644e-01</td><td>          NA</td></tr>\n",
       "\t<tr><td>CFTR        </td><td>  21.0101464</td><td>-0.152174024</td><td>0.5171924   </td><td>-0.29423100 </td><td>7.685814e-01</td><td>8.859011e-01</td></tr>\n",
       "\t<tr><td>ANKIB1      </td><td> 851.1972930</td><td>-0.244293694</td><td>0.1690986   </td><td>-1.44468216 </td><td>1.485472e-01</td><td>3.091941e-01</td></tr>\n",
       "\t<tr><td>CYP51A1     </td><td> 232.2112019</td><td>-0.375691024</td><td>0.2540015   </td><td>-1.47908991 </td><td>1.391163e-01</td><td>2.950932e-01</td></tr>\n",
       "\t<tr><td>KRIT1       </td><td> 646.5918389</td><td> 0.231034820</td><td>0.1921657   </td><td> 1.20226885 </td><td>2.292594e-01</td><td>4.243037e-01</td></tr>\n",
       "\t<tr><td>RAD52       </td><td> 239.2300392</td><td>-0.232950518</td><td>0.3036473   </td><td>-0.76717469 </td><td>4.429777e-01</td><td>6.475512e-01</td></tr>\n",
       "\t<tr><td>MYH16       </td><td>   4.3225472</td><td> 0.928279411</td><td>0.7054943   </td><td> 1.31578591 </td><td>1.882459e-01</td><td>3.681571e-01</td></tr>\n",
       "\t<tr><td>BAD         </td><td>  17.4333591</td><td>-1.057237408</td><td>0.4357804   </td><td>-2.42607817 </td><td>1.526298e-02</td><td>5.114864e-02</td></tr>\n",
       "\t<tr><td>LAP3        </td><td> 365.2625318</td><td>-1.030560331</td><td>0.2976147   </td><td>-3.46273320 </td><td>5.347180e-04</td><td>2.888787e-03</td></tr>\n",
       "\t<tr><td>CD99        </td><td> 643.5209068</td><td>-2.255638839</td><td>0.2760949   </td><td>-8.16979570 </td><td>3.090000e-16</td><td>1.250000e-14</td></tr>\n",
       "\t<tr><td>HS3ST1      </td><td>  14.7767394</td><td> 0.270394524</td><td>0.4535042   </td><td> 0.59623380 </td><td>5.510190e-01</td><td>7.364323e-01</td></tr>\n",
       "\t<tr><td>AOC1        </td><td>   3.1094441</td><td> 0.241018564</td><td>0.6968345   </td><td> 0.34587635 </td><td>7.294356e-01</td><td>8.623265e-01</td></tr>\n",
       "\t<tr><td>WNT16       </td><td>   4.1070926</td><td> 1.180624115</td><td>0.6672935   </td><td> 1.76927268 </td><td>7.684838e-02</td><td>1.870495e-01</td></tr>\n",
       "\t<tr><td>HECW1       </td><td>  17.8167829</td><td>-0.026159525</td><td>0.7386516   </td><td>-0.03541524 </td><td>9.717486e-01</td><td>9.877749e-01</td></tr>\n",
       "\t<tr><td>MAD1L1      </td><td>  99.3680284</td><td>-0.144866391</td><td>0.3272707   </td><td>-0.44265005 </td><td>6.580189e-01</td><td>8.151420e-01</td></tr>\n",
       "\t<tr><td>LASP1       </td><td>1961.0769280</td><td>-1.336887734</td><td>0.2236797   </td><td>-5.97679587 </td><td>2.280000e-09</td><td>3.760000e-08</td></tr>\n",
       "\t<tr><td>⋮</td><td>⋮</td><td>⋮</td><td>⋮</td><td>⋮</td><td>⋮</td><td>⋮</td></tr>\n",
       "\t<tr><td>POU2F2      </td><td> 463.1803447</td><td> 0.53986676 </td><td>0.2563443   </td><td>  2.10602249</td><td>3.520240e-02</td><td>1.006744e-01</td></tr>\n",
       "\t<tr><td>BRD9        </td><td> 281.2836333</td><td> 0.34280709 </td><td>0.2197456   </td><td>  1.56001805</td><td>1.187556e-01</td><td>2.619995e-01</td></tr>\n",
       "\t<tr><td>SNX1        </td><td>1190.4092840</td><td> 0.01255498 </td><td>0.3117198   </td><td>  0.04027648</td><td>9.678727e-01</td><td>9.858765e-01</td></tr>\n",
       "\t<tr><td>TBPL1       </td><td> 175.5906321</td><td>-0.62320065 </td><td>0.2586071   </td><td> -2.40983538</td><td>1.595972e-02</td><td>5.305227e-02</td></tr>\n",
       "\t<tr><td>ARNTL2      </td><td>  74.6212440</td><td>-2.76567200 </td><td>0.4814649   </td><td> -5.74428622</td><td>9.230000e-09</td><td>1.380000e-07</td></tr>\n",
       "\t<tr><td>BCLAF1      </td><td>6448.8751000</td><td> 0.02525367 </td><td>0.2124010   </td><td>  0.11889616</td><td>9.053576e-01</td><td>9.572118e-01</td></tr>\n",
       "\t<tr><td>SLC39A9     </td><td> 488.5664401</td><td>-0.49177374 </td><td>0.1882554   </td><td> -2.61226964</td><td>8.994328e-03</td><td>3.281471e-02</td></tr>\n",
       "\t<tr><td>ANK1        </td><td>  20.2343537</td><td> 0.57319429 </td><td>0.4799837   </td><td>  1.19419521</td><td>2.324016e-01</td><td>4.280409e-01</td></tr>\n",
       "\t<tr><td>IBSP        </td><td>   0.5011933</td><td>-0.10374941 </td><td>0.5662591   </td><td> -0.18321899</td><td>8.546262e-01</td><td>          NA</td></tr>\n",
       "\t<tr><td>TFB1M       </td><td> 131.0923289</td><td> 0.31741102 </td><td>0.2100039   </td><td>  1.51145279</td><td>1.306731e-01</td><td>2.814311e-01</td></tr>\n",
       "\t<tr><td>RABEP1      </td><td>1068.0602190</td><td>-0.21975993 </td><td>0.1682325   </td><td> -1.30628694</td><td>1.914550e-01</td><td>3.729001e-01</td></tr>\n",
       "\t<tr><td>HMGB3       </td><td>  84.3692469</td><td>-4.38728848 </td><td>0.4200637   </td><td>-10.44434052</td><td>1.560000e-25</td><td>1.450000e-23</td></tr>\n",
       "\t<tr><td>NUP160      </td><td> 822.1479147</td><td> 0.41786705 </td><td>0.2635444   </td><td>  1.58556612</td><td>1.128378e-01</td><td>2.519199e-01</td></tr>\n",
       "\t<tr><td>BAK1        </td><td> 120.1631076</td><td>-1.71103311 </td><td>0.2624051   </td><td> -6.52057921</td><td>7.000000e-11</td><td>1.480000e-09</td></tr>\n",
       "\t<tr><td>MUSK        </td><td>   1.3780993</td><td> 0.48417947 </td><td>0.7300010   </td><td>  0.66325862</td><td>5.071649e-01</td><td>          NA</td></tr>\n",
       "\t<tr><td>IKZF2       </td><td> 289.8239287</td><td>-1.63161054 </td><td>0.3979249   </td><td> -4.10029788</td><td>4.130000e-05</td><td>2.998390e-04</td></tr>\n",
       "\t<tr><td>GRN         </td><td>  80.1371645</td><td>-1.09598517 </td><td>0.5196457   </td><td> -2.10910091</td><td>3.493587e-02</td><td>1.000973e-01</td></tr>\n",
       "\t<tr><td>FAM13B      </td><td> 965.9769543</td><td>-0.12459964 </td><td>0.2179400   </td><td> -0.57171524</td><td>5.675149e-01</td><td>7.485698e-01</td></tr>\n",
       "\t<tr><td>ARHGAP31    </td><td>  66.8541134</td><td>-0.70478574 </td><td>0.4528221   </td><td> -1.55642967</td><td>1.196060e-01</td><td>2.632495e-01</td></tr>\n",
       "\t<tr><td>CENPQ       </td><td>  24.1658529</td><td>-0.99668553 </td><td>0.4652864   </td><td> -2.14209029</td><td>3.218622e-02</td><td>9.348970e-02</td></tr>\n",
       "\t<tr><td>SARS        </td><td> 383.4006187</td><td>-0.01094582 </td><td>0.1850942   </td><td> -0.05913650</td><td>9.528434e-01</td><td>9.797778e-01</td></tr>\n",
       "\t<tr><td>RANBP3      </td><td> 379.8428768</td><td> 0.08522877 </td><td>0.1708371   </td><td>  0.49888897</td><td>6.178576e-01</td><td>7.848873e-01</td></tr>\n",
       "\t<tr><td>ARID4A      </td><td>1435.3239890</td><td> 0.04869732 </td><td>0.1904170   </td><td>  0.25574039</td><td>7.981513e-01</td><td>9.010712e-01</td></tr>\n",
       "\t<tr><td>EIPR1       </td><td>  87.8650442</td><td>-0.95503525 </td><td>0.2356304   </td><td> -4.05310668</td><td>5.050000e-05</td><td>3.582930e-04</td></tr>\n",
       "\t<tr><td>PNPLA6      </td><td> 146.4175068</td><td>-0.14635328 </td><td>0.2900234   </td><td> -0.50462571</td><td>6.138218e-01</td><td>7.821706e-01</td></tr>\n",
       "\t<tr><td>IFT88       </td><td> 111.7153911</td><td> 0.60100567 </td><td>0.3082850   </td><td>  1.94951303</td><td>5.123419e-02</td><td>1.361938e-01</td></tr>\n",
       "\t<tr><td>ALG1        </td><td>  72.3719334</td><td> 0.33922670 </td><td>0.2449200   </td><td>  1.38505115</td><td>1.660368e-01</td><td>3.352177e-01</td></tr>\n",
       "\t<tr><td>ZCCHC8      </td><td> 270.0027762</td><td>-0.22916478 </td><td>0.1966266   </td><td> -1.16548193</td><td>2.438240e-01</td><td>4.418914e-01</td></tr>\n",
       "\t<tr><td>ABCF2       </td><td> 288.4767585</td><td> 0.10264088 </td><td>0.2711067   </td><td>  0.37859951</td><td>7.049853e-01</td><td>8.456544e-01</td></tr>\n",
       "\t<tr><td>CHPF2       </td><td> 171.7401625</td><td>-0.07133449 </td><td>0.2608077   </td><td> -0.27351377</td><td>7.844583e-01</td><td>8.936611e-01</td></tr>\n",
       "</tbody>\n",
       "</table>\n"
      ],
      "text/latex": [
       "\\begin{tabular}{r|lllllll}\n",
       " gene.name & baseMean & log2FoldChange & lfcSE & stat & pvalue & padj\\\\\n",
       "\\hline\n",
       "\t TSPAN6       &   25.2567446 &  1.302468822 & 0.4166710    &  3.12589265  & 1.772662e-03 & 8.209295e-03\\\\\n",
       "\t TNMD         &    0.2885080 & -0.050778715 & 0.4875003    & -0.10416140  & 9.170413e-01 &           NA\\\\\n",
       "\t DPM1         &  163.5077733 & -0.055028326 & 0.2492486    & -0.22077688  & 8.252662e-01 & 9.144493e-01\\\\\n",
       "\t SCYL3        &  296.4617127 &  0.273700992 & 0.1964251    &  1.39341172  & 1.634953e-01 & 3.312390e-01\\\\\n",
       "\t C1orf112     &  199.0119864 & -1.620120054 & 0.2833121    & -5.71849983  & 1.070000e-08 & 1.590000e-07\\\\\n",
       "\t FGR          &  122.7925300 & -5.609368054 & 0.6378324    & -8.79442261  & 1.440000e-18 & 7.150000e-17\\\\\n",
       "\t CFH          &   27.4052165 & -0.054920405 & 0.7307163    & -0.07515968  & 9.400877e-01 & 9.742211e-01\\\\\n",
       "\t FUCA2        &   72.0384923 & -0.764421958 & 0.2747625    & -2.78211902  & 5.400523e-03 & 2.135803e-02\\\\\n",
       "\t GCLC         &  232.8235989 & -0.669026757 & 0.2115464    & -3.16255365  & 1.563919e-03 & 7.365785e-03\\\\\n",
       "\t NFYA         &  557.5801607 & -0.007449532 & 0.1711775    & -0.04351935  & 9.652875e-01 & 9.850497e-01\\\\\n",
       "\t STPG1        &  108.0712339 &  0.772006269 & 0.3912334    &  1.97326292  & 4.846561e-02 & 1.301502e-01\\\\\n",
       "\t NIPAL3       &  810.6565538 &  0.890087366 & 0.1898787    &  4.68766347  & 2.760000e-06 & 2.670000e-05\\\\\n",
       "\t LAS1L        &  541.2743227 &  0.243789623 & 0.2180177    &  1.11821039  & 2.634771e-01 & 4.646951e-01\\\\\n",
       "\t ENPP4        &  166.5152095 & -1.079758358 & 0.2689947    & -4.01405008  & 5.970000e-05 & 4.158050e-04\\\\\n",
       "\t SEMA3F       &    0.7756764 &  0.018149013 & 0.6453546    &  0.02812254  & 9.775644e-01 &           NA\\\\\n",
       "\t CFTR         &   21.0101464 & -0.152174024 & 0.5171924    & -0.29423100  & 7.685814e-01 & 8.859011e-01\\\\\n",
       "\t ANKIB1       &  851.1972930 & -0.244293694 & 0.1690986    & -1.44468216  & 1.485472e-01 & 3.091941e-01\\\\\n",
       "\t CYP51A1      &  232.2112019 & -0.375691024 & 0.2540015    & -1.47908991  & 1.391163e-01 & 2.950932e-01\\\\\n",
       "\t KRIT1        &  646.5918389 &  0.231034820 & 0.1921657    &  1.20226885  & 2.292594e-01 & 4.243037e-01\\\\\n",
       "\t RAD52        &  239.2300392 & -0.232950518 & 0.3036473    & -0.76717469  & 4.429777e-01 & 6.475512e-01\\\\\n",
       "\t MYH16        &    4.3225472 &  0.928279411 & 0.7054943    &  1.31578591  & 1.882459e-01 & 3.681571e-01\\\\\n",
       "\t BAD          &   17.4333591 & -1.057237408 & 0.4357804    & -2.42607817  & 1.526298e-02 & 5.114864e-02\\\\\n",
       "\t LAP3         &  365.2625318 & -1.030560331 & 0.2976147    & -3.46273320  & 5.347180e-04 & 2.888787e-03\\\\\n",
       "\t CD99         &  643.5209068 & -2.255638839 & 0.2760949    & -8.16979570  & 3.090000e-16 & 1.250000e-14\\\\\n",
       "\t HS3ST1       &   14.7767394 &  0.270394524 & 0.4535042    &  0.59623380  & 5.510190e-01 & 7.364323e-01\\\\\n",
       "\t AOC1         &    3.1094441 &  0.241018564 & 0.6968345    &  0.34587635  & 7.294356e-01 & 8.623265e-01\\\\\n",
       "\t WNT16        &    4.1070926 &  1.180624115 & 0.6672935    &  1.76927268  & 7.684838e-02 & 1.870495e-01\\\\\n",
       "\t HECW1        &   17.8167829 & -0.026159525 & 0.7386516    & -0.03541524  & 9.717486e-01 & 9.877749e-01\\\\\n",
       "\t MAD1L1       &   99.3680284 & -0.144866391 & 0.3272707    & -0.44265005  & 6.580189e-01 & 8.151420e-01\\\\\n",
       "\t LASP1        & 1961.0769280 & -1.336887734 & 0.2236797    & -5.97679587  & 2.280000e-09 & 3.760000e-08\\\\\n",
       "\t ⋮ & ⋮ & ⋮ & ⋮ & ⋮ & ⋮ & ⋮\\\\\n",
       "\t POU2F2       &  463.1803447 &  0.53986676  & 0.2563443    &   2.10602249 & 3.520240e-02 & 1.006744e-01\\\\\n",
       "\t BRD9         &  281.2836333 &  0.34280709  & 0.2197456    &   1.56001805 & 1.187556e-01 & 2.619995e-01\\\\\n",
       "\t SNX1         & 1190.4092840 &  0.01255498  & 0.3117198    &   0.04027648 & 9.678727e-01 & 9.858765e-01\\\\\n",
       "\t TBPL1        &  175.5906321 & -0.62320065  & 0.2586071    &  -2.40983538 & 1.595972e-02 & 5.305227e-02\\\\\n",
       "\t ARNTL2       &   74.6212440 & -2.76567200  & 0.4814649    &  -5.74428622 & 9.230000e-09 & 1.380000e-07\\\\\n",
       "\t BCLAF1       & 6448.8751000 &  0.02525367  & 0.2124010    &   0.11889616 & 9.053576e-01 & 9.572118e-01\\\\\n",
       "\t SLC39A9      &  488.5664401 & -0.49177374  & 0.1882554    &  -2.61226964 & 8.994328e-03 & 3.281471e-02\\\\\n",
       "\t ANK1         &   20.2343537 &  0.57319429  & 0.4799837    &   1.19419521 & 2.324016e-01 & 4.280409e-01\\\\\n",
       "\t IBSP         &    0.5011933 & -0.10374941  & 0.5662591    &  -0.18321899 & 8.546262e-01 &           NA\\\\\n",
       "\t TFB1M        &  131.0923289 &  0.31741102  & 0.2100039    &   1.51145279 & 1.306731e-01 & 2.814311e-01\\\\\n",
       "\t RABEP1       & 1068.0602190 & -0.21975993  & 0.1682325    &  -1.30628694 & 1.914550e-01 & 3.729001e-01\\\\\n",
       "\t HMGB3        &   84.3692469 & -4.38728848  & 0.4200637    & -10.44434052 & 1.560000e-25 & 1.450000e-23\\\\\n",
       "\t NUP160       &  822.1479147 &  0.41786705  & 0.2635444    &   1.58556612 & 1.128378e-01 & 2.519199e-01\\\\\n",
       "\t BAK1         &  120.1631076 & -1.71103311  & 0.2624051    &  -6.52057921 & 7.000000e-11 & 1.480000e-09\\\\\n",
       "\t MUSK         &    1.3780993 &  0.48417947  & 0.7300010    &   0.66325862 & 5.071649e-01 &           NA\\\\\n",
       "\t IKZF2        &  289.8239287 & -1.63161054  & 0.3979249    &  -4.10029788 & 4.130000e-05 & 2.998390e-04\\\\\n",
       "\t GRN          &   80.1371645 & -1.09598517  & 0.5196457    &  -2.10910091 & 3.493587e-02 & 1.000973e-01\\\\\n",
       "\t FAM13B       &  965.9769543 & -0.12459964  & 0.2179400    &  -0.57171524 & 5.675149e-01 & 7.485698e-01\\\\\n",
       "\t ARHGAP31     &   66.8541134 & -0.70478574  & 0.4528221    &  -1.55642967 & 1.196060e-01 & 2.632495e-01\\\\\n",
       "\t CENPQ        &   24.1658529 & -0.99668553  & 0.4652864    &  -2.14209029 & 3.218622e-02 & 9.348970e-02\\\\\n",
       "\t SARS         &  383.4006187 & -0.01094582  & 0.1850942    &  -0.05913650 & 9.528434e-01 & 9.797778e-01\\\\\n",
       "\t RANBP3       &  379.8428768 &  0.08522877  & 0.1708371    &   0.49888897 & 6.178576e-01 & 7.848873e-01\\\\\n",
       "\t ARID4A       & 1435.3239890 &  0.04869732  & 0.1904170    &   0.25574039 & 7.981513e-01 & 9.010712e-01\\\\\n",
       "\t EIPR1        &   87.8650442 & -0.95503525  & 0.2356304    &  -4.05310668 & 5.050000e-05 & 3.582930e-04\\\\\n",
       "\t PNPLA6       &  146.4175068 & -0.14635328  & 0.2900234    &  -0.50462571 & 6.138218e-01 & 7.821706e-01\\\\\n",
       "\t IFT88        &  111.7153911 &  0.60100567  & 0.3082850    &   1.94951303 & 5.123419e-02 & 1.361938e-01\\\\\n",
       "\t ALG1         &   72.3719334 &  0.33922670  & 0.2449200    &   1.38505115 & 1.660368e-01 & 3.352177e-01\\\\\n",
       "\t ZCCHC8       &  270.0027762 & -0.22916478  & 0.1966266    &  -1.16548193 & 2.438240e-01 & 4.418914e-01\\\\\n",
       "\t ABCF2        &  288.4767585 &  0.10264088  & 0.2711067    &   0.37859951 & 7.049853e-01 & 8.456544e-01\\\\\n",
       "\t CHPF2        &  171.7401625 & -0.07133449  & 0.2608077    &  -0.27351377 & 7.844583e-01 & 8.936611e-01\\\\\n",
       "\\end{tabular}\n"
      ],
      "text/markdown": [
       "\n",
       "gene.name | baseMean | log2FoldChange | lfcSE | stat | pvalue | padj | \n",
       "|---|---|---|---|---|---|---|---|---|---|---|---|---|---|---|---|---|---|---|---|---|---|---|---|---|---|---|---|---|---|---|---|---|---|---|---|---|---|---|---|---|---|---|---|---|---|---|---|---|---|---|---|---|---|---|---|---|---|---|---|---|\n",
       "| TSPAN6       |   25.2567446 |  1.302468822 | 0.4166710    |  3.12589265  | 1.772662e-03 | 8.209295e-03 | \n",
       "| TNMD         |    0.2885080 | -0.050778715 | 0.4875003    | -0.10416140  | 9.170413e-01 |           NA | \n",
       "| DPM1         |  163.5077733 | -0.055028326 | 0.2492486    | -0.22077688  | 8.252662e-01 | 9.144493e-01 | \n",
       "| SCYL3        |  296.4617127 |  0.273700992 | 0.1964251    |  1.39341172  | 1.634953e-01 | 3.312390e-01 | \n",
       "| C1orf112     |  199.0119864 | -1.620120054 | 0.2833121    | -5.71849983  | 1.070000e-08 | 1.590000e-07 | \n",
       "| FGR          |  122.7925300 | -5.609368054 | 0.6378324    | -8.79442261  | 1.440000e-18 | 7.150000e-17 | \n",
       "| CFH          |   27.4052165 | -0.054920405 | 0.7307163    | -0.07515968  | 9.400877e-01 | 9.742211e-01 | \n",
       "| FUCA2        |   72.0384923 | -0.764421958 | 0.2747625    | -2.78211902  | 5.400523e-03 | 2.135803e-02 | \n",
       "| GCLC         |  232.8235989 | -0.669026757 | 0.2115464    | -3.16255365  | 1.563919e-03 | 7.365785e-03 | \n",
       "| NFYA         |  557.5801607 | -0.007449532 | 0.1711775    | -0.04351935  | 9.652875e-01 | 9.850497e-01 | \n",
       "| STPG1        |  108.0712339 |  0.772006269 | 0.3912334    |  1.97326292  | 4.846561e-02 | 1.301502e-01 | \n",
       "| NIPAL3       |  810.6565538 |  0.890087366 | 0.1898787    |  4.68766347  | 2.760000e-06 | 2.670000e-05 | \n",
       "| LAS1L        |  541.2743227 |  0.243789623 | 0.2180177    |  1.11821039  | 2.634771e-01 | 4.646951e-01 | \n",
       "| ENPP4        |  166.5152095 | -1.079758358 | 0.2689947    | -4.01405008  | 5.970000e-05 | 4.158050e-04 | \n",
       "| SEMA3F       |    0.7756764 |  0.018149013 | 0.6453546    |  0.02812254  | 9.775644e-01 |           NA | \n",
       "| CFTR         |   21.0101464 | -0.152174024 | 0.5171924    | -0.29423100  | 7.685814e-01 | 8.859011e-01 | \n",
       "| ANKIB1       |  851.1972930 | -0.244293694 | 0.1690986    | -1.44468216  | 1.485472e-01 | 3.091941e-01 | \n",
       "| CYP51A1      |  232.2112019 | -0.375691024 | 0.2540015    | -1.47908991  | 1.391163e-01 | 2.950932e-01 | \n",
       "| KRIT1        |  646.5918389 |  0.231034820 | 0.1921657    |  1.20226885  | 2.292594e-01 | 4.243037e-01 | \n",
       "| RAD52        |  239.2300392 | -0.232950518 | 0.3036473    | -0.76717469  | 4.429777e-01 | 6.475512e-01 | \n",
       "| MYH16        |    4.3225472 |  0.928279411 | 0.7054943    |  1.31578591  | 1.882459e-01 | 3.681571e-01 | \n",
       "| BAD          |   17.4333591 | -1.057237408 | 0.4357804    | -2.42607817  | 1.526298e-02 | 5.114864e-02 | \n",
       "| LAP3         |  365.2625318 | -1.030560331 | 0.2976147    | -3.46273320  | 5.347180e-04 | 2.888787e-03 | \n",
       "| CD99         |  643.5209068 | -2.255638839 | 0.2760949    | -8.16979570  | 3.090000e-16 | 1.250000e-14 | \n",
       "| HS3ST1       |   14.7767394 |  0.270394524 | 0.4535042    |  0.59623380  | 5.510190e-01 | 7.364323e-01 | \n",
       "| AOC1         |    3.1094441 |  0.241018564 | 0.6968345    |  0.34587635  | 7.294356e-01 | 8.623265e-01 | \n",
       "| WNT16        |    4.1070926 |  1.180624115 | 0.6672935    |  1.76927268  | 7.684838e-02 | 1.870495e-01 | \n",
       "| HECW1        |   17.8167829 | -0.026159525 | 0.7386516    | -0.03541524  | 9.717486e-01 | 9.877749e-01 | \n",
       "| MAD1L1       |   99.3680284 | -0.144866391 | 0.3272707    | -0.44265005  | 6.580189e-01 | 8.151420e-01 | \n",
       "| LASP1        | 1961.0769280 | -1.336887734 | 0.2236797    | -5.97679587  | 2.280000e-09 | 3.760000e-08 | \n",
       "| ⋮ | ⋮ | ⋮ | ⋮ | ⋮ | ⋮ | ⋮ | \n",
       "| POU2F2       |  463.1803447 |  0.53986676  | 0.2563443    |   2.10602249 | 3.520240e-02 | 1.006744e-01 | \n",
       "| BRD9         |  281.2836333 |  0.34280709  | 0.2197456    |   1.56001805 | 1.187556e-01 | 2.619995e-01 | \n",
       "| SNX1         | 1190.4092840 |  0.01255498  | 0.3117198    |   0.04027648 | 9.678727e-01 | 9.858765e-01 | \n",
       "| TBPL1        |  175.5906321 | -0.62320065  | 0.2586071    |  -2.40983538 | 1.595972e-02 | 5.305227e-02 | \n",
       "| ARNTL2       |   74.6212440 | -2.76567200  | 0.4814649    |  -5.74428622 | 9.230000e-09 | 1.380000e-07 | \n",
       "| BCLAF1       | 6448.8751000 |  0.02525367  | 0.2124010    |   0.11889616 | 9.053576e-01 | 9.572118e-01 | \n",
       "| SLC39A9      |  488.5664401 | -0.49177374  | 0.1882554    |  -2.61226964 | 8.994328e-03 | 3.281471e-02 | \n",
       "| ANK1         |   20.2343537 |  0.57319429  | 0.4799837    |   1.19419521 | 2.324016e-01 | 4.280409e-01 | \n",
       "| IBSP         |    0.5011933 | -0.10374941  | 0.5662591    |  -0.18321899 | 8.546262e-01 |           NA | \n",
       "| TFB1M        |  131.0923289 |  0.31741102  | 0.2100039    |   1.51145279 | 1.306731e-01 | 2.814311e-01 | \n",
       "| RABEP1       | 1068.0602190 | -0.21975993  | 0.1682325    |  -1.30628694 | 1.914550e-01 | 3.729001e-01 | \n",
       "| HMGB3        |   84.3692469 | -4.38728848  | 0.4200637    | -10.44434052 | 1.560000e-25 | 1.450000e-23 | \n",
       "| NUP160       |  822.1479147 |  0.41786705  | 0.2635444    |   1.58556612 | 1.128378e-01 | 2.519199e-01 | \n",
       "| BAK1         |  120.1631076 | -1.71103311  | 0.2624051    |  -6.52057921 | 7.000000e-11 | 1.480000e-09 | \n",
       "| MUSK         |    1.3780993 |  0.48417947  | 0.7300010    |   0.66325862 | 5.071649e-01 |           NA | \n",
       "| IKZF2        |  289.8239287 | -1.63161054  | 0.3979249    |  -4.10029788 | 4.130000e-05 | 2.998390e-04 | \n",
       "| GRN          |   80.1371645 | -1.09598517  | 0.5196457    |  -2.10910091 | 3.493587e-02 | 1.000973e-01 | \n",
       "| FAM13B       |  965.9769543 | -0.12459964  | 0.2179400    |  -0.57171524 | 5.675149e-01 | 7.485698e-01 | \n",
       "| ARHGAP31     |   66.8541134 | -0.70478574  | 0.4528221    |  -1.55642967 | 1.196060e-01 | 2.632495e-01 | \n",
       "| CENPQ        |   24.1658529 | -0.99668553  | 0.4652864    |  -2.14209029 | 3.218622e-02 | 9.348970e-02 | \n",
       "| SARS         |  383.4006187 | -0.01094582  | 0.1850942    |  -0.05913650 | 9.528434e-01 | 9.797778e-01 | \n",
       "| RANBP3       |  379.8428768 |  0.08522877  | 0.1708371    |   0.49888897 | 6.178576e-01 | 7.848873e-01 | \n",
       "| ARID4A       | 1435.3239890 |  0.04869732  | 0.1904170    |   0.25574039 | 7.981513e-01 | 9.010712e-01 | \n",
       "| EIPR1        |   87.8650442 | -0.95503525  | 0.2356304    |  -4.05310668 | 5.050000e-05 | 3.582930e-04 | \n",
       "| PNPLA6       |  146.4175068 | -0.14635328  | 0.2900234    |  -0.50462571 | 6.138218e-01 | 7.821706e-01 | \n",
       "| IFT88        |  111.7153911 |  0.60100567  | 0.3082850    |   1.94951303 | 5.123419e-02 | 1.361938e-01 | \n",
       "| ALG1         |   72.3719334 |  0.33922670  | 0.2449200    |   1.38505115 | 1.660368e-01 | 3.352177e-01 | \n",
       "| ZCCHC8       |  270.0027762 | -0.22916478  | 0.1966266    |  -1.16548193 | 2.438240e-01 | 4.418914e-01 | \n",
       "| ABCF2        |  288.4767585 |  0.10264088  | 0.2711067    |   0.37859951 | 7.049853e-01 | 8.456544e-01 | \n",
       "| CHPF2        |  171.7401625 | -0.07133449  | 0.2608077    |  -0.27351377 | 7.844583e-01 | 8.936611e-01 | \n",
       "\n",
       "\n"
      ],
      "text/plain": [
       "    gene.name baseMean     log2FoldChange lfcSE     stat         pvalue      \n",
       "1   TSPAN6      25.2567446  1.302468822   0.4166710  3.12589265  1.772662e-03\n",
       "2   TNMD         0.2885080 -0.050778715   0.4875003 -0.10416140  9.170413e-01\n",
       "3   DPM1       163.5077733 -0.055028326   0.2492486 -0.22077688  8.252662e-01\n",
       "4   SCYL3      296.4617127  0.273700992   0.1964251  1.39341172  1.634953e-01\n",
       "5   C1orf112   199.0119864 -1.620120054   0.2833121 -5.71849983  1.070000e-08\n",
       "6   FGR        122.7925300 -5.609368054   0.6378324 -8.79442261  1.440000e-18\n",
       "7   CFH         27.4052165 -0.054920405   0.7307163 -0.07515968  9.400877e-01\n",
       "8   FUCA2       72.0384923 -0.764421958   0.2747625 -2.78211902  5.400523e-03\n",
       "9   GCLC       232.8235989 -0.669026757   0.2115464 -3.16255365  1.563919e-03\n",
       "10  NFYA       557.5801607 -0.007449532   0.1711775 -0.04351935  9.652875e-01\n",
       "11  STPG1      108.0712339  0.772006269   0.3912334  1.97326292  4.846561e-02\n",
       "12  NIPAL3     810.6565538  0.890087366   0.1898787  4.68766347  2.760000e-06\n",
       "13  LAS1L      541.2743227  0.243789623   0.2180177  1.11821039  2.634771e-01\n",
       "14  ENPP4      166.5152095 -1.079758358   0.2689947 -4.01405008  5.970000e-05\n",
       "15  SEMA3F       0.7756764  0.018149013   0.6453546  0.02812254  9.775644e-01\n",
       "16  CFTR        21.0101464 -0.152174024   0.5171924 -0.29423100  7.685814e-01\n",
       "17  ANKIB1     851.1972930 -0.244293694   0.1690986 -1.44468216  1.485472e-01\n",
       "18  CYP51A1    232.2112019 -0.375691024   0.2540015 -1.47908991  1.391163e-01\n",
       "19  KRIT1      646.5918389  0.231034820   0.1921657  1.20226885  2.292594e-01\n",
       "20  RAD52      239.2300392 -0.232950518   0.3036473 -0.76717469  4.429777e-01\n",
       "21  MYH16        4.3225472  0.928279411   0.7054943  1.31578591  1.882459e-01\n",
       "22  BAD         17.4333591 -1.057237408   0.4357804 -2.42607817  1.526298e-02\n",
       "23  LAP3       365.2625318 -1.030560331   0.2976147 -3.46273320  5.347180e-04\n",
       "24  CD99       643.5209068 -2.255638839   0.2760949 -8.16979570  3.090000e-16\n",
       "25  HS3ST1      14.7767394  0.270394524   0.4535042  0.59623380  5.510190e-01\n",
       "26  AOC1         3.1094441  0.241018564   0.6968345  0.34587635  7.294356e-01\n",
       "27  WNT16        4.1070926  1.180624115   0.6672935  1.76927268  7.684838e-02\n",
       "28  HECW1       17.8167829 -0.026159525   0.7386516 -0.03541524  9.717486e-01\n",
       "29  MAD1L1      99.3680284 -0.144866391   0.3272707 -0.44265005  6.580189e-01\n",
       "30  LASP1     1961.0769280 -1.336887734   0.2236797 -5.97679587  2.280000e-09\n",
       "⋮   ⋮         ⋮            ⋮              ⋮         ⋮            ⋮           \n",
       "471 POU2F2     463.1803447  0.53986676    0.2563443   2.10602249 3.520240e-02\n",
       "472 BRD9       281.2836333  0.34280709    0.2197456   1.56001805 1.187556e-01\n",
       "473 SNX1      1190.4092840  0.01255498    0.3117198   0.04027648 9.678727e-01\n",
       "474 TBPL1      175.5906321 -0.62320065    0.2586071  -2.40983538 1.595972e-02\n",
       "475 ARNTL2      74.6212440 -2.76567200    0.4814649  -5.74428622 9.230000e-09\n",
       "476 BCLAF1    6448.8751000  0.02525367    0.2124010   0.11889616 9.053576e-01\n",
       "477 SLC39A9    488.5664401 -0.49177374    0.1882554  -2.61226964 8.994328e-03\n",
       "478 ANK1        20.2343537  0.57319429    0.4799837   1.19419521 2.324016e-01\n",
       "479 IBSP         0.5011933 -0.10374941    0.5662591  -0.18321899 8.546262e-01\n",
       "480 TFB1M      131.0923289  0.31741102    0.2100039   1.51145279 1.306731e-01\n",
       "481 RABEP1    1068.0602190 -0.21975993    0.1682325  -1.30628694 1.914550e-01\n",
       "482 HMGB3       84.3692469 -4.38728848    0.4200637 -10.44434052 1.560000e-25\n",
       "483 NUP160     822.1479147  0.41786705    0.2635444   1.58556612 1.128378e-01\n",
       "484 BAK1       120.1631076 -1.71103311    0.2624051  -6.52057921 7.000000e-11\n",
       "485 MUSK         1.3780993  0.48417947    0.7300010   0.66325862 5.071649e-01\n",
       "486 IKZF2      289.8239287 -1.63161054    0.3979249  -4.10029788 4.130000e-05\n",
       "487 GRN         80.1371645 -1.09598517    0.5196457  -2.10910091 3.493587e-02\n",
       "488 FAM13B     965.9769543 -0.12459964    0.2179400  -0.57171524 5.675149e-01\n",
       "489 ARHGAP31    66.8541134 -0.70478574    0.4528221  -1.55642967 1.196060e-01\n",
       "490 CENPQ       24.1658529 -0.99668553    0.4652864  -2.14209029 3.218622e-02\n",
       "491 SARS       383.4006187 -0.01094582    0.1850942  -0.05913650 9.528434e-01\n",
       "492 RANBP3     379.8428768  0.08522877    0.1708371   0.49888897 6.178576e-01\n",
       "493 ARID4A    1435.3239890  0.04869732    0.1904170   0.25574039 7.981513e-01\n",
       "494 EIPR1       87.8650442 -0.95503525    0.2356304  -4.05310668 5.050000e-05\n",
       "495 PNPLA6     146.4175068 -0.14635328    0.2900234  -0.50462571 6.138218e-01\n",
       "496 IFT88      111.7153911  0.60100567    0.3082850   1.94951303 5.123419e-02\n",
       "497 ALG1        72.3719334  0.33922670    0.2449200   1.38505115 1.660368e-01\n",
       "498 ZCCHC8     270.0027762 -0.22916478    0.1966266  -1.16548193 2.438240e-01\n",
       "499 ABCF2      288.4767585  0.10264088    0.2711067   0.37859951 7.049853e-01\n",
       "500 CHPF2      171.7401625 -0.07133449    0.2608077  -0.27351377 7.844583e-01\n",
       "    padj        \n",
       "1   8.209295e-03\n",
       "2             NA\n",
       "3   9.144493e-01\n",
       "4   3.312390e-01\n",
       "5   1.590000e-07\n",
       "6   7.150000e-17\n",
       "7   9.742211e-01\n",
       "8   2.135803e-02\n",
       "9   7.365785e-03\n",
       "10  9.850497e-01\n",
       "11  1.301502e-01\n",
       "12  2.670000e-05\n",
       "13  4.646951e-01\n",
       "14  4.158050e-04\n",
       "15            NA\n",
       "16  8.859011e-01\n",
       "17  3.091941e-01\n",
       "18  2.950932e-01\n",
       "19  4.243037e-01\n",
       "20  6.475512e-01\n",
       "21  3.681571e-01\n",
       "22  5.114864e-02\n",
       "23  2.888787e-03\n",
       "24  1.250000e-14\n",
       "25  7.364323e-01\n",
       "26  8.623265e-01\n",
       "27  1.870495e-01\n",
       "28  9.877749e-01\n",
       "29  8.151420e-01\n",
       "30  3.760000e-08\n",
       "⋮   ⋮           \n",
       "471 1.006744e-01\n",
       "472 2.619995e-01\n",
       "473 9.858765e-01\n",
       "474 5.305227e-02\n",
       "475 1.380000e-07\n",
       "476 9.572118e-01\n",
       "477 3.281471e-02\n",
       "478 4.280409e-01\n",
       "479           NA\n",
       "480 2.814311e-01\n",
       "481 3.729001e-01\n",
       "482 1.450000e-23\n",
       "483 2.519199e-01\n",
       "484 1.480000e-09\n",
       "485           NA\n",
       "486 2.998390e-04\n",
       "487 1.000973e-01\n",
       "488 7.485698e-01\n",
       "489 2.632495e-01\n",
       "490 9.348970e-02\n",
       "491 9.797778e-01\n",
       "492 7.848873e-01\n",
       "493 9.010712e-01\n",
       "494 3.582930e-04\n",
       "495 7.821706e-01\n",
       "496 1.361938e-01\n",
       "497 3.352177e-01\n",
       "498 4.418914e-01\n",
       "499 8.456544e-01\n",
       "500 8.936611e-01"
      ]
     },
     "metadata": {},
     "output_type": "display_data"
    },
    {
     "data": {
      "text/html": [
       "'data.frame'"
      ],
      "text/latex": [
       "'data.frame'"
      ],
      "text/markdown": [
       "'data.frame'"
      ],
      "text/plain": [
       "[1] \"data.frame\""
      ]
     },
     "metadata": {},
     "output_type": "display_data"
    }
   ],
   "source": [
    "# Try read.csv!\n",
    "setwd('/home/mkissai/Applied-Bioinformatics-HW-local/Module-2_R')\n",
    "nav.d14 <- read.csv(\"NAV-D14_DEseq2.csv\", header=TRUE)\n",
    "nav.d14\n",
    "class(nav.d14)"
   ]
  },
  {
   "cell_type": "markdown",
   "metadata": {},
   "source": [
    "### 4. View data\n",
    "```\n",
    "str(nav.d14) # Structure\n",
    "dim(nav.d14) # Dimensions\n",
    "head(nav.d14, n=5) # Top 5 rows\n",
    "tail(nav.d14, n=10) # Bottom 5 rows\n",
    "#levels() # List of levels in a factor vector\n",
    "```"
   ]
  },
  {
   "cell_type": "code",
   "execution_count": 11,
   "metadata": {
    "scrolled": true
   },
   "outputs": [
    {
     "name": "stdout",
     "output_type": "stream",
     "text": [
      "'data.frame':\t500 obs. of  7 variables:\n",
      " $ gene.name     : Factor w/ 500 levels \"AASS\",\"ABCB4\",..: 452 448 137 380 58 159 92 164 171 284 ...\n",
      " $ baseMean      : num  25.257 0.289 163.508 296.462 199.012 ...\n",
      " $ log2FoldChange: num  1.3025 -0.0508 -0.055 0.2737 -1.6201 ...\n",
      " $ lfcSE         : num  0.417 0.488 0.249 0.196 0.283 ...\n",
      " $ stat          : num  3.126 -0.104 -0.221 1.393 -5.718 ...\n",
      " $ pvalue        : num  1.77e-03 9.17e-01 8.25e-01 1.63e-01 1.07e-08 ...\n",
      " $ padj          : num  8.21e-03 NA 9.14e-01 3.31e-01 1.59e-07 ...\n"
     ]
    },
    {
     "data": {
      "text/html": [
       "<ol class=list-inline>\n",
       "\t<li>500</li>\n",
       "\t<li>7</li>\n",
       "</ol>\n"
      ],
      "text/latex": [
       "\\begin{enumerate*}\n",
       "\\item 500\n",
       "\\item 7\n",
       "\\end{enumerate*}\n"
      ],
      "text/markdown": [
       "1. 500\n",
       "2. 7\n",
       "\n",
       "\n"
      ],
      "text/plain": [
       "[1] 500   7"
      ]
     },
     "metadata": {},
     "output_type": "display_data"
    },
    {
     "data": {
      "text/html": [
       "<table>\n",
       "<thead><tr><th scope=col>gene.name</th><th scope=col>baseMean</th><th scope=col>log2FoldChange</th><th scope=col>lfcSE</th><th scope=col>stat</th><th scope=col>pvalue</th><th scope=col>padj</th></tr></thead>\n",
       "<tbody>\n",
       "\t<tr><td>TSPAN6     </td><td> 25.256745 </td><td> 1.30246882</td><td>0.4166710  </td><td> 3.1258926 </td><td>0.001772662</td><td>0.008209295</td></tr>\n",
       "\t<tr><td>TNMD       </td><td>  0.288508 </td><td>-0.05077872</td><td>0.4875003  </td><td>-0.1041614 </td><td>0.917041262</td><td>         NA</td></tr>\n",
       "\t<tr><td>DPM1       </td><td>163.507773 </td><td>-0.05502833</td><td>0.2492486  </td><td>-0.2207769 </td><td>0.825266165</td><td>0.914449315</td></tr>\n",
       "</tbody>\n",
       "</table>\n"
      ],
      "text/latex": [
       "\\begin{tabular}{r|lllllll}\n",
       " gene.name & baseMean & log2FoldChange & lfcSE & stat & pvalue & padj\\\\\n",
       "\\hline\n",
       "\t TSPAN6      &  25.256745  &  1.30246882 & 0.4166710   &  3.1258926  & 0.001772662 & 0.008209295\\\\\n",
       "\t TNMD        &   0.288508  & -0.05077872 & 0.4875003   & -0.1041614  & 0.917041262 &          NA\\\\\n",
       "\t DPM1        & 163.507773  & -0.05502833 & 0.2492486   & -0.2207769  & 0.825266165 & 0.914449315\\\\\n",
       "\\end{tabular}\n"
      ],
      "text/markdown": [
       "\n",
       "gene.name | baseMean | log2FoldChange | lfcSE | stat | pvalue | padj | \n",
       "|---|---|---|\n",
       "| TSPAN6      |  25.256745  |  1.30246882 | 0.4166710   |  3.1258926  | 0.001772662 | 0.008209295 | \n",
       "| TNMD        |   0.288508  | -0.05077872 | 0.4875003   | -0.1041614  | 0.917041262 |          NA | \n",
       "| DPM1        | 163.507773  | -0.05502833 | 0.2492486   | -0.2207769  | 0.825266165 | 0.914449315 | \n",
       "\n",
       "\n"
      ],
      "text/plain": [
       "  gene.name baseMean   log2FoldChange lfcSE     stat       pvalue     \n",
       "1 TSPAN6     25.256745  1.30246882    0.4166710  3.1258926 0.001772662\n",
       "2 TNMD        0.288508 -0.05077872    0.4875003 -0.1041614 0.917041262\n",
       "3 DPM1      163.507773 -0.05502833    0.2492486 -0.2207769 0.825266165\n",
       "  padj       \n",
       "1 0.008209295\n",
       "2          NA\n",
       "3 0.914449315"
      ]
     },
     "metadata": {},
     "output_type": "display_data"
    },
    {
     "data": {
      "text/html": [
       "<table>\n",
       "<thead><tr><th></th><th scope=col>gene.name</th><th scope=col>baseMean</th><th scope=col>log2FoldChange</th><th scope=col>lfcSE</th><th scope=col>stat</th><th scope=col>pvalue</th><th scope=col>padj</th></tr></thead>\n",
       "<tbody>\n",
       "\t<tr><th scope=row>497</th><td>ALG1       </td><td> 72.37193  </td><td> 0.33922670</td><td>0.2449200  </td><td> 1.3850512 </td><td>0.1660368  </td><td>0.3352177  </td></tr>\n",
       "\t<tr><th scope=row>498</th><td>ZCCHC8     </td><td>270.00278  </td><td>-0.22916478</td><td>0.1966266  </td><td>-1.1654819 </td><td>0.2438240  </td><td>0.4418914  </td></tr>\n",
       "\t<tr><th scope=row>499</th><td>ABCF2      </td><td>288.47676  </td><td> 0.10264088</td><td>0.2711067  </td><td> 0.3785995 </td><td>0.7049853  </td><td>0.8456544  </td></tr>\n",
       "\t<tr><th scope=row>500</th><td>CHPF2      </td><td>171.74016  </td><td>-0.07133449</td><td>0.2608077  </td><td>-0.2735138 </td><td>0.7844583  </td><td>0.8936611  </td></tr>\n",
       "</tbody>\n",
       "</table>\n"
      ],
      "text/latex": [
       "\\begin{tabular}{r|lllllll}\n",
       "  & gene.name & baseMean & log2FoldChange & lfcSE & stat & pvalue & padj\\\\\n",
       "\\hline\n",
       "\t497 & ALG1        &  72.37193   &  0.33922670 & 0.2449200   &  1.3850512  & 0.1660368   & 0.3352177  \\\\\n",
       "\t498 & ZCCHC8      & 270.00278   & -0.22916478 & 0.1966266   & -1.1654819  & 0.2438240   & 0.4418914  \\\\\n",
       "\t499 & ABCF2       & 288.47676   &  0.10264088 & 0.2711067   &  0.3785995  & 0.7049853   & 0.8456544  \\\\\n",
       "\t500 & CHPF2       & 171.74016   & -0.07133449 & 0.2608077   & -0.2735138  & 0.7844583   & 0.8936611  \\\\\n",
       "\\end{tabular}\n"
      ],
      "text/markdown": [
       "\n",
       "| <!--/--> | gene.name | baseMean | log2FoldChange | lfcSE | stat | pvalue | padj | \n",
       "|---|---|---|---|\n",
       "| 497 | ALG1        |  72.37193   |  0.33922670 | 0.2449200   |  1.3850512  | 0.1660368   | 0.3352177   | \n",
       "| 498 | ZCCHC8      | 270.00278   | -0.22916478 | 0.1966266   | -1.1654819  | 0.2438240   | 0.4418914   | \n",
       "| 499 | ABCF2       | 288.47676   |  0.10264088 | 0.2711067   |  0.3785995  | 0.7049853   | 0.8456544   | \n",
       "| 500 | CHPF2       | 171.74016   | -0.07133449 | 0.2608077   | -0.2735138  | 0.7844583   | 0.8936611   | \n",
       "\n",
       "\n"
      ],
      "text/plain": [
       "    gene.name baseMean  log2FoldChange lfcSE     stat       pvalue    padj     \n",
       "497 ALG1       72.37193  0.33922670    0.2449200  1.3850512 0.1660368 0.3352177\n",
       "498 ZCCHC8    270.00278 -0.22916478    0.1966266 -1.1654819 0.2438240 0.4418914\n",
       "499 ABCF2     288.47676  0.10264088    0.2711067  0.3785995 0.7049853 0.8456544\n",
       "500 CHPF2     171.74016 -0.07133449    0.2608077 -0.2735138 0.7844583 0.8936611"
      ]
     },
     "metadata": {},
     "output_type": "display_data"
    }
   ],
   "source": [
    "# Try viewing data!\n",
    "str(nav.d14)\n",
    "dim(nav.d14)\n",
    "head(nav.d14, n=3)\n",
    "tail(nav.d14, n=4)\n",
    "#levels()"
   ]
  },
  {
   "cell_type": "markdown",
   "metadata": {},
   "source": [
    "### 3. Subsetting / Merging data"
   ]
  },
  {
   "cell_type": "markdown",
   "metadata": {
    "collapsed": true
   },
   "source": [
    "#### 3.1 Subsetting by column names\n",
    "```\n",
    "nav.d14.sub <- nav.d14[c(\"gene.name\", \"log2FoldChange\", \"pvalue\")]\n",
    "head(nav.d14.sub)\n",
    "```"
   ]
  },
  {
   "cell_type": "code",
   "execution_count": 12,
   "metadata": {},
   "outputs": [
    {
     "data": {
      "text/html": [
       "<table>\n",
       "<thead><tr><th scope=col>gene.name</th><th scope=col>log2FoldChange</th><th scope=col>pvalue</th></tr></thead>\n",
       "<tbody>\n",
       "\t<tr><td>TSPAN6      </td><td> 1.302468822</td><td>1.772662e-03</td></tr>\n",
       "\t<tr><td>TNMD        </td><td>-0.050778715</td><td>9.170413e-01</td></tr>\n",
       "\t<tr><td>DPM1        </td><td>-0.055028326</td><td>8.252662e-01</td></tr>\n",
       "\t<tr><td>SCYL3       </td><td> 0.273700992</td><td>1.634953e-01</td></tr>\n",
       "\t<tr><td>C1orf112    </td><td>-1.620120054</td><td>1.070000e-08</td></tr>\n",
       "\t<tr><td>FGR         </td><td>-5.609368054</td><td>1.440000e-18</td></tr>\n",
       "\t<tr><td>CFH         </td><td>-0.054920405</td><td>9.400877e-01</td></tr>\n",
       "\t<tr><td>FUCA2       </td><td>-0.764421958</td><td>5.400523e-03</td></tr>\n",
       "\t<tr><td>GCLC        </td><td>-0.669026757</td><td>1.563919e-03</td></tr>\n",
       "\t<tr><td>NFYA        </td><td>-0.007449532</td><td>9.652875e-01</td></tr>\n",
       "</tbody>\n",
       "</table>\n"
      ],
      "text/latex": [
       "\\begin{tabular}{r|lll}\n",
       " gene.name & log2FoldChange & pvalue\\\\\n",
       "\\hline\n",
       "\t TSPAN6       &  1.302468822 & 1.772662e-03\\\\\n",
       "\t TNMD         & -0.050778715 & 9.170413e-01\\\\\n",
       "\t DPM1         & -0.055028326 & 8.252662e-01\\\\\n",
       "\t SCYL3        &  0.273700992 & 1.634953e-01\\\\\n",
       "\t C1orf112     & -1.620120054 & 1.070000e-08\\\\\n",
       "\t FGR          & -5.609368054 & 1.440000e-18\\\\\n",
       "\t CFH          & -0.054920405 & 9.400877e-01\\\\\n",
       "\t FUCA2        & -0.764421958 & 5.400523e-03\\\\\n",
       "\t GCLC         & -0.669026757 & 1.563919e-03\\\\\n",
       "\t NFYA         & -0.007449532 & 9.652875e-01\\\\\n",
       "\\end{tabular}\n"
      ],
      "text/markdown": [
       "\n",
       "gene.name | log2FoldChange | pvalue | \n",
       "|---|---|---|---|---|---|---|---|---|---|\n",
       "| TSPAN6       |  1.302468822 | 1.772662e-03 | \n",
       "| TNMD         | -0.050778715 | 9.170413e-01 | \n",
       "| DPM1         | -0.055028326 | 8.252662e-01 | \n",
       "| SCYL3        |  0.273700992 | 1.634953e-01 | \n",
       "| C1orf112     | -1.620120054 | 1.070000e-08 | \n",
       "| FGR          | -5.609368054 | 1.440000e-18 | \n",
       "| CFH          | -0.054920405 | 9.400877e-01 | \n",
       "| FUCA2        | -0.764421958 | 5.400523e-03 | \n",
       "| GCLC         | -0.669026757 | 1.563919e-03 | \n",
       "| NFYA         | -0.007449532 | 9.652875e-01 | \n",
       "\n",
       "\n"
      ],
      "text/plain": [
       "   gene.name log2FoldChange pvalue      \n",
       "1  TSPAN6     1.302468822   1.772662e-03\n",
       "2  TNMD      -0.050778715   9.170413e-01\n",
       "3  DPM1      -0.055028326   8.252662e-01\n",
       "4  SCYL3      0.273700992   1.634953e-01\n",
       "5  C1orf112  -1.620120054   1.070000e-08\n",
       "6  FGR       -5.609368054   1.440000e-18\n",
       "7  CFH       -0.054920405   9.400877e-01\n",
       "8  FUCA2     -0.764421958   5.400523e-03\n",
       "9  GCLC      -0.669026757   1.563919e-03\n",
       "10 NFYA      -0.007449532   9.652875e-01"
      ]
     },
     "metadata": {},
     "output_type": "display_data"
    }
   ],
   "source": [
    "# Try subsetting by column names! Use this if you only want to see some column names but not the others\n",
    "nav.d14.sub <- nav.d14[c(\"gene.name\", \"log2FoldChange\", \"pvalue\")]\n",
    "head(nav.d14.sub, n=10) #is head default value 6 rows?"
   ]
  },
  {
   "cell_type": "markdown",
   "metadata": {},
   "source": [
    "#### 3.2  cbind(): merging dataframe vertically\n",
    "```\n",
    "# cbind -- column-bind\n",
    "nav.d14.sub <- cbind(nav.d14.sub, nav.d14[\"baseMean\"]) # For instance you forgot you need baseMean too...\n",
    "head(nav.d14.sub)\n",
    "```"
   ]
  },
  {
   "cell_type": "code",
   "execution_count": 13,
   "metadata": {},
   "outputs": [
    {
     "data": {
      "text/html": [
       "<table>\n",
       "<thead><tr><th scope=col>gene.name</th><th scope=col>log2FoldChange</th><th scope=col>pvalue</th><th scope=col>baseMean</th></tr></thead>\n",
       "<tbody>\n",
       "\t<tr><td>TSPAN6      </td><td> 1.302468822</td><td>1.772662e-03</td><td> 25.256745  </td></tr>\n",
       "\t<tr><td>TNMD        </td><td>-0.050778715</td><td>9.170413e-01</td><td>  0.288508  </td></tr>\n",
       "\t<tr><td>DPM1        </td><td>-0.055028326</td><td>8.252662e-01</td><td>163.507773  </td></tr>\n",
       "\t<tr><td>SCYL3       </td><td> 0.273700992</td><td>1.634953e-01</td><td>296.461713  </td></tr>\n",
       "\t<tr><td>C1orf112    </td><td>-1.620120054</td><td>1.070000e-08</td><td>199.011986  </td></tr>\n",
       "\t<tr><td>FGR         </td><td>-5.609368054</td><td>1.440000e-18</td><td>122.792530  </td></tr>\n",
       "\t<tr><td>CFH         </td><td>-0.054920405</td><td>9.400877e-01</td><td> 27.405217  </td></tr>\n",
       "\t<tr><td>FUCA2       </td><td>-0.764421958</td><td>5.400523e-03</td><td> 72.038492  </td></tr>\n",
       "\t<tr><td>GCLC        </td><td>-0.669026757</td><td>1.563919e-03</td><td>232.823599  </td></tr>\n",
       "\t<tr><td>NFYA        </td><td>-0.007449532</td><td>9.652875e-01</td><td>557.580161  </td></tr>\n",
       "</tbody>\n",
       "</table>\n"
      ],
      "text/latex": [
       "\\begin{tabular}{r|llll}\n",
       " gene.name & log2FoldChange & pvalue & baseMean\\\\\n",
       "\\hline\n",
       "\t TSPAN6       &  1.302468822 & 1.772662e-03 &  25.256745  \\\\\n",
       "\t TNMD         & -0.050778715 & 9.170413e-01 &   0.288508  \\\\\n",
       "\t DPM1         & -0.055028326 & 8.252662e-01 & 163.507773  \\\\\n",
       "\t SCYL3        &  0.273700992 & 1.634953e-01 & 296.461713  \\\\\n",
       "\t C1orf112     & -1.620120054 & 1.070000e-08 & 199.011986  \\\\\n",
       "\t FGR          & -5.609368054 & 1.440000e-18 & 122.792530  \\\\\n",
       "\t CFH          & -0.054920405 & 9.400877e-01 &  27.405217  \\\\\n",
       "\t FUCA2        & -0.764421958 & 5.400523e-03 &  72.038492  \\\\\n",
       "\t GCLC         & -0.669026757 & 1.563919e-03 & 232.823599  \\\\\n",
       "\t NFYA         & -0.007449532 & 9.652875e-01 & 557.580161  \\\\\n",
       "\\end{tabular}\n"
      ],
      "text/markdown": [
       "\n",
       "gene.name | log2FoldChange | pvalue | baseMean | \n",
       "|---|---|---|---|---|---|---|---|---|---|\n",
       "| TSPAN6       |  1.302468822 | 1.772662e-03 |  25.256745   | \n",
       "| TNMD         | -0.050778715 | 9.170413e-01 |   0.288508   | \n",
       "| DPM1         | -0.055028326 | 8.252662e-01 | 163.507773   | \n",
       "| SCYL3        |  0.273700992 | 1.634953e-01 | 296.461713   | \n",
       "| C1orf112     | -1.620120054 | 1.070000e-08 | 199.011986   | \n",
       "| FGR          | -5.609368054 | 1.440000e-18 | 122.792530   | \n",
       "| CFH          | -0.054920405 | 9.400877e-01 |  27.405217   | \n",
       "| FUCA2        | -0.764421958 | 5.400523e-03 |  72.038492   | \n",
       "| GCLC         | -0.669026757 | 1.563919e-03 | 232.823599   | \n",
       "| NFYA         | -0.007449532 | 9.652875e-01 | 557.580161   | \n",
       "\n",
       "\n"
      ],
      "text/plain": [
       "   gene.name log2FoldChange pvalue       baseMean  \n",
       "1  TSPAN6     1.302468822   1.772662e-03  25.256745\n",
       "2  TNMD      -0.050778715   9.170413e-01   0.288508\n",
       "3  DPM1      -0.055028326   8.252662e-01 163.507773\n",
       "4  SCYL3      0.273700992   1.634953e-01 296.461713\n",
       "5  C1orf112  -1.620120054   1.070000e-08 199.011986\n",
       "6  FGR       -5.609368054   1.440000e-18 122.792530\n",
       "7  CFH       -0.054920405   9.400877e-01  27.405217\n",
       "8  FUCA2     -0.764421958   5.400523e-03  72.038492\n",
       "9  GCLC      -0.669026757   1.563919e-03 232.823599\n",
       "10 NFYA      -0.007449532   9.652875e-01 557.580161"
      ]
     },
     "metadata": {},
     "output_type": "display_data"
    }
   ],
   "source": [
    "# Try cbind()!\n",
    "nav.d14.sub <- cbind(nav.d14.sub, nav.d14[\"baseMean\"]) #baseMean is one of the columns you forgot to include in nav.d14.sub\n",
    "head(nav.d14.sub, n=10) \n",
    "#why is baseMean here twice"
   ]
  },
  {
   "cell_type": "markdown",
   "metadata": {},
   "source": [
    "#### 3.3 subset()\n",
    "```\n",
    "nav.d14.sub.sig.less <- subset(nav.d14.sub, pvalue <= 0.05 & log2FoldChange < 0) # Subsetting by value\n",
    "nav.d14.sub.sig.more <- subset(nav.d14.sub, pvalue <= 0.05 & log2FoldChange > 0)\n",
    "```"
   ]
  },
  {
   "cell_type": "code",
   "execution_count": 14,
   "metadata": {},
   "outputs": [
    {
     "data": {
      "text/html": [
       "<table>\n",
       "<thead><tr><th></th><th scope=col>gene.name</th><th scope=col>log2FoldChange</th><th scope=col>pvalue</th><th scope=col>baseMean</th></tr></thead>\n",
       "<tbody>\n",
       "\t<tr><th scope=row>5</th><td>C1orf112    </td><td>-1.6201201  </td><td>1.070000e-08</td><td> 199.01199  </td></tr>\n",
       "\t<tr><th scope=row>6</th><td>FGR         </td><td>-5.6093681  </td><td>1.440000e-18</td><td> 122.79253  </td></tr>\n",
       "\t<tr><th scope=row>8</th><td>FUCA2       </td><td>-0.7644220  </td><td>5.400523e-03</td><td>  72.03849  </td></tr>\n",
       "\t<tr><th scope=row>9</th><td>GCLC        </td><td>-0.6690268  </td><td>1.563919e-03</td><td> 232.82360  </td></tr>\n",
       "\t<tr><th scope=row>14</th><td>ENPP4       </td><td>-1.0797584  </td><td>5.970000e-05</td><td> 166.51521  </td></tr>\n",
       "\t<tr><th scope=row>22</th><td>BAD         </td><td>-1.0572374  </td><td>1.526298e-02</td><td>  17.43336  </td></tr>\n",
       "\t<tr><th scope=row>23</th><td>LAP3        </td><td>-1.0305603  </td><td>5.347180e-04</td><td> 365.26253  </td></tr>\n",
       "\t<tr><th scope=row>24</th><td>CD99        </td><td>-2.2556388  </td><td>3.090000e-16</td><td> 643.52091  </td></tr>\n",
       "\t<tr><th scope=row>30</th><td>LASP1       </td><td>-1.3368877  </td><td>2.280000e-09</td><td>1961.07693  </td></tr>\n",
       "\t<tr><th scope=row>33</th><td>M6PR        </td><td>-1.1672839  </td><td>5.300000e-09</td><td> 963.28049  </td></tr>\n",
       "\t<tr><th scope=row>36</th><td>ICA1        </td><td>-1.2907381  </td><td>8.612650e-04</td><td>  32.06180  </td></tr>\n",
       "\t<tr><th scope=row>40</th><td>CFLAR       </td><td>-0.8483707  </td><td>5.320000e-09</td><td>3988.39214  </td></tr>\n",
       "\t<tr><th scope=row>48</th><td>POLDIP2     </td><td>-0.7594851  </td><td>2.866232e-03</td><td> 279.55276  </td></tr>\n",
       "\t<tr><th scope=row>49</th><td>PLXND1      </td><td>-1.2749392  </td><td>1.237595e-02</td><td>  70.80359  </td></tr>\n",
       "\t<tr><th scope=row>51</th><td>CD38        </td><td>-2.9343790  </td><td>7.450000e-25</td><td> 651.92593  </td></tr>\n",
       "\t<tr><th scope=row>56</th><td>RECQL       </td><td>-1.3665247  </td><td>3.400000e-08</td><td> 586.88767  </td></tr>\n",
       "\t<tr><th scope=row>60</th><td>NDUFAB1     </td><td>-1.1884558  </td><td>3.180000e-06</td><td> 103.25861  </td></tr>\n",
       "\t<tr><th scope=row>67</th><td>ST7         </td><td>-1.8842461  </td><td>1.430000e-08</td><td>  49.79873  </td></tr>\n",
       "\t<tr><th scope=row>68</th><td>CDC27       </td><td>-0.6232038  </td><td>2.194103e-03</td><td> 917.51494  </td></tr>\n",
       "\t<tr><th scope=row>76</th><td>SLC25A5     </td><td>-1.6305216  </td><td>6.720000e-26</td><td> 839.58682  </td></tr>\n",
       "\t<tr><th scope=row>79</th><td>POLR2J      </td><td>-0.8764574  </td><td>6.004330e-04</td><td> 126.71442  </td></tr>\n",
       "\t<tr><th scope=row>86</th><td>REXO5       </td><td>-2.3476787  </td><td>8.040000e-06</td><td>  14.51606  </td></tr>\n",
       "\t<tr><th scope=row>89</th><td>FAM214B     </td><td>-1.6973375  </td><td>1.240000e-05</td><td>  39.12598  </td></tr>\n",
       "\t<tr><th scope=row>94</th><td>TSPOAP1     </td><td>-2.4011576  </td><td>1.020000e-11</td><td> 200.88508  </td></tr>\n",
       "\t<tr><th scope=row>104</th><td>IBTK        </td><td>-1.0030934  </td><td>6.010000e-05</td><td> 572.43027  </td></tr>\n",
       "\t<tr><th scope=row>108</th><td>ITGAL       </td><td>-1.4766820  </td><td>2.700000e-13</td><td>5239.43905  </td></tr>\n",
       "\t<tr><th scope=row>112</th><td>LAMP2       </td><td>-0.7891457  </td><td>1.134440e-04</td><td> 850.30043  </td></tr>\n",
       "\t<tr><th scope=row>115</th><td>GDE1        </td><td>-1.4641596  </td><td>8.830000e-12</td><td> 303.47707  </td></tr>\n",
       "\t<tr><th scope=row>118</th><td>OSBPL7      </td><td>-1.3036323  </td><td>5.483840e-04</td><td> 177.56510  </td></tr>\n",
       "\t<tr><th scope=row>126</th><td>AP2B1       </td><td>-0.4543647  </td><td>3.685812e-03</td><td>2226.78224  </td></tr>\n",
       "\t<tr><th scope=row>⋮</th><td>⋮</td><td>⋮</td><td>⋮</td><td>⋮</td></tr>\n",
       "\t<tr><th scope=row>416</th><td>RTFDC1      </td><td>-0.9489032  </td><td>7.060000e-07</td><td> 442.69901  </td></tr>\n",
       "\t<tr><th scope=row>423</th><td>GRAMD1B     </td><td>-2.7660638  </td><td>4.860000e-19</td><td> 241.64894  </td></tr>\n",
       "\t<tr><th scope=row>425</th><td>NDUFS1      </td><td>-0.5322471  </td><td>3.318130e-04</td><td> 460.26707  </td></tr>\n",
       "\t<tr><th scope=row>426</th><td>RB1CC1      </td><td>-0.5783690  </td><td>2.736229e-02</td><td> 973.82966  </td></tr>\n",
       "\t<tr><th scope=row>427</th><td>ERP44       </td><td>-0.4697434  </td><td>1.910131e-02</td><td> 431.34431  </td></tr>\n",
       "\t<tr><th scope=row>428</th><td>ALAS1       </td><td>-1.2152967  </td><td>1.276290e-04</td><td> 107.46830  </td></tr>\n",
       "\t<tr><th scope=row>433</th><td>DERA        </td><td>-1.1696756  </td><td>5.197490e-04</td><td>  99.56529  </td></tr>\n",
       "\t<tr><th scope=row>434</th><td>STRAP       </td><td>-0.7212104  </td><td>5.950000e-05</td><td> 649.80628  </td></tr>\n",
       "\t<tr><th scope=row>439</th><td>UBR2        </td><td>-0.5369795  </td><td>3.582726e-03</td><td>1282.69776  </td></tr>\n",
       "\t<tr><th scope=row>441</th><td>DEPDC1      </td><td>-3.5091508  </td><td>3.320000e-09</td><td>  15.06146  </td></tr>\n",
       "\t<tr><th scope=row>442</th><td>CCDC28A     </td><td>-0.6467372  </td><td>8.980604e-03</td><td> 182.90566  </td></tr>\n",
       "\t<tr><th scope=row>450</th><td>TOMM34      </td><td>-0.9147485  </td><td>1.253825e-03</td><td> 117.48290  </td></tr>\n",
       "\t<tr><th scope=row>455</th><td>FAS         </td><td>-2.6716605  </td><td>9.780000e-14</td><td> 126.69857  </td></tr>\n",
       "\t<tr><th scope=row>459</th><td>AGPAT4      </td><td>-1.6749799  </td><td>9.800000e-10</td><td> 193.34079  </td></tr>\n",
       "\t<tr><th scope=row>460</th><td>SLAMF7      </td><td>-5.9241695  </td><td>3.690000e-47</td><td> 796.08484  </td></tr>\n",
       "\t<tr><th scope=row>462</th><td>MIPEP       </td><td>-0.9088413  </td><td>1.729131e-02</td><td>  54.12290  </td></tr>\n",
       "\t<tr><th scope=row>463</th><td>PRKCH       </td><td>-0.6890554  </td><td>6.150000e-05</td><td>4921.30999  </td></tr>\n",
       "\t<tr><th scope=row>465</th><td>IFNGR1      </td><td>-0.9440304  </td><td>1.270000e-05</td><td> 178.41966  </td></tr>\n",
       "\t<tr><th scope=row>467</th><td>SH2D2A      </td><td>-1.0995644  </td><td>2.780000e-05</td><td> 414.88104  </td></tr>\n",
       "\t<tr><th scope=row>468</th><td>VRK2        </td><td>-1.0962702  </td><td>1.910000e-05</td><td> 176.41602  </td></tr>\n",
       "\t<tr><th scope=row>469</th><td>TNFRSF1B    </td><td>-3.4064113  </td><td>5.070000e-51</td><td> 542.82545  </td></tr>\n",
       "\t<tr><th scope=row>474</th><td>TBPL1       </td><td>-0.6232007  </td><td>1.595972e-02</td><td> 175.59063  </td></tr>\n",
       "\t<tr><th scope=row>475</th><td>ARNTL2      </td><td>-2.7656720  </td><td>9.230000e-09</td><td>  74.62124  </td></tr>\n",
       "\t<tr><th scope=row>477</th><td>SLC39A9     </td><td>-0.4917737  </td><td>8.994328e-03</td><td> 488.56644  </td></tr>\n",
       "\t<tr><th scope=row>482</th><td>HMGB3       </td><td>-4.3872885  </td><td>1.560000e-25</td><td>  84.36925  </td></tr>\n",
       "\t<tr><th scope=row>484</th><td>BAK1        </td><td>-1.7110331  </td><td>7.000000e-11</td><td> 120.16311  </td></tr>\n",
       "\t<tr><th scope=row>486</th><td>IKZF2       </td><td>-1.6316105  </td><td>4.130000e-05</td><td> 289.82393  </td></tr>\n",
       "\t<tr><th scope=row>487</th><td>GRN         </td><td>-1.0959852  </td><td>3.493587e-02</td><td>  80.13716  </td></tr>\n",
       "\t<tr><th scope=row>490</th><td>CENPQ       </td><td>-0.9966855  </td><td>3.218622e-02</td><td>  24.16585  </td></tr>\n",
       "\t<tr><th scope=row>494</th><td>EIPR1       </td><td>-0.9550352  </td><td>5.050000e-05</td><td>  87.86504  </td></tr>\n",
       "</tbody>\n",
       "</table>\n"
      ],
      "text/latex": [
       "\\begin{tabular}{r|llll}\n",
       "  & gene.name & log2FoldChange & pvalue & baseMean\\\\\n",
       "\\hline\n",
       "\t5 & C1orf112     & -1.6201201   & 1.070000e-08 &  199.01199  \\\\\n",
       "\t6 & FGR          & -5.6093681   & 1.440000e-18 &  122.79253  \\\\\n",
       "\t8 & FUCA2        & -0.7644220   & 5.400523e-03 &   72.03849  \\\\\n",
       "\t9 & GCLC         & -0.6690268   & 1.563919e-03 &  232.82360  \\\\\n",
       "\t14 & ENPP4        & -1.0797584   & 5.970000e-05 &  166.51521  \\\\\n",
       "\t22 & BAD          & -1.0572374   & 1.526298e-02 &   17.43336  \\\\\n",
       "\t23 & LAP3         & -1.0305603   & 5.347180e-04 &  365.26253  \\\\\n",
       "\t24 & CD99         & -2.2556388   & 3.090000e-16 &  643.52091  \\\\\n",
       "\t30 & LASP1        & -1.3368877   & 2.280000e-09 & 1961.07693  \\\\\n",
       "\t33 & M6PR         & -1.1672839   & 5.300000e-09 &  963.28049  \\\\\n",
       "\t36 & ICA1         & -1.2907381   & 8.612650e-04 &   32.06180  \\\\\n",
       "\t40 & CFLAR        & -0.8483707   & 5.320000e-09 & 3988.39214  \\\\\n",
       "\t48 & POLDIP2      & -0.7594851   & 2.866232e-03 &  279.55276  \\\\\n",
       "\t49 & PLXND1       & -1.2749392   & 1.237595e-02 &   70.80359  \\\\\n",
       "\t51 & CD38         & -2.9343790   & 7.450000e-25 &  651.92593  \\\\\n",
       "\t56 & RECQL        & -1.3665247   & 3.400000e-08 &  586.88767  \\\\\n",
       "\t60 & NDUFAB1      & -1.1884558   & 3.180000e-06 &  103.25861  \\\\\n",
       "\t67 & ST7          & -1.8842461   & 1.430000e-08 &   49.79873  \\\\\n",
       "\t68 & CDC27        & -0.6232038   & 2.194103e-03 &  917.51494  \\\\\n",
       "\t76 & SLC25A5      & -1.6305216   & 6.720000e-26 &  839.58682  \\\\\n",
       "\t79 & POLR2J       & -0.8764574   & 6.004330e-04 &  126.71442  \\\\\n",
       "\t86 & REXO5        & -2.3476787   & 8.040000e-06 &   14.51606  \\\\\n",
       "\t89 & FAM214B      & -1.6973375   & 1.240000e-05 &   39.12598  \\\\\n",
       "\t94 & TSPOAP1      & -2.4011576   & 1.020000e-11 &  200.88508  \\\\\n",
       "\t104 & IBTK         & -1.0030934   & 6.010000e-05 &  572.43027  \\\\\n",
       "\t108 & ITGAL        & -1.4766820   & 2.700000e-13 & 5239.43905  \\\\\n",
       "\t112 & LAMP2        & -0.7891457   & 1.134440e-04 &  850.30043  \\\\\n",
       "\t115 & GDE1         & -1.4641596   & 8.830000e-12 &  303.47707  \\\\\n",
       "\t118 & OSBPL7       & -1.3036323   & 5.483840e-04 &  177.56510  \\\\\n",
       "\t126 & AP2B1        & -0.4543647   & 3.685812e-03 & 2226.78224  \\\\\n",
       "\t⋮ & ⋮ & ⋮ & ⋮ & ⋮\\\\\n",
       "\t416 & RTFDC1       & -0.9489032   & 7.060000e-07 &  442.69901  \\\\\n",
       "\t423 & GRAMD1B      & -2.7660638   & 4.860000e-19 &  241.64894  \\\\\n",
       "\t425 & NDUFS1       & -0.5322471   & 3.318130e-04 &  460.26707  \\\\\n",
       "\t426 & RB1CC1       & -0.5783690   & 2.736229e-02 &  973.82966  \\\\\n",
       "\t427 & ERP44        & -0.4697434   & 1.910131e-02 &  431.34431  \\\\\n",
       "\t428 & ALAS1        & -1.2152967   & 1.276290e-04 &  107.46830  \\\\\n",
       "\t433 & DERA         & -1.1696756   & 5.197490e-04 &   99.56529  \\\\\n",
       "\t434 & STRAP        & -0.7212104   & 5.950000e-05 &  649.80628  \\\\\n",
       "\t439 & UBR2         & -0.5369795   & 3.582726e-03 & 1282.69776  \\\\\n",
       "\t441 & DEPDC1       & -3.5091508   & 3.320000e-09 &   15.06146  \\\\\n",
       "\t442 & CCDC28A      & -0.6467372   & 8.980604e-03 &  182.90566  \\\\\n",
       "\t450 & TOMM34       & -0.9147485   & 1.253825e-03 &  117.48290  \\\\\n",
       "\t455 & FAS          & -2.6716605   & 9.780000e-14 &  126.69857  \\\\\n",
       "\t459 & AGPAT4       & -1.6749799   & 9.800000e-10 &  193.34079  \\\\\n",
       "\t460 & SLAMF7       & -5.9241695   & 3.690000e-47 &  796.08484  \\\\\n",
       "\t462 & MIPEP        & -0.9088413   & 1.729131e-02 &   54.12290  \\\\\n",
       "\t463 & PRKCH        & -0.6890554   & 6.150000e-05 & 4921.30999  \\\\\n",
       "\t465 & IFNGR1       & -0.9440304   & 1.270000e-05 &  178.41966  \\\\\n",
       "\t467 & SH2D2A       & -1.0995644   & 2.780000e-05 &  414.88104  \\\\\n",
       "\t468 & VRK2         & -1.0962702   & 1.910000e-05 &  176.41602  \\\\\n",
       "\t469 & TNFRSF1B     & -3.4064113   & 5.070000e-51 &  542.82545  \\\\\n",
       "\t474 & TBPL1        & -0.6232007   & 1.595972e-02 &  175.59063  \\\\\n",
       "\t475 & ARNTL2       & -2.7656720   & 9.230000e-09 &   74.62124  \\\\\n",
       "\t477 & SLC39A9      & -0.4917737   & 8.994328e-03 &  488.56644  \\\\\n",
       "\t482 & HMGB3        & -4.3872885   & 1.560000e-25 &   84.36925  \\\\\n",
       "\t484 & BAK1         & -1.7110331   & 7.000000e-11 &  120.16311  \\\\\n",
       "\t486 & IKZF2        & -1.6316105   & 4.130000e-05 &  289.82393  \\\\\n",
       "\t487 & GRN          & -1.0959852   & 3.493587e-02 &   80.13716  \\\\\n",
       "\t490 & CENPQ        & -0.9966855   & 3.218622e-02 &   24.16585  \\\\\n",
       "\t494 & EIPR1        & -0.9550352   & 5.050000e-05 &   87.86504  \\\\\n",
       "\\end{tabular}\n"
      ],
      "text/markdown": [
       "\n",
       "| <!--/--> | gene.name | log2FoldChange | pvalue | baseMean | \n",
       "|---|---|---|---|---|---|---|---|---|---|---|---|---|---|---|---|---|---|---|---|---|---|---|---|---|---|---|---|---|---|---|---|---|---|---|---|---|---|---|---|---|---|---|---|---|---|---|---|---|---|---|---|---|---|---|---|---|---|---|---|---|\n",
       "| 5 | C1orf112     | -1.6201201   | 1.070000e-08 |  199.01199   | \n",
       "| 6 | FGR          | -5.6093681   | 1.440000e-18 |  122.79253   | \n",
       "| 8 | FUCA2        | -0.7644220   | 5.400523e-03 |   72.03849   | \n",
       "| 9 | GCLC         | -0.6690268   | 1.563919e-03 |  232.82360   | \n",
       "| 14 | ENPP4        | -1.0797584   | 5.970000e-05 |  166.51521   | \n",
       "| 22 | BAD          | -1.0572374   | 1.526298e-02 |   17.43336   | \n",
       "| 23 | LAP3         | -1.0305603   | 5.347180e-04 |  365.26253   | \n",
       "| 24 | CD99         | -2.2556388   | 3.090000e-16 |  643.52091   | \n",
       "| 30 | LASP1        | -1.3368877   | 2.280000e-09 | 1961.07693   | \n",
       "| 33 | M6PR         | -1.1672839   | 5.300000e-09 |  963.28049   | \n",
       "| 36 | ICA1         | -1.2907381   | 8.612650e-04 |   32.06180   | \n",
       "| 40 | CFLAR        | -0.8483707   | 5.320000e-09 | 3988.39214   | \n",
       "| 48 | POLDIP2      | -0.7594851   | 2.866232e-03 |  279.55276   | \n",
       "| 49 | PLXND1       | -1.2749392   | 1.237595e-02 |   70.80359   | \n",
       "| 51 | CD38         | -2.9343790   | 7.450000e-25 |  651.92593   | \n",
       "| 56 | RECQL        | -1.3665247   | 3.400000e-08 |  586.88767   | \n",
       "| 60 | NDUFAB1      | -1.1884558   | 3.180000e-06 |  103.25861   | \n",
       "| 67 | ST7          | -1.8842461   | 1.430000e-08 |   49.79873   | \n",
       "| 68 | CDC27        | -0.6232038   | 2.194103e-03 |  917.51494   | \n",
       "| 76 | SLC25A5      | -1.6305216   | 6.720000e-26 |  839.58682   | \n",
       "| 79 | POLR2J       | -0.8764574   | 6.004330e-04 |  126.71442   | \n",
       "| 86 | REXO5        | -2.3476787   | 8.040000e-06 |   14.51606   | \n",
       "| 89 | FAM214B      | -1.6973375   | 1.240000e-05 |   39.12598   | \n",
       "| 94 | TSPOAP1      | -2.4011576   | 1.020000e-11 |  200.88508   | \n",
       "| 104 | IBTK         | -1.0030934   | 6.010000e-05 |  572.43027   | \n",
       "| 108 | ITGAL        | -1.4766820   | 2.700000e-13 | 5239.43905   | \n",
       "| 112 | LAMP2        | -0.7891457   | 1.134440e-04 |  850.30043   | \n",
       "| 115 | GDE1         | -1.4641596   | 8.830000e-12 |  303.47707   | \n",
       "| 118 | OSBPL7       | -1.3036323   | 5.483840e-04 |  177.56510   | \n",
       "| 126 | AP2B1        | -0.4543647   | 3.685812e-03 | 2226.78224   | \n",
       "| ⋮ | ⋮ | ⋮ | ⋮ | ⋮ | \n",
       "| 416 | RTFDC1       | -0.9489032   | 7.060000e-07 |  442.69901   | \n",
       "| 423 | GRAMD1B      | -2.7660638   | 4.860000e-19 |  241.64894   | \n",
       "| 425 | NDUFS1       | -0.5322471   | 3.318130e-04 |  460.26707   | \n",
       "| 426 | RB1CC1       | -0.5783690   | 2.736229e-02 |  973.82966   | \n",
       "| 427 | ERP44        | -0.4697434   | 1.910131e-02 |  431.34431   | \n",
       "| 428 | ALAS1        | -1.2152967   | 1.276290e-04 |  107.46830   | \n",
       "| 433 | DERA         | -1.1696756   | 5.197490e-04 |   99.56529   | \n",
       "| 434 | STRAP        | -0.7212104   | 5.950000e-05 |  649.80628   | \n",
       "| 439 | UBR2         | -0.5369795   | 3.582726e-03 | 1282.69776   | \n",
       "| 441 | DEPDC1       | -3.5091508   | 3.320000e-09 |   15.06146   | \n",
       "| 442 | CCDC28A      | -0.6467372   | 8.980604e-03 |  182.90566   | \n",
       "| 450 | TOMM34       | -0.9147485   | 1.253825e-03 |  117.48290   | \n",
       "| 455 | FAS          | -2.6716605   | 9.780000e-14 |  126.69857   | \n",
       "| 459 | AGPAT4       | -1.6749799   | 9.800000e-10 |  193.34079   | \n",
       "| 460 | SLAMF7       | -5.9241695   | 3.690000e-47 |  796.08484   | \n",
       "| 462 | MIPEP        | -0.9088413   | 1.729131e-02 |   54.12290   | \n",
       "| 463 | PRKCH        | -0.6890554   | 6.150000e-05 | 4921.30999   | \n",
       "| 465 | IFNGR1       | -0.9440304   | 1.270000e-05 |  178.41966   | \n",
       "| 467 | SH2D2A       | -1.0995644   | 2.780000e-05 |  414.88104   | \n",
       "| 468 | VRK2         | -1.0962702   | 1.910000e-05 |  176.41602   | \n",
       "| 469 | TNFRSF1B     | -3.4064113   | 5.070000e-51 |  542.82545   | \n",
       "| 474 | TBPL1        | -0.6232007   | 1.595972e-02 |  175.59063   | \n",
       "| 475 | ARNTL2       | -2.7656720   | 9.230000e-09 |   74.62124   | \n",
       "| 477 | SLC39A9      | -0.4917737   | 8.994328e-03 |  488.56644   | \n",
       "| 482 | HMGB3        | -4.3872885   | 1.560000e-25 |   84.36925   | \n",
       "| 484 | BAK1         | -1.7110331   | 7.000000e-11 |  120.16311   | \n",
       "| 486 | IKZF2        | -1.6316105   | 4.130000e-05 |  289.82393   | \n",
       "| 487 | GRN          | -1.0959852   | 3.493587e-02 |   80.13716   | \n",
       "| 490 | CENPQ        | -0.9966855   | 3.218622e-02 |   24.16585   | \n",
       "| 494 | EIPR1        | -0.9550352   | 5.050000e-05 |   87.86504   | \n",
       "\n",
       "\n"
      ],
      "text/plain": [
       "    gene.name log2FoldChange pvalue       baseMean  \n",
       "5   C1orf112  -1.6201201     1.070000e-08  199.01199\n",
       "6   FGR       -5.6093681     1.440000e-18  122.79253\n",
       "8   FUCA2     -0.7644220     5.400523e-03   72.03849\n",
       "9   GCLC      -0.6690268     1.563919e-03  232.82360\n",
       "14  ENPP4     -1.0797584     5.970000e-05  166.51521\n",
       "22  BAD       -1.0572374     1.526298e-02   17.43336\n",
       "23  LAP3      -1.0305603     5.347180e-04  365.26253\n",
       "24  CD99      -2.2556388     3.090000e-16  643.52091\n",
       "30  LASP1     -1.3368877     2.280000e-09 1961.07693\n",
       "33  M6PR      -1.1672839     5.300000e-09  963.28049\n",
       "36  ICA1      -1.2907381     8.612650e-04   32.06180\n",
       "40  CFLAR     -0.8483707     5.320000e-09 3988.39214\n",
       "48  POLDIP2   -0.7594851     2.866232e-03  279.55276\n",
       "49  PLXND1    -1.2749392     1.237595e-02   70.80359\n",
       "51  CD38      -2.9343790     7.450000e-25  651.92593\n",
       "56  RECQL     -1.3665247     3.400000e-08  586.88767\n",
       "60  NDUFAB1   -1.1884558     3.180000e-06  103.25861\n",
       "67  ST7       -1.8842461     1.430000e-08   49.79873\n",
       "68  CDC27     -0.6232038     2.194103e-03  917.51494\n",
       "76  SLC25A5   -1.6305216     6.720000e-26  839.58682\n",
       "79  POLR2J    -0.8764574     6.004330e-04  126.71442\n",
       "86  REXO5     -2.3476787     8.040000e-06   14.51606\n",
       "89  FAM214B   -1.6973375     1.240000e-05   39.12598\n",
       "94  TSPOAP1   -2.4011576     1.020000e-11  200.88508\n",
       "104 IBTK      -1.0030934     6.010000e-05  572.43027\n",
       "108 ITGAL     -1.4766820     2.700000e-13 5239.43905\n",
       "112 LAMP2     -0.7891457     1.134440e-04  850.30043\n",
       "115 GDE1      -1.4641596     8.830000e-12  303.47707\n",
       "118 OSBPL7    -1.3036323     5.483840e-04  177.56510\n",
       "126 AP2B1     -0.4543647     3.685812e-03 2226.78224\n",
       "⋮   ⋮         ⋮              ⋮            ⋮         \n",
       "416 RTFDC1    -0.9489032     7.060000e-07  442.69901\n",
       "423 GRAMD1B   -2.7660638     4.860000e-19  241.64894\n",
       "425 NDUFS1    -0.5322471     3.318130e-04  460.26707\n",
       "426 RB1CC1    -0.5783690     2.736229e-02  973.82966\n",
       "427 ERP44     -0.4697434     1.910131e-02  431.34431\n",
       "428 ALAS1     -1.2152967     1.276290e-04  107.46830\n",
       "433 DERA      -1.1696756     5.197490e-04   99.56529\n",
       "434 STRAP     -0.7212104     5.950000e-05  649.80628\n",
       "439 UBR2      -0.5369795     3.582726e-03 1282.69776\n",
       "441 DEPDC1    -3.5091508     3.320000e-09   15.06146\n",
       "442 CCDC28A   -0.6467372     8.980604e-03  182.90566\n",
       "450 TOMM34    -0.9147485     1.253825e-03  117.48290\n",
       "455 FAS       -2.6716605     9.780000e-14  126.69857\n",
       "459 AGPAT4    -1.6749799     9.800000e-10  193.34079\n",
       "460 SLAMF7    -5.9241695     3.690000e-47  796.08484\n",
       "462 MIPEP     -0.9088413     1.729131e-02   54.12290\n",
       "463 PRKCH     -0.6890554     6.150000e-05 4921.30999\n",
       "465 IFNGR1    -0.9440304     1.270000e-05  178.41966\n",
       "467 SH2D2A    -1.0995644     2.780000e-05  414.88104\n",
       "468 VRK2      -1.0962702     1.910000e-05  176.41602\n",
       "469 TNFRSF1B  -3.4064113     5.070000e-51  542.82545\n",
       "474 TBPL1     -0.6232007     1.595972e-02  175.59063\n",
       "475 ARNTL2    -2.7656720     9.230000e-09   74.62124\n",
       "477 SLC39A9   -0.4917737     8.994328e-03  488.56644\n",
       "482 HMGB3     -4.3872885     1.560000e-25   84.36925\n",
       "484 BAK1      -1.7110331     7.000000e-11  120.16311\n",
       "486 IKZF2     -1.6316105     4.130000e-05  289.82393\n",
       "487 GRN       -1.0959852     3.493587e-02   80.13716\n",
       "490 CENPQ     -0.9966855     3.218622e-02   24.16585\n",
       "494 EIPR1     -0.9550352     5.050000e-05   87.86504"
      ]
     },
     "metadata": {},
     "output_type": "display_data"
    },
    {
     "data": {
      "text/html": [
       "<table>\n",
       "<thead><tr><th></th><th scope=col>gene.name</th><th scope=col>log2FoldChange</th><th scope=col>pvalue</th><th scope=col>baseMean</th></tr></thead>\n",
       "<tbody>\n",
       "\t<tr><th scope=row>1</th><td>TSPAN6      </td><td>1.3024688   </td><td>1.772662e-03</td><td>  25.256745 </td></tr>\n",
       "\t<tr><th scope=row>11</th><td>STPG1       </td><td>0.7720063   </td><td>4.846561e-02</td><td> 108.071234 </td></tr>\n",
       "\t<tr><th scope=row>12</th><td>NIPAL3      </td><td>0.8900874   </td><td>2.760000e-06</td><td> 810.656554 </td></tr>\n",
       "\t<tr><th scope=row>31</th><td>SNX11       </td><td>0.6963876   </td><td>1.097049e-03</td><td> 114.355104 </td></tr>\n",
       "\t<tr><th scope=row>37</th><td>DBNDD1      </td><td>1.8243128   </td><td>3.734245e-03</td><td>  10.811359 </td></tr>\n",
       "\t<tr><th scope=row>39</th><td>CASP10      </td><td>0.7842184   </td><td>3.391736e-03</td><td> 663.970730 </td></tr>\n",
       "\t<tr><th scope=row>47</th><td>SARM1       </td><td>1.1543344   </td><td>7.730950e-04</td><td> 234.858550 </td></tr>\n",
       "\t<tr><th scope=row>52</th><td>FKBP4       </td><td>0.5799313   </td><td>1.178518e-03</td><td> 333.208309 </td></tr>\n",
       "\t<tr><th scope=row>55</th><td>CAMKK1      </td><td>1.3548537   </td><td>6.065436e-03</td><td>  21.508310 </td></tr>\n",
       "\t<tr><th scope=row>85</th><td>ACSM3       </td><td>1.3661254   </td><td>1.030000e-06</td><td> 153.312967 </td></tr>\n",
       "\t<tr><th scope=row>87</th><td>CIAPIN1     </td><td>0.7407436   </td><td>1.383271e-03</td><td> 196.071786 </td></tr>\n",
       "\t<tr><th scope=row>88</th><td>SPPL2B      </td><td>0.9093944   </td><td>6.725924e-03</td><td> 149.782878 </td></tr>\n",
       "\t<tr><th scope=row>92</th><td>MSL3        </td><td>0.9273064   </td><td>8.260000e-08</td><td>1088.575004 </td></tr>\n",
       "\t<tr><th scope=row>103</th><td>SOX8        </td><td>3.2116812   </td><td>3.510000e-07</td><td>  17.329632 </td></tr>\n",
       "\t<tr><th scope=row>107</th><td>FBXL3       </td><td>0.7882075   </td><td>1.268840e-04</td><td> 516.295285 </td></tr>\n",
       "\t<tr><th scope=row>116</th><td>REX1BD      </td><td>0.8611585   </td><td>1.832438e-03</td><td> 193.444895 </td></tr>\n",
       "\t<tr><th scope=row>125</th><td>TMEM132A    </td><td>1.7202671   </td><td>4.054140e-04</td><td>  15.831644 </td></tr>\n",
       "\t<tr><th scope=row>128</th><td>ZNF263      </td><td>0.8415202   </td><td>9.794440e-04</td><td> 249.444862 </td></tr>\n",
       "\t<tr><th scope=row>136</th><td>BAIAP2L1    </td><td>1.2668791   </td><td>1.791681e-02</td><td>  24.446935 </td></tr>\n",
       "\t<tr><th scope=row>148</th><td>TBXA2R      </td><td>0.9482660   </td><td>1.387723e-02</td><td>  47.377850 </td></tr>\n",
       "\t<tr><th scope=row>163</th><td>UPP2        </td><td>1.0620590   </td><td>4.290000e-02</td><td>   9.993211 </td></tr>\n",
       "\t<tr><th scope=row>168</th><td>CEACAM21    </td><td>0.9598573   </td><td>3.774924e-03</td><td>  71.057873 </td></tr>\n",
       "\t<tr><th scope=row>180</th><td>ST7L        </td><td>0.8588246   </td><td>7.850000e-05</td><td> 390.066306 </td></tr>\n",
       "\t<tr><th scope=row>181</th><td>TKTL1       </td><td>2.2019635   </td><td>1.290000e-05</td><td>  42.326203 </td></tr>\n",
       "\t<tr><th scope=row>185</th><td>LUC7L       </td><td>0.9291946   </td><td>2.120000e-08</td><td>1229.725185 </td></tr>\n",
       "\t<tr><th scope=row>195</th><td>MYLIP       </td><td>1.1220808   </td><td>1.867480e-04</td><td>1378.672041 </td></tr>\n",
       "\t<tr><th scope=row>201</th><td>CDKL5       </td><td>0.5635094   </td><td>3.697216e-02</td><td> 267.324311 </td></tr>\n",
       "\t<tr><th scope=row>209</th><td>ADAM22      </td><td>1.0163364   </td><td>1.125450e-04</td><td> 170.584279 </td></tr>\n",
       "\t<tr><th scope=row>210</th><td>SYPL1       </td><td>1.9042784   </td><td>2.170000e-17</td><td> 242.073039 </td></tr>\n",
       "\t<tr><th scope=row>213</th><td>CELSR3      </td><td>0.7997894   </td><td>1.909338e-02</td><td> 137.476920 </td></tr>\n",
       "\t<tr><th scope=row>⋮</th><td>⋮</td><td>⋮</td><td>⋮</td><td>⋮</td></tr>\n",
       "\t<tr><th scope=row>273</th><td>HIVEP2      </td><td>0.4013717   </td><td>6.256645e-03</td><td>3786.94721  </td></tr>\n",
       "\t<tr><th scope=row>278</th><td>MRC2        </td><td>3.0312352   </td><td>3.260000e-08</td><td>  27.61193  </td></tr>\n",
       "\t<tr><th scope=row>284</th><td>MKS1        </td><td>0.7774686   </td><td>1.251600e-02</td><td>  62.87394  </td></tr>\n",
       "\t<tr><th scope=row>290</th><td>RNF216      </td><td>0.7175813   </td><td>8.490000e-05</td><td>1251.31037  </td></tr>\n",
       "\t<tr><th scope=row>296</th><td>PIK3C2A     </td><td>0.6335222   </td><td>2.862806e-03</td><td> 881.43903  </td></tr>\n",
       "\t<tr><th scope=row>304</th><td>CEP68       </td><td>1.6302714   </td><td>1.420000e-18</td><td> 755.13632  </td></tr>\n",
       "\t<tr><th scope=row>305</th><td>MAP4K3      </td><td>1.1695104   </td><td>6.430000e-11</td><td> 194.46203  </td></tr>\n",
       "\t<tr><th scope=row>331</th><td>MVP         </td><td>0.4004427   </td><td>4.654308e-02</td><td> 363.26704  </td></tr>\n",
       "\t<tr><th scope=row>337</th><td>ANGEL1      </td><td>1.0703742   </td><td>7.470000e-05</td><td> 347.42582  </td></tr>\n",
       "\t<tr><th scope=row>344</th><td>CD6         </td><td>0.6261552   </td><td>4.276065e-03</td><td>1680.53175  </td></tr>\n",
       "\t<tr><th scope=row>364</th><td>RGPD5       </td><td>1.6579069   </td><td>2.160000e-08</td><td> 614.54606  </td></tr>\n",
       "\t<tr><th scope=row>366</th><td>NUDCD3      </td><td>0.9596171   </td><td>8.000000e-05</td><td> 401.79841  </td></tr>\n",
       "\t<tr><th scope=row>372</th><td>GLT8D1      </td><td>0.4221094   </td><td>2.316126e-02</td><td> 304.76345  </td></tr>\n",
       "\t<tr><th scope=row>377</th><td>RUFY3       </td><td>0.9218141   </td><td>6.490000e-05</td><td> 183.72638  </td></tr>\n",
       "\t<tr><th scope=row>386</th><td>ZNF582      </td><td>1.6463864   </td><td>6.000000e-05</td><td>  37.29452  </td></tr>\n",
       "\t<tr><th scope=row>391</th><td>PRDM11      </td><td>1.0141631   </td><td>1.426970e-04</td><td> 141.41244  </td></tr>\n",
       "\t<tr><th scope=row>405</th><td>PLEKHB1     </td><td>2.6000447   </td><td>4.000000e-20</td><td> 242.66852  </td></tr>\n",
       "\t<tr><th scope=row>411</th><td>OSBPL5      </td><td>1.3268043   </td><td>9.630000e-06</td><td>  73.37576  </td></tr>\n",
       "\t<tr><th scope=row>415</th><td>FHL1        </td><td>0.8315664   </td><td>7.498666e-03</td><td>  93.90452  </td></tr>\n",
       "\t<tr><th scope=row>429</th><td>BIRC3       </td><td>1.6467141   </td><td>2.110000e-11</td><td>1441.06439  </td></tr>\n",
       "\t<tr><th scope=row>430</th><td>AKAP11      </td><td>0.3799250   </td><td>1.450498e-02</td><td>1974.82373  </td></tr>\n",
       "\t<tr><th scope=row>432</th><td>SNAPC1      </td><td>1.1450546   </td><td>2.680000e-08</td><td> 155.21212  </td></tr>\n",
       "\t<tr><th scope=row>435</th><td>ABCC2       </td><td>1.0356412   </td><td>2.931287e-02</td><td>  33.61617  </td></tr>\n",
       "\t<tr><th scope=row>437</th><td>PLEKHO1     </td><td>1.2048629   </td><td>1.243470e-04</td><td> 250.78812  </td></tr>\n",
       "\t<tr><th scope=row>443</th><td>RRAGD       </td><td>1.9650638   </td><td>3.900000e-08</td><td>  45.64599  </td></tr>\n",
       "\t<tr><th scope=row>444</th><td>HSF2        </td><td>0.8312244   </td><td>5.412171e-03</td><td> 215.70850  </td></tr>\n",
       "\t<tr><th scope=row>445</th><td>PHF20       </td><td>0.8825704   </td><td>3.200000e-06</td><td> 998.09175  </td></tr>\n",
       "\t<tr><th scope=row>461</th><td>BTN3A1      </td><td>0.5030785   </td><td>2.228994e-02</td><td>2252.54928  </td></tr>\n",
       "\t<tr><th scope=row>466</th><td>B4GALT7     </td><td>0.7363627   </td><td>4.324505e-02</td><td> 112.40761  </td></tr>\n",
       "\t<tr><th scope=row>471</th><td>POU2F2      </td><td>0.5398668   </td><td>3.520240e-02</td><td> 463.18034  </td></tr>\n",
       "</tbody>\n",
       "</table>\n"
      ],
      "text/latex": [
       "\\begin{tabular}{r|llll}\n",
       "  & gene.name & log2FoldChange & pvalue & baseMean\\\\\n",
       "\\hline\n",
       "\t1 & TSPAN6       & 1.3024688    & 1.772662e-03 &   25.256745 \\\\\n",
       "\t11 & STPG1        & 0.7720063    & 4.846561e-02 &  108.071234 \\\\\n",
       "\t12 & NIPAL3       & 0.8900874    & 2.760000e-06 &  810.656554 \\\\\n",
       "\t31 & SNX11        & 0.6963876    & 1.097049e-03 &  114.355104 \\\\\n",
       "\t37 & DBNDD1       & 1.8243128    & 3.734245e-03 &   10.811359 \\\\\n",
       "\t39 & CASP10       & 0.7842184    & 3.391736e-03 &  663.970730 \\\\\n",
       "\t47 & SARM1        & 1.1543344    & 7.730950e-04 &  234.858550 \\\\\n",
       "\t52 & FKBP4        & 0.5799313    & 1.178518e-03 &  333.208309 \\\\\n",
       "\t55 & CAMKK1       & 1.3548537    & 6.065436e-03 &   21.508310 \\\\\n",
       "\t85 & ACSM3        & 1.3661254    & 1.030000e-06 &  153.312967 \\\\\n",
       "\t87 & CIAPIN1      & 0.7407436    & 1.383271e-03 &  196.071786 \\\\\n",
       "\t88 & SPPL2B       & 0.9093944    & 6.725924e-03 &  149.782878 \\\\\n",
       "\t92 & MSL3         & 0.9273064    & 8.260000e-08 & 1088.575004 \\\\\n",
       "\t103 & SOX8         & 3.2116812    & 3.510000e-07 &   17.329632 \\\\\n",
       "\t107 & FBXL3        & 0.7882075    & 1.268840e-04 &  516.295285 \\\\\n",
       "\t116 & REX1BD       & 0.8611585    & 1.832438e-03 &  193.444895 \\\\\n",
       "\t125 & TMEM132A     & 1.7202671    & 4.054140e-04 &   15.831644 \\\\\n",
       "\t128 & ZNF263       & 0.8415202    & 9.794440e-04 &  249.444862 \\\\\n",
       "\t136 & BAIAP2L1     & 1.2668791    & 1.791681e-02 &   24.446935 \\\\\n",
       "\t148 & TBXA2R       & 0.9482660    & 1.387723e-02 &   47.377850 \\\\\n",
       "\t163 & UPP2         & 1.0620590    & 4.290000e-02 &    9.993211 \\\\\n",
       "\t168 & CEACAM21     & 0.9598573    & 3.774924e-03 &   71.057873 \\\\\n",
       "\t180 & ST7L         & 0.8588246    & 7.850000e-05 &  390.066306 \\\\\n",
       "\t181 & TKTL1        & 2.2019635    & 1.290000e-05 &   42.326203 \\\\\n",
       "\t185 & LUC7L        & 0.9291946    & 2.120000e-08 & 1229.725185 \\\\\n",
       "\t195 & MYLIP        & 1.1220808    & 1.867480e-04 & 1378.672041 \\\\\n",
       "\t201 & CDKL5        & 0.5635094    & 3.697216e-02 &  267.324311 \\\\\n",
       "\t209 & ADAM22       & 1.0163364    & 1.125450e-04 &  170.584279 \\\\\n",
       "\t210 & SYPL1        & 1.9042784    & 2.170000e-17 &  242.073039 \\\\\n",
       "\t213 & CELSR3       & 0.7997894    & 1.909338e-02 &  137.476920 \\\\\n",
       "\t⋮ & ⋮ & ⋮ & ⋮ & ⋮\\\\\n",
       "\t273 & HIVEP2       & 0.4013717    & 6.256645e-03 & 3786.94721  \\\\\n",
       "\t278 & MRC2         & 3.0312352    & 3.260000e-08 &   27.61193  \\\\\n",
       "\t284 & MKS1         & 0.7774686    & 1.251600e-02 &   62.87394  \\\\\n",
       "\t290 & RNF216       & 0.7175813    & 8.490000e-05 & 1251.31037  \\\\\n",
       "\t296 & PIK3C2A      & 0.6335222    & 2.862806e-03 &  881.43903  \\\\\n",
       "\t304 & CEP68        & 1.6302714    & 1.420000e-18 &  755.13632  \\\\\n",
       "\t305 & MAP4K3       & 1.1695104    & 6.430000e-11 &  194.46203  \\\\\n",
       "\t331 & MVP          & 0.4004427    & 4.654308e-02 &  363.26704  \\\\\n",
       "\t337 & ANGEL1       & 1.0703742    & 7.470000e-05 &  347.42582  \\\\\n",
       "\t344 & CD6          & 0.6261552    & 4.276065e-03 & 1680.53175  \\\\\n",
       "\t364 & RGPD5        & 1.6579069    & 2.160000e-08 &  614.54606  \\\\\n",
       "\t366 & NUDCD3       & 0.9596171    & 8.000000e-05 &  401.79841  \\\\\n",
       "\t372 & GLT8D1       & 0.4221094    & 2.316126e-02 &  304.76345  \\\\\n",
       "\t377 & RUFY3        & 0.9218141    & 6.490000e-05 &  183.72638  \\\\\n",
       "\t386 & ZNF582       & 1.6463864    & 6.000000e-05 &   37.29452  \\\\\n",
       "\t391 & PRDM11       & 1.0141631    & 1.426970e-04 &  141.41244  \\\\\n",
       "\t405 & PLEKHB1      & 2.6000447    & 4.000000e-20 &  242.66852  \\\\\n",
       "\t411 & OSBPL5       & 1.3268043    & 9.630000e-06 &   73.37576  \\\\\n",
       "\t415 & FHL1         & 0.8315664    & 7.498666e-03 &   93.90452  \\\\\n",
       "\t429 & BIRC3        & 1.6467141    & 2.110000e-11 & 1441.06439  \\\\\n",
       "\t430 & AKAP11       & 0.3799250    & 1.450498e-02 & 1974.82373  \\\\\n",
       "\t432 & SNAPC1       & 1.1450546    & 2.680000e-08 &  155.21212  \\\\\n",
       "\t435 & ABCC2        & 1.0356412    & 2.931287e-02 &   33.61617  \\\\\n",
       "\t437 & PLEKHO1      & 1.2048629    & 1.243470e-04 &  250.78812  \\\\\n",
       "\t443 & RRAGD        & 1.9650638    & 3.900000e-08 &   45.64599  \\\\\n",
       "\t444 & HSF2         & 0.8312244    & 5.412171e-03 &  215.70850  \\\\\n",
       "\t445 & PHF20        & 0.8825704    & 3.200000e-06 &  998.09175  \\\\\n",
       "\t461 & BTN3A1       & 0.5030785    & 2.228994e-02 & 2252.54928  \\\\\n",
       "\t466 & B4GALT7      & 0.7363627    & 4.324505e-02 &  112.40761  \\\\\n",
       "\t471 & POU2F2       & 0.5398668    & 3.520240e-02 &  463.18034  \\\\\n",
       "\\end{tabular}\n"
      ],
      "text/markdown": [
       "\n",
       "| <!--/--> | gene.name | log2FoldChange | pvalue | baseMean | \n",
       "|---|---|---|---|---|---|---|---|---|---|---|---|---|---|---|---|---|---|---|---|---|---|---|---|---|---|---|---|---|---|---|---|---|---|---|---|---|---|---|---|---|---|---|---|---|---|---|---|---|---|---|---|---|---|---|---|---|---|---|---|---|\n",
       "| 1 | TSPAN6       | 1.3024688    | 1.772662e-03 |   25.256745  | \n",
       "| 11 | STPG1        | 0.7720063    | 4.846561e-02 |  108.071234  | \n",
       "| 12 | NIPAL3       | 0.8900874    | 2.760000e-06 |  810.656554  | \n",
       "| 31 | SNX11        | 0.6963876    | 1.097049e-03 |  114.355104  | \n",
       "| 37 | DBNDD1       | 1.8243128    | 3.734245e-03 |   10.811359  | \n",
       "| 39 | CASP10       | 0.7842184    | 3.391736e-03 |  663.970730  | \n",
       "| 47 | SARM1        | 1.1543344    | 7.730950e-04 |  234.858550  | \n",
       "| 52 | FKBP4        | 0.5799313    | 1.178518e-03 |  333.208309  | \n",
       "| 55 | CAMKK1       | 1.3548537    | 6.065436e-03 |   21.508310  | \n",
       "| 85 | ACSM3        | 1.3661254    | 1.030000e-06 |  153.312967  | \n",
       "| 87 | CIAPIN1      | 0.7407436    | 1.383271e-03 |  196.071786  | \n",
       "| 88 | SPPL2B       | 0.9093944    | 6.725924e-03 |  149.782878  | \n",
       "| 92 | MSL3         | 0.9273064    | 8.260000e-08 | 1088.575004  | \n",
       "| 103 | SOX8         | 3.2116812    | 3.510000e-07 |   17.329632  | \n",
       "| 107 | FBXL3        | 0.7882075    | 1.268840e-04 |  516.295285  | \n",
       "| 116 | REX1BD       | 0.8611585    | 1.832438e-03 |  193.444895  | \n",
       "| 125 | TMEM132A     | 1.7202671    | 4.054140e-04 |   15.831644  | \n",
       "| 128 | ZNF263       | 0.8415202    | 9.794440e-04 |  249.444862  | \n",
       "| 136 | BAIAP2L1     | 1.2668791    | 1.791681e-02 |   24.446935  | \n",
       "| 148 | TBXA2R       | 0.9482660    | 1.387723e-02 |   47.377850  | \n",
       "| 163 | UPP2         | 1.0620590    | 4.290000e-02 |    9.993211  | \n",
       "| 168 | CEACAM21     | 0.9598573    | 3.774924e-03 |   71.057873  | \n",
       "| 180 | ST7L         | 0.8588246    | 7.850000e-05 |  390.066306  | \n",
       "| 181 | TKTL1        | 2.2019635    | 1.290000e-05 |   42.326203  | \n",
       "| 185 | LUC7L        | 0.9291946    | 2.120000e-08 | 1229.725185  | \n",
       "| 195 | MYLIP        | 1.1220808    | 1.867480e-04 | 1378.672041  | \n",
       "| 201 | CDKL5        | 0.5635094    | 3.697216e-02 |  267.324311  | \n",
       "| 209 | ADAM22       | 1.0163364    | 1.125450e-04 |  170.584279  | \n",
       "| 210 | SYPL1        | 1.9042784    | 2.170000e-17 |  242.073039  | \n",
       "| 213 | CELSR3       | 0.7997894    | 1.909338e-02 |  137.476920  | \n",
       "| ⋮ | ⋮ | ⋮ | ⋮ | ⋮ | \n",
       "| 273 | HIVEP2       | 0.4013717    | 6.256645e-03 | 3786.94721   | \n",
       "| 278 | MRC2         | 3.0312352    | 3.260000e-08 |   27.61193   | \n",
       "| 284 | MKS1         | 0.7774686    | 1.251600e-02 |   62.87394   | \n",
       "| 290 | RNF216       | 0.7175813    | 8.490000e-05 | 1251.31037   | \n",
       "| 296 | PIK3C2A      | 0.6335222    | 2.862806e-03 |  881.43903   | \n",
       "| 304 | CEP68        | 1.6302714    | 1.420000e-18 |  755.13632   | \n",
       "| 305 | MAP4K3       | 1.1695104    | 6.430000e-11 |  194.46203   | \n",
       "| 331 | MVP          | 0.4004427    | 4.654308e-02 |  363.26704   | \n",
       "| 337 | ANGEL1       | 1.0703742    | 7.470000e-05 |  347.42582   | \n",
       "| 344 | CD6          | 0.6261552    | 4.276065e-03 | 1680.53175   | \n",
       "| 364 | RGPD5        | 1.6579069    | 2.160000e-08 |  614.54606   | \n",
       "| 366 | NUDCD3       | 0.9596171    | 8.000000e-05 |  401.79841   | \n",
       "| 372 | GLT8D1       | 0.4221094    | 2.316126e-02 |  304.76345   | \n",
       "| 377 | RUFY3        | 0.9218141    | 6.490000e-05 |  183.72638   | \n",
       "| 386 | ZNF582       | 1.6463864    | 6.000000e-05 |   37.29452   | \n",
       "| 391 | PRDM11       | 1.0141631    | 1.426970e-04 |  141.41244   | \n",
       "| 405 | PLEKHB1      | 2.6000447    | 4.000000e-20 |  242.66852   | \n",
       "| 411 | OSBPL5       | 1.3268043    | 9.630000e-06 |   73.37576   | \n",
       "| 415 | FHL1         | 0.8315664    | 7.498666e-03 |   93.90452   | \n",
       "| 429 | BIRC3        | 1.6467141    | 2.110000e-11 | 1441.06439   | \n",
       "| 430 | AKAP11       | 0.3799250    | 1.450498e-02 | 1974.82373   | \n",
       "| 432 | SNAPC1       | 1.1450546    | 2.680000e-08 |  155.21212   | \n",
       "| 435 | ABCC2        | 1.0356412    | 2.931287e-02 |   33.61617   | \n",
       "| 437 | PLEKHO1      | 1.2048629    | 1.243470e-04 |  250.78812   | \n",
       "| 443 | RRAGD        | 1.9650638    | 3.900000e-08 |   45.64599   | \n",
       "| 444 | HSF2         | 0.8312244    | 5.412171e-03 |  215.70850   | \n",
       "| 445 | PHF20        | 0.8825704    | 3.200000e-06 |  998.09175   | \n",
       "| 461 | BTN3A1       | 0.5030785    | 2.228994e-02 | 2252.54928   | \n",
       "| 466 | B4GALT7      | 0.7363627    | 4.324505e-02 |  112.40761   | \n",
       "| 471 | POU2F2       | 0.5398668    | 3.520240e-02 |  463.18034   | \n",
       "\n",
       "\n"
      ],
      "text/plain": [
       "    gene.name log2FoldChange pvalue       baseMean   \n",
       "1   TSPAN6    1.3024688      1.772662e-03   25.256745\n",
       "11  STPG1     0.7720063      4.846561e-02  108.071234\n",
       "12  NIPAL3    0.8900874      2.760000e-06  810.656554\n",
       "31  SNX11     0.6963876      1.097049e-03  114.355104\n",
       "37  DBNDD1    1.8243128      3.734245e-03   10.811359\n",
       "39  CASP10    0.7842184      3.391736e-03  663.970730\n",
       "47  SARM1     1.1543344      7.730950e-04  234.858550\n",
       "52  FKBP4     0.5799313      1.178518e-03  333.208309\n",
       "55  CAMKK1    1.3548537      6.065436e-03   21.508310\n",
       "85  ACSM3     1.3661254      1.030000e-06  153.312967\n",
       "87  CIAPIN1   0.7407436      1.383271e-03  196.071786\n",
       "88  SPPL2B    0.9093944      6.725924e-03  149.782878\n",
       "92  MSL3      0.9273064      8.260000e-08 1088.575004\n",
       "103 SOX8      3.2116812      3.510000e-07   17.329632\n",
       "107 FBXL3     0.7882075      1.268840e-04  516.295285\n",
       "116 REX1BD    0.8611585      1.832438e-03  193.444895\n",
       "125 TMEM132A  1.7202671      4.054140e-04   15.831644\n",
       "128 ZNF263    0.8415202      9.794440e-04  249.444862\n",
       "136 BAIAP2L1  1.2668791      1.791681e-02   24.446935\n",
       "148 TBXA2R    0.9482660      1.387723e-02   47.377850\n",
       "163 UPP2      1.0620590      4.290000e-02    9.993211\n",
       "168 CEACAM21  0.9598573      3.774924e-03   71.057873\n",
       "180 ST7L      0.8588246      7.850000e-05  390.066306\n",
       "181 TKTL1     2.2019635      1.290000e-05   42.326203\n",
       "185 LUC7L     0.9291946      2.120000e-08 1229.725185\n",
       "195 MYLIP     1.1220808      1.867480e-04 1378.672041\n",
       "201 CDKL5     0.5635094      3.697216e-02  267.324311\n",
       "209 ADAM22    1.0163364      1.125450e-04  170.584279\n",
       "210 SYPL1     1.9042784      2.170000e-17  242.073039\n",
       "213 CELSR3    0.7997894      1.909338e-02  137.476920\n",
       "⋮   ⋮         ⋮              ⋮            ⋮          \n",
       "273 HIVEP2    0.4013717      6.256645e-03 3786.94721 \n",
       "278 MRC2      3.0312352      3.260000e-08   27.61193 \n",
       "284 MKS1      0.7774686      1.251600e-02   62.87394 \n",
       "290 RNF216    0.7175813      8.490000e-05 1251.31037 \n",
       "296 PIK3C2A   0.6335222      2.862806e-03  881.43903 \n",
       "304 CEP68     1.6302714      1.420000e-18  755.13632 \n",
       "305 MAP4K3    1.1695104      6.430000e-11  194.46203 \n",
       "331 MVP       0.4004427      4.654308e-02  363.26704 \n",
       "337 ANGEL1    1.0703742      7.470000e-05  347.42582 \n",
       "344 CD6       0.6261552      4.276065e-03 1680.53175 \n",
       "364 RGPD5     1.6579069      2.160000e-08  614.54606 \n",
       "366 NUDCD3    0.9596171      8.000000e-05  401.79841 \n",
       "372 GLT8D1    0.4221094      2.316126e-02  304.76345 \n",
       "377 RUFY3     0.9218141      6.490000e-05  183.72638 \n",
       "386 ZNF582    1.6463864      6.000000e-05   37.29452 \n",
       "391 PRDM11    1.0141631      1.426970e-04  141.41244 \n",
       "405 PLEKHB1   2.6000447      4.000000e-20  242.66852 \n",
       "411 OSBPL5    1.3268043      9.630000e-06   73.37576 \n",
       "415 FHL1      0.8315664      7.498666e-03   93.90452 \n",
       "429 BIRC3     1.6467141      2.110000e-11 1441.06439 \n",
       "430 AKAP11    0.3799250      1.450498e-02 1974.82373 \n",
       "432 SNAPC1    1.1450546      2.680000e-08  155.21212 \n",
       "435 ABCC2     1.0356412      2.931287e-02   33.61617 \n",
       "437 PLEKHO1   1.2048629      1.243470e-04  250.78812 \n",
       "443 RRAGD     1.9650638      3.900000e-08   45.64599 \n",
       "444 HSF2      0.8312244      5.412171e-03  215.70850 \n",
       "445 PHF20     0.8825704      3.200000e-06  998.09175 \n",
       "461 BTN3A1    0.5030785      2.228994e-02 2252.54928 \n",
       "466 B4GALT7   0.7363627      4.324505e-02  112.40761 \n",
       "471 POU2F2    0.5398668      3.520240e-02  463.18034 "
      ]
     },
     "metadata": {},
     "output_type": "display_data"
    }
   ],
   "source": [
    "# Try subset()!\n",
    "nav.d14.sub.sig.less <- subset(nav.d14.sub, pvalue <= 0.05 & log2FoldChange < 0) # a subset where it shows only the values that have both a pvalue of less than or equal to 0.05 and a log2FoldChange less than 0\n",
    "nav.d14.sub.sig.more <- subset(nav.d14.sub, pvalue <= 0.05 & log2FoldChange > 0) # another subset where log2FoldChange is greater than 0\n",
    "nav.d14.sub.sig.less\n",
    "nav.d14.sub.sig.more"
   ]
  },
  {
   "cell_type": "markdown",
   "metadata": {},
   "source": [
    "#### 3.4 rbind(): merging dataframe horizontally\n",
    "```\n",
    "# rbind -- row-bind\n",
    "nav.d14.sub.sig.all <- rbind(nav.d14.sub.sig.less, nav.d14.sub.sig.more) # Merging rows\n",
    "dim(nav.d14.sub.sig.less)\n",
    "dim(nav.d14.sub.sig.more)\n",
    "dim(nav.d14.sub.sig.all)\n",
    "```"
   ]
  },
  {
   "cell_type": "code",
   "execution_count": 15,
   "metadata": {},
   "outputs": [
    {
     "data": {
      "text/html": [
       "<ol class=list-inline>\n",
       "\t<li>116</li>\n",
       "\t<li>4</li>\n",
       "</ol>\n"
      ],
      "text/latex": [
       "\\begin{enumerate*}\n",
       "\\item 116\n",
       "\\item 4\n",
       "\\end{enumerate*}\n"
      ],
      "text/markdown": [
       "1. 116\n",
       "2. 4\n",
       "\n",
       "\n"
      ],
      "text/plain": [
       "[1] 116   4"
      ]
     },
     "metadata": {},
     "output_type": "display_data"
    },
    {
     "data": {
      "text/html": [
       "<ol class=list-inline>\n",
       "\t<li>73</li>\n",
       "\t<li>4</li>\n",
       "</ol>\n"
      ],
      "text/latex": [
       "\\begin{enumerate*}\n",
       "\\item 73\n",
       "\\item 4\n",
       "\\end{enumerate*}\n"
      ],
      "text/markdown": [
       "1. 73\n",
       "2. 4\n",
       "\n",
       "\n"
      ],
      "text/plain": [
       "[1] 73  4"
      ]
     },
     "metadata": {},
     "output_type": "display_data"
    },
    {
     "data": {
      "text/html": [
       "<ol class=list-inline>\n",
       "\t<li>189</li>\n",
       "\t<li>4</li>\n",
       "</ol>\n"
      ],
      "text/latex": [
       "\\begin{enumerate*}\n",
       "\\item 189\n",
       "\\item 4\n",
       "\\end{enumerate*}\n"
      ],
      "text/markdown": [
       "1. 189\n",
       "2. 4\n",
       "\n",
       "\n"
      ],
      "text/plain": [
       "[1] 189   4"
      ]
     },
     "metadata": {},
     "output_type": "display_data"
    }
   ],
   "source": [
    "# Try rbind()! this combines the two datasets that I subsetted in the above code\n",
    "nav.d14.sub.sig.all <- rbind(nav.d14.sub.sig.less, nav.d14.sub.sig.more) \n",
    "dim(nav.d14.sub.sig.less) # gives you dimensions of the dataframe.\n",
    "dim(nav.d14.sub.sig.more)\n",
    "dim(nav.d14.sub.sig.all) # if we combined them correctly the rows should add to each other (i.e 189 rows)"
   ]
  },
  {
   "cell_type": "markdown",
   "metadata": {},
   "source": [
    "#### * Change column names\n",
    "```\n",
    "colnames(nav.d14.sub.sig.all) <- c(\"gn\",\"fc\",\"pval\",\"bm\")\n",
    "head(nav.d14.sub.sig.all)\n",
    "```"
   ]
  },
  {
   "cell_type": "code",
   "execution_count": 16,
   "metadata": {},
   "outputs": [
    {
     "data": {
      "text/html": [
       "<table>\n",
       "<thead><tr><th></th><th scope=col>gn</th><th scope=col>fc</th><th scope=col>pval</th><th scope=col>bm</th></tr></thead>\n",
       "<tbody>\n",
       "\t<tr><th scope=row>5</th><td>C1orf112 </td><td>-1.620120</td><td>1.07e-08 </td><td>199.0120 </td></tr>\n",
       "\t<tr><th scope=row>6</th><td>FGR      </td><td>-5.609368</td><td>1.44e-18 </td><td>122.7925 </td></tr>\n",
       "</tbody>\n",
       "</table>\n"
      ],
      "text/latex": [
       "\\begin{tabular}{r|llll}\n",
       "  & gn & fc & pval & bm\\\\\n",
       "\\hline\n",
       "\t5 & C1orf112  & -1.620120 & 1.07e-08  & 199.0120 \\\\\n",
       "\t6 & FGR       & -5.609368 & 1.44e-18  & 122.7925 \\\\\n",
       "\\end{tabular}\n"
      ],
      "text/markdown": [
       "\n",
       "| <!--/--> | gn | fc | pval | bm | \n",
       "|---|---|\n",
       "| 5 | C1orf112  | -1.620120 | 1.07e-08  | 199.0120  | \n",
       "| 6 | FGR       | -5.609368 | 1.44e-18  | 122.7925  | \n",
       "\n",
       "\n"
      ],
      "text/plain": [
       "  gn       fc        pval     bm      \n",
       "5 C1orf112 -1.620120 1.07e-08 199.0120\n",
       "6 FGR      -5.609368 1.44e-18 122.7925"
      ]
     },
     "metadata": {},
     "output_type": "display_data"
    }
   ],
   "source": [
    "# Try change colnames()!\n",
    "colnames(nav.d14.sub.sig.all) <- c(\"gn\", \"fc\", \"pval\", \"bm\") # basically rewriting the column names by adding a new vector\n",
    "head(nav.d14.sub.sig.all, n=2)"
   ]
  },
  {
   "cell_type": "markdown",
   "metadata": {},
   "source": [
    "### 4. Sort data: order()\n",
    "```\n",
    "nav.d14.sub.sig.all.srt <- nav.d14.sub.sig.all[order(nav.d14.sub.sig.all$bm),]\n",
    "head(nav.d14.sub.sig.all, n=5)\n",
    "head(nav.d14.sub.sig.all.srt, n=5)\n",
    "```"
   ]
  },
  {
   "cell_type": "code",
   "execution_count": 17,
   "metadata": {
    "scrolled": true
   },
   "outputs": [
    {
     "data": {
      "text/html": [
       "<table>\n",
       "<thead><tr><th></th><th scope=col>gn</th><th scope=col>fc</th><th scope=col>pval</th><th scope=col>bm</th></tr></thead>\n",
       "<tbody>\n",
       "\t<tr><th scope=row>5</th><td>C1orf112    </td><td>-1.6201201  </td><td>1.070000e-08</td><td>199.01199   </td></tr>\n",
       "\t<tr><th scope=row>6</th><td>FGR         </td><td>-5.6093681  </td><td>1.440000e-18</td><td>122.79253   </td></tr>\n",
       "\t<tr><th scope=row>8</th><td>FUCA2       </td><td>-0.7644220  </td><td>5.400523e-03</td><td> 72.03849   </td></tr>\n",
       "\t<tr><th scope=row>9</th><td>GCLC        </td><td>-0.6690268  </td><td>1.563919e-03</td><td>232.82360   </td></tr>\n",
       "\t<tr><th scope=row>14</th><td>ENPP4       </td><td>-1.0797584  </td><td>5.970000e-05</td><td>166.51521   </td></tr>\n",
       "</tbody>\n",
       "</table>\n"
      ],
      "text/latex": [
       "\\begin{tabular}{r|llll}\n",
       "  & gn & fc & pval & bm\\\\\n",
       "\\hline\n",
       "\t5 & C1orf112     & -1.6201201   & 1.070000e-08 & 199.01199   \\\\\n",
       "\t6 & FGR          & -5.6093681   & 1.440000e-18 & 122.79253   \\\\\n",
       "\t8 & FUCA2        & -0.7644220   & 5.400523e-03 &  72.03849   \\\\\n",
       "\t9 & GCLC         & -0.6690268   & 1.563919e-03 & 232.82360   \\\\\n",
       "\t14 & ENPP4        & -1.0797584   & 5.970000e-05 & 166.51521   \\\\\n",
       "\\end{tabular}\n"
      ],
      "text/markdown": [
       "\n",
       "| <!--/--> | gn | fc | pval | bm | \n",
       "|---|---|---|---|---|\n",
       "| 5 | C1orf112     | -1.6201201   | 1.070000e-08 | 199.01199    | \n",
       "| 6 | FGR          | -5.6093681   | 1.440000e-18 | 122.79253    | \n",
       "| 8 | FUCA2        | -0.7644220   | 5.400523e-03 |  72.03849    | \n",
       "| 9 | GCLC         | -0.6690268   | 1.563919e-03 | 232.82360    | \n",
       "| 14 | ENPP4        | -1.0797584   | 5.970000e-05 | 166.51521    | \n",
       "\n",
       "\n"
      ],
      "text/plain": [
       "   gn       fc         pval         bm       \n",
       "5  C1orf112 -1.6201201 1.070000e-08 199.01199\n",
       "6  FGR      -5.6093681 1.440000e-18 122.79253\n",
       "8  FUCA2    -0.7644220 5.400523e-03  72.03849\n",
       "9  GCLC     -0.6690268 1.563919e-03 232.82360\n",
       "14 ENPP4    -1.0797584 5.970000e-05 166.51521"
      ]
     },
     "metadata": {},
     "output_type": "display_data"
    },
    {
     "data": {
      "text/html": [
       "<table>\n",
       "<thead><tr><th></th><th scope=col>gn</th><th scope=col>fc</th><th scope=col>pval</th><th scope=col>bm</th></tr></thead>\n",
       "<tbody>\n",
       "\t<tr><th scope=row>220</th><td>PGLYRP1    </td><td> 1.794950  </td><td>0.013660222</td><td> 2.276910  </td></tr>\n",
       "\t<tr><th scope=row>163</th><td>UPP2       </td><td> 1.062059  </td><td>0.042900000</td><td> 9.993211  </td></tr>\n",
       "\t<tr><th scope=row>253</th><td>CD9        </td><td> 1.817403  </td><td>0.002944941</td><td>10.048876  </td></tr>\n",
       "\t<tr><th scope=row>37</th><td>DBNDD1     </td><td> 1.824313  </td><td>0.003734245</td><td>10.811359  </td></tr>\n",
       "\t<tr><th scope=row>307</th><td>TYROBP     </td><td>-2.110031  </td><td>0.001129604</td><td>12.701733  </td></tr>\n",
       "</tbody>\n",
       "</table>\n"
      ],
      "text/latex": [
       "\\begin{tabular}{r|llll}\n",
       "  & gn & fc & pval & bm\\\\\n",
       "\\hline\n",
       "\t220 & PGLYRP1     &  1.794950   & 0.013660222 &  2.276910  \\\\\n",
       "\t163 & UPP2        &  1.062059   & 0.042900000 &  9.993211  \\\\\n",
       "\t253 & CD9         &  1.817403   & 0.002944941 & 10.048876  \\\\\n",
       "\t37 & DBNDD1      &  1.824313   & 0.003734245 & 10.811359  \\\\\n",
       "\t307 & TYROBP      & -2.110031   & 0.001129604 & 12.701733  \\\\\n",
       "\\end{tabular}\n"
      ],
      "text/markdown": [
       "\n",
       "| <!--/--> | gn | fc | pval | bm | \n",
       "|---|---|---|---|---|\n",
       "| 220 | PGLYRP1     |  1.794950   | 0.013660222 |  2.276910   | \n",
       "| 163 | UPP2        |  1.062059   | 0.042900000 |  9.993211   | \n",
       "| 253 | CD9         |  1.817403   | 0.002944941 | 10.048876   | \n",
       "| 37 | DBNDD1      |  1.824313   | 0.003734245 | 10.811359   | \n",
       "| 307 | TYROBP      | -2.110031   | 0.001129604 | 12.701733   | \n",
       "\n",
       "\n"
      ],
      "text/plain": [
       "    gn      fc        pval        bm       \n",
       "220 PGLYRP1  1.794950 0.013660222  2.276910\n",
       "163 UPP2     1.062059 0.042900000  9.993211\n",
       "253 CD9      1.817403 0.002944941 10.048876\n",
       "37  DBNDD1   1.824313 0.003734245 10.811359\n",
       "307 TYROBP  -2.110031 0.001129604 12.701733"
      ]
     },
     "metadata": {},
     "output_type": "display_data"
    }
   ],
   "source": [
    "# Try order()!\n",
    "nav.d14.sub.sig.all.srt <- nav.d14.sub.sig.all[order(nav.d14.sub.sig.all$bm),] #sort by column bm YOU NEED THE COMMA why\n",
    "head(nav.d14.sub.sig.all, n=5)\n",
    "head(nav.d14.sub.sig.all.srt, n=5) #compare before and after sorting"
   ]
  },
  {
   "cell_type": "markdown",
   "metadata": {},
   "source": [
    "### 5. User defined function and apply"
   ]
  },
  {
   "cell_type": "markdown",
   "metadata": {},
   "source": [
    "#### 5.1 User defined function\n",
    "```\n",
    "function.name <- function(x) {\n",
    "...\n",
    "return()\n",
    "}\n",
    "```"
   ]
  },
  {
   "cell_type": "code",
   "execution_count": 1,
   "metadata": {},
   "outputs": [
    {
     "name": "stdout",
     "output_type": "stream",
     "text": [
      "[1] \"Chocolate please!\"\n"
     ]
    }
   ],
   "source": [
    "# Simple function that does only print()\n",
    "requestChocolate <- function(x) {\n",
    "    print(\"Chocolate please!\")\n",
    "}\n",
    "requestChocolate()"
   ]
  },
  {
   "cell_type": "code",
   "execution_count": 2,
   "metadata": {},
   "outputs": [
    {
     "name": "stdout",
     "output_type": "stream",
     "text": [
      "[1] \"Cheese please!\"\n"
     ]
    }
   ],
   "source": [
    "# Function that take a input to print()\n",
    "requestFood <- function(x) {\n",
    "    requested <- paste(x, \" please!\", sep=\"\")\n",
    "    print(requested)\n",
    "}\n",
    "requestFood(\"Cheese\")"
   ]
  },
  {
   "cell_type": "code",
   "execution_count": 50,
   "metadata": {},
   "outputs": [
    {
     "name": "stdout",
     "output_type": "stream",
     "text": [
      "[1] \"Food please!\"\n"
     ]
    },
    {
     "data": {
      "text/html": [
       "TRUE"
      ],
      "text/latex": [
       "TRUE"
      ],
      "text/markdown": [
       "TRUE"
      ],
      "text/plain": [
       "[1] TRUE"
      ]
     },
     "metadata": {},
     "output_type": "display_data"
    }
   ],
   "source": [
    "# Function that take a input and contain if ..., and return a result.\n",
    "needMoreFood <- function(food.weight) {\n",
    "    if (food.weight<10){\n",
    "        print(\"Food please!\")\n",
    "    return(TRUE)\n",
    "        }\n",
    "}\n",
    "food.weight.eval <- needMoreFood(3)\n",
    "food.weight.eval"
   ]
  },
  {
   "cell_type": "markdown",
   "metadata": {
    "collapsed": true
   },
   "source": [
    "##### A function that contain if ... else if ... else ...\n",
    "```\n",
    "# Define a function to evaluate fold change, up-regulation/ down-regulation / no fold change\n",
    "fcEval <- function(x) {\n",
    "    if(x>0){\n",
    "        return(\"UP\")\n",
    "    }\n",
    "    else if(x<0){\n",
    "        return(\"DOWN\")\n",
    "    }\n",
    "    else{\n",
    "        return(\"NONE\")\n",
    "    }\n",
    "}\n",
    "```"
   ]
  },
  {
   "cell_type": "code",
   "execution_count": 1,
   "metadata": {},
   "outputs": [
    {
     "data": {
      "text/html": [
       "'UP'"
      ],
      "text/latex": [
       "'UP'"
      ],
      "text/markdown": [
       "'UP'"
      ],
      "text/plain": [
       "[1] \"UP\""
      ]
     },
     "metadata": {},
     "output_type": "display_data"
    }
   ],
   "source": [
    "# Try define the function above!\n",
    "fcEval <- function(x) {\n",
    "    if(x>0){\n",
    "        return(\"UP\")\n",
    "    } else if(x<0){\n",
    "        return(\"DOWN\")\n",
    "    } else {\n",
    "        return (\"NONE\")\n",
    "    }\n",
    "}\n",
    "\n",
    "fcEval(3)"
   ]
  },
  {
   "cell_type": "markdown",
   "metadata": {},
   "source": [
    "#### 5.2 lapply(): give function to every element of a list and return a list as result\n",
    "Read more about apply: https://www.datacamp.com/community/tutorials/r-tutorial-apply-family\n",
    "```\n",
    "fc.eval.results <- lapply(nav.d14.sub.sig.all$fc,fcEval) # Use lapply to process all the \n",
    "fc.eval.results <- factor(unlist(fc.eval.results)) # Convert list to vector\n",
    "summary(fc.eval.results)\n",
    "```"
   ]
  },
  {
   "cell_type": "code",
   "execution_count": 18,
   "metadata": {},
   "outputs": [
    {
     "data": {
      "text/html": [
       "<dl class=dl-horizontal>\n",
       "\t<dt>DOWN</dt>\n",
       "\t\t<dd>116</dd>\n",
       "\t<dt>UP</dt>\n",
       "\t\t<dd>73</dd>\n",
       "</dl>\n"
      ],
      "text/latex": [
       "\\begin{description*}\n",
       "\\item[DOWN] 116\n",
       "\\item[UP] 73\n",
       "\\end{description*}\n"
      ],
      "text/markdown": [
       "DOWN\n",
       ":   116UP\n",
       ":   73\n",
       "\n"
      ],
      "text/plain": [
       "DOWN   UP \n",
       " 116   73 "
      ]
     },
     "metadata": {},
     "output_type": "display_data"
    }
   ],
   "source": [
    "# Try to use your function by apply!\n",
    "fc.eval.results <- lapply(nav.d14.sub.sig.all$fc,fcEval)\n",
    "fc.eval.results <- factor(unlist(fc.eval.results))\n",
    "summary(fc.eval.results)"
   ]
  },
  {
   "cell_type": "markdown",
   "metadata": {
    "collapsed": true
   },
   "source": [
    "### 6. Export data"
   ]
  },
  {
   "cell_type": "markdown",
   "metadata": {
    "collapsed": true
   },
   "source": [
    "```\n",
    "write.table(nav.d14.sub.sig.all.srt,row.names=FALSE, \"nav.d14.sub.sig.all.srt.csv\", sep=\",\")\n",
    "```"
   ]
  },
  {
   "cell_type": "code",
   "execution_count": 19,
   "metadata": {},
   "outputs": [],
   "source": [
    "# Try export data!\n",
    "write.table(nav.d14.sub.sig.all.srt, row.names=FALSE, \"nav.d14.sub.sig.all.srt.csv\", sep=\",\") #i'm guessing here you create a new csv file"
   ]
  },
  {
   "cell_type": "code",
   "execution_count": 20,
   "metadata": {},
   "outputs": [
    {
     "data": {
      "text/html": [
       "<ol class=list-inline>\n",
       "\t<li>'NAV-D14_DEseq2.csv'</li>\n",
       "\t<li>'NAV-MEM_DEseq2.csv'</li>\n",
       "\t<li>'nav.d14.sub.sig.all.srt.csv'</li>\n",
       "\t<li>'ppg2008.csv'</li>\n",
       "\t<li>'R-1.pptx'</li>\n",
       "\t<li>'R-2.pptx'</li>\n",
       "\t<li>'R-3.pptx'</li>\n",
       "\t<li>'R.intro.1.ipynb'</li>\n",
       "\t<li>'R.intro.1.pdf'</li>\n",
       "\t<li>'R.intro.1.practice2.1.ipynb'</li>\n",
       "\t<li>'R.intro.1.practice2.2.ipynb'</li>\n",
       "\t<li>'R.intro.1.practice2.3.ipynb'</li>\n",
       "\t<li>'R.intro.2.ipynb'</li>\n",
       "</ol>\n"
      ],
      "text/latex": [
       "\\begin{enumerate*}\n",
       "\\item 'NAV-D14\\_DEseq2.csv'\n",
       "\\item 'NAV-MEM\\_DEseq2.csv'\n",
       "\\item 'nav.d14.sub.sig.all.srt.csv'\n",
       "\\item 'ppg2008.csv'\n",
       "\\item 'R-1.pptx'\n",
       "\\item 'R-2.pptx'\n",
       "\\item 'R-3.pptx'\n",
       "\\item 'R.intro.1.ipynb'\n",
       "\\item 'R.intro.1.pdf'\n",
       "\\item 'R.intro.1.practice2.1.ipynb'\n",
       "\\item 'R.intro.1.practice2.2.ipynb'\n",
       "\\item 'R.intro.1.practice2.3.ipynb'\n",
       "\\item 'R.intro.2.ipynb'\n",
       "\\end{enumerate*}\n"
      ],
      "text/markdown": [
       "1. 'NAV-D14_DEseq2.csv'\n",
       "2. 'NAV-MEM_DEseq2.csv'\n",
       "3. 'nav.d14.sub.sig.all.srt.csv'\n",
       "4. 'ppg2008.csv'\n",
       "5. 'R-1.pptx'\n",
       "6. 'R-2.pptx'\n",
       "7. 'R-3.pptx'\n",
       "8. 'R.intro.1.ipynb'\n",
       "9. 'R.intro.1.pdf'\n",
       "10. 'R.intro.1.practice2.1.ipynb'\n",
       "11. 'R.intro.1.practice2.2.ipynb'\n",
       "12. 'R.intro.1.practice2.3.ipynb'\n",
       "13. 'R.intro.2.ipynb'\n",
       "\n",
       "\n"
      ],
      "text/plain": [
       " [1] \"NAV-D14_DEseq2.csv\"          \"NAV-MEM_DEseq2.csv\"         \n",
       " [3] \"nav.d14.sub.sig.all.srt.csv\" \"ppg2008.csv\"                \n",
       " [5] \"R-1.pptx\"                    \"R-2.pptx\"                   \n",
       " [7] \"R-3.pptx\"                    \"R.intro.1.ipynb\"            \n",
       " [9] \"R.intro.1.pdf\"               \"R.intro.1.practice2.1.ipynb\"\n",
       "[11] \"R.intro.1.practice2.2.ipynb\" \"R.intro.1.practice2.3.ipynb\"\n",
       "[13] \"R.intro.2.ipynb\"            "
      ]
     },
     "metadata": {},
     "output_type": "display_data"
    }
   ],
   "source": [
    "#let me see if there is a new file\n",
    "list.files()"
   ]
  },
  {
   "cell_type": "markdown",
   "metadata": {},
   "source": [
    "## Homework"
   ]
  },
  {
   "cell_type": "markdown",
   "metadata": {},
   "source": [
    "## 1. Hello world everyday!\n",
    "### 1.1 Make a vector containing days of the week, from Monday to Sunday.\n",
    "### 1.2 Use a for loop to pring \"Hello world XXXday!\" for each day of the week."
   ]
  },
  {
   "cell_type": "markdown",
   "metadata": {},
   "source": [
    "## 2. The Pie\n",
    "### 2.1 In the first 100 digits of pie, count how many numbers are even. \n",
    "### 2.2 Convert the first 200 digits of pie into a 20x10 matrix\n",
    "https://www.piday.org/million/"
   ]
  },
  {
   "cell_type": "markdown",
   "metadata": {},
   "source": [
    "## 3. Prime numbers\n",
    "### Find first 500 prime numbers. What is the 500th prime number?"
   ]
  },
  {
   "cell_type": "markdown",
   "metadata": {},
   "source": [
    "## 4. Fibonacci number\n",
    "### Define a function to return the Xth fibonacci number\n",
    "https://en.wikipedia.org/wiki/Fibonacci_number"
   ]
  },
  {
   "cell_type": "markdown",
   "metadata": {},
   "source": [
    "## 5. Read both NAV-D14_DEseq2.csv and NAV-MEM-DEseq2.csv into dataframes: df.nav.d14 and df.nav.mem .\n",
    "### 5.1 Subset both dataframes to include only \"baseMean\", \"log2FoldChange\" and \"padj\"\n",
    "### 5.2 Merge the two dataframes (Change column names so that there are no repetative column names. The base mean in two spreadsheets are the same so delete the extra one.) into a dataframe df.nav.d14.mem.\n",
    "### 5.3 Sort the new dataframe on \" baseMean\".\n",
    "### 5.4 Define a function to evaluate padj output:\n",
    "    - padj > 0.05: nonsig\n",
    "    - padj <= 0.05: sig\n",
    "### 5.5 Apply the function to both nav.mem and nav.d14 and create one column to add the evaluation result."
   ]
  },
  {
   "cell_type": "markdown",
   "metadata": {},
   "source": [
    "## Install Swirl,  do \"R programming\" and \"Data analysis\"\n",
    "https://swirlstats.com/students.html"
   ]
  }
 ],
 "metadata": {
  "kernelspec": {
   "display_name": "R",
   "language": "R",
   "name": "ir"
  },
  "language_info": {
   "codemirror_mode": "r",
   "file_extension": ".r",
   "mimetype": "text/x-r-source",
   "name": "R",
   "pygments_lexer": "r",
   "version": "3.5.1"
  }
 },
 "nbformat": 4,
 "nbformat_minor": 2
}
