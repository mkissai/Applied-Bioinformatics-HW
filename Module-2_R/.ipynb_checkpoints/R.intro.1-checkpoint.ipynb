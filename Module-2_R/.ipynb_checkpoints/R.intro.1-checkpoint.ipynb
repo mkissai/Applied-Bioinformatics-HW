{
 "cells": [
  {
   "cell_type": "markdown",
   "metadata": {},
   "source": [
    "# R intro\n",
    "Huitian Diao\n",
    "* Reference: \n",
    "* Quick-R by DataCamp\n",
    "* R for Beginners by emmanuel Paradis"
   ]
  },
  {
   "cell_type": "markdown",
   "metadata": {},
   "source": [
    "## R syntax"
   ]
  },
  {
   "cell_type": "markdown",
   "metadata": {},
   "source": [
    "### 1. Value assignment and function"
   ]
  },
  {
   "cell_type": "code",
   "execution_count": 1,
   "metadata": {},
   "outputs": [],
   "source": [
    "my.string <- \"Hello, world!\""
   ]
  },
  {
   "cell_type": "code",
   "execution_count": 2,
   "metadata": {},
   "outputs": [
    {
     "name": "stdout",
     "output_type": "stream",
     "text": [
      "[1] \"Hello, world!\"\n"
     ]
    }
   ],
   "source": [
    "print(my.string)"
   ]
  },
  {
   "cell_type": "markdown",
   "metadata": {},
   "source": [
    "* Exercise: make R print your name"
   ]
  },
  {
   "cell_type": "code",
   "execution_count": 1,
   "metadata": {},
   "outputs": [
    {
     "name": "stdout",
     "output_type": "stream",
     "text": [
      "[1] \"Milli\"\n"
     ]
    }
   ],
   "source": [
    "my.name <- \"Milli\"\n",
    "print(my.name)"
   ]
  },
  {
   "cell_type": "markdown",
   "metadata": {},
   "source": [
    "### 2. Comments"
   ]
  },
  {
   "cell_type": "code",
   "execution_count": 3,
   "metadata": {},
   "outputs": [
    {
     "name": "stdout",
     "output_type": "stream",
     "text": [
      "[1] \"Hello Apple!\"\n"
     ]
    }
   ],
   "source": [
    "print(\"Hello Apple!\")"
   ]
  },
  {
   "cell_type": "code",
   "execution_count": 2,
   "metadata": {},
   "outputs": [],
   "source": [
    "#print(\"Hello Banana?\")"
   ]
  },
  {
   "cell_type": "code",
   "execution_count": 3,
   "metadata": {},
   "outputs": [
    {
     "name": "stdout",
     "output_type": "stream",
     "text": [
      "[1] \"Hello Cranberry!\"\n"
     ]
    }
   ],
   "source": [
    "print (\"Hello Cranberry!\") #Cranberry is delicious"
   ]
  },
  {
   "cell_type": "markdown",
   "metadata": {},
   "source": [
    "### 3. Working directory"
   ]
  },
  {
   "cell_type": "code",
   "execution_count": 4,
   "metadata": {},
   "outputs": [
    {
     "data": {
      "text/html": [
       "'/home/mkissai/Applied-Bioinformatics-HW-local/Unit1-module2-R'"
      ],
      "text/latex": [
       "'/home/mkissai/Applied-Bioinformatics-HW-local/Unit1-module2-R'"
      ],
      "text/markdown": [
       "'/home/mkissai/Applied-Bioinformatics-HW-local/Unit1-module2-R'"
      ],
      "text/plain": [
       "[1] \"/home/mkissai/Applied-Bioinformatics-HW-local/Unit1-module2-R\""
      ]
     },
     "metadata": {},
     "output_type": "display_data"
    }
   ],
   "source": [
    "getwd()"
   ]
  },
  {
   "cell_type": "code",
   "execution_count": 8,
   "metadata": {},
   "outputs": [
    {
     "data": {
      "text/html": [
       "'/home/mkissai/Applied-Bioinformatics-HW-local/Unit1-module2-R'"
      ],
      "text/latex": [
       "'/home/mkissai/Applied-Bioinformatics-HW-local/Unit1-module2-R'"
      ],
      "text/markdown": [
       "'/home/mkissai/Applied-Bioinformatics-HW-local/Unit1-module2-R'"
      ],
      "text/plain": [
       "[1] \"/home/mkissai/Applied-Bioinformatics-HW-local/Unit1-module2-R\""
      ]
     },
     "metadata": {},
     "output_type": "display_data"
    }
   ],
   "source": [
    "setwd('/home/mkissai/Applied-Bioinformatics-HW-local/Unit1-module2-R/')\n",
    "getwd()"
   ]
  },
  {
   "cell_type": "code",
   "execution_count": 9,
   "metadata": {},
   "outputs": [
    {
     "data": {
      "text/html": [
       "<ol class=list-inline>\n",
       "\t<li>'NAV-D14_DEseq2.csv'</li>\n",
       "\t<li>'NAV-MEM_DEseq2.csv'</li>\n",
       "\t<li>'ppg2008.csv'</li>\n",
       "\t<li>'R-1.pptx'</li>\n",
       "\t<li>'R.intro.1.ipynb'</li>\n",
       "\t<li>'R.intro.1.pdf'</li>\n",
       "\t<li>'R.intro.2.ipynb'</li>\n",
       "</ol>\n"
      ],
      "text/latex": [
       "\\begin{enumerate*}\n",
       "\\item 'NAV-D14\\_DEseq2.csv'\n",
       "\\item 'NAV-MEM\\_DEseq2.csv'\n",
       "\\item 'ppg2008.csv'\n",
       "\\item 'R-1.pptx'\n",
       "\\item 'R.intro.1.ipynb'\n",
       "\\item 'R.intro.1.pdf'\n",
       "\\item 'R.intro.2.ipynb'\n",
       "\\end{enumerate*}\n"
      ],
      "text/markdown": [
       "1. 'NAV-D14_DEseq2.csv'\n",
       "2. 'NAV-MEM_DEseq2.csv'\n",
       "3. 'ppg2008.csv'\n",
       "4. 'R-1.pptx'\n",
       "5. 'R.intro.1.ipynb'\n",
       "6. 'R.intro.1.pdf'\n",
       "7. 'R.intro.2.ipynb'\n",
       "\n",
       "\n"
      ],
      "text/plain": [
       "[1] \"NAV-D14_DEseq2.csv\" \"NAV-MEM_DEseq2.csv\" \"ppg2008.csv\"       \n",
       "[4] \"R-1.pptx\"           \"R.intro.1.ipynb\"    \"R.intro.1.pdf\"     \n",
       "[7] \"R.intro.2.ipynb\"   "
      ]
     },
     "metadata": {},
     "output_type": "display_data"
    }
   ],
   "source": [
    "list.files()"
   ]
  },
  {
   "cell_type": "code",
   "execution_count": 10,
   "metadata": {},
   "outputs": [
    {
     "data": {
      "text/html": [
       "<dl>\n",
       "\t<dt>$platform</dt>\n",
       "\t\t<dd>'x86_64-pc-linux-gnu'</dd>\n",
       "\t<dt>$arch</dt>\n",
       "\t\t<dd>'x86_64'</dd>\n",
       "\t<dt>$os</dt>\n",
       "\t\t<dd>'linux-gnu'</dd>\n",
       "\t<dt>$system</dt>\n",
       "\t\t<dd>'x86_64, linux-gnu'</dd>\n",
       "\t<dt>$status</dt>\n",
       "\t\t<dd>''</dd>\n",
       "\t<dt>$major</dt>\n",
       "\t\t<dd>'3'</dd>\n",
       "\t<dt>$minor</dt>\n",
       "\t\t<dd>'5.1'</dd>\n",
       "\t<dt>$year</dt>\n",
       "\t\t<dd>'2018'</dd>\n",
       "\t<dt>$month</dt>\n",
       "\t\t<dd>'07'</dd>\n",
       "\t<dt>$day</dt>\n",
       "\t\t<dd>'02'</dd>\n",
       "\t<dt>$`svn rev`</dt>\n",
       "\t\t<dd>'74947'</dd>\n",
       "\t<dt>$language</dt>\n",
       "\t\t<dd>'R'</dd>\n",
       "\t<dt>$version.string</dt>\n",
       "\t\t<dd>'R version 3.5.1 (2018-07-02)'</dd>\n",
       "\t<dt>$nickname</dt>\n",
       "\t\t<dd>'Feather Spray'</dd>\n",
       "</dl>\n"
      ],
      "text/latex": [
       "\\begin{description}\n",
       "\\item[\\$platform] 'x86\\_64-pc-linux-gnu'\n",
       "\\item[\\$arch] 'x86\\_64'\n",
       "\\item[\\$os] 'linux-gnu'\n",
       "\\item[\\$system] 'x86\\_64, linux-gnu'\n",
       "\\item[\\$status] ''\n",
       "\\item[\\$major] '3'\n",
       "\\item[\\$minor] '5.1'\n",
       "\\item[\\$year] '2018'\n",
       "\\item[\\$month] '07'\n",
       "\\item[\\$day] '02'\n",
       "\\item[\\$`svn rev`] '74947'\n",
       "\\item[\\$language] 'R'\n",
       "\\item[\\$version.string] 'R version 3.5.1 (2018-07-02)'\n",
       "\\item[\\$nickname] 'Feather Spray'\n",
       "\\end{description}\n"
      ],
      "text/markdown": [
       "$platform\n",
       ":   'x86_64-pc-linux-gnu'\n",
       "$arch\n",
       ":   'x86_64'\n",
       "$os\n",
       ":   'linux-gnu'\n",
       "$system\n",
       ":   'x86_64, linux-gnu'\n",
       "$status\n",
       ":   ''\n",
       "$major\n",
       ":   '3'\n",
       "$minor\n",
       ":   '5.1'\n",
       "$year\n",
       ":   '2018'\n",
       "$month\n",
       ":   '07'\n",
       "$day\n",
       ":   '02'\n",
       "$`svn rev`\n",
       ":   '74947'\n",
       "$language\n",
       ":   'R'\n",
       "$version.string\n",
       ":   'R version 3.5.1 (2018-07-02)'\n",
       "$nickname\n",
       ":   'Feather Spray'\n",
       "\n",
       "\n"
      ],
      "text/plain": [
       "$platform\n",
       "[1] \"x86_64-pc-linux-gnu\"\n",
       "\n",
       "$arch\n",
       "[1] \"x86_64\"\n",
       "\n",
       "$os\n",
       "[1] \"linux-gnu\"\n",
       "\n",
       "$system\n",
       "[1] \"x86_64, linux-gnu\"\n",
       "\n",
       "$status\n",
       "[1] \"\"\n",
       "\n",
       "$major\n",
       "[1] \"3\"\n",
       "\n",
       "$minor\n",
       "[1] \"5.1\"\n",
       "\n",
       "$year\n",
       "[1] \"2018\"\n",
       "\n",
       "$month\n",
       "[1] \"07\"\n",
       "\n",
       "$day\n",
       "[1] \"02\"\n",
       "\n",
       "$`svn rev`\n",
       "[1] \"74947\"\n",
       "\n",
       "$language\n",
       "[1] \"R\"\n",
       "\n",
       "$version.string\n",
       "[1] \"R version 3.5.1 (2018-07-02)\"\n",
       "\n",
       "$nickname\n",
       "[1] \"Feather Spray\"\n"
      ]
     },
     "metadata": {},
     "output_type": "display_data"
    }
   ],
   "source": [
    "R.Version()"
   ]
  },
  {
   "cell_type": "code",
   "execution_count": 1,
   "metadata": {},
   "outputs": [],
   "source": [
    "help(\"print\") # And also google..."
   ]
  },
  {
   "cell_type": "markdown",
   "metadata": {},
   "source": [
    "## Data in R"
   ]
  },
  {
   "cell_type": "markdown",
   "metadata": {},
   "source": [
    "### 1. Objects: name, content and attribute"
   ]
  },
  {
   "cell_type": "code",
   "execution_count": 15,
   "metadata": {},
   "outputs": [],
   "source": [
    "my.string <- \"foo\"\n",
    "my.number <- 888\n",
    "my.logic <- TRUE\n",
    "my.vector <- c(1, 2, 3)"
   ]
  },
  {
   "cell_type": "code",
   "execution_count": 16,
   "metadata": {},
   "outputs": [
    {
     "data": {
      "text/html": [
       "'character'"
      ],
      "text/latex": [
       "'character'"
      ],
      "text/markdown": [
       "'character'"
      ],
      "text/plain": [
       "[1] \"character\""
      ]
     },
     "metadata": {},
     "output_type": "display_data"
    },
    {
     "data": {
      "text/html": [
       "'numeric'"
      ],
      "text/latex": [
       "'numeric'"
      ],
      "text/markdown": [
       "'numeric'"
      ],
      "text/plain": [
       "[1] \"numeric\""
      ]
     },
     "metadata": {},
     "output_type": "display_data"
    },
    {
     "data": {
      "text/html": [
       "'logical'"
      ],
      "text/latex": [
       "'logical'"
      ],
      "text/markdown": [
       "'logical'"
      ],
      "text/plain": [
       "[1] \"logical\""
      ]
     },
     "metadata": {},
     "output_type": "display_data"
    },
    {
     "data": {
      "text/html": [
       "'numeric'"
      ],
      "text/latex": [
       "'numeric'"
      ],
      "text/markdown": [
       "'numeric'"
      ],
      "text/plain": [
       "[1] \"numeric\""
      ]
     },
     "metadata": {},
     "output_type": "display_data"
    }
   ],
   "source": [
    "mode(my.string)\n",
    "mode(my.number)\n",
    "mode(my.logic)\n",
    "mode(my.vector)"
   ]
  },
  {
   "cell_type": "markdown",
   "metadata": {},
   "source": [
    "### 2. Data types"
   ]
  },
  {
   "cell_type": "markdown",
   "metadata": {},
   "source": [
    "#### 2.1 Vectors: a sequence of data elements of the same basic type. Members in a vector are called components."
   ]
  },
  {
   "cell_type": "code",
   "execution_count": 32,
   "metadata": {},
   "outputs": [],
   "source": [
    "my.numbers <- c(1,2,3,4)\n",
    "my.fruits <- c(\"Apple\",\"Banana\",\"Cranberry\", \"Watermelon\")\n",
    "my.logic <- c(TRUE,FALSE,TRUE,FALSE)"
   ]
  },
  {
   "cell_type": "code",
   "execution_count": 33,
   "metadata": {
    "scrolled": true
   },
   "outputs": [
    {
     "data": {
      "text/html": [
       "'numeric'"
      ],
      "text/latex": [
       "'numeric'"
      ],
      "text/markdown": [
       "'numeric'"
      ],
      "text/plain": [
       "[1] \"numeric\""
      ]
     },
     "metadata": {},
     "output_type": "display_data"
    },
    {
     "data": {
      "text/html": [
       "'character'"
      ],
      "text/latex": [
       "'character'"
      ],
      "text/markdown": [
       "'character'"
      ],
      "text/plain": [
       "[1] \"character\""
      ]
     },
     "metadata": {},
     "output_type": "display_data"
    },
    {
     "data": {
      "text/html": [
       "'logical'"
      ],
      "text/latex": [
       "'logical'"
      ],
      "text/markdown": [
       "'logical'"
      ],
      "text/plain": [
       "[1] \"logical\""
      ]
     },
     "metadata": {},
     "output_type": "display_data"
    }
   ],
   "source": [
    "mode(my.numbers)\n",
    "mode(my.fruits)\n",
    "mode(my.logic)"
   ]
  },
  {
   "cell_type": "code",
   "execution_count": 34,
   "metadata": {},
   "outputs": [
    {
     "data": {
      "text/html": [
       "'character'"
      ],
      "text/latex": [
       "'character'"
      ],
      "text/markdown": [
       "'character'"
      ],
      "text/plain": [
       "[1] \"character\""
      ]
     },
     "metadata": {},
     "output_type": "display_data"
    }
   ],
   "source": [
    "my.vector <- c(1,2,\"a\",FALSE)\n",
    "mode(my.vector) # All the elements are considered to be characters, to keep the consistency of data typein the vector"
   ]
  },
  {
   "cell_type": "code",
   "execution_count": 35,
   "metadata": {},
   "outputs": [
    {
     "data": {
      "text/html": [
       "TRUE"
      ],
      "text/latex": [
       "TRUE"
      ],
      "text/markdown": [
       "TRUE"
      ],
      "text/plain": [
       "[1] TRUE"
      ]
     },
     "metadata": {},
     "output_type": "display_data"
    },
    {
     "data": {
      "text/html": [
       "<ol class=list-inline>\n",
       "\t<li>'Banana'</li>\n",
       "\t<li>'Watermelon'</li>\n",
       "</ol>\n"
      ],
      "text/latex": [
       "\\begin{enumerate*}\n",
       "\\item 'Banana'\n",
       "\\item 'Watermelon'\n",
       "\\end{enumerate*}\n"
      ],
      "text/markdown": [
       "1. 'Banana'\n",
       "2. 'Watermelon'\n",
       "\n",
       "\n"
      ],
      "text/plain": [
       "[1] \"Banana\"     \"Watermelon\""
      ]
     },
     "metadata": {},
     "output_type": "display_data"
    },
    {
     "data": {
      "text/html": [
       "<ol class=list-inline>\n",
       "\t<li>1</li>\n",
       "\t<li>2</li>\n",
       "</ol>\n"
      ],
      "text/latex": [
       "\\begin{enumerate*}\n",
       "\\item 1\n",
       "\\item 2\n",
       "\\end{enumerate*}\n"
      ],
      "text/markdown": [
       "1. 1\n",
       "2. 2\n",
       "\n",
       "\n"
      ],
      "text/plain": [
       "[1] 1 2"
      ]
     },
     "metadata": {},
     "output_type": "display_data"
    }
   ],
   "source": [
    "my.logic[1] # Retrive one element\n",
    "my.fruits[c(2,4)] # Retrive multiple element\n",
    "my_numbers[c(1,2)] # Keep in mind that in R the number of elements start with 1, not 0!!!"
   ]
  },
  {
   "cell_type": "code",
   "execution_count": 37,
   "metadata": {},
   "outputs": [
    {
     "data": {
      "text/html": [
       "<ol class=list-inline>\n",
       "\t<li>'1'</li>\n",
       "\t<li>'2'</li>\n",
       "\t<li>'3'</li>\n",
       "\t<li>'4'</li>\n",
       "\t<li>'Apple'</li>\n",
       "\t<li>'Banana'</li>\n",
       "\t<li>'Cranberry'</li>\n",
       "\t<li>'Watermelon'</li>\n",
       "</ol>\n"
      ],
      "text/latex": [
       "\\begin{enumerate*}\n",
       "\\item '1'\n",
       "\\item '2'\n",
       "\\item '3'\n",
       "\\item '4'\n",
       "\\item 'Apple'\n",
       "\\item 'Banana'\n",
       "\\item 'Cranberry'\n",
       "\\item 'Watermelon'\n",
       "\\end{enumerate*}\n"
      ],
      "text/markdown": [
       "1. '1'\n",
       "2. '2'\n",
       "3. '3'\n",
       "4. '4'\n",
       "5. 'Apple'\n",
       "6. 'Banana'\n",
       "7. 'Cranberry'\n",
       "8. 'Watermelon'\n",
       "\n",
       "\n"
      ],
      "text/plain": [
       "[1] \"1\"          \"2\"          \"3\"          \"4\"          \"Apple\"     \n",
       "[6] \"Banana\"     \"Cranberry\"  \"Watermelon\""
      ]
     },
     "metadata": {},
     "output_type": "display_data"
    }
   ],
   "source": [
    "new.vector <- c(my.numbers, my.fruits) # Combining vectors\n",
    "new.vector # Again, all the elements became characters"
   ]
  },
  {
   "cell_type": "markdown",
   "metadata": {},
   "source": [
    "#### 2.2 Matrix: elements arranged in a two-dimensional rectangular layout. Elements in matrix are the same type."
   ]
  },
  {
   "cell_type": "code",
   "execution_count": 39,
   "metadata": {},
   "outputs": [
    {
     "data": {
      "text/html": [
       "<table>\n",
       "<tbody>\n",
       "\t<tr><td> 1 </td><td>11 </td><td>21 </td><td>31 </td><td>41 </td><td>51 </td><td>61 </td><td>71 </td><td>81 </td><td> 91</td></tr>\n",
       "\t<tr><td> 2 </td><td>12 </td><td>22 </td><td>32 </td><td>42 </td><td>52 </td><td>62 </td><td>72 </td><td>82 </td><td> 92</td></tr>\n",
       "\t<tr><td> 3 </td><td>13 </td><td>23 </td><td>33 </td><td>43 </td><td>53 </td><td>63 </td><td>73 </td><td>83 </td><td> 93</td></tr>\n",
       "\t<tr><td> 4 </td><td>14 </td><td>24 </td><td>34 </td><td>44 </td><td>54 </td><td>64 </td><td>74 </td><td>84 </td><td> 94</td></tr>\n",
       "\t<tr><td> 5 </td><td>15 </td><td>25 </td><td>35 </td><td>45 </td><td>55 </td><td>65 </td><td>75 </td><td>85 </td><td> 95</td></tr>\n",
       "\t<tr><td> 6 </td><td>16 </td><td>26 </td><td>36 </td><td>46 </td><td>56 </td><td>66 </td><td>76 </td><td>86 </td><td> 96</td></tr>\n",
       "\t<tr><td> 7 </td><td>17 </td><td>27 </td><td>37 </td><td>47 </td><td>57 </td><td>67 </td><td>77 </td><td>87 </td><td> 97</td></tr>\n",
       "\t<tr><td> 8 </td><td>18 </td><td>28 </td><td>38 </td><td>48 </td><td>58 </td><td>68 </td><td>78 </td><td>88 </td><td> 98</td></tr>\n",
       "\t<tr><td> 9 </td><td>19 </td><td>29 </td><td>39 </td><td>49 </td><td>59 </td><td>69 </td><td>79 </td><td>89 </td><td> 99</td></tr>\n",
       "\t<tr><td>10 </td><td>20 </td><td>30 </td><td>40 </td><td>50 </td><td>60 </td><td>70 </td><td>80 </td><td>90 </td><td>100</td></tr>\n",
       "</tbody>\n",
       "</table>\n"
      ],
      "text/latex": [
       "\\begin{tabular}{llllllllll}\n",
       "\t  1  & 11  & 21  & 31  & 41  & 51  & 61  & 71  & 81  &  91\\\\\n",
       "\t  2  & 12  & 22  & 32  & 42  & 52  & 62  & 72  & 82  &  92\\\\\n",
       "\t  3  & 13  & 23  & 33  & 43  & 53  & 63  & 73  & 83  &  93\\\\\n",
       "\t  4  & 14  & 24  & 34  & 44  & 54  & 64  & 74  & 84  &  94\\\\\n",
       "\t  5  & 15  & 25  & 35  & 45  & 55  & 65  & 75  & 85  &  95\\\\\n",
       "\t  6  & 16  & 26  & 36  & 46  & 56  & 66  & 76  & 86  &  96\\\\\n",
       "\t  7  & 17  & 27  & 37  & 47  & 57  & 67  & 77  & 87  &  97\\\\\n",
       "\t  8  & 18  & 28  & 38  & 48  & 58  & 68  & 78  & 88  &  98\\\\\n",
       "\t  9  & 19  & 29  & 39  & 49  & 59  & 69  & 79  & 89  &  99\\\\\n",
       "\t 10  & 20  & 30  & 40  & 50  & 60  & 70  & 80  & 90  & 100\\\\\n",
       "\\end{tabular}\n"
      ],
      "text/markdown": [
       "\n",
       "|  1  | 11  | 21  | 31  | 41  | 51  | 61  | 71  | 81  |  91 | \n",
       "|  2  | 12  | 22  | 32  | 42  | 52  | 62  | 72  | 82  |  92 | \n",
       "|  3  | 13  | 23  | 33  | 43  | 53  | 63  | 73  | 83  |  93 | \n",
       "|  4  | 14  | 24  | 34  | 44  | 54  | 64  | 74  | 84  |  94 | \n",
       "|  5  | 15  | 25  | 35  | 45  | 55  | 65  | 75  | 85  |  95 | \n",
       "|  6  | 16  | 26  | 36  | 46  | 56  | 66  | 76  | 86  |  96 | \n",
       "|  7  | 17  | 27  | 37  | 47  | 57  | 67  | 77  | 87  |  97 | \n",
       "|  8  | 18  | 28  | 38  | 48  | 58  | 68  | 78  | 88  |  98 | \n",
       "|  9  | 19  | 29  | 39  | 49  | 59  | 69  | 79  | 89  |  99 | \n",
       "| 10  | 20  | 30  | 40  | 50  | 60  | 70  | 80  | 90  | 100 | \n",
       "\n",
       "\n"
      ],
      "text/plain": [
       "      [,1] [,2] [,3] [,4] [,5] [,6] [,7] [,8] [,9] [,10]\n",
       " [1,]  1   11   21   31   41   51   61   71   81    91  \n",
       " [2,]  2   12   22   32   42   52   62   72   82    92  \n",
       " [3,]  3   13   23   33   43   53   63   73   83    93  \n",
       " [4,]  4   14   24   34   44   54   64   74   84    94  \n",
       " [5,]  5   15   25   35   45   55   65   75   85    95  \n",
       " [6,]  6   16   26   36   46   56   66   76   86    96  \n",
       " [7,]  7   17   27   37   47   57   67   77   87    97  \n",
       " [8,]  8   18   28   38   48   58   68   78   88    98  \n",
       " [9,]  9   19   29   39   49   59   69   79   89    99  \n",
       "[10,] 10   20   30   40   50   60   70   80   90   100  "
      ]
     },
     "metadata": {},
     "output_type": "display_data"
    }
   ],
   "source": [
    "my.matrix <- matrix(1:100, nrow=10, ncol=10) # Simple initialization of a numeric matrix\n",
    "my.matrix"
   ]
  },
  {
   "cell_type": "code",
   "execution_count": 47,
   "metadata": {},
   "outputs": [
    {
     "data": {
      "text/html": [
       "<table>\n",
       "<thead><tr><th></th><th scope=col>ColA</th><th scope=col>ColB</th></tr></thead>\n",
       "<tbody>\n",
       "\t<tr><th scope=row>Row1</th><td>Apple     </td><td>Bananna   </td></tr>\n",
       "\t<tr><th scope=row>Row2</th><td>Cranberry </td><td>Durian    </td></tr>\n",
       "\t<tr><th scope=row>Row3</th><td>Watermelon</td><td>Pinapple  </td></tr>\n",
       "</tbody>\n",
       "</table>\n"
      ],
      "text/latex": [
       "\\begin{tabular}{r|ll}\n",
       "  & ColA & ColB\\\\\n",
       "\\hline\n",
       "\tRow1 & Apple      & Bananna   \\\\\n",
       "\tRow2 & Cranberry  & Durian    \\\\\n",
       "\tRow3 & Watermelon & Pinapple  \\\\\n",
       "\\end{tabular}\n"
      ],
      "text/markdown": [
       "\n",
       "| <!--/--> | ColA | ColB | \n",
       "|---|---|---|\n",
       "| Row1 | Apple      | Bananna    | \n",
       "| Row2 | Cranberry  | Durian     | \n",
       "| Row3 | Watermelon | Pinapple   | \n",
       "\n",
       "\n"
      ],
      "text/plain": [
       "     ColA       ColB    \n",
       "Row1 Apple      Bananna \n",
       "Row2 Cranberry  Durian  \n",
       "Row3 Watermelon Pinapple"
      ]
     },
     "metadata": {},
     "output_type": "display_data"
    }
   ],
   "source": [
    "my.fruits <- c(\"Apple\",\"Bananna\",\"Cranberry\",\"Durian\", \"Watermelon\", \"Pinapple\")\n",
    "row.names <- c(\"Row1\", \"Row2\", \"Row3\")\n",
    "column.names <- c(\"ColA\", \"ColB\")\n",
    "# Create a matrix from a vector, and add names for the dimensions\n",
    "my.fruits.matrix <- matrix(my.fruits, nrow=3, ncol=2, byrow=TRUE, dimnames=list(row.names, column.names)) \n",
    "my.fruits.matrix"
   ]
  },
  {
   "cell_type": "code",
   "execution_count": 48,
   "metadata": {},
   "outputs": [
    {
     "data": {
      "text/html": [
       "<table>\n",
       "<thead><tr><th></th><th scope=col>ColA</th><th scope=col>ColB</th></tr></thead>\n",
       "<tbody>\n",
       "\t<tr><th scope=row>Row1</th><td>Apple     </td><td>Durian    </td></tr>\n",
       "\t<tr><th scope=row>Row2</th><td>Bananna   </td><td>Watermelon</td></tr>\n",
       "\t<tr><th scope=row>Row3</th><td>Cranberry </td><td>Pinapple  </td></tr>\n",
       "</tbody>\n",
       "</table>\n"
      ],
      "text/latex": [
       "\\begin{tabular}{r|ll}\n",
       "  & ColA & ColB\\\\\n",
       "\\hline\n",
       "\tRow1 & Apple      & Durian    \\\\\n",
       "\tRow2 & Bananna    & Watermelon\\\\\n",
       "\tRow3 & Cranberry  & Pinapple  \\\\\n",
       "\\end{tabular}\n"
      ],
      "text/markdown": [
       "\n",
       "| <!--/--> | ColA | ColB | \n",
       "|---|---|---|\n",
       "| Row1 | Apple      | Durian     | \n",
       "| Row2 | Bananna    | Watermelon | \n",
       "| Row3 | Cranberry  | Pinapple   | \n",
       "\n",
       "\n"
      ],
      "text/plain": [
       "     ColA      ColB      \n",
       "Row1 Apple     Durian    \n",
       "Row2 Bananna   Watermelon\n",
       "Row3 Cranberry Pinapple  "
      ]
     },
     "metadata": {},
     "output_type": "display_data"
    }
   ],
   "source": [
    "my.fruits <- c(\"Apple\",\"Bananna\",\"Cranberry\",\"Durian\", \"Watermelon\", \"Pinapple\")\n",
    "row.names <- c(\"Row1\", \"Row2\", \"Row3\")\n",
    "column.names <- c(\"ColA\", \"ColB\")\n",
    "# Create a matrix from a vector, and add names for the dimensions\n",
    "my.fruits.matrix <- matrix(my.fruits, nrow=3, ncol=2, byrow=FALSE, dimnames=list(row.names, column.names)) \n",
    "my.fruits.matrix"
   ]
  },
  {
   "cell_type": "markdown",
   "metadata": {},
   "source": [
    "#### 2.3 Array: like matrices but can store more than 2 dimensions."
   ]
  },
  {
   "cell_type": "code",
   "execution_count": 56,
   "metadata": {},
   "outputs": [
    {
     "name": "stdout",
     "output_type": "stream",
     "text": [
      ", , theMatrix\n",
      "\n",
      "     ColA ColB ColC ColD\n",
      "Row1    0    4    8   12\n",
      "Row2    1    5    9   13\n",
      "Row3    2    6   10   14\n",
      "Row4    3    7   11   15\n",
      "\n",
      ", , theMatrixReloaded\n",
      "\n",
      "     ColA ColB ColC ColD\n",
      "Row1   16   20   24   28\n",
      "Row2   17   21   25   29\n",
      "Row3   18   22   26   30\n",
      "Row4   19   23   27   31\n",
      "\n",
      ", , theMatrixRevolutions\n",
      "\n",
      "     ColA ColB ColC ColD\n",
      "Row1   32   36   40   44\n",
      "Row2   33   37   41   45\n",
      "Row3   34   38   42   46\n",
      "Row4   35   39   43   47\n",
      "\n",
      ", , theMatrixMilli\n",
      "\n",
      "     ColA ColB ColC ColD\n",
      "Row1   48   52   56   60\n",
      "Row2   49   53   57   61\n",
      "Row3   50   54   58   62\n",
      "Row4   51   55   59   63\n",
      "\n"
     ]
    }
   ],
   "source": [
    "vector.1 <- seq(0,63,by=1) # Create a vector(list) of numbers from 0 to 63.\n",
    "column.names <- c(\"ColA\",\"ColB\",\"ColC\", \"ColD\") # A vector for the column names\n",
    "row.names <- c(\"Row1\",\"Row2\",\"Row3\", \"Row4\") # A vector for row names\n",
    "matrix.names <- c(\"theMatrix\",\"theMatrixReloaded\",\"theMatrixRevolutions\", \"theMatrixMilli\") # A vector for matrix names (third dimension)\n",
    "# Create an array from vector\n",
    "array.1 <- array(vector.1, dim=c(4,4,4), dimnames=list(row.names,column.names,matrix.names))\n",
    "print(array.1)"
   ]
  },
  {
   "cell_type": "code",
   "execution_count": 51,
   "metadata": {},
   "outputs": [],
   "source": [
    "help(array)"
   ]
  },
  {
   "cell_type": "markdown",
   "metadata": {},
   "source": [
    "#### 2.4 Data Frames: like matrices, but different columns can have different modes."
   ]
  },
  {
   "cell_type": "code",
   "execution_count": 58,
   "metadata": {},
   "outputs": [
    {
     "data": {
      "text/html": [
       "<table>\n",
       "<thead><tr><th scope=col>fruits.type</th><th scope=col>fruits.numbers</th><th scope=col>fruits.price</th><th scope=col>fruits.smell</th></tr></thead>\n",
       "<tbody>\n",
       "\t<tr><td>Apple      </td><td> 10        </td><td> 5         </td><td>FALSE      </td></tr>\n",
       "\t<tr><td>Bananna    </td><td> 20        </td><td>10         </td><td>FALSE      </td></tr>\n",
       "\t<tr><td>Cranberry  </td><td>100        </td><td>15         </td><td>FALSE      </td></tr>\n",
       "\t<tr><td>Durian     </td><td>  4        </td><td>20         </td><td> TRUE      </td></tr>\n",
       "\t<tr><td>Watermellon</td><td>500        </td><td> 5         </td><td> TRUE      </td></tr>\n",
       "\t<tr><td>Pineapple  </td><td> 80        </td><td> 8         </td><td>FALSE      </td></tr>\n",
       "</tbody>\n",
       "</table>\n"
      ],
      "text/latex": [
       "\\begin{tabular}{r|llll}\n",
       " fruits.type & fruits.numbers & fruits.price & fruits.smell\\\\\n",
       "\\hline\n",
       "\t Apple       &  10         &  5          & FALSE      \\\\\n",
       "\t Bananna     &  20         & 10          & FALSE      \\\\\n",
       "\t Cranberry   & 100         & 15          & FALSE      \\\\\n",
       "\t Durian      &   4         & 20          &  TRUE      \\\\\n",
       "\t Watermellon & 500         &  5          &  TRUE      \\\\\n",
       "\t Pineapple   &  80         &  8          & FALSE      \\\\\n",
       "\\end{tabular}\n"
      ],
      "text/markdown": [
       "\n",
       "fruits.type | fruits.numbers | fruits.price | fruits.smell | \n",
       "|---|---|---|---|---|---|\n",
       "| Apple       |  10         |  5          | FALSE       | \n",
       "| Bananna     |  20         | 10          | FALSE       | \n",
       "| Cranberry   | 100         | 15          | FALSE       | \n",
       "| Durian      |   4         | 20          |  TRUE       | \n",
       "| Watermellon | 500         |  5          |  TRUE       | \n",
       "| Pineapple   |  80         |  8          | FALSE       | \n",
       "\n",
       "\n"
      ],
      "text/plain": [
       "  fruits.type fruits.numbers fruits.price fruits.smell\n",
       "1 Apple        10             5           FALSE       \n",
       "2 Bananna      20            10           FALSE       \n",
       "3 Cranberry   100            15           FALSE       \n",
       "4 Durian        4            20            TRUE       \n",
       "5 Watermellon 500             5            TRUE       \n",
       "6 Pineapple    80             8           FALSE       "
      ]
     },
     "metadata": {},
     "output_type": "display_data"
    }
   ],
   "source": [
    "fruits.type <- c(\"Apple\",\"Bananna\",\"Cranberry\",\"Durian\", \"Watermellon\", \"Pineapple\")\n",
    "fruits.numbers <- c(10,20,100,4,500,80)\n",
    "fruits.price <- c(5,10,15,20,5,8)\n",
    "fruits.smell <- c(FALSE, FALSE, FALSE, TRUE, TRUE, FALSE)\n",
    "# Create a data frame from vectors\n",
    "df.fruits <- data.frame(fruits.type, fruits.numbers, fruits.price, fruits.smell)\n",
    "df.fruits"
   ]
  },
  {
   "cell_type": "code",
   "execution_count": 59,
   "metadata": {},
   "outputs": [
    {
     "data": {
      "text/html": [
       "<table>\n",
       "<thead><tr><th scope=col>Type</th><th scope=col>Number</th><th scope=col>Price</th><th scope=col>Smell</th></tr></thead>\n",
       "<tbody>\n",
       "\t<tr><td>Apple      </td><td> 10        </td><td> 5         </td><td>FALSE      </td></tr>\n",
       "\t<tr><td>Bananna    </td><td> 20        </td><td>10         </td><td>FALSE      </td></tr>\n",
       "\t<tr><td>Cranberry  </td><td>100        </td><td>15         </td><td>FALSE      </td></tr>\n",
       "\t<tr><td>Durian     </td><td>  4        </td><td>20         </td><td> TRUE      </td></tr>\n",
       "\t<tr><td>Watermellon</td><td>500        </td><td> 5         </td><td> TRUE      </td></tr>\n",
       "\t<tr><td>Pineapple  </td><td> 80        </td><td> 8         </td><td>FALSE      </td></tr>\n",
       "</tbody>\n",
       "</table>\n"
      ],
      "text/latex": [
       "\\begin{tabular}{r|llll}\n",
       " Type & Number & Price & Smell\\\\\n",
       "\\hline\n",
       "\t Apple       &  10         &  5          & FALSE      \\\\\n",
       "\t Bananna     &  20         & 10          & FALSE      \\\\\n",
       "\t Cranberry   & 100         & 15          & FALSE      \\\\\n",
       "\t Durian      &   4         & 20          &  TRUE      \\\\\n",
       "\t Watermellon & 500         &  5          &  TRUE      \\\\\n",
       "\t Pineapple   &  80         &  8          & FALSE      \\\\\n",
       "\\end{tabular}\n"
      ],
      "text/markdown": [
       "\n",
       "Type | Number | Price | Smell | \n",
       "|---|---|---|---|---|---|\n",
       "| Apple       |  10         |  5          | FALSE       | \n",
       "| Bananna     |  20         | 10          | FALSE       | \n",
       "| Cranberry   | 100         | 15          | FALSE       | \n",
       "| Durian      |   4         | 20          |  TRUE       | \n",
       "| Watermellon | 500         |  5          |  TRUE       | \n",
       "| Pineapple   |  80         |  8          | FALSE       | \n",
       "\n",
       "\n"
      ],
      "text/plain": [
       "  Type        Number Price Smell\n",
       "1 Apple        10     5    FALSE\n",
       "2 Bananna      20    10    FALSE\n",
       "3 Cranberry   100    15    FALSE\n",
       "4 Durian        4    20     TRUE\n",
       "5 Watermellon 500     5     TRUE\n",
       "6 Pineapple    80     8    FALSE"
      ]
     },
     "metadata": {},
     "output_type": "display_data"
    }
   ],
   "source": [
    "names(df.fruits) <- c(\"Type\",\"Number\",\"Price\",\"Smell\") # Rename columns\n",
    "df.fruits"
   ]
  },
  {
   "cell_type": "code",
   "execution_count": 61,
   "metadata": {},
   "outputs": [
    {
     "data": {
      "text/html": [
       "<table>\n",
       "<thead><tr><th></th><th scope=col>Type</th><th scope=col>Number</th><th scope=col>Price</th><th scope=col>Smell</th></tr></thead>\n",
       "<tbody>\n",
       "\t<tr><th scope=row>row1</th><td>Apple      </td><td> 10        </td><td> 5         </td><td>FALSE      </td></tr>\n",
       "\t<tr><th scope=row>row2</th><td>Bananna    </td><td> 20        </td><td>10         </td><td>FALSE      </td></tr>\n",
       "\t<tr><th scope=row>row3</th><td>Cranberry  </td><td>100        </td><td>15         </td><td>FALSE      </td></tr>\n",
       "\t<tr><th scope=row>row4</th><td>Durian     </td><td>  4        </td><td>20         </td><td> TRUE      </td></tr>\n",
       "\t<tr><th scope=row>row5</th><td>Watermellon</td><td>500        </td><td> 5         </td><td> TRUE      </td></tr>\n",
       "\t<tr><th scope=row>row6</th><td>Pineapple  </td><td> 80        </td><td> 8         </td><td>FALSE      </td></tr>\n",
       "</tbody>\n",
       "</table>\n"
      ],
      "text/latex": [
       "\\begin{tabular}{r|llll}\n",
       "  & Type & Number & Price & Smell\\\\\n",
       "\\hline\n",
       "\trow1 & Apple       &  10         &  5          & FALSE      \\\\\n",
       "\trow2 & Bananna     &  20         & 10          & FALSE      \\\\\n",
       "\trow3 & Cranberry   & 100         & 15          & FALSE      \\\\\n",
       "\trow4 & Durian      &   4         & 20          &  TRUE      \\\\\n",
       "\trow5 & Watermellon & 500         &  5          &  TRUE      \\\\\n",
       "\trow6 & Pineapple   &  80         &  8          & FALSE      \\\\\n",
       "\\end{tabular}\n"
      ],
      "text/markdown": [
       "\n",
       "| <!--/--> | Type | Number | Price | Smell | \n",
       "|---|---|---|---|---|---|\n",
       "| row1 | Apple       |  10         |  5          | FALSE       | \n",
       "| row2 | Bananna     |  20         | 10          | FALSE       | \n",
       "| row3 | Cranberry   | 100         | 15          | FALSE       | \n",
       "| row4 | Durian      |   4         | 20          |  TRUE       | \n",
       "| row5 | Watermellon | 500         |  5          |  TRUE       | \n",
       "| row6 | Pineapple   |  80         |  8          | FALSE       | \n",
       "\n",
       "\n"
      ],
      "text/plain": [
       "     Type        Number Price Smell\n",
       "row1 Apple        10     5    FALSE\n",
       "row2 Bananna      20    10    FALSE\n",
       "row3 Cranberry   100    15    FALSE\n",
       "row4 Durian        4    20     TRUE\n",
       "row5 Watermellon 500     5     TRUE\n",
       "row6 Pineapple    80     8    FALSE"
      ]
     },
     "metadata": {},
     "output_type": "display_data"
    }
   ],
   "source": [
    "row.names(df.fruits) <- c(\"row1\", \"row2\", \"row3\", \"row4\", \"row5\", \"row6\") # Rename rows\n",
    "df.fruits"
   ]
  },
  {
   "cell_type": "code",
   "execution_count": 62,
   "metadata": {},
   "outputs": [
    {
     "data": {
      "text/html": [
       "<table>\n",
       "<thead><tr><th></th><th scope=col>Type</th><th scope=col>Price</th></tr></thead>\n",
       "<tbody>\n",
       "\t<tr><th scope=row>row1</th><td>Apple      </td><td> 5         </td></tr>\n",
       "\t<tr><th scope=row>row2</th><td>Bananna    </td><td>10         </td></tr>\n",
       "\t<tr><th scope=row>row3</th><td>Cranberry  </td><td>15         </td></tr>\n",
       "\t<tr><th scope=row>row4</th><td>Durian     </td><td>20         </td></tr>\n",
       "\t<tr><th scope=row>row5</th><td>Watermellon</td><td> 5         </td></tr>\n",
       "\t<tr><th scope=row>row6</th><td>Pineapple  </td><td> 8         </td></tr>\n",
       "</tbody>\n",
       "</table>\n"
      ],
      "text/latex": [
       "\\begin{tabular}{r|ll}\n",
       "  & Type & Price\\\\\n",
       "\\hline\n",
       "\trow1 & Apple       &  5         \\\\\n",
       "\trow2 & Bananna     & 10         \\\\\n",
       "\trow3 & Cranberry   & 15         \\\\\n",
       "\trow4 & Durian      & 20         \\\\\n",
       "\trow5 & Watermellon &  5         \\\\\n",
       "\trow6 & Pineapple   &  8         \\\\\n",
       "\\end{tabular}\n"
      ],
      "text/markdown": [
       "\n",
       "| <!--/--> | Type | Price | \n",
       "|---|---|---|---|---|---|\n",
       "| row1 | Apple       |  5          | \n",
       "| row2 | Bananna     | 10          | \n",
       "| row3 | Cranberry   | 15          | \n",
       "| row4 | Durian      | 20          | \n",
       "| row5 | Watermellon |  5          | \n",
       "| row6 | Pineapple   |  8          | \n",
       "\n",
       "\n"
      ],
      "text/plain": [
       "     Type        Price\n",
       "row1 Apple        5   \n",
       "row2 Bananna     10   \n",
       "row3 Cranberry   15   \n",
       "row4 Durian      20   \n",
       "row5 Watermellon  5   \n",
       "row6 Pineapple    8   "
      ]
     },
     "metadata": {},
     "output_type": "display_data"
    }
   ],
   "source": [
    "df.fruits[c(\"Type\",\"Price\")] # Extract columns with IDs \"Type\" and \"Price\""
   ]
  },
  {
   "cell_type": "code",
   "execution_count": 63,
   "metadata": {},
   "outputs": [
    {
     "data": {
      "text/html": [
       "<table>\n",
       "<thead><tr><th></th><th scope=col>Type</th><th scope=col>Number</th></tr></thead>\n",
       "<tbody>\n",
       "\t<tr><th scope=row>row1</th><td>Apple      </td><td> 10        </td></tr>\n",
       "\t<tr><th scope=row>row2</th><td>Bananna    </td><td> 20        </td></tr>\n",
       "\t<tr><th scope=row>row3</th><td>Cranberry  </td><td>100        </td></tr>\n",
       "\t<tr><th scope=row>row4</th><td>Durian     </td><td>  4        </td></tr>\n",
       "\t<tr><th scope=row>row5</th><td>Watermellon</td><td>500        </td></tr>\n",
       "\t<tr><th scope=row>row6</th><td>Pineapple  </td><td> 80        </td></tr>\n",
       "</tbody>\n",
       "</table>\n"
      ],
      "text/latex": [
       "\\begin{tabular}{r|ll}\n",
       "  & Type & Number\\\\\n",
       "\\hline\n",
       "\trow1 & Apple       &  10        \\\\\n",
       "\trow2 & Bananna     &  20        \\\\\n",
       "\trow3 & Cranberry   & 100        \\\\\n",
       "\trow4 & Durian      &   4        \\\\\n",
       "\trow5 & Watermellon & 500        \\\\\n",
       "\trow6 & Pineapple   &  80        \\\\\n",
       "\\end{tabular}\n"
      ],
      "text/markdown": [
       "\n",
       "| <!--/--> | Type | Number | \n",
       "|---|---|---|---|---|---|\n",
       "| row1 | Apple       |  10         | \n",
       "| row2 | Bananna     |  20         | \n",
       "| row3 | Cranberry   | 100         | \n",
       "| row4 | Durian      |   4         | \n",
       "| row5 | Watermellon | 500         | \n",
       "| row6 | Pineapple   |  80         | \n",
       "\n",
       "\n"
      ],
      "text/plain": [
       "     Type        Number\n",
       "row1 Apple        10   \n",
       "row2 Bananna      20   \n",
       "row3 Cranberry   100   \n",
       "row4 Durian        4   \n",
       "row5 Watermellon 500   \n",
       "row6 Pineapple    80   "
      ]
     },
     "metadata": {},
     "output_type": "display_data"
    }
   ],
   "source": [
    "df.fruits[1:2] # Extract columns 1-2 of data frame"
   ]
  },
  {
   "cell_type": "code",
   "execution_count": 64,
   "metadata": {},
   "outputs": [
    {
     "data": {
      "text/html": [
       "<ol class=list-inline>\n",
       "\t<li>Apple</li>\n",
       "\t<li>Bananna</li>\n",
       "\t<li>Cranberry</li>\n",
       "\t<li>Durian</li>\n",
       "\t<li>Watermellon</li>\n",
       "\t<li>Pineapple</li>\n",
       "</ol>\n",
       "\n",
       "<details>\n",
       "\t<summary style=display:list-item;cursor:pointer>\n",
       "\t\t<strong>Levels</strong>:\n",
       "\t</summary>\n",
       "\t<ol class=list-inline>\n",
       "\t\t<li>'Apple'</li>\n",
       "\t\t<li>'Bananna'</li>\n",
       "\t\t<li>'Cranberry'</li>\n",
       "\t\t<li>'Durian'</li>\n",
       "\t\t<li>'Pineapple'</li>\n",
       "\t\t<li>'Watermellon'</li>\n",
       "\t</ol>\n",
       "</details>"
      ],
      "text/latex": [
       "\\begin{enumerate*}\n",
       "\\item Apple\n",
       "\\item Bananna\n",
       "\\item Cranberry\n",
       "\\item Durian\n",
       "\\item Watermellon\n",
       "\\item Pineapple\n",
       "\\end{enumerate*}\n",
       "\n",
       "\\emph{Levels}: \\begin{enumerate*}\n",
       "\\item 'Apple'\n",
       "\\item 'Bananna'\n",
       "\\item 'Cranberry'\n",
       "\\item 'Durian'\n",
       "\\item 'Pineapple'\n",
       "\\item 'Watermellon'\n",
       "\\end{enumerate*}\n"
      ],
      "text/markdown": [
       "1. Apple\n",
       "2. Bananna\n",
       "3. Cranberry\n",
       "4. Durian\n",
       "5. Watermellon\n",
       "6. Pineapple\n",
       "\n",
       "\n",
       "\n",
       "**Levels**: 1. 'Apple'\n",
       "2. 'Bananna'\n",
       "3. 'Cranberry'\n",
       "4. 'Durian'\n",
       "5. 'Pineapple'\n",
       "6. 'Watermellon'\n",
       "\n",
       "\n"
      ],
      "text/plain": [
       "[1] Apple       Bananna     Cranberry   Durian      Watermellon Pineapple  \n",
       "Levels: Apple Bananna Cranberry Durian Pineapple Watermellon"
      ]
     },
     "metadata": {},
     "output_type": "display_data"
    }
   ],
   "source": [
    "df.fruits$Type # Extract \"Type\" from data frame"
   ]
  },
  {
   "attachments": {},
   "cell_type": "markdown",
   "metadata": {},
   "source": [
    "*Objective 4*\n",
    "\n",
    "Create a dataframe for experiment animals to record their information. \n",
    "Name the dataframe's columns. \n",
    "Make gender of animals a nominal variable and summarize the gender.\n",
    "Check the structure of your dataframe and the type of elements in your dataframe\n",
    "#Animal info:\n",
    "#Names: Fluf1, Fluf2, Fluf3, Fluf4, Fluf5, Fluf6, Fluf7, Fluf8\n",
    "#Number: 7103, 7104, 7105, 7106, 7107, 7108, 7109, 7110\n",
    "#Weight: 19, 18, 23, 22, 17, 18, 21, 20 \n",
    "#Treated: TRUE, TRUE, FALSE, FALSE, TRUE, FALSE, TRUE, FALSE\n",
    "#Gender: Female, Female, Male, Male, Female, Female, Male, Male"
   ]
  },
  {
   "cell_type": "code",
   "execution_count": 66,
   "metadata": {},
   "outputs": [
    {
     "data": {
      "text/html": [
       "<table>\n",
       "<thead><tr><th scope=col>my.animalnames</th><th scope=col>my.animalnumber</th><th scope=col>my.animalweight</th><th scope=col>my.animaltreated</th><th scope=col>my.animalgender</th></tr></thead>\n",
       "<tbody>\n",
       "\t<tr><td>Fluf1 </td><td>7103  </td><td>19    </td><td> TRUE </td><td>Female</td></tr>\n",
       "\t<tr><td>Fluf2 </td><td>7104  </td><td>18    </td><td> TRUE </td><td>Female</td></tr>\n",
       "\t<tr><td>Fluf3 </td><td>7105  </td><td>23    </td><td>FALSE </td><td>Male  </td></tr>\n",
       "\t<tr><td>Fluf4 </td><td>7106  </td><td>22    </td><td>FALSE </td><td>Male  </td></tr>\n",
       "\t<tr><td>Fluf5 </td><td>7107  </td><td>17    </td><td> TRUE </td><td>Female</td></tr>\n",
       "\t<tr><td>Fluf6 </td><td>7108  </td><td>18    </td><td>FALSE </td><td>Female</td></tr>\n",
       "\t<tr><td>Fluf7 </td><td>7109  </td><td>21    </td><td> TRUE </td><td>Male  </td></tr>\n",
       "\t<tr><td>Fluf8 </td><td>7110  </td><td>20    </td><td>FALSE </td><td>Male  </td></tr>\n",
       "</tbody>\n",
       "</table>\n"
      ],
      "text/latex": [
       "\\begin{tabular}{r|lllll}\n",
       " my.animalnames & my.animalnumber & my.animalweight & my.animaltreated & my.animalgender\\\\\n",
       "\\hline\n",
       "\t Fluf1  & 7103   & 19     &  TRUE  & Female\\\\\n",
       "\t Fluf2  & 7104   & 18     &  TRUE  & Female\\\\\n",
       "\t Fluf3  & 7105   & 23     & FALSE  & Male  \\\\\n",
       "\t Fluf4  & 7106   & 22     & FALSE  & Male  \\\\\n",
       "\t Fluf5  & 7107   & 17     &  TRUE  & Female\\\\\n",
       "\t Fluf6  & 7108   & 18     & FALSE  & Female\\\\\n",
       "\t Fluf7  & 7109   & 21     &  TRUE  & Male  \\\\\n",
       "\t Fluf8  & 7110   & 20     & FALSE  & Male  \\\\\n",
       "\\end{tabular}\n"
      ],
      "text/markdown": [
       "\n",
       "my.animalnames | my.animalnumber | my.animalweight | my.animaltreated | my.animalgender | \n",
       "|---|---|---|---|---|---|---|---|\n",
       "| Fluf1  | 7103   | 19     |  TRUE  | Female | \n",
       "| Fluf2  | 7104   | 18     |  TRUE  | Female | \n",
       "| Fluf3  | 7105   | 23     | FALSE  | Male   | \n",
       "| Fluf4  | 7106   | 22     | FALSE  | Male   | \n",
       "| Fluf5  | 7107   | 17     |  TRUE  | Female | \n",
       "| Fluf6  | 7108   | 18     | FALSE  | Female | \n",
       "| Fluf7  | 7109   | 21     |  TRUE  | Male   | \n",
       "| Fluf8  | 7110   | 20     | FALSE  | Male   | \n",
       "\n",
       "\n"
      ],
      "text/plain": [
       "  my.animalnames my.animalnumber my.animalweight my.animaltreated\n",
       "1 Fluf1          7103            19               TRUE           \n",
       "2 Fluf2          7104            18               TRUE           \n",
       "3 Fluf3          7105            23              FALSE           \n",
       "4 Fluf4          7106            22              FALSE           \n",
       "5 Fluf5          7107            17               TRUE           \n",
       "6 Fluf6          7108            18              FALSE           \n",
       "7 Fluf7          7109            21               TRUE           \n",
       "8 Fluf8          7110            20              FALSE           \n",
       "  my.animalgender\n",
       "1 Female         \n",
       "2 Female         \n",
       "3 Male           \n",
       "4 Male           \n",
       "5 Female         \n",
       "6 Female         \n",
       "7 Male           \n",
       "8 Male           "
      ]
     },
     "metadata": {},
     "output_type": "display_data"
    }
   ],
   "source": [
    "my.animalnames <- c(\"Fluf1\", \"Fluf2\", \"Fluf3\", \"Fluf4\", \"Fluf5\", \"Fluf6\", \"Fluf7\", \"Fluf8\")\n",
    "my.animalnumber <- c(7103, 7104, 7105, 7106, 7107, 7108, 7109, 7110)\n",
    "my.animalweight <- c(19, 18, 23, 22, 17, 18, 21, 20)\n",
    "my.animaltreated <- c(TRUE, TRUE, FALSE, FALSE, TRUE, FALSE, TRUE, FALSE)\n",
    "my.animalgender <- c(\"Female\", \"Female\", \"Male\", \"Male\", \"Female\", \"Female\", \"Male\", \"Male\")\n",
    "df.animalexp <- data.frame(my.animalnames, my.animalnumber, my.animalweight, my.animaltreated, my.animalgender)\n",
    "df.animalexp"
   ]
  },
  {
   "cell_type": "code",
   "execution_count": 67,
   "metadata": {},
   "outputs": [
    {
     "data": {
      "text/html": [
       "<dl class=dl-horizontal>\n",
       "\t<dt>Female</dt>\n",
       "\t\t<dd>4</dd>\n",
       "\t<dt>Male</dt>\n",
       "\t\t<dd>4</dd>\n",
       "</dl>\n"
      ],
      "text/latex": [
       "\\begin{description*}\n",
       "\\item[Female] 4\n",
       "\\item[Male] 4\n",
       "\\end{description*}\n"
      ],
      "text/markdown": [
       "Female\n",
       ":   4Male\n",
       ":   4\n",
       "\n"
      ],
      "text/plain": [
       "Female   Male \n",
       "     4      4 "
      ]
     },
     "metadata": {},
     "output_type": "display_data"
    }
   ],
   "source": [
    "animalgender <- factor(my.animalgender)\n",
    "summary(animalgender)"
   ]
  },
  {
   "cell_type": "code",
   "execution_count": 68,
   "metadata": {},
   "outputs": [
    {
     "name": "stdout",
     "output_type": "stream",
     "text": [
      "'data.frame':\t8 obs. of  5 variables:\n",
      " $ my.animalnames  : Factor w/ 8 levels \"Fluf1\",\"Fluf2\",..: 1 2 3 4 5 6 7 8\n",
      " $ my.animalnumber : num  7103 7104 7105 7106 7107 ...\n",
      " $ my.animalweight : num  19 18 23 22 17 18 21 20\n",
      " $ my.animaltreated: logi  TRUE TRUE FALSE FALSE TRUE FALSE ...\n",
      " $ my.animalgender : Factor w/ 2 levels \"Female\",\"Male\": 1 1 2 2 1 1 2 2\n"
     ]
    }
   ],
   "source": [
    "str(df.animalexp)"
   ]
  },
  {
   "cell_type": "code",
   "execution_count": 26,
   "metadata": {},
   "outputs": [
    {
     "data": {
      "text/html": [
       "<table>\n",
       "<thead><tr><th scope=col>X1</th><th scope=col>X2</th><th scope=col>X3</th><th scope=col>X4</th><th scope=col>X5</th><th scope=col>X6</th><th scope=col>X7</th><th scope=col>X8</th><th scope=col>X9</th><th scope=col>X10</th></tr></thead>\n",
       "<tbody>\n",
       "\t<tr><td>NA</td><td>NA</td><td>NA</td><td>NA</td><td>NA</td><td>NA</td><td>NA</td><td>NA</td><td>NA</td><td>NA</td></tr>\n",
       "\t<tr><td>NA</td><td>NA</td><td>NA</td><td>NA</td><td>NA</td><td>NA</td><td>NA</td><td>NA</td><td>NA</td><td>NA</td></tr>\n",
       "\t<tr><td>NA</td><td>NA</td><td>NA</td><td>NA</td><td>NA</td><td>NA</td><td>NA</td><td>NA</td><td>NA</td><td>NA</td></tr>\n",
       "\t<tr><td>NA</td><td>NA</td><td>NA</td><td>NA</td><td>NA</td><td>NA</td><td>NA</td><td>NA</td><td>NA</td><td>NA</td></tr>\n",
       "\t<tr><td>NA</td><td>NA</td><td>NA</td><td>NA</td><td>NA</td><td>NA</td><td>NA</td><td>NA</td><td>NA</td><td>NA</td></tr>\n",
       "</tbody>\n",
       "</table>\n"
      ],
      "text/latex": [
       "\\begin{tabular}{r|llllllllll}\n",
       " X1 & X2 & X3 & X4 & X5 & X6 & X7 & X8 & X9 & X10\\\\\n",
       "\\hline\n",
       "\t NA & NA & NA & NA & NA & NA & NA & NA & NA & NA\\\\\n",
       "\t NA & NA & NA & NA & NA & NA & NA & NA & NA & NA\\\\\n",
       "\t NA & NA & NA & NA & NA & NA & NA & NA & NA & NA\\\\\n",
       "\t NA & NA & NA & NA & NA & NA & NA & NA & NA & NA\\\\\n",
       "\t NA & NA & NA & NA & NA & NA & NA & NA & NA & NA\\\\\n",
       "\\end{tabular}\n"
      ],
      "text/markdown": [
       "\n",
       "X1 | X2 | X3 | X4 | X5 | X6 | X7 | X8 | X9 | X10 | \n",
       "|---|---|---|---|---|\n",
       "| NA | NA | NA | NA | NA | NA | NA | NA | NA | NA | \n",
       "| NA | NA | NA | NA | NA | NA | NA | NA | NA | NA | \n",
       "| NA | NA | NA | NA | NA | NA | NA | NA | NA | NA | \n",
       "| NA | NA | NA | NA | NA | NA | NA | NA | NA | NA | \n",
       "| NA | NA | NA | NA | NA | NA | NA | NA | NA | NA | \n",
       "\n",
       "\n"
      ],
      "text/plain": [
       "  X1 X2 X3 X4 X5 X6 X7 X8 X9 X10\n",
       "1 NA NA NA NA NA NA NA NA NA NA \n",
       "2 NA NA NA NA NA NA NA NA NA NA \n",
       "3 NA NA NA NA NA NA NA NA NA NA \n",
       "4 NA NA NA NA NA NA NA NA NA NA \n",
       "5 NA NA NA NA NA NA NA NA NA NA "
      ]
     },
     "metadata": {},
     "output_type": "display_data"
    }
   ],
   "source": [
    "df.emp <- data.frame(matrix(ncol = 10, nrow = 5)) # Initializing an empty dataframe with matrix\n",
    "df.emp"
   ]
  },
  {
   "cell_type": "markdown",
   "metadata": {},
   "source": [
    "#### 2.5 List: an ordered collection of objects. A list allows you to gather a variety of objects."
   ]
  },
  {
   "cell_type": "code",
   "execution_count": 27,
   "metadata": {},
   "outputs": [
    {
     "data": {
      "text/html": [
       "<dl>\n",
       "\t<dt>$my.name</dt>\n",
       "\t\t<dd>'Nutella'</dd>\n",
       "\t<dt>$my.species</dt>\n",
       "\t\t<dd>'Mus.Musculus'</dd>\n",
       "\t<dt>$my.age</dt>\n",
       "\t\t<dd>0.2</dd>\n",
       "\t<dt>$my.color</dt>\n",
       "\t\t<dd>'Brown'</dd>\n",
       "\t<dt>$my.favorite</dt>\n",
       "\t\t<dd><ol class=list-inline>\n",
       "\t<li>'chocolate'</li>\n",
       "\t<li>'peanut'</li>\n",
       "\t<li>'cheese'</li>\n",
       "</ol>\n",
       "</dd>\n",
       "\t<dt>$my.matrix</dt>\n",
       "\t\t<dd><table>\n",
       "<tbody>\n",
       "\t<tr><td>1 </td><td> 6</td><td>11</td><td>16</td></tr>\n",
       "\t<tr><td>2 </td><td> 7</td><td>12</td><td>17</td></tr>\n",
       "\t<tr><td>3 </td><td> 8</td><td>13</td><td>18</td></tr>\n",
       "\t<tr><td>4 </td><td> 9</td><td>14</td><td>19</td></tr>\n",
       "\t<tr><td>5 </td><td>10</td><td>15</td><td>20</td></tr>\n",
       "</tbody>\n",
       "</table>\n",
       "</dd>\n",
       "</dl>\n"
      ],
      "text/latex": [
       "\\begin{description}\n",
       "\\item[\\$my.name] 'Nutella'\n",
       "\\item[\\$my.species] 'Mus.Musculus'\n",
       "\\item[\\$my.age] 0.2\n",
       "\\item[\\$my.color] 'Brown'\n",
       "\\item[\\$my.favorite] \\begin{enumerate*}\n",
       "\\item 'chocolate'\n",
       "\\item 'peanut'\n",
       "\\item 'cheese'\n",
       "\\end{enumerate*}\n",
       "\n",
       "\\item[\\$my.matrix] \\begin{tabular}{llll}\n",
       "\t 1  &  6 & 11 & 16\\\\\n",
       "\t 2  &  7 & 12 & 17\\\\\n",
       "\t 3  &  8 & 13 & 18\\\\\n",
       "\t 4  &  9 & 14 & 19\\\\\n",
       "\t 5  & 10 & 15 & 20\\\\\n",
       "\\end{tabular}\n",
       "\n",
       "\\end{description}\n"
      ],
      "text/markdown": [
       "$my.name\n",
       ":   'Nutella'\n",
       "$my.species\n",
       ":   'Mus.Musculus'\n",
       "$my.age\n",
       ":   0.2\n",
       "$my.color\n",
       ":   'Brown'\n",
       "$my.favorite\n",
       ":   1. 'chocolate'\n",
       "2. 'peanut'\n",
       "3. 'cheese'\n",
       "\n",
       "\n",
       "\n",
       "$my.matrix\n",
       ":   \n",
       "| 1  |  6 | 11 | 16 | \n",
       "| 2  |  7 | 12 | 17 | \n",
       "| 3  |  8 | 13 | 18 | \n",
       "| 4  |  9 | 14 | 19 | \n",
       "| 5  | 10 | 15 | 20 | \n",
       "\n",
       "\n",
       "\n",
       "\n",
       "\n"
      ],
      "text/plain": [
       "$my.name\n",
       "[1] \"Nutella\"\n",
       "\n",
       "$my.species\n",
       "[1] \"Mus.Musculus\"\n",
       "\n",
       "$my.age\n",
       "[1] 0.2\n",
       "\n",
       "$my.color\n",
       "[1] \"Brown\"\n",
       "\n",
       "$my.favorite\n",
       "[1] \"chocolate\" \"peanut\"    \"cheese\"   \n",
       "\n",
       "$my.matrix\n",
       "     [,1] [,2] [,3] [,4]\n",
       "[1,]    1    6   11   16\n",
       "[2,]    2    7   12   17\n",
       "[3,]    3    8   13   18\n",
       "[4,]    4    9   14   19\n",
       "[5,]    5   10   15   20\n"
      ]
     },
     "metadata": {},
     "output_type": "display_data"
    }
   ],
   "source": [
    "nutella.favorite <- c(\"chocolate\", \"peanut\", \"cheese\")\n",
    "nutella.matrix <- matrix(1:20, nrow=5, ncol=4)\n",
    "# Create list with different types of data\n",
    "nutella.info <- list(my.name=\"Nutella\", my.species=\"Mus.Musculus\", my.age=0.2, my.color=\"Brown\", \n",
    "                my.favorite=nutella.favorite, my.matrix=nutella.matrix)\n",
    "nutella.info"
   ]
  },
  {
   "cell_type": "markdown",
   "metadata": {},
   "source": [
    "#### 2.6 Factors: a nominal variable"
   ]
  },
  {
   "cell_type": "code",
   "execution_count": 28,
   "metadata": {},
   "outputs": [
    {
     "data": {
      "text/plain": [
       "   Length     Class      Mode \n",
       "       50 character character "
      ]
     },
     "metadata": {},
     "output_type": "display_data"
    }
   ],
   "source": [
    "gender <- c(rep(\"male\",20), rep(\"female\", 30)) \n",
    "summary(gender)"
   ]
  },
  {
   "cell_type": "code",
   "execution_count": 29,
   "metadata": {},
   "outputs": [
    {
     "data": {
      "text/html": [
       "<dl class=dl-horizontal>\n",
       "\t<dt>female</dt>\n",
       "\t\t<dd>30</dd>\n",
       "\t<dt>male</dt>\n",
       "\t\t<dd>20</dd>\n",
       "</dl>\n"
      ],
      "text/latex": [
       "\\begin{description*}\n",
       "\\item[female] 30\n",
       "\\item[male] 20\n",
       "\\end{description*}\n"
      ],
      "text/markdown": [
       "female\n",
       ":   30male\n",
       ":   20\n",
       "\n"
      ],
      "text/plain": [
       "female   male \n",
       "    30     20 "
      ]
     },
     "metadata": {},
     "output_type": "display_data"
    }
   ],
   "source": [
    "gender <- factor(gender) # Convert the vector's data type to factor, and then summary()\n",
    "summary(gender)"
   ]
  },
  {
   "cell_type": "markdown",
   "metadata": {},
   "source": [
    "#### 2.7 Data type conversion"
   ]
  },
  {
   "cell_type": "code",
   "execution_count": 30,
   "metadata": {},
   "outputs": [
    {
     "data": {
      "text/html": [
       "'character'"
      ],
      "text/latex": [
       "'character'"
      ],
      "text/markdown": [
       "'character'"
      ],
      "text/plain": [
       "[1] \"character\""
      ]
     },
     "metadata": {},
     "output_type": "display_data"
    },
    {
     "data": {
      "text/html": [
       "'numeric'"
      ],
      "text/latex": [
       "'numeric'"
      ],
      "text/markdown": [
       "'numeric'"
      ],
      "text/plain": [
       "[1] \"numeric\""
      ]
     },
     "metadata": {},
     "output_type": "display_data"
    }
   ],
   "source": [
    "my.numbers <- c(\"1\",\"2\",\"3\",\"4\")\n",
    "class(my.numbers)\n",
    "my.numbers <- as.numeric(my.numbers)\n",
    "class(my.numbers)"
   ]
  },
  {
   "cell_type": "code",
   "execution_count": 31,
   "metadata": {},
   "outputs": [
    {
     "data": {
      "text/html": [
       "'logical'"
      ],
      "text/latex": [
       "'logical'"
      ],
      "text/markdown": [
       "'logical'"
      ],
      "text/plain": [
       "[1] \"logical\""
      ]
     },
     "metadata": {},
     "output_type": "display_data"
    },
    {
     "data": {
      "text/html": [
       "'character'"
      ],
      "text/latex": [
       "'character'"
      ],
      "text/markdown": [
       "'character'"
      ],
      "text/plain": [
       "[1] \"character\""
      ]
     },
     "metadata": {},
     "output_type": "display_data"
    }
   ],
   "source": [
    "my.logic <- c(TRUE, TRUE, FALSE)\n",
    "class(my.logic)\n",
    "my.logic <- as.character(my.logic)\n",
    "class(my.logic)"
   ]
  },
  {
   "cell_type": "markdown",
   "metadata": {},
   "source": [
    "### 3. Basic functions for objects"
   ]
  },
  {
   "cell_type": "code",
   "execution_count": 32,
   "metadata": {},
   "outputs": [
    {
     "data": {
      "text/html": [
       "'list'"
      ],
      "text/latex": [
       "'list'"
      ],
      "text/markdown": [
       "'list'"
      ],
      "text/plain": [
       "[1] \"list\""
      ]
     },
     "metadata": {},
     "output_type": "display_data"
    }
   ],
   "source": [
    "class(nutella.info) # Type of object"
   ]
  },
  {
   "cell_type": "code",
   "execution_count": 33,
   "metadata": {},
   "outputs": [
    {
     "data": {
      "text/html": [
       "<ol class=list-inline>\n",
       "\t<li>'my.name'</li>\n",
       "\t<li>'my.species'</li>\n",
       "\t<li>'my.age'</li>\n",
       "\t<li>'my.color'</li>\n",
       "\t<li>'my.favorite'</li>\n",
       "\t<li>'my.matrix'</li>\n",
       "</ol>\n"
      ],
      "text/latex": [
       "\\begin{enumerate*}\n",
       "\\item 'my.name'\n",
       "\\item 'my.species'\n",
       "\\item 'my.age'\n",
       "\\item 'my.color'\n",
       "\\item 'my.favorite'\n",
       "\\item 'my.matrix'\n",
       "\\end{enumerate*}\n"
      ],
      "text/markdown": [
       "1. 'my.name'\n",
       "2. 'my.species'\n",
       "3. 'my.age'\n",
       "4. 'my.color'\n",
       "5. 'my.favorite'\n",
       "6. 'my.matrix'\n",
       "\n",
       "\n"
      ],
      "text/plain": [
       "[1] \"my.name\"     \"my.species\"  \"my.age\"      \"my.color\"    \"my.favorite\"\n",
       "[6] \"my.matrix\"  "
      ]
     },
     "metadata": {},
     "output_type": "display_data"
    }
   ],
   "source": [
    "names(nutella.info) # Names"
   ]
  },
  {
   "cell_type": "code",
   "execution_count": 34,
   "metadata": {},
   "outputs": [
    {
     "name": "stdout",
     "output_type": "stream",
     "text": [
      "List of 6\n",
      " $ my.name    : chr \"Nutella\"\n",
      " $ my.species : chr \"Mus.Musculus\"\n",
      " $ my.age     : num 0.2\n",
      " $ my.color   : chr \"Brown\"\n",
      " $ my.favorite: chr [1:3] \"chocolate\" \"peanut\" \"cheese\"\n",
      " $ my.matrix  : int [1:5, 1:4] 1 2 3 4 5 6 7 8 9 10 ...\n"
     ]
    }
   ],
   "source": [
    "str(nutella.info) # Structure of an object"
   ]
  },
  {
   "cell_type": "code",
   "execution_count": 35,
   "metadata": {},
   "outputs": [
    {
     "data": {
      "text/html": [
       "6"
      ],
      "text/latex": [
       "6"
      ],
      "text/markdown": [
       "6"
      ],
      "text/plain": [
       "[1] 6"
      ]
     },
     "metadata": {},
     "output_type": "display_data"
    }
   ],
   "source": [
    "length(nutella.info) # Number of elements"
   ]
  },
  {
   "cell_type": "code",
   "execution_count": 36,
   "metadata": {},
   "outputs": [
    {
     "data": {
      "text/html": [
       "<ol class=list-inline>\n",
       "\t<li>'array.1'</li>\n",
       "\t<li>'column.names'</li>\n",
       "\t<li>'df.emp'</li>\n",
       "\t<li>'df.fruits'</li>\n",
       "\t<li>'fruits.numbers'</li>\n",
       "\t<li>'fruits.price'</li>\n",
       "\t<li>'fruits.smell'</li>\n",
       "\t<li>'fruits.type'</li>\n",
       "\t<li>'gender'</li>\n",
       "\t<li>'matrix.names'</li>\n",
       "\t<li>'my.fruits'</li>\n",
       "\t<li>'my.fruits.matrix'</li>\n",
       "\t<li>'my.logic'</li>\n",
       "\t<li>'my.matrix'</li>\n",
       "\t<li>'my.number'</li>\n",
       "\t<li>'my.numbers'</li>\n",
       "\t<li>'my.string'</li>\n",
       "\t<li>'my.vector'</li>\n",
       "\t<li>'new.vector'</li>\n",
       "\t<li>'nutella.favorite'</li>\n",
       "\t<li>'nutella.info'</li>\n",
       "\t<li>'nutella.matrix'</li>\n",
       "\t<li>'row.names'</li>\n",
       "\t<li>'vector.1'</li>\n",
       "</ol>\n"
      ],
      "text/latex": [
       "\\begin{enumerate*}\n",
       "\\item 'array.1'\n",
       "\\item 'column.names'\n",
       "\\item 'df.emp'\n",
       "\\item 'df.fruits'\n",
       "\\item 'fruits.numbers'\n",
       "\\item 'fruits.price'\n",
       "\\item 'fruits.smell'\n",
       "\\item 'fruits.type'\n",
       "\\item 'gender'\n",
       "\\item 'matrix.names'\n",
       "\\item 'my.fruits'\n",
       "\\item 'my.fruits.matrix'\n",
       "\\item 'my.logic'\n",
       "\\item 'my.matrix'\n",
       "\\item 'my.number'\n",
       "\\item 'my.numbers'\n",
       "\\item 'my.string'\n",
       "\\item 'my.vector'\n",
       "\\item 'new.vector'\n",
       "\\item 'nutella.favorite'\n",
       "\\item 'nutella.info'\n",
       "\\item 'nutella.matrix'\n",
       "\\item 'row.names'\n",
       "\\item 'vector.1'\n",
       "\\end{enumerate*}\n"
      ],
      "text/markdown": [
       "1. 'array.1'\n",
       "2. 'column.names'\n",
       "3. 'df.emp'\n",
       "4. 'df.fruits'\n",
       "5. 'fruits.numbers'\n",
       "6. 'fruits.price'\n",
       "7. 'fruits.smell'\n",
       "8. 'fruits.type'\n",
       "9. 'gender'\n",
       "10. 'matrix.names'\n",
       "11. 'my.fruits'\n",
       "12. 'my.fruits.matrix'\n",
       "13. 'my.logic'\n",
       "14. 'my.matrix'\n",
       "15. 'my.number'\n",
       "16. 'my.numbers'\n",
       "17. 'my.string'\n",
       "18. 'my.vector'\n",
       "19. 'new.vector'\n",
       "20. 'nutella.favorite'\n",
       "21. 'nutella.info'\n",
       "22. 'nutella.matrix'\n",
       "23. 'row.names'\n",
       "24. 'vector.1'\n",
       "\n",
       "\n"
      ],
      "text/plain": [
       " [1] \"array.1\"          \"column.names\"     \"df.emp\"           \"df.fruits\"       \n",
       " [5] \"fruits.numbers\"   \"fruits.price\"     \"fruits.smell\"     \"fruits.type\"     \n",
       " [9] \"gender\"           \"matrix.names\"     \"my.fruits\"        \"my.fruits.matrix\"\n",
       "[13] \"my.logic\"         \"my.matrix\"        \"my.number\"        \"my.numbers\"      \n",
       "[17] \"my.string\"        \"my.vector\"        \"new.vector\"       \"nutella.favorite\"\n",
       "[21] \"nutella.info\"     \"nutella.matrix\"   \"row.names\"        \"vector.1\"        "
      ]
     },
     "metadata": {},
     "output_type": "display_data"
    }
   ],
   "source": [
    "ls() # List current objects"
   ]
  },
  {
   "cell_type": "code",
   "execution_count": 37,
   "metadata": {},
   "outputs": [
    {
     "data": {
      "text/html": [
       "<ol class=list-inline>\n",
       "\t<li>'array.1'</li>\n",
       "\t<li>'column.names'</li>\n",
       "\t<li>'df.emp'</li>\n",
       "\t<li>'df.fruits'</li>\n",
       "\t<li>'fruits.numbers'</li>\n",
       "\t<li>'fruits.price'</li>\n",
       "\t<li>'fruits.smell'</li>\n",
       "\t<li>'fruits.type'</li>\n",
       "\t<li>'gender'</li>\n",
       "\t<li>'matrix.names'</li>\n",
       "\t<li>'my.fruits'</li>\n",
       "\t<li>'my.fruits.matrix'</li>\n",
       "\t<li>'my.logic'</li>\n",
       "\t<li>'my.matrix'</li>\n",
       "\t<li>'my.number'</li>\n",
       "\t<li>'my.numbers'</li>\n",
       "\t<li>'my.string'</li>\n",
       "\t<li>'my.vector'</li>\n",
       "\t<li>'new.vector'</li>\n",
       "\t<li>'nutella.favorite'</li>\n",
       "\t<li>'nutella.matrix'</li>\n",
       "\t<li>'row.names'</li>\n",
       "\t<li>'vector.1'</li>\n",
       "</ol>\n"
      ],
      "text/latex": [
       "\\begin{enumerate*}\n",
       "\\item 'array.1'\n",
       "\\item 'column.names'\n",
       "\\item 'df.emp'\n",
       "\\item 'df.fruits'\n",
       "\\item 'fruits.numbers'\n",
       "\\item 'fruits.price'\n",
       "\\item 'fruits.smell'\n",
       "\\item 'fruits.type'\n",
       "\\item 'gender'\n",
       "\\item 'matrix.names'\n",
       "\\item 'my.fruits'\n",
       "\\item 'my.fruits.matrix'\n",
       "\\item 'my.logic'\n",
       "\\item 'my.matrix'\n",
       "\\item 'my.number'\n",
       "\\item 'my.numbers'\n",
       "\\item 'my.string'\n",
       "\\item 'my.vector'\n",
       "\\item 'new.vector'\n",
       "\\item 'nutella.favorite'\n",
       "\\item 'nutella.matrix'\n",
       "\\item 'row.names'\n",
       "\\item 'vector.1'\n",
       "\\end{enumerate*}\n"
      ],
      "text/markdown": [
       "1. 'array.1'\n",
       "2. 'column.names'\n",
       "3. 'df.emp'\n",
       "4. 'df.fruits'\n",
       "5. 'fruits.numbers'\n",
       "6. 'fruits.price'\n",
       "7. 'fruits.smell'\n",
       "8. 'fruits.type'\n",
       "9. 'gender'\n",
       "10. 'matrix.names'\n",
       "11. 'my.fruits'\n",
       "12. 'my.fruits.matrix'\n",
       "13. 'my.logic'\n",
       "14. 'my.matrix'\n",
       "15. 'my.number'\n",
       "16. 'my.numbers'\n",
       "17. 'my.string'\n",
       "18. 'my.vector'\n",
       "19. 'new.vector'\n",
       "20. 'nutella.favorite'\n",
       "21. 'nutella.matrix'\n",
       "22. 'row.names'\n",
       "23. 'vector.1'\n",
       "\n",
       "\n"
      ],
      "text/plain": [
       " [1] \"array.1\"          \"column.names\"     \"df.emp\"           \"df.fruits\"       \n",
       " [5] \"fruits.numbers\"   \"fruits.price\"     \"fruits.smell\"     \"fruits.type\"     \n",
       " [9] \"gender\"           \"matrix.names\"     \"my.fruits\"        \"my.fruits.matrix\"\n",
       "[13] \"my.logic\"         \"my.matrix\"        \"my.number\"        \"my.numbers\"      \n",
       "[17] \"my.string\"        \"my.vector\"        \"new.vector\"       \"nutella.favorite\"\n",
       "[21] \"nutella.matrix\"   \"row.names\"        \"vector.1\"        "
      ]
     },
     "metadata": {},
     "output_type": "display_data"
    }
   ],
   "source": [
    "rm(nutella.info) # Delete a object\n",
    "ls()"
   ]
  },
  {
   "cell_type": "markdown",
   "metadata": {
    "collapsed": true
   },
   "source": [
    "## Basic data operations"
   ]
  },
  {
   "cell_type": "markdown",
   "metadata": {},
   "source": [
    "### 1. Operators"
   ]
  },
  {
   "cell_type": "markdown",
   "metadata": {},
   "source": [
    "#### 1.1 Arithemetic operators"
   ]
  },
  {
   "cell_type": "code",
   "execution_count": 38,
   "metadata": {},
   "outputs": [
    {
     "data": {
      "text/html": [
       "5"
      ],
      "text/latex": [
       "5"
      ],
      "text/markdown": [
       "5"
      ],
      "text/plain": [
       "[1] 5"
      ]
     },
     "metadata": {},
     "output_type": "display_data"
    },
    {
     "data": {
      "text/html": [
       "-1"
      ],
      "text/latex": [
       "-1"
      ],
      "text/markdown": [
       "-1"
      ],
      "text/plain": [
       "[1] -1"
      ]
     },
     "metadata": {},
     "output_type": "display_data"
    },
    {
     "data": {
      "text/html": [
       "6"
      ],
      "text/latex": [
       "6"
      ],
      "text/markdown": [
       "6"
      ],
      "text/plain": [
       "[1] 6"
      ]
     },
     "metadata": {},
     "output_type": "display_data"
    },
    {
     "data": {
      "text/html": [
       "0.666666666666667"
      ],
      "text/latex": [
       "0.666666666666667"
      ],
      "text/markdown": [
       "0.666666666666667"
      ],
      "text/plain": [
       "[1] 0.6666667"
      ]
     },
     "metadata": {},
     "output_type": "display_data"
    },
    {
     "data": {
      "text/html": [
       "8"
      ],
      "text/latex": [
       "8"
      ],
      "text/markdown": [
       "8"
      ],
      "text/plain": [
       "[1] 8"
      ]
     },
     "metadata": {},
     "output_type": "display_data"
    },
    {
     "data": {
      "text/html": [
       "2"
      ],
      "text/latex": [
       "2"
      ],
      "text/markdown": [
       "2"
      ],
      "text/plain": [
       "[1] 2"
      ]
     },
     "metadata": {},
     "output_type": "display_data"
    },
    {
     "data": {
      "text/html": [
       "0"
      ],
      "text/latex": [
       "0"
      ],
      "text/markdown": [
       "0"
      ],
      "text/plain": [
       "[1] 0"
      ]
     },
     "metadata": {},
     "output_type": "display_data"
    }
   ],
   "source": [
    "x <- 2\n",
    "y <- 3\n",
    "x+y\n",
    "x-y\n",
    "x*y\n",
    "x/y\n",
    "x**y # exponentiation\n",
    "x%%y # modulus\n",
    "x%/%y # integer division"
   ]
  },
  {
   "cell_type": "markdown",
   "metadata": {},
   "source": [
    "#### 1.2 Logical operators"
   ]
  },
  {
   "cell_type": "code",
   "execution_count": 39,
   "metadata": {},
   "outputs": [
    {
     "data": {
      "text/html": [
       "TRUE"
      ],
      "text/latex": [
       "TRUE"
      ],
      "text/markdown": [
       "TRUE"
      ],
      "text/plain": [
       "[1] TRUE"
      ]
     },
     "metadata": {},
     "output_type": "display_data"
    },
    {
     "data": {
      "text/html": [
       "FALSE"
      ],
      "text/latex": [
       "FALSE"
      ],
      "text/markdown": [
       "FALSE"
      ],
      "text/plain": [
       "[1] FALSE"
      ]
     },
     "metadata": {},
     "output_type": "display_data"
    },
    {
     "data": {
      "text/html": [
       "TRUE"
      ],
      "text/latex": [
       "TRUE"
      ],
      "text/markdown": [
       "TRUE"
      ],
      "text/plain": [
       "[1] TRUE"
      ]
     },
     "metadata": {},
     "output_type": "display_data"
    },
    {
     "data": {
      "text/html": [
       "FALSE"
      ],
      "text/latex": [
       "FALSE"
      ],
      "text/markdown": [
       "FALSE"
      ],
      "text/plain": [
       "[1] FALSE"
      ]
     },
     "metadata": {},
     "output_type": "display_data"
    },
    {
     "data": {
      "text/html": [
       "FALSE"
      ],
      "text/latex": [
       "FALSE"
      ],
      "text/markdown": [
       "FALSE"
      ],
      "text/plain": [
       "[1] FALSE"
      ]
     },
     "metadata": {},
     "output_type": "display_data"
    },
    {
     "data": {
      "text/html": [
       "TRUE"
      ],
      "text/latex": [
       "TRUE"
      ],
      "text/markdown": [
       "TRUE"
      ],
      "text/plain": [
       "[1] TRUE"
      ]
     },
     "metadata": {},
     "output_type": "display_data"
    }
   ],
   "source": [
    "x <- 5\n",
    "y <- 11\n",
    "x < y\n",
    "x > y\n",
    "x <= y\n",
    "x >= y\n",
    "x == y\n",
    "x != y"
   ]
  },
  {
   "cell_type": "code",
   "execution_count": 40,
   "metadata": {},
   "outputs": [
    {
     "data": {
      "text/html": [
       "FALSE"
      ],
      "text/latex": [
       "FALSE"
      ],
      "text/markdown": [
       "FALSE"
      ],
      "text/plain": [
       "[1] FALSE"
      ]
     },
     "metadata": {},
     "output_type": "display_data"
    },
    {
     "data": {
      "text/html": [
       "TRUE"
      ],
      "text/latex": [
       "TRUE"
      ],
      "text/markdown": [
       "TRUE"
      ],
      "text/plain": [
       "[1] TRUE"
      ]
     },
     "metadata": {},
     "output_type": "display_data"
    },
    {
     "data": {
      "text/html": [
       "FALSE"
      ],
      "text/latex": [
       "FALSE"
      ],
      "text/markdown": [
       "FALSE"
      ],
      "text/plain": [
       "[1] FALSE"
      ]
     },
     "metadata": {},
     "output_type": "display_data"
    },
    {
     "data": {
      "text/html": [
       "FALSE"
      ],
      "text/latex": [
       "FALSE"
      ],
      "text/markdown": [
       "FALSE"
      ],
      "text/plain": [
       "[1] FALSE"
      ]
     },
     "metadata": {},
     "output_type": "display_data"
    }
   ],
   "source": [
    "like.chocolate <- TRUE\n",
    "like.spam <- FALSE\n",
    "!like.chocolate\n",
    "like.chocolate | like.spam\n",
    "like.chocolate & like.spam\n",
    "isTRUE(like.spam)"
   ]
  },
  {
   "cell_type": "markdown",
   "metadata": {},
   "source": [
    "#### 1.3 Built-in functions"
   ]
  },
  {
   "cell_type": "code",
   "execution_count": 41,
   "metadata": {},
   "outputs": [
    {
     "data": {
      "text/html": [
       "16"
      ],
      "text/latex": [
       "16"
      ],
      "text/markdown": [
       "16"
      ],
      "text/plain": [
       "[1] 16"
      ]
     },
     "metadata": {},
     "output_type": "display_data"
    },
    {
     "data": {
      "text/html": [
       "4"
      ],
      "text/latex": [
       "4"
      ],
      "text/markdown": [
       "4"
      ],
      "text/plain": [
       "[1] 4"
      ]
     },
     "metadata": {},
     "output_type": "display_data"
    },
    {
     "data": {
      "text/html": [
       "2"
      ],
      "text/latex": [
       "2"
      ],
      "text/markdown": [
       "2"
      ],
      "text/plain": [
       "[1] 2"
      ]
     },
     "metadata": {},
     "output_type": "display_data"
    },
    {
     "data": {
      "text/html": [
       "-3"
      ],
      "text/latex": [
       "-3"
      ],
      "text/markdown": [
       "-3"
      ],
      "text/plain": [
       "[1] -3"
      ]
     },
     "metadata": {},
     "output_type": "display_data"
    },
    {
     "data": {
      "text/html": [
       "-2"
      ],
      "text/latex": [
       "-2"
      ],
      "text/markdown": [
       "-2"
      ],
      "text/plain": [
       "[1] -2"
      ]
     },
     "metadata": {},
     "output_type": "display_data"
    },
    {
     "data": {
      "text/html": [
       "1.24"
      ],
      "text/latex": [
       "1.24"
      ],
      "text/markdown": [
       "1.24"
      ],
      "text/plain": [
       "[1] 1.24"
      ]
     },
     "metadata": {},
     "output_type": "display_data"
    },
    {
     "data": {
      "text/html": [
       "1.2"
      ],
      "text/latex": [
       "1.2"
      ],
      "text/markdown": [
       "1.2"
      ],
      "text/plain": [
       "[1] 1.2"
      ]
     },
     "metadata": {},
     "output_type": "display_data"
    },
    {
     "data": {
      "text/html": [
       "-0.957659480323385"
      ],
      "text/latex": [
       "-0.957659480323385"
      ],
      "text/markdown": [
       "-0.957659480323385"
      ],
      "text/plain": [
       "[1] -0.9576595"
      ]
     },
     "metadata": {},
     "output_type": "display_data"
    },
    {
     "data": {
      "text/html": [
       "0.287903316665065"
      ],
      "text/latex": [
       "0.287903316665065"
      ],
      "text/markdown": [
       "0.287903316665065"
      ],
      "text/plain": [
       "[1] 0.2879033"
      ]
     },
     "metadata": {},
     "output_type": "display_data"
    },
    {
     "data": {
      "text/html": [
       "-0.300632242023903"
      ],
      "text/latex": [
       "-0.300632242023903"
      ],
      "text/markdown": [
       "-0.300632242023903"
      ],
      "text/plain": [
       "[1] -0.3006322"
      ]
     },
     "metadata": {},
     "output_type": "display_data"
    },
    {
     "data": {
      "text/html": [
       "0.214304602647005"
      ],
      "text/latex": [
       "0.214304602647005"
      ],
      "text/markdown": [
       "0.214304602647005"
      ],
      "text/plain": [
       "[1] 0.2143046"
      ]
     },
     "metadata": {},
     "output_type": "display_data"
    },
    {
     "data": {
      "text/html": [
       "0.0930713063760635"
      ],
      "text/latex": [
       "0.0930713063760635"
      ],
      "text/markdown": [
       "0.0930713063760635"
      ],
      "text/plain": [
       "[1] 0.09307131"
      ]
     },
     "metadata": {},
     "output_type": "display_data"
    },
    {
     "data": {
      "text/html": [
       "1.12535174719259e-07"
      ],
      "text/latex": [
       "1.12535174719259e-07"
      ],
      "text/markdown": [
       "1.12535174719259e-07"
      ],
      "text/plain": [
       "[1] 1.125352e-07"
      ]
     },
     "metadata": {},
     "output_type": "display_data"
    }
   ],
   "source": [
    "x <- -16\n",
    "y <- 1.239\n",
    "z <- -2.251\n",
    "abs(x)\n",
    "sqrt(-x)\n",
    "ceiling(y)\n",
    "floor(z)\n",
    "trunc(z)\n",
    "round(y, digits=2)\n",
    "signif(y, digits=2)\n",
    "cos(x)\n",
    "sin(x)\n",
    "tan(x)\n",
    "log(y)\n",
    "log10(y)\n",
    "exp(x)"
   ]
  },
  {
   "cell_type": "code",
   "execution_count": 42,
   "metadata": {},
   "outputs": [],
   "source": [
    "my.name <- \"Nutella\"\n",
    "my.fav <- c(\"chocolate\", \"peanut\", \"cheese\")\n",
    "my.motto <- \"I love chocolate. --Nutella\""
   ]
  },
  {
   "cell_type": "code",
   "execution_count": 43,
   "metadata": {},
   "outputs": [
    {
     "data": {
      "text/html": [
       "'Nutel'"
      ],
      "text/latex": [
       "'Nutel'"
      ],
      "text/markdown": [
       "'Nutel'"
      ],
      "text/plain": [
       "[1] \"Nutel\""
      ]
     },
     "metadata": {},
     "output_type": "display_data"
    }
   ],
   "source": [
    "substr(my.name, start=1, stop=5) # Extract part of the string"
   ]
  },
  {
   "cell_type": "code",
   "execution_count": 46,
   "metadata": {},
   "outputs": [
    {
     "data": {
      "text/html": [
       "3"
      ],
      "text/latex": [
       "3"
      ],
      "text/markdown": [
       "3"
      ],
      "text/plain": [
       "[1] 3"
      ]
     },
     "metadata": {},
     "output_type": "display_data"
    }
   ],
   "source": [
    "grep(\"cheese\", my.fav) # Search for pattern (It is different from Bash Grep!!!!!!)"
   ]
  },
  {
   "cell_type": "code",
   "execution_count": 47,
   "metadata": {},
   "outputs": [
    {
     "data": {
      "text/html": [
       "'I love cheese. --Nutella'"
      ],
      "text/latex": [
       "'I love cheese. --Nutella'"
      ],
      "text/markdown": [
       "'I love cheese. --Nutella'"
      ],
      "text/plain": [
       "[1] \"I love cheese. --Nutella\""
      ]
     },
     "metadata": {},
     "output_type": "display_data"
    }
   ],
   "source": [
    "sub( \"chocolate\",\"cheese\", my.motto) # Replace pattern"
   ]
  },
  {
   "cell_type": "code",
   "execution_count": 48,
   "metadata": {},
   "outputs": [
    {
     "data": {
      "text/html": [
       "<ol>\n",
       "\t<li><ol class=list-inline>\n",
       "\t<li>'I'</li>\n",
       "\t<li>'love'</li>\n",
       "\t<li>'chocolate.'</li>\n",
       "\t<li>'--Nutella'</li>\n",
       "</ol>\n",
       "</li>\n",
       "</ol>\n"
      ],
      "text/latex": [
       "\\begin{enumerate}\n",
       "\\item \\begin{enumerate*}\n",
       "\\item 'I'\n",
       "\\item 'love'\n",
       "\\item 'chocolate.'\n",
       "\\item '--Nutella'\n",
       "\\end{enumerate*}\n",
       "\n",
       "\\end{enumerate}\n"
      ],
      "text/markdown": [
       "1. 1. 'I'\n",
       "2. 'love'\n",
       "3. 'chocolate.'\n",
       "4. '--Nutella'\n",
       "\n",
       "\n",
       "\n",
       "\n",
       "\n"
      ],
      "text/plain": [
       "[[1]]\n",
       "[1] \"I\"          \"love\"       \"chocolate.\" \"--Nutella\" \n"
      ]
     },
     "metadata": {},
     "output_type": "display_data"
    }
   ],
   "source": [
    "strsplit(my.motto, \" \") # Split elements"
   ]
  },
  {
   "cell_type": "code",
   "execution_count": 49,
   "metadata": {},
   "outputs": [
    {
     "data": {
      "text/html": [
       "<ol class=list-inline>\n",
       "\t<li>'1: chocolate'</li>\n",
       "\t<li>'2: peanut'</li>\n",
       "\t<li>'3: cheese'</li>\n",
       "</ol>\n"
      ],
      "text/latex": [
       "\\begin{enumerate*}\n",
       "\\item '1: chocolate'\n",
       "\\item '2: peanut'\n",
       "\\item '3: cheese'\n",
       "\\end{enumerate*}\n"
      ],
      "text/markdown": [
       "1. '1: chocolate'\n",
       "2. '2: peanut'\n",
       "3. '3: cheese'\n",
       "\n",
       "\n"
      ],
      "text/plain": [
       "[1] \"1: chocolate\" \"2: peanut\"    \"3: cheese\"   "
      ]
     },
     "metadata": {},
     "output_type": "display_data"
    }
   ],
   "source": [
    "paste(1:3, my.fav, sep=\": \") # Concatenate strings"
   ]
  },
  {
   "cell_type": "code",
   "execution_count": 50,
   "metadata": {},
   "outputs": [
    {
     "data": {
      "text/html": [
       "'I LOVE CHOCOLATE. --NUTELLA'"
      ],
      "text/latex": [
       "'I LOVE CHOCOLATE. --NUTELLA'"
      ],
      "text/markdown": [
       "'I LOVE CHOCOLATE. --NUTELLA'"
      ],
      "text/plain": [
       "[1] \"I LOVE CHOCOLATE. --NUTELLA\""
      ]
     },
     "metadata": {},
     "output_type": "display_data"
    }
   ],
   "source": [
    "toupper(my.motto)"
   ]
  },
  {
   "cell_type": "code",
   "execution_count": 51,
   "metadata": {},
   "outputs": [
    {
     "data": {
      "text/html": [
       "'i love chocolate. --nutella'"
      ],
      "text/latex": [
       "'i love chocolate. --nutella'"
      ],
      "text/markdown": [
       "'i love chocolate. --nutella'"
      ],
      "text/plain": [
       "[1] \"i love chocolate. --nutella\""
      ]
     },
     "metadata": {},
     "output_type": "display_data"
    }
   ],
   "source": [
    "tolower(my.motto)"
   ]
  },
  {
   "cell_type": "markdown",
   "metadata": {},
   "source": [
    "### 2. Control structures"
   ]
  },
  {
   "cell_type": "markdown",
   "metadata": {},
   "source": [
    "#### 2.1 if-else"
   ]
  },
  {
   "cell_type": "code",
   "execution_count": 52,
   "metadata": {},
   "outputs": [
    {
     "name": "stdout",
     "output_type": "stream",
     "text": [
      "[1] \"I like peanuts!\"\n"
     ]
    }
   ],
   "source": [
    "like.peanut <- TRUE\n",
    "if (like.peanut){\n",
    "    print(\"I like peanuts!\")\n",
    "} else {\n",
    "    print(\"What do I like?\")\n",
    "}"
   ]
  },
  {
   "cell_type": "code",
   "execution_count": 56,
   "metadata": {},
   "outputs": [
    {
     "name": "stdout",
     "output_type": "stream",
     "text": [
      "[1] \"I like to build my nest with cotton!\"\n"
     ]
    }
   ],
   "source": [
    "like.hay <- FALSE\n",
    "like.cotton <- TRUE\n",
    "if (like.hay){\n",
    "    print(\"I like to build my nest with hay!\")\n",
    "} else if (like.cotton){\n",
    "    print(\"I like to build my nest with cotton!\")\n",
    "} else {\n",
    "    print(\"Ummm.... what should I use...?\")\n",
    "}"
   ]
  },
  {
   "cell_type": "markdown",
   "metadata": {},
   "source": [
    "#### 2.2 for"
   ]
  },
  {
   "cell_type": "code",
   "execution_count": 18,
   "metadata": {},
   "outputs": [
    {
     "name": "stdout",
     "output_type": "stream",
     "text": [
      "[1] \"More chocolate please!\"\n",
      "[1] \"More chocolate please!\"\n",
      "[1] \"More chocolate please!\"\n",
      "[1] \"More chocolate please!\"\n",
      "[1] \"More chocolate please!\"\n",
      "[1] \"More chocolate please!\"\n",
      "[1] \"More chocolate please!\"\n",
      "[1] \"More chocolate please!\"\n",
      "[1] \"More chocolate please!\"\n",
      "[1] \"More chocolate please!\"\n"
     ]
    }
   ],
   "source": [
    "for (i in c(1:10)) {\n",
    "    print(\"More chocolate please!\")\n",
    "}"
   ]
  },
  {
   "cell_type": "code",
   "execution_count": 61,
   "metadata": {},
   "outputs": [
    {
     "name": "stdout",
     "output_type": "stream",
     "text": [
      "[1] \"More chocolate please!\"\n",
      "[1] \"More peanut please!\"\n",
      "[1] \"More cheese please!\"\n"
     ]
    }
   ],
   "source": [
    "my.fav <- c(\"chocolate\", \"peanut\", \"cheese\")\n",
    "for (i in my.fav) {\n",
    "    out.put <- paste(\"More\", i, \"please!\") # Paste 3 elements into a single string\n",
    "    print(out.put)\n",
    "}"
   ]
  },
  {
   "cell_type": "markdown",
   "metadata": {},
   "source": [
    "#### 2.3 while"
   ]
  },
  {
   "cell_type": "code",
   "execution_count": 62,
   "metadata": {},
   "outputs": [
    {
     "name": "stdout",
     "output_type": "stream",
     "text": [
      "[1] \"More chocolate please!\"\n",
      "[1] \"More chocolate please!\"\n",
      "[1] \"More chocolate please!\"\n",
      "[1] \"More chocolate please!\"\n",
      "[1] \"More chocolate please!\"\n",
      "[1] \"More chocolate please!\"\n",
      "[1] \"More chocolate please!\"\n",
      "[1] \"More chocolate please!\"\n",
      "[1] \"More chocolate please!\"\n",
      "[1] \"More chocolate please!\"\n"
     ]
    }
   ],
   "source": [
    "i <- 0\n",
    "while (i < 10) {\n",
    "    print(\"More chocolate please!\")\n",
    "    i <- i+1 # Super important! Or your while loop will never end...\n",
    "}"
   ]
  },
  {
   "cell_type": "markdown",
   "metadata": {},
   "source": [
    "## Homework"
   ]
  },
  {
   "cell_type": "markdown",
   "metadata": {},
   "source": [
    "## 1. Hello world everyday!\n",
    "### 1.1 Make a vector containing days of the week, from Monday to Sunday.\n",
    "### 1.2 Use a for loop to pring \"Hello world XXXday!\" for each day of the week."
   ]
  },
  {
   "cell_type": "markdown",
   "metadata": {},
   "source": [
    "## 2. The Pie\n",
    "### 2.1 In the first 100 digits of pie, count how many numbers are even. \n",
    "### 2.2 Convert the first 200 digits of pie into a 20x10 matrix"
   ]
  },
  {
   "cell_type": "markdown",
   "metadata": {},
   "source": [
    "## 3. Install Swirl,  do \"R programming\" and \"Data analysis\"\n",
    "https://swirlstats.com/students.html Do it as you like!"
   ]
  }
 ],
 "metadata": {
  "kernelspec": {
   "display_name": "R",
   "language": "R",
   "name": "ir"
  },
  "language_info": {
   "codemirror_mode": "r",
   "file_extension": ".r",
   "mimetype": "text/x-r-source",
   "name": "R",
   "pygments_lexer": "r",
   "version": "3.5.1"
  }
 },
 "nbformat": 4,
 "nbformat_minor": 2
}
