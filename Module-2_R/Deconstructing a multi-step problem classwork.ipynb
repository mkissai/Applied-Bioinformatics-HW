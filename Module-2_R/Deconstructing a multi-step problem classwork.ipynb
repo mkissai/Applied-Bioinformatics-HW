{
 "cells": [
  {
   "cell_type": "code",
   "execution_count": 6,
   "metadata": {},
   "outputs": [
    {
     "name": "stdout",
     "output_type": "stream",
     "text": [
      "[1] 4\n",
      "[1] FALSE\n",
      "[1] 8\n",
      "[1] FALSE\n",
      "[1] 5\n",
      "[1] \"Issa 5\"\n",
      "[1] 6\n",
      "[1] FALSE\n",
      "[1] 5\n",
      "[1] \"Issa 5\"\n"
     ]
    }
   ],
   "source": [
    "\n",
    "    answer <- FALSE\n",
    "    for (i in c(1:5)) {\n",
    "        rando.num <- sample(1:10, 1)\n",
    "        print(rando.num)\n",
    "        if (rando.num == 5){\n",
    "            print(\"Issa 5\")\n",
    "        }\n",
    "        else {\n",
    "            print(answer)\n",
    "        }\n",
    "\n",
    "    }\n"
   ]
  },
  {
   "cell_type": "code",
   "execution_count": null,
   "metadata": {},
   "outputs": [],
   "source": []
  },
  {
   "cell_type": "code",
   "execution_count": null,
   "metadata": {},
   "outputs": [],
   "source": []
  }
 ],
 "metadata": {
  "kernelspec": {
   "display_name": "R",
   "language": "R",
   "name": "ir"
  },
  "language_info": {
   "codemirror_mode": "r",
   "file_extension": ".r",
   "mimetype": "text/x-r-source",
   "name": "R",
   "pygments_lexer": "r",
   "version": "3.5.1"
  }
 },
 "nbformat": 4,
 "nbformat_minor": 2
}
