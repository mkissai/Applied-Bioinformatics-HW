{
 "cells": [
  {
   "cell_type": "code",
   "execution_count": 1,
   "metadata": {},
   "outputs": [
    {
     "name": "stdout",
     "output_type": "stream",
     "text": [
      "1\n",
      "2\n",
      "3\n",
      "4\n",
      "5\n",
      "6\n",
      "7\n",
      "8\n",
      "9\n",
      "10\n"
     ]
    }
   ],
   "source": [
    "%%bash\n",
    "for i in {1..10}\n",
    "do\n",
    "echo $i\n",
    "done"
   ]
  },
  {
   "cell_type": "code",
   "execution_count": 2,
   "metadata": {},
   "outputs": [
    {
     "name": "stdout",
     "output_type": "stream",
     "text": [
      "simulated1.R1.fq\n",
      "simulated1.R2.fq\n",
      "simulated2.R1.fq\n",
      "simulated2.R2.fq\n",
      "simulated3.R1.fq\n",
      "simulated3.R2.fq\n",
      "simulated4.R1.fq\n",
      "simulated4.R2.fq\n",
      "simulated5.R1.fq\n",
      "simulated5.R2.fq\n"
     ]
    }
   ],
   "source": [
    "%%bash\n",
    "ls data/fastq/"
   ]
  },
  {
   "cell_type": "code",
   "execution_count": 3,
   "metadata": {},
   "outputs": [
    {
     "name": "stdout",
     "output_type": "stream",
     "text": [
      "simulated1.R1.fq\n",
      "simulated1.R2.fq\n",
      "simulated2.R1.fq\n",
      "simulated2.R2.fq\n",
      "simulated3.R1.fq\n",
      "simulated3.R2.fq\n",
      "simulated4.R1.fq\n",
      "simulated4.R2.fq\n",
      "simulated5.R1.fq\n",
      "simulated5.R2.fq\n"
     ]
    }
   ],
   "source": [
    "%%bash\n",
    "for i in $(ls data/fastq/)\n",
    "do\n",
    "echo $i\n",
    "done"
   ]
  },
  {
   "cell_type": "code",
   "execution_count": 5,
   "metadata": {},
   "outputs": [
    {
     "name": "stdout",
     "output_type": "stream",
     "text": [
      "Hello world\n"
     ]
    }
   ],
   "source": [
    "%%bash \n",
    "a=\"Hello world\"\n",
    "echo $a\n",
    "\n"
   ]
  },
  {
   "cell_type": "code",
   "execution_count": 6,
   "metadata": {},
   "outputs": [
    {
     "name": "stdout",
     "output_type": "stream",
     "text": [
      "Hello world\n",
      "Hello foo\n"
     ]
    }
   ],
   "source": [
    "%%bash \n",
    "a=\"Hello world\"\n",
    "echo $a\n",
    "echo ${a/world/foo}\n"
   ]
  },
  {
   "cell_type": "code",
   "execution_count": 13,
   "metadata": {},
   "outputs": [
    {
     "name": "stdout",
     "output_type": "stream",
     "text": [
      "simulated1.R1.fq\n",
      "simulated1.R2.fq\n",
      "simulated2.R1.fq\n",
      "simulated2.R2.fq\n",
      "simulated3.R1.fq\n",
      "simulated3.R2.fq\n",
      "simulated4.R1.fq\n",
      "simulated4.R2.fq\n",
      "simulated5.R1.fq\n",
      "simulated5.R2.fq\n"
     ]
    }
   ],
   "source": [
    "%%bash\n",
    "cd data/fastq\n",
    "ls"
   ]
  },
  {
   "cell_type": "code",
   "execution_count": 14,
   "metadata": {},
   "outputs": [
    {
     "name": "stdout",
     "output_type": "stream",
     "text": [
      "simulated1.R1.fastq\n",
      "simulated1.R2.fastq\n",
      "simulated2.R1.fastq\n",
      "simulated2.R2.fastq\n",
      "simulated3.R1.fastq\n",
      "simulated3.R2.fastq\n",
      "simulated4.R1.fastq\n",
      "simulated4.R2.fastq\n",
      "simulated5.R1.fastq\n",
      "simulated5.R2.fastq\n"
     ]
    }
   ],
   "source": [
    "%%bash\n",
    "cd data/fastq\n",
    "for i in $(ls)\n",
    "do\n",
    "mv $i ${i/.fq/.fastq}\n",
    "done\n",
    "ls"
   ]
  }
 ],
 "metadata": {
  "kernelspec": {
   "display_name": "Python 3",
   "language": "python",
   "name": "python3"
  },
  "language_info": {
   "codemirror_mode": {
    "name": "ipython",
    "version": 3
   },
   "file_extension": ".py",
   "mimetype": "text/x-python",
   "name": "python",
   "nbconvert_exporter": "python",
   "pygments_lexer": "ipython3",
   "version": "3.6.5"
  }
 },
 "nbformat": 4,
 "nbformat_minor": 2
}
